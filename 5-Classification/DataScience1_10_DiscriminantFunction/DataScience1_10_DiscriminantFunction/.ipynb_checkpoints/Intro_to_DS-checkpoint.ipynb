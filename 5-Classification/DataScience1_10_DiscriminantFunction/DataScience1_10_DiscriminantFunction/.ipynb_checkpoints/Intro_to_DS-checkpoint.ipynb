{
 "cells": [
  {
   "cell_type": "markdown",
   "metadata": {},
   "source": [
    "# Introduction to (Astro) Data Science and Machine Learning\n",
    "\n",
    "Astronomy has gradually become a *massive data science*.\n",
    "\n",
    "<strong>Data Science:</strong> Interdisciplinary discipline aiming to analyze large amounts of complex data and identify meaning from such data-sets.\n",
    "\n",
    "Astronomy has become a data-intensive science.\n",
    "\n",
    "<img src = images/AstroDataTrends.png style=\"width: 500px;\"/>\n",
    "\n",
    "Astronomy is a resource intensive research field:\n",
    "* We require data data to plan our proposals, write\n",
    "papers, and answer the interesting questions.\n",
    "* We rely on access to non-data resources which\n",
    "enable us to utilize the data\n",
    "\n",
    "* Discovery versus Exploration\n",
    " * Discovery: The act of searching for and finding a\n",
    "resource that we can use\n",
    " * Exploration: The act of “informed wandering”, which\n",
    "may or may not lead us to a resource we can use\n",
    "\n",
    "### How do astronomers explore and discover?\n",
    "* [Google](http://www.google.com)\n",
    " * Search the web (and hope for the best)\n",
    "* Journals and their portals\n",
    " * Go to the published source\n",
    " * [ads](http://adsabs.harvard.edu/)\n",
    "* Data “Ingesters/Aggregators”\n",
    " * The data collectors\n",
    " * [VizieR](http://vizier.u-strasbg.fr/viz-bin/VizieR)\n",
    " * [NED](https://ned.ipac.caltech.edu/)\n",
    " * [SkyView](http://skyview.gsfc.nasa.gov/c)\n",
    "* Archive Centers\n",
    " * The data guardians\n",
    " * [IRSA](http://irsa.ipac.caltech.edu/)\n",
    " * [NOAO](http://ast.noao.edu/data)\n",
    " * [ALMA](https://almascience.nrao.edu/alma-data/archive)\n",
    " * [SDSS](http://skyserver.sdss.org/dr13/en/home.aspx)\n",
    "* The VO\n",
    "\n",
    "(C. J. Miller 2014)\n",
    "\n",
    "## Exploring the SDSS\n",
    "\n",
    "The [Sloan Digital Sky Survey](http://www.sdss.org/) is a dedicated 2.5 meter telescope which uses sensitive electronic light detectors to systematically map a quarter of the sky, building a large catalog of celestial objects. As an example, we will explore SDSS data and try to understand galaxy morphologies.\n",
    "\n",
    "<img src=https://csivc.csi.cuny.edu/supernova7/files/galaxy/hub_class02b.jpg>\n",
    "\n",
    "* Through the [Schema Browser](http://skyserver.sdss.org/dr13/en/help/browser/browser.aspx) we can explore the different tables in the SDSS.\n",
    "* What are the tables discribing sources?\n",
    "* What tables describe galaxies?\n",
    "* What tables describe their morphologies?\n",
    "* [Galaxy Zoo](https://www.galaxyzoo.org/)\n",
    "\n",
    "Now that we know and understand the data, we will query and download some using [CasJobs](http://skyserver.sdss.org/CasJobs/).\n",
    "\n",
    "## A CasJobs Query\n",
    "\n",
    "* Log into [CasJobs](http://skyserver.sdss.org/CasJobs/). This will take you to the SciServer.\n",
    "* Select CasJobs\n",
    "* Go to \"Query\" if not already there.\n",
    "* Write the following query:"
   ]
  },
  {
   "cell_type": "raw",
   "metadata": {},
   "source": [
    "SELECT TOP 1000\n",
    "  o.objid, o.ra, o.dec, o.petroMag_i, o.petroMag_z, o.petroMag_u, o.petroMag_g, o.petroMag_r, o.petroMag_u - o.petroMag_r as ur, gz.p_cs, gz.p_el \n",
    "  into mydb.GZ_1000 \n",
    "  from Galaxy as o, ZooVotes as gz\n",
    "  WHERE gz.objid = o.objid"
   ]
  },
  {
   "cell_type": "markdown",
   "metadata": {},
   "source": [
    "\n",
    "* After Finished, go to \"MyDB\". Select the table called \"GZ_1000\" (or whatever name you called it) and press \"Sample\". This will show you a couple of rows from the Query.\n",
    "\n",
    "Notice the first row is the ObjId. This is the unique identifyier for a source. You can look at each galaxy using this object id on the [SDSS explorer](http://skyserver.sdss.org/dr13/en/tools/explore/)\n",
    "\n",
    "Now, we download the table from the \"Download\" tab and open it in [TopCat](http://www.star.bris.ac.uk/~mbt/topcat/). We can plot a color-magnitude diagram.\n",
    "\n",
    "<img src=images/color-magnitude.png>\n",
    "\n",
    "Now, lets define classes in terms of the GZ probabilities:\n",
    "\n",
    "<img src=images/TopCat.png>"
   ]
  },
  {
   "cell_type": "raw",
   "metadata": {},
   "source": [
    "((p_el>0.5)? 1:0) + ((p_cs >0.5)? 2:0)"
   ]
  },
  {
   "cell_type": "markdown",
   "metadata": {},
   "source": [
    "And so, we can distinguish E and S in the color-magnitude diagram.\n",
    "\n",
    "<img src=images/color-magnitude_class.png>"
   ]
  },
  {
   "cell_type": "markdown",
   "metadata": {},
   "source": [
    "## A Galaxy Zoo Challenge\n",
    "\n",
    "Create an automatic classification model that finds the class of a set of galaxies from their features. It should run like this:"
   ]
  },
  {
   "cell_type": "raw",
   "metadata": {},
   "source": [
    "$ python train_GZ_model.py train_data.csv\n",
    "$ python predict.py test_data.csv"
   ]
  },
  {
   "cell_type": "markdown",
   "metadata": {},
   "source": [
    "You are free to create your train_data.csv. A test_data.csv will be provided following the Galaxy view of SDSS. The output should be a predictions.csv file with the sorted ids from test_data.csv and the class (1 for ellipticals, 2 for spirals, 0 for unknown):"
   ]
  },
  {
   "cell_type": "raw",
   "metadata": {},
   "source": [
    "ID,CLASS\n",
    "1,1\n",
    "2,1\n",
    "3,2\n",
    "4,1\n",
    "5,0\n",
    "6,2\n"
   ]
  }
 ],
 "metadata": {
  "kernelspec": {
   "display_name": "Python 2",
   "language": "python",
   "name": "python2"
  },
  "language_info": {
   "codemirror_mode": {
    "name": "ipython",
    "version": 2
   },
   "file_extension": ".py",
   "mimetype": "text/x-python",
   "name": "python",
   "nbconvert_exporter": "python",
   "pygments_lexer": "ipython2",
   "version": "2.7.11"
  }
 },
 "nbformat": 4,
 "nbformat_minor": 0
}
