{
 "cells": [
  {
   "cell_type": "markdown",
   "metadata": {},
   "source": [
    "# Linear Classification Models\n",
    "\n",
    "##### Cristobal Donoso\n",
    "###### Department of Computer Science, University of Concepcion \n",
    "October 31, 2018"
   ]
  },
  {
   "cell_type": "markdown",
   "metadata": {},
   "source": [
    "In classification problem we try to learn a mapping from inputs **x** to outputs **y**, where **y** $\\in$ {1,...,C}, with C being the number of classes. A **binary classification** will consider C = 2. In this case y $\\in$ {1, 0}. Alternativelly, we could deal with multiples classes. This case is called **multi-label classification**.<br><br>\n",
    "One way to formalize the problem is as **function approximation**. We assume a unknown function such that **y** = f(**x**). The goal is to **estimate the function f** given a **labeled training set**. Then we wil be able to make prediction using $\\hat{y} = \\hat{f}(x)$ "
   ]
  },
  {
   "cell_type": "markdown",
   "metadata": {},
   "source": [
    "## Logistic Regression\n",
    "Logistic regression measures the relationship between a dependent variable and one or more independent variables"
   ]
  },
  {
   "cell_type": "markdown",
   "metadata": {},
   "source": [
    "## Binary Logistic Regression\n",
    "Binary Logistic regression predicts whether something is **True** or **False**. More formally, we would  like to  estimate the probability $p(C_1|x)$ using a function called the **logistic function** or **logistic sigmoid**.\n",
    "<center>\n",
    "$\\begin{equation}\n",
    "f(x) = \\frac{exp(a)}{1+exp(a)}\n",
    "\\end{equation}$\n",
    "</center>\n",
    "Note that $a = (w_0 + w_1x_1 + \\cdots + w_mx_m)$. The variable y takes values y = 0 if f(x) < 0.5 and y=1 if f(x) $\\geq$ 0.5<br>\n",
    "For binary cases, Logistic regression corresponds to the following binary classification model:\n",
    "<center>\n",
    "$p(y|x,w) = Ber(y|f(x))$\n",
    "</center>\n",
    "<br>\n",
    "Let's consider an example using [Iris data set](http://scikit-learn.org/stable/auto_examples/datasets/plot_iris_dataset.html):\n",
    "> Iris data set consists of 3 different types of irises’ (Setosa, Versicolour, and Virginica) petal and sepal length. \n",
    "\n",
    "![alt text](./img/irises.png \"Title\")"
   ]
  },
  {
   "cell_type": "code",
   "execution_count": 1,
   "metadata": {},
   "outputs": [],
   "source": [
    "import numpy as np\n",
    "from sklearn import datasets\n",
    "import matplotlib.pyplot as plt\n",
    "iris = datasets.load_iris()"
   ]
  },
  {
   "cell_type": "markdown",
   "metadata": {},
   "source": [
    "Each row represent a particular sample and each sample have 4 feature: Sepal Length, Sepal Width, Petal Length and Petal Width."
   ]
  },
  {
   "cell_type": "code",
   "execution_count": 2,
   "metadata": {},
   "outputs": [
    {
     "data": {
      "text/plain": [
       "array([5.1, 3.5, 1.4, 0.2])"
      ]
     },
     "execution_count": 2,
     "metadata": {},
     "output_type": "execute_result"
    }
   ],
   "source": [
    "iris.data[0] # let's take the first sample from data "
   ]
  },
  {
   "cell_type": "markdown",
   "metadata": {},
   "source": [
    "As we mencioned before, in supervised learning we need to use labels for each sample. In this case, we have 3 clases."
   ]
  },
  {
   "cell_type": "code",
   "execution_count": 3,
   "metadata": {},
   "outputs": [
    {
     "name": "stdout",
     "output_type": "stream",
     "text": [
      "Label for the first sample: 0. Corresponds to a setosa.\n"
     ]
    }
   ],
   "source": [
    "print('Label for the first sample: {0}. Corresponds to a {1}.'.format(iris.target[0], iris.target_names[0]))"
   ]
  },
  {
   "cell_type": "markdown",
   "metadata": {},
   "source": [
    "For simplicity we only consider 2 feature and 2 labels (Setosa vs Virginica and Versicolar)"
   ]
  },
  {
   "cell_type": "code",
   "execution_count": 33,
   "metadata": {},
   "outputs": [],
   "source": [
    "x = iris.data[:, :2]\n",
    "y = (iris.target != 0)*1"
   ]
  },
  {
   "cell_type": "code",
   "execution_count": 34,
   "metadata": {},
   "outputs": [
    {
     "name": "stdout",
     "output_type": "stream",
     "text": [
      "x shape: (150, 2)\n",
      "Type of classes: [0 1]\n"
     ]
    }
   ],
   "source": [
    "print('x shape: {0}'.format(x.shape))\n",
    "print('Type of classes: {0}'.format(np.unique(y)))"
   ]
  },
  {
   "cell_type": "code",
   "execution_count": 35,
   "metadata": {},
   "outputs": [
    {
     "data": {
      "image/png": "[encoded data removed]",
      "text/plain": [
       "<Figure size 1080x360 with 1 Axes>"
      ]
     },
     "metadata": {},
     "output_type": "display_data"
    }
   ],
   "source": [
    "plt.figure(figsize=(15,5))\n",
    "plt.plot(x[y==0][:,0], x[y==0][:,1], 'o', label='Setosa')\n",
    "plt.plot(x[y!=0][:,0], x[y!=0][:,1], 's', label='Virginica and Versicolar')\n",
    "plt.legend()\n",
    "plt.xlabel(iris.feature_names[0])\n",
    "plt.ylabel(iris.feature_names[1])\n",
    "plt.show()"
   ]
  },
  {
   "cell_type": "markdown",
   "metadata": {},
   "source": [
    "Now, we will define our logistic model from scikit-learn. It will create the model and then it will compute de gradient by using a iterative approach (Newton-Raphson)"
   ]
  },
  {
   "cell_type": "code",
   "execution_count": 36,
   "metadata": {},
   "outputs": [],
   "source": [
    "from sklearn import linear_model\n",
    "logistic_regression = linear_model.LogisticRegression(solver='newton-cg')"
   ]
  },
  {
   "cell_type": "markdown",
   "metadata": {},
   "source": [
    "First we have to split our dataset into train and test subset. Then we will fit and predict using cross-validation over *K-fold* splits"
   ]
  },
  {
   "cell_type": "code",
   "execution_count": 43,
   "metadata": {},
   "outputs": [
    {
     "data": {
      "text/plain": [
       "array([  0,   1,   2,   3,   4,   5,   6,   7,   8,   9,  10,  11,  12,\n",
       "        13,  14,  15,  16,  17,  18,  19,  20,  21,  22,  23,  24,  25,\n",
       "        26,  27,  28,  29,  30,  31,  32,  33,  34,  35,  36,  37,  38,\n",
       "        39,  40,  41,  42,  43,  44,  45,  46,  47,  48,  49,  50,  51,\n",
       "        52,  53,  54,  55,  56,  57,  58,  59,  60,  61,  62,  63,  64,\n",
       "        65,  66,  67,  68,  69,  70,  71,  72,  73,  74,  75,  76,  77,\n",
       "        78,  79,  80,  81,  82,  83,  84,  85,  86,  87,  88,  89,  90,\n",
       "        91,  92,  93,  94,  95,  96,  97,  98,  99, 100, 101, 102, 103,\n",
       "       104, 105, 106, 107, 108, 109, 110, 111, 112, 113, 114, 115, 116,\n",
       "       117, 118, 119, 120, 121, 122, 123, 124, 125, 126, 127, 128, 129,\n",
       "       130, 131, 132, 133, 134, 135, 136, 137, 138, 139, 140, 141, 142,\n",
       "       143, 144, 145, 146, 147, 148, 149])"
      ]
     },
     "execution_count": 43,
     "metadata": {},
     "output_type": "execute_result"
    }
   ],
   "source": [
    "\n",
    "index"
   ]
  },
  {
   "cell_type": "code",
   "execution_count": 66,
   "metadata": {},
   "outputs": [
    {
     "name": "stdout",
     "output_type": "stream",
     "text": [
      "mean accuracy: 0.986666666667\n"
     ]
    }
   ],
   "source": [
    "from sklearn.model_selection import KFold\n",
    "from sklearn.utils import shuffle\n",
    "\n",
    "kf = KFold(n_splits=5)\n",
    "x,y = shuffle(x,y)\n",
    "index = np.arange(0, x.shape[0], 1)\n",
    "\n",
    "mean_acc = []\n",
    "for train, test in kf.split(index):\n",
    "    x_train = x[train]\n",
    "    y_train = y[train]\n",
    "    x_test = x[test]\n",
    "    y_test = y[test]\n",
    "    \n",
    "    lr = logistic_regression.fit(x_train, y_train)\n",
    "    acc = lr.score(x_test, y_test)\n",
    "    mean_acc.append(acc)\n",
    "print('mean accuracy: {}'.format(np.mean(mean_acc)))"
   ]
  },
  {
   "cell_type": "code",
   "execution_count": 67,
   "metadata": {},
   "outputs": [],
   "source": [
    "y_pred = logistic_regression.predict(x_test)"
   ]
  },
  {
   "cell_type": "code",
   "execution_count": 68,
   "metadata": {},
   "outputs": [],
   "source": [
    "weights = logistic_regression.coef_.flatten()\n",
    "bias = logistic_regression.intercept_\n",
    "f = bias + np.dot(x_test, weights.T)"
   ]
  },
  {
   "cell_type": "code",
   "execution_count": 72,
   "metadata": {},
   "outputs": [
    {
     "data": {
      "image/png": "[encoded data removed]",
      "text/plain": [
       "<Figure size 720x360 with 1 Axes>"
      ]
     },
     "metadata": {},
     "output_type": "display_data"
    }
   ],
   "source": [
    "plt.figure(figsize=(10,5))\n",
    "plt.scatter(x_test[y_pred==0][:,0], x_test[y_pred==0][:,1], marker='o')\n",
    "plt.scatter(x_test[y_pred!=0][:,0], x_test[y_pred!=0][:,1], marker='s')\n",
    "ax = plt.gca()\n",
    "x_vals = np.array(ax.get_xlim())\n",
    "y_vals = -(x_vals * weights[0] + bias)/weights[1]\n",
    "plt.plot(x_vals, y_vals, '--', c=\"red\", label='Decision boundary')\n",
    "plt.legend()\n",
    "plt.show()"
   ]
  },
  {
   "cell_type": "markdown",
   "metadata": {},
   "source": [
    "## Nonlinear Decision Boundary"
   ]
  },
  {
   "cell_type": "markdown",
   "metadata": {},
   "source": [
    "In above formula, we could extend **the linear concept** to multiple dimensions (where we assume the data is linearly separated by an hyperplane). In this way, you can apply non-linear transformations, say $\\phi(x)$, in the original **x** space but keeping linear in the feature space. "
   ]
  },
  {
   "cell_type": "markdown",
   "metadata": {},
   "source": [
    "## Multiclass logisitic regression"
   ]
  },
  {
   "cell_type": "markdown",
   "metadata": {},
   "source": [
    "Now we will try to estimate the sample class given all classes in iris dataset. We will consider multinomial logisitic regression (sometimes called a maximum entropy classifier)<br><br>\n",
    "Let's say: \n",
    "<center>\n",
    "$\\begin{equation}\n",
    "p(y=c|x,W) = \\frac{exp(W_c^Tx)}{ \\sum_{c'}^C exp(W_{c'}^Tx) } \n",
    "\\end{equation}$\n",
    "</center>\n",
    "where $w_c$ is the c'th column of W. A "
   ]
  },
  {
   "cell_type": "code",
   "execution_count": 85,
   "metadata": {},
   "outputs": [],
   "source": [
    "x = iris.data[:,:2]\n",
    "y = iris.target"
   ]
  },
  {
   "cell_type": "code",
   "execution_count": 86,
   "metadata": {},
   "outputs": [
    {
     "name": "stdout",
     "output_type": "stream",
     "text": [
      "number of features: (150, 2)\n",
      "Type of classes: [0 1 2]\n"
     ]
    }
   ],
   "source": [
    "print('number of features: {0}\\nType of classes: {1}'.format(x.shape, np.unique(y)))"
   ]
  },
  {
   "cell_type": "code",
   "execution_count": 87,
   "metadata": {},
   "outputs": [
    {
     "data": {
      "image/png": "[encoded data removed]",
      "text/plain": [
       "<Figure size 720x360 with 1 Axes>"
      ]
     },
     "metadata": {},
     "output_type": "display_data"
    }
   ],
   "source": [
    "plt.figure(figsize=(10,5))\n",
    "plt.plot(x[y==0][:,0], x[y==0][:,1], '^')\n",
    "plt.plot(x[y==1][:,0], x[y==1][:,1], 'o')\n",
    "plt.plot(x[y==2][:,0], x[y==2][:,1], 's')\n",
    "plt.show()"
   ]
  },
  {
   "cell_type": "code",
   "execution_count": 88,
   "metadata": {},
   "outputs": [],
   "source": [
    "lr = linear_model.LogisticRegression(multi_class='multinomial', solver='newton-cg')"
   ]
  },
  {
   "cell_type": "code",
   "execution_count": 89,
   "metadata": {},
   "outputs": [],
   "source": [
    "x_train, x_test, y_train, y_test = train_test_split(x,y,test_size=0.2)"
   ]
  },
  {
   "cell_type": "code",
   "execution_count": 90,
   "metadata": {},
   "outputs": [
    {
     "data": {
      "text/plain": [
       "LogisticRegression(C=1.0, class_weight=None, dual=False, fit_intercept=True,\n",
       "          intercept_scaling=1, max_iter=100, multi_class='multinomial',\n",
       "          n_jobs=1, penalty='l2', random_state=None, solver='newton-cg',\n",
       "          tol=0.0001, verbose=0, warm_start=False)"
      ]
     },
     "execution_count": 90,
     "metadata": {},
     "output_type": "execute_result"
    }
   ],
   "source": [
    "lr.fit(x_train, y_train)"
   ]
  },
  {
   "cell_type": "code",
   "execution_count": 91,
   "metadata": {},
   "outputs": [],
   "source": [
    "y_pred = lr.predict(x_test)"
   ]
  },
  {
   "cell_type": "code",
   "execution_count": 92,
   "metadata": {},
   "outputs": [
    {
     "data": {
      "text/plain": [
       "[<matplotlib.lines.Line2D at 0x7ff2e7e7fe50>]"
      ]
     },
     "execution_count": 92,
     "metadata": {},
     "output_type": "execute_result"
    },
    {
     "data": {
      "image/png": "[encoded data removed]",
      "text/plain": [
       "<Figure size 720x360 with 1 Axes>"
      ]
     },
     "metadata": {},
     "output_type": "display_data"
    }
   ],
   "source": [
    "plt.figure(figsize=(10,5))\n",
    "plt.plot(x_test[y_pred == 0][:,0], x_test[y_pred == 0][:,1], '^')\n",
    "plt.plot(x_test[y_pred == 1][:,0], x_test[y_pred == 1][:,1], 'o')\n",
    "plt.plot(x_test[y_pred == 2][:,0], x_test[y_pred == 2][:,1], 's')"
   ]
  },
  {
   "cell_type": "code",
   "execution_count": 98,
   "metadata": {},
   "outputs": [
    {
     "name": "stdout",
     "output_type": "stream",
     "text": [
      "[[-2.52521875  2.2036556 ]\n",
      " [ 0.60793489 -1.40226277]\n",
      " [ 1.91728387 -0.80139283]]\n"
     ]
    }
   ],
   "source": [
    "means = lr.coef_\n",
    "print(means)"
   ]
  },
  {
   "cell_type": "markdown",
   "metadata": {},
   "source": [
    "## Linear and Quadratic Discriminant Analisys"
   ]
  },
  {
   "cell_type": "markdown",
   "metadata": {},
   "source": [
    "IN Linear Discriminant Analisys (LDA) we will model the class conditional distribution of the data $p(x|y=k)$ for each class k. Then, prediction can be obtained by using Baye's rule:\n",
    "<center>\n",
    "$P(y=k|x) = \\frac{P(x | y=k)P(y=k)}{p(x)} = \\frac{P(x|y=k)P(y=k)}{\\sum_l P(x|y=l)P(y=l)}$\n",
    "</center>\n",
    "we can modelate $p(x|y=k)$ as a multivariate Gaussian Distribution<br><br>\n",
    "<center>\n",
    "$p(\\boldsymbol{x|y=k}) = \\mathcal{N}(\\boldsymbol{x}|\\boldsymbol{\\mu}_k, \\boldsymbol{\\Sigma}) = \\frac{1}{(2\\pi)^{D/2}}\\frac{1}{|\\boldsymbol{\\Sigma}|^{1/2}}\\exp({-\\frac{1}{2}(\\boldsymbol{x}-\\boldsymbol{\\mu}_k)^\\top\\boldsymbol{\\Sigma}(\\boldsymbol{x}-\\boldsymbol{\\mu}_k)})$.\n",
    "</center>\n",
    "where D is the number of features."
   ]
  },
  {
   "cell_type": "code",
   "execution_count": 128,
   "metadata": {},
   "outputs": [],
   "source": [
    "from sklearn.datasets import load_breast_cancer\n",
    "from sklearn.discriminant_analysis import LinearDiscriminantAnalysis\n",
    "from sklearn.discriminant_analysis import QuadraticDiscriminantAnalysis\n",
    "from sklearn.model_selection import KFold, cross_val_score\n",
    "from time import time\n",
    "\n",
    "# Load datasets \n",
    "data = load_breast_cancer()\n",
    "x = data.data\n",
    "y = data.target"
   ]
  },
  {
   "cell_type": "code",
   "execution_count": 129,
   "metadata": {},
   "outputs": [
    {
     "data": {
      "text/plain": [
       "(569, 30)"
      ]
     },
     "execution_count": 129,
     "metadata": {},
     "output_type": "execute_result"
    }
   ],
   "source": [
    "x.shape"
   ]
  },
  {
   "cell_type": "code",
   "execution_count": 130,
   "metadata": {},
   "outputs": [],
   "source": [
    "lda = LinearDiscriminantAnalysis()\n",
    "qda = QuadraticDiscriminantAnalysis()"
   ]
  },
  {
   "cell_type": "code",
   "execution_count": null,
   "metadata": {},
   "outputs": [],
   "source": []
  },
  {
   "cell_type": "code",
   "execution_count": 134,
   "metadata": {},
   "outputs": [],
   "source": [
    "# Thanks to Guille\n",
    "def compare(x, y, k_fold = 10):\n",
    "    t = time()\n",
    "    sc = cross_val_score(lr, x, y, cv=k_fold)*100\n",
    "    t = time()-t\n",
    "    print \"LR: score = \", np.mean(sc), \" +- \", np.std(sc), \", time = \", t\n",
    "\n",
    "    t = time()\n",
    "    sc = cross_val_score(lda, x, y, cv=k_fold)*100\n",
    "    t = time()-t\n",
    "    print \"LDA: score = \", np.mean(sc), \" +- \", np.std(sc), \", time = \", t\n",
    "    \n",
    "    t = time()\n",
    "    sc = cross_val_score(qda, x, y, cv=k_fold)*100\n",
    "    t = time()-t\n",
    "    print \"QDA: score = \", np.mean(sc), \" +- \", np.std(sc), \", time = \", t   "
   ]
  },
  {
   "cell_type": "code",
   "execution_count": 135,
   "metadata": {},
   "outputs": [
    {
     "name": "stdout",
     "output_type": "stream",
     "text": [
      "LR: score =  95.61025408348458  +-  2.2271676495850556 , time =  1.89760899544\n",
      "LDA: score =  95.62267738311294  +-  2.6170215513783726 , time =  0.0231249332428\n",
      "QDA: score =  95.59804684124103  +-  2.12978213952212 , time =  0.0199871063232\n"
     ]
    }
   ],
   "source": [
    "compare(x,y)"
   ]
  },
  {
   "cell_type": "code",
   "execution_count": null,
   "metadata": {},
   "outputs": [],
   "source": []
  }
 ],
 "metadata": {
  "kernelspec": {
   "display_name": "Python 3",
   "language": "python",
   "name": "python3"
  },
  "language_info": {
   "codemirror_mode": {
    "name": "ipython",
    "version": 2
   },
   "file_extension": ".py",
   "mimetype": "text/x-python",
   "name": "python",
   "nbconvert_exporter": "python",
   "pygments_lexer": "ipython2",
   "version": "2.7.15"
  }
 },
 "nbformat": 4,
 "nbformat_minor": 2
}
