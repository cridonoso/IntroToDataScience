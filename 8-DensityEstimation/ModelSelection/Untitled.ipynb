{
 "cells": [
  {
   "cell_type": "markdown",
   "metadata": {},
   "source": [
    "# MODEL SELECTION\n",
    "### Density Estimation\n",
    "Cristobal Donoso<br>\n",
    "University of Concepcion, CHILE <br>\n",
    "October, 2018"
   ]
  },
  {
   "cell_type": "code",
   "execution_count": 17,
   "metadata": {},
   "outputs": [],
   "source": [
    "import numpy as np\n",
    "import matplotlib.pyplot as plt\n",
    "import seaborn as sns; sns.set()"
   ]
  },
  {
   "cell_type": "markdown",
   "metadata": {},
   "source": [
    "## Generating simulated data"
   ]
  },
  {
   "cell_type": "code",
   "execution_count": 18,
   "metadata": {},
   "outputs": [],
   "source": [
    "# generates samples from the distribution\n",
    "def generate_samples(n_samples,mu1,sigma1,mu2,sigma2):\n",
    "    samples1 = np.random.normal(mu1,sigma1,(1,int(n_samples/2)))\n",
    "    samples2 = np.random.normal(mu2,sigma2,(1,int(n_samples/2)))\n",
    "    samples = np.concatenate((samples1,samples2), 1)\n",
    "    return samples.T"
   ]
  },
  {
   "cell_type": "code",
   "execution_count": 58,
   "metadata": {},
   "outputs": [
    {
     "name": "stdout",
     "output_type": "stream",
     "text": [
      "(1000, 1)\n"
     ]
    }
   ],
   "source": [
    "# parameters of the distribution\n",
    "mu1=4\n",
    "sigma1=1\n",
    "mu2=8\n",
    "sigma2=2\n",
    "\n",
    "# number of samples\n",
    "n_samples = 1000\n",
    "x = generate_samples(n_samples,mu1,sigma1,mu2,sigma2)\n",
    "print(x.shape)"
   ]
  },
  {
   "cell_type": "code",
   "execution_count": 59,
   "metadata": {},
   "outputs": [
    {
     "data": {
      "image/png": "[encoded data removed]",
      "text/plain": [
       "<Figure size 720x360 with 1 Axes>"
      ]
     },
     "metadata": {},
     "output_type": "display_data"
    }
   ],
   "source": [
    "plt.figure(figsize=(10,5))\n",
    "plt.hist(x, bins=30)\n",
    "plt.show()"
   ]
  },
  {
   "cell_type": "markdown",
   "metadata": {},
   "source": [
    "## Spliting the dataset"
   ]
  },
  {
   "cell_type": "code",
   "execution_count": 60,
   "metadata": {},
   "outputs": [],
   "source": [
    "from sklearn.utils import shuffle # to shuffle the set of data"
   ]
  },
  {
   "cell_type": "code",
   "execution_count": 61,
   "metadata": {},
   "outputs": [],
   "source": [
    "x_new = shuffle(x, random_state=0)"
   ]
  },
  {
   "cell_type": "code",
   "execution_count": 62,
   "metadata": {},
   "outputs": [
    {
     "name": "stdout",
     "output_type": "stream",
     "text": [
      "----before suffle----\n",
      "[[3.89825294]\n",
      " [2.93491327]]\n",
      "----after suffle----\n",
      "[[7.43142702]\n",
      " [9.68426072]]\n"
     ]
    }
   ],
   "source": [
    "print('----before suffle----')\n",
    "print(x[0:2])\n",
    "print('----after suffle----')\n",
    "print(x_new[0:2])"
   ]
  },
  {
   "cell_type": "markdown",
   "metadata": {},
   "source": [
    "The idea is \"We are mixing the entire dataset\" and break with the order of the simulation. Next we will define a **train set** and **test set**.<br>\n",
    "Theoretically,\n",
    "- Train set: It is used to fit the model parameters (or hyperparameters)\n",
    "- Test set: It is used to test the model using the previously fitted parameters (or hyperparameters)\n"
   ]
  },
  {
   "cell_type": "code",
   "execution_count": 63,
   "metadata": {},
   "outputs": [],
   "source": [
    "x_size = x_new.shape[0] # Dataset Length\n",
    "pct_train = 0.8 # Percentage of train\n",
    "\n",
    "x_train = x_new[0:int(x_size*pct_train)]\n",
    "x_test  = x_new[int(x_size*pct_train):]"
   ]
  },
  {
   "cell_type": "code",
   "execution_count": 64,
   "metadata": {},
   "outputs": [
    {
     "name": "stdout",
     "output_type": "stream",
     "text": [
      "(800, 1)\n",
      "(200, 1)\n"
     ]
    }
   ],
   "source": [
    "print(x_train.shape)\n",
    "print(x_test.shape)"
   ]
  },
  {
   "cell_type": "markdown",
   "metadata": {},
   "source": [
    "## Fitting Kernel Density Estimation"
   ]
  },
  {
   "cell_type": "code",
   "execution_count": 65,
   "metadata": {},
   "outputs": [],
   "source": [
    "from sklearn.model_selection import GridSearchCV # To compute cross-validation\n",
    "from sklearn.neighbors import KernelDensity"
   ]
  },
  {
   "cell_type": "markdown",
   "metadata": {},
   "source": [
    "At this moment, we need to estimate **the best hyperparameters** of our model. In particular, we need to define the best bandwidth using cross-validation (CV).<br><br> CV is an error-test technique where we fit a set of model using a range of parameters. So, the highest-scored model will be the best estimator (its include a particular bandwidth)"
   ]
  },
  {
   "cell_type": "code",
   "execution_count": 66,
   "metadata": {},
   "outputs": [
    {
     "data": {
      "text/plain": [
       "GridSearchCV(cv=None, error_score='raise',\n",
       "       estimator=KernelDensity(algorithm='auto', atol=0, bandwidth=1.0, breadth_first=True,\n",
       "       kernel='gaussian', leaf_size=40, metric='euclidean',\n",
       "       metric_params=None, rtol=0),\n",
       "       fit_params=None, iid=True, n_jobs=1,\n",
       "       param_grid={'bandwidth': array([0.001  , 0.00144, 0.00207, 0.00298, 0.00428, 0.00616, 0.00886,\n",
       "       0.01274, 0.01833, 0.02637, 0.03793, 0.05456, 0.07848, 0.11288,\n",
       "       0.16238, 0.23357, 0.33598, 0.48329, 0.69519, 1.     ])},\n",
       "       pre_dispatch='2*n_jobs', refit=True, return_train_score='warn',\n",
       "       scoring=None, verbose=0)"
      ]
     },
     "execution_count": 66,
     "metadata": {},
     "output_type": "execute_result"
    }
   ],
   "source": [
    "params = {'bandwidth': np.logspace(-3, 0, 20)}\n",
    "grid = GridSearchCV(KernelDensity(), params)\n",
    "grid.fit(x_train)"
   ]
  },
  {
   "cell_type": "code",
   "execution_count": 67,
   "metadata": {},
   "outputs": [],
   "source": [
    "pdf_KDE = grid.best_estimator_ # The best model from cross-validation"
   ]
  },
  {
   "cell_type": "code",
   "execution_count": 68,
   "metadata": {},
   "outputs": [
    {
     "data": {
      "text/plain": [
       "'the best bandwidth: 0.483'"
      ]
     },
     "execution_count": 68,
     "metadata": {},
     "output_type": "execute_result"
    }
   ],
   "source": [
    "'the best bandwidth: {0:.3f}'.format(pdf_KDE.bandwidth)"
   ]
  },
  {
   "cell_type": "markdown",
   "metadata": {},
   "source": [
    "## Fitting Gaussian Mixture "
   ]
  },
  {
   "cell_type": "markdown",
   "metadata": {},
   "source": [
    "Now, It's time to train both models using the **train_set** generated previously.."
   ]
  },
  {
   "cell_type": "code",
   "execution_count": 69,
   "metadata": {},
   "outputs": [],
   "source": [
    "from sklearn.mixture import GaussianMixture "
   ]
  },
  {
   "cell_type": "code",
   "execution_count": 70,
   "metadata": {},
   "outputs": [],
   "source": [
    "Ns = np.arange(20) + 1 \n",
    "models = []\n",
    "for i in range(len(Ns)):\n",
    "    models.append(GaussianMixture(Ns[i]).fit(x_train)) # sklearn 0.18"
   ]
  },
  {
   "cell_type": "code",
   "execution_count": 71,
   "metadata": {},
   "outputs": [],
   "source": [
    "# compute the AIC and the BIC\n",
    "AIC = [m.aic(x_train) for m in models]\n",
    "BIC = [m.bic(x_train) for m in models]"
   ]
  },
  {
   "cell_type": "code",
   "execution_count": 72,
   "metadata": {},
   "outputs": [],
   "source": [
    "pdf_GMM = models[np.argmin(BIC)] # The best model based on the BIC criterion."
   ]
  },
  {
   "cell_type": "markdown",
   "metadata": {},
   "source": [
    "## Selecting the best model"
   ]
  },
  {
   "cell_type": "markdown",
   "metadata": {},
   "source": [
    "Now we shall use the **test set**. Consequently, we will obtain the best estimation using both models on a set of data that never seen before.<br><br>\n",
    "```.score_samples()``` returns the log of the densities evaluations "
   ]
  },
  {
   "cell_type": "code",
   "execution_count": 73,
   "metadata": {},
   "outputs": [],
   "source": [
    "log_kde = pdf_KDE.score_samples(x_test)\n",
    "log_gmm = pdf_GMM.score_samples(x_test)"
   ]
  },
  {
   "cell_type": "code",
   "execution_count": 74,
   "metadata": {},
   "outputs": [
    {
     "name": "stdout",
     "output_type": "stream",
     "text": [
      "kde score -2.23859622253 +- 0.596965383202\n",
      "gmm score -2.24316076181 +- 0.64862906704\n"
     ]
    }
   ],
   "source": [
    "print('kde score {0} +- {1}'.format(log_kde.mean(), log_kde.std()))\n",
    "print('gmm score {0} +- {1}'.format(log_gmm.mean(), log_gmm.std()))"
   ]
  },
  {
   "cell_type": "markdown",
   "metadata": {},
   "source": [
    "In this case, the best model is obtained when we use KDE. However, The models are close so anithing you choose will work fine"
   ]
  },
  {
   "cell_type": "markdown",
   "metadata": {},
   "source": [
    "## Plotting results"
   ]
  },
  {
   "cell_type": "code",
   "execution_count": 75,
   "metadata": {},
   "outputs": [],
   "source": [
    "# Only for plot\n",
    "def calculate_bins(x):\n",
    "    dh = 3.5 * x.std()/(len(x)**(1./3.))\n",
    "    b = int(np.round((x.max() - x.min())/dh)) \n",
    "    return b"
   ]
  },
  {
   "cell_type": "markdown",
   "metadata": {},
   "source": [
    "We will plot "
   ]
  },
  {
   "cell_type": "code",
   "execution_count": 76,
   "metadata": {},
   "outputs": [],
   "source": [
    "results1 = np.exp(pdf_GMM.score_samples(x_test))\n",
    "results1 = np.reshape(results1, (results1.shape[0], 1))\n",
    "\n",
    "results2 = np.exp(pdf_KDE.score_samples(x_test))\n",
    "results2 = np.reshape(results2, (results2.shape[0], 1))"
   ]
  },
  {
   "cell_type": "code",
   "execution_count": 77,
   "metadata": {},
   "outputs": [
    {
     "name": "stderr",
     "output_type": "stream",
     "text": [
      "/home/koskovi/anaconda2/lib/python2.7/site-packages/matplotlib/axes/_axes.py:6462: UserWarning: The 'normed' kwarg is deprecated, and has been replaced by the 'density' kwarg.\n",
      "  warnings.warn(\"The 'normed' kwarg is deprecated, and has been \"\n",
      "/home/koskovi/anaconda2/lib/python2.7/site-packages/matplotlib/axes/_axes.py:6462: UserWarning: The 'normed' kwarg is deprecated, and has been replaced by the 'density' kwarg.\n",
      "  warnings.warn(\"The 'normed' kwarg is deprecated, and has been \"\n"
     ]
    },
    {
     "data": {
      "image/png": "[encoded data removed]",
      "text/plain": [
       "<Figure size 1080x360 with 1 Axes>"
      ]
     },
     "metadata": {},
     "output_type": "display_data"
    }
   ],
   "source": [
    "plt.figure(figsize=(15,5))\n",
    "plt.hist(x_test, bins=calculate_bins(x_test), alpha=0.6, normed = True, label='Real Distribution 1')\n",
    "plt.hist(x_test, bins=calculate_bins(x_test), alpha=0.6, normed = True, label='Real Distribution 2')\n",
    "plt.plot(x_test, results1, 'k.', label='GMM')\n",
    "plt.plot(x_test, results2, 'r*', label='KNN')\n",
    "plt.legend()\n",
    "plt.show()"
   ]
  },
  {
   "cell_type": "code",
   "execution_count": null,
   "metadata": {},
   "outputs": [],
   "source": []
  },
  {
   "cell_type": "code",
   "execution_count": null,
   "metadata": {},
   "outputs": [],
   "source": []
  },
  {
   "cell_type": "code",
   "execution_count": null,
   "metadata": {},
   "outputs": [],
   "source": []
  }
 ],
 "metadata": {
  "kernelspec": {
   "display_name": "Python 3",
   "language": "python",
   "name": "python3"
  },
  "language_info": {
   "codemirror_mode": {
    "name": "ipython",
    "version": 2
   },
   "file_extension": ".py",
   "mimetype": "text/x-python",
   "name": "python",
   "nbconvert_exporter": "python",
   "pygments_lexer": "ipython2",
   "version": "2.7.15"
  }
 },
 "nbformat": 4,
 "nbformat_minor": 2
}
