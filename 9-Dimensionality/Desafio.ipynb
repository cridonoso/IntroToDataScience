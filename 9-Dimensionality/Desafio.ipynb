{
 "cells": [
  {
   "cell_type": "code",
   "execution_count": 3,
   "metadata": {},
   "outputs": [],
   "source": [
    "import numpy as np\n",
    "import pandas as pd\n",
    "import matplotlib.pyplot as plt\n",
    "from matplotlib.image import imread\n",
    "import os "
   ]
  },
  {
   "cell_type": "markdown",
   "metadata": {},
   "source": [
    "[Kaggle Dataset](https://www.kaggle.com/tourist55/alzheimers-dataset-4-class-of-images)"
   ]
  },
  {
   "cell_type": "code",
   "execution_count": 128,
   "metadata": {},
   "outputs": [],
   "source": [
    "def get_dataset(path, label):\n",
    "    x = []\n",
    "    y = []\n",
    "    for file in os.listdir(path):\n",
    "        image_ND = imread(path+file)\n",
    "\n",
    "        # Caracteristicas Conjunto de Entrenamiento\n",
    "#         x+=[[np.mean(image_ND), np.std(image_ND), \n",
    "#              np.max(image_ND), np.min(image_ND),\n",
    "#              np.median(image_ND), np.quantile(image_ND, 0.3)]]\n",
    "\n",
    "        x_array = image_ND.reshape(image_ND.shape[0]*image_ND.shape[1]) - np.mean(image_ND)\n",
    "        x.append(x_array)\n",
    "        y.append(label)\n",
    "    return np.array(x), np.array(y)"
   ]
  },
  {
   "cell_type": "code",
   "execution_count": 129,
   "metadata": {},
   "outputs": [],
   "source": [
    "x_train, y_train = get_dataset('./data/alzheimer/train/NonDemented/', label=0)"
   ]
  },
  {
   "cell_type": "code",
   "execution_count": 189,
   "metadata": {},
   "outputs": [],
   "source": [
    "x_test_0, y_test_0 = get_dataset('./data/alzheimer/test/NonDemented/', label=0)\n",
    "x_test_1, y_test_1 = get_dataset('./data/alzheimer/test/ModerateDemented/', label=1)\n",
    "x_test_2, y_test_2 = get_dataset('./data/alzheimer/test/MildDemented/', label=1)\n",
    "x_test = np.concatenate([x_test_0, x_test_1, x_test_2])\n",
    "y_test = np.concatenate([y_test_0, y_test_1, y_test_2])"
   ]
  },
  {
   "cell_type": "code",
   "execution_count": 190,
   "metadata": {},
   "outputs": [],
   "source": [
    "from sklearn.decomposition import PCA"
   ]
  },
  {
   "cell_type": "code",
   "execution_count": 191,
   "metadata": {},
   "outputs": [],
   "source": [
    "pca = PCA(n_components=100)\n",
    "pca = pca.fit(np.concatenate([x_train, x_test]))"
   ]
  },
  {
   "cell_type": "code",
   "execution_count": 192,
   "metadata": {},
   "outputs": [],
   "source": [
    "x_train_reduced = pca.transform(x_train)\n",
    "x_test_reduced = pca.transform(x_test)"
   ]
  },
  {
   "cell_type": "code",
   "execution_count": 193,
   "metadata": {},
   "outputs": [
    {
     "data": {
      "text/plain": [
       "0.7347176429403492"
      ]
     },
     "execution_count": 193,
     "metadata": {},
     "output_type": "execute_result"
    }
   ],
   "source": [
    "np.sum(pca.explained_variance_ratio_)"
   ]
  },
  {
   "cell_type": "code",
   "execution_count": 194,
   "metadata": {},
   "outputs": [],
   "source": [
    "from sklearn.mixture import GaussianMixture\n",
    "from sklearn.neighbors import KernelDensity"
   ]
  },
  {
   "cell_type": "code",
   "execution_count": 195,
   "metadata": {},
   "outputs": [],
   "source": [
    "gmm = GaussianMixture(n_components=100, covariance_type=\"tied\")\n",
    "gmm = gmm.fit(x_train_reduced)\n",
    "scores = gmm.score_samples(x_test_reduced)"
   ]
  },
  {
   "cell_type": "code",
   "execution_count": null,
   "metadata": {},
   "outputs": [],
   "source": []
  },
  {
   "cell_type": "code",
   "execution_count": 196,
   "metadata": {},
   "outputs": [],
   "source": [
    "kde = KernelDensity(kernel='gaussian',bandwidth = 1e-2)\n",
    "kde = kde.fit(x_train)\n",
    "scores = kde.score_samples(x_test)"
   ]
  },
  {
   "cell_type": "code",
   "execution_count": null,
   "metadata": {},
   "outputs": [],
   "source": []
  },
  {
   "cell_type": "code",
   "execution_count": 197,
   "metadata": {},
   "outputs": [],
   "source": [
    "scores_D = scores[np.array(y_test) == 1]\n",
    "scores_ND = scores[np.array(y_test) == 0]"
   ]
  },
  {
   "cell_type": "code",
   "execution_count": null,
   "metadata": {},
   "outputs": [],
   "source": []
  },
  {
   "cell_type": "code",
   "execution_count": 188,
   "metadata": {},
   "outputs": [
    {
     "data": {
      "image/png": "[encoded data removed]",
      "text/plain": [
       "<Figure size 432x288 with 1 Axes>"
      ]
     },
     "metadata": {
      "needs_background": "light"
     },
     "output_type": "display_data"
    }
   ],
   "source": [
    "plt.hist(scores_ND, density=False, bins=100, label='Sin Demencia')\n",
    "plt.hist(scores_D, density=False, bins=100, label='Demencia Leve')\n",
    "plt.legend()\n",
    "plt.show()"
   ]
  },
  {
   "cell_type": "code",
   "execution_count": null,
   "metadata": {},
   "outputs": [],
   "source": []
  },
  {
   "cell_type": "code",
   "execution_count": null,
   "metadata": {},
   "outputs": [],
   "source": []
  }
 ],
 "metadata": {
  "kernelspec": {
   "display_name": "Python 3",
   "language": "python",
   "name": "python3"
  },
  "language_info": {
   "codemirror_mode": {
    "name": "ipython",
    "version": 3
   },
   "file_extension": ".py",
   "mimetype": "text/x-python",
   "name": "python",
   "nbconvert_exporter": "python",
   "pygments_lexer": "ipython3",
   "version": "3.8.2"
  }
 },
 "nbformat": 4,
 "nbformat_minor": 4
}
