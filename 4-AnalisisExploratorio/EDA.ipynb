{
 "cells": [
  {
   "cell_type": "markdown",
   "metadata": {},
   "source": [
    "# Analisis Exploratorio de Datos\n",
    "\n",
    "Cristobal Donoso Oliva<br>\n",
    "Universidad de Concepcion, Chile<br>\n",
    "cridonoso@inf.udec.cl<br>\n",
    "\n",
    "\n",
    "_Viernes 16 de Octubre del 2020_"
   ]
  },
  {
   "cell_type": "code",
   "execution_count": 123,
   "metadata": {},
   "outputs": [],
   "source": [
    "import pandas as pd\n",
    "import numpy as np"
   ]
  },
  {
   "cell_type": "markdown",
   "metadata": {},
   "source": [
    "Conjunto de datos [MRI and Alzheimers](https://www.kaggle.com/jboysen/mri-and-alzheimers) disponible en kaggle "
   ]
  },
  {
   "cell_type": "markdown",
   "metadata": {},
   "source": [
    "- `Educ`: Anos de educacion\n",
    "- `SES`: Nivel Socio-Economico\n",
    "- `MMSE`: Mini-mental test\n",
    "- `CDR` Indice Clinico de Demencia\n",
    "- `eTIV`: Volumen Intra-craneal Total estimado\n",
    "- `nWBV`: Volumen Normalizado del Cerebro Completo\n",
    "- `ASF`: Atlas Scaling Factor"
   ]
  },
  {
   "cell_type": "code",
   "execution_count": 127,
   "metadata": {},
   "outputs": [],
   "source": [
    "long = pd.read_csv('oasis_longitudinal.csv') # Solo utilizaremos el corte longitudinal"
   ]
  },
  {
   "cell_type": "markdown",
   "metadata": {},
   "source": [
    "Primero revisemos el tipo de dato de las columnas"
   ]
  },
  {
   "cell_type": "code",
   "execution_count": 23,
   "metadata": {},
   "outputs": [
    {
     "data": {
      "text/plain": [
       "Subject ID     object\n",
       "MRI ID         object\n",
       "Group          object\n",
       "Visit           int64\n",
       "MR Delay        int64\n",
       "M/F            object\n",
       "Hand           object\n",
       "Age             int64\n",
       "EDUC            int64\n",
       "SES           float64\n",
       "MMSE          float64\n",
       "CDR           float64\n",
       "eTIV            int64\n",
       "nWBV          float64\n",
       "ASF           float64\n",
       "dtype: object"
      ]
     },
     "execution_count": 23,
     "metadata": {},
     "output_type": "execute_result"
    }
   ],
   "source": [
    "long.dtypes"
   ]
  },
  {
   "cell_type": "markdown",
   "metadata": {},
   "source": [
    "Como podemos observar, tenemos variables numericas (`int` y `float`) y categoricas (`object`). Antes de formatear los datos debemos ver si existen **valores faltantes**"
   ]
  },
  {
   "cell_type": "code",
   "execution_count": 28,
   "metadata": {},
   "outputs": [
    {
     "data": {
      "text/plain": [
       "Subject ID     0\n",
       "MRI ID         0\n",
       "Group          0\n",
       "Visit          0\n",
       "MR Delay       0\n",
       "M/F            0\n",
       "Hand           0\n",
       "Age            0\n",
       "EDUC           0\n",
       "SES           19\n",
       "MMSE           2\n",
       "CDR            0\n",
       "eTIV           0\n",
       "nWBV           0\n",
       "ASF            0\n",
       "dtype: int64"
      ]
     },
     "execution_count": 28,
     "metadata": {},
     "output_type": "execute_result"
    }
   ],
   "source": [
    "long.isna().sum()"
   ]
  },
  {
   "cell_type": "markdown",
   "metadata": {},
   "source": [
    "En este caso, `.isna()` nos retorna un frame booleano indicando si la celda es `Nan`. Luego sumamos cada una de las columnas con `.sum()`. Pandas automaticamente asociara el `True` con 1 y el `False` con 0."
   ]
  },
  {
   "cell_type": "markdown",
   "metadata": {},
   "source": [
    "Como sabemos existen distintas alternativas para lidiar con <u>datos faltantes</u> (*del ingles, Missing Values*):\n",
    "- Pasiva:\n",
    "    - Eliminar Filas con valores faltantes\n",
    "- Activa:\n",
    "    - Utilizar valores de tendencia central: Media - Mediana - Moda\n",
    "    - Utilizar una constante \n",
    "    - <s>k-NN: los k vecinos mas cercanos<s>\n",
    "    - <s>Modelos de regresion<s>\n",
    "    - <s>Modelos generativos<s>"
   ]
  },
  {
   "cell_type": "markdown",
   "metadata": {},
   "source": [
    "Las ultimas tres tecnicas son mas avanzadas, las cuales revisaremos mas adelante. De todas formas [aqui](https://scikit-learn.org/stable/modules/generated/sklearn.impute.KNNImputer.html#sklearn.impute.KNNImputer) hay un link hacia `KNNImputer` de la libreria `scikit-learn` por si quieres adelantar contenido!"
   ]
  },
  {
   "cell_type": "markdown",
   "metadata": {},
   "source": [
    "Volviendo al ejemplo, podemos ver que tenemos dos columnas con *missing values*: el nivel socioeconomico (`SES`) y el test mini-mental (`MMSE`)"
   ]
  },
  {
   "cell_type": "markdown",
   "metadata": {},
   "source": [
    "Debemos tener **cuidado** con imputar datos utilizando **indiscriminadamente** cualquier tecnica de imputacion. **Tendria sentido utilizar algun valor de tendencia central en el nivel socio economico?**\n",
    "<br><br>\n",
    "y en el caso del `MMSE` depende de cada paciente, sin embargo, podriamos utilizar la media acotando el grupo de edad y sexo.\n",
    "<br><br>\n",
    "Primero utilizaremos la tecnica **pasiva** donde descartamos las filas que tenan valores faltantes. Esto significa quitar 19 y 2 filas desde `SSE` y `MMSE` respectivamente"
   ]
  },
  {
   "cell_type": "code",
   "execution_count": 140,
   "metadata": {},
   "outputs": [
    {
     "data": {
      "text/plain": [
       "'antes: (373, 15) - despues: (354, 15)'"
      ]
     },
     "execution_count": 140,
     "metadata": {},
     "output_type": "execute_result"
    }
   ],
   "source": [
    "long_no_missing = long.dropna(axis=0) # 0 = filas / 1 = columnas\n",
    "('antes: {} - despues: {}'.format(long.shape, long_no_missing.shape))"
   ]
  },
  {
   "cell_type": "code",
   "execution_count": 141,
   "metadata": {},
   "outputs": [
    {
     "data": {
      "text/plain": [
       "Subject ID    0\n",
       "MRI ID        0\n",
       "Group         0\n",
       "Visit         0\n",
       "MR Delay      0\n",
       "M/F           0\n",
       "Hand          0\n",
       "Age           0\n",
       "EDUC          0\n",
       "SES           0\n",
       "MMSE          0\n",
       "CDR           0\n",
       "eTIV          0\n",
       "nWBV          0\n",
       "ASF           0\n",
       "dtype: int64"
      ]
     },
     "execution_count": 141,
     "metadata": {},
     "output_type": "execute_result"
    }
   ],
   "source": [
    "long_no_missing.isna().sum()"
   ]
  },
  {
   "cell_type": "markdown",
   "metadata": {},
   "source": [
    "Para los metodos **activos** de imputacion, podriamos observar **correlaciones** entre variables -quizas encontramos algo interesante que nos permita imputar valores:"
   ]
  },
  {
   "cell_type": "code",
   "execution_count": 57,
   "metadata": {},
   "outputs": [],
   "source": [
    "import matplotlib.pyplot as plt\n",
    "try:\n",
    "    import seaborn as sns\n",
    "except:\n",
    "    !conda install -y seaborn"
   ]
  },
  {
   "cell_type": "code",
   "execution_count": 62,
   "metadata": {
    "scrolled": false
   },
   "outputs": [
    {
     "data": {
      "text/plain": [
       "<seaborn.axisgrid.PairGrid at 0x7f6996d09070>"
      ]
     },
     "execution_count": 62,
     "metadata": {},
     "output_type": "execute_result"
    },
    {
     "data": {
      "image/png": "[encoded data removed]",
      "text/plain": [
       "<Figure size 720x720 with 65 Axes>"
      ]
     },
     "metadata": {
      "needs_background": "light"
     },
     "output_type": "display_data"
    }
   ],
   "source": [
    "sns.pairplot(long_no_missing, corner=True, height=1, plot_kws=dict(marker=\"+\"))"
   ]
  },
  {
   "cell_type": "markdown",
   "metadata": {},
   "source": [
    "Es dificil ver alguna correlacion que nos permita hacer imputacion sobre el valor del MMSE basado en otros indicadores. Sin embargo, la variable categorica `Group` nos puede dar mas informacion respecto al valor estimado a imputar"
   ]
  },
  {
   "cell_type": "code",
   "execution_count": 107,
   "metadata": {},
   "outputs": [
    {
     "data": {
      "text/html": [
       "<div>\n",
       "<style scoped>\n",
       "    .dataframe tbody tr th:only-of-type {\n",
       "        vertical-align: middle;\n",
       "    }\n",
       "\n",
       "    .dataframe tbody tr th {\n",
       "        vertical-align: top;\n",
       "    }\n",
       "\n",
       "    .dataframe thead th {\n",
       "        text-align: right;\n",
       "    }\n",
       "</style>\n",
       "<table border=\"1\" class=\"dataframe\">\n",
       "  <thead>\n",
       "    <tr style=\"text-align: right;\">\n",
       "      <th></th>\n",
       "      <th>Subject ID</th>\n",
       "      <th>MRI ID</th>\n",
       "      <th>Group</th>\n",
       "      <th>Visit</th>\n",
       "      <th>MR Delay</th>\n",
       "      <th>M/F</th>\n",
       "      <th>Hand</th>\n",
       "      <th>Age</th>\n",
       "      <th>EDUC</th>\n",
       "      <th>SES</th>\n",
       "      <th>MMSE</th>\n",
       "      <th>CDR</th>\n",
       "      <th>eTIV</th>\n",
       "      <th>nWBV</th>\n",
       "      <th>ASF</th>\n",
       "    </tr>\n",
       "  </thead>\n",
       "  <tbody>\n",
       "    <tr>\n",
       "      <th>357</th>\n",
       "      <td>OAS2_0181</td>\n",
       "      <td>OAS2_0181_MR2</td>\n",
       "      <td>Demented</td>\n",
       "      <td>2</td>\n",
       "      <td>539</td>\n",
       "      <td>F</td>\n",
       "      <td>R</td>\n",
       "      <td>75</td>\n",
       "      <td>12</td>\n",
       "      <td>NaN</td>\n",
       "      <td>NaN</td>\n",
       "      <td>1.0</td>\n",
       "      <td>1169</td>\n",
       "      <td>0.742</td>\n",
       "      <td>1.501</td>\n",
       "    </tr>\n",
       "    <tr>\n",
       "      <th>358</th>\n",
       "      <td>OAS2_0181</td>\n",
       "      <td>OAS2_0181_MR3</td>\n",
       "      <td>Demented</td>\n",
       "      <td>3</td>\n",
       "      <td>1107</td>\n",
       "      <td>F</td>\n",
       "      <td>R</td>\n",
       "      <td>77</td>\n",
       "      <td>12</td>\n",
       "      <td>NaN</td>\n",
       "      <td>NaN</td>\n",
       "      <td>1.0</td>\n",
       "      <td>1159</td>\n",
       "      <td>0.733</td>\n",
       "      <td>1.515</td>\n",
       "    </tr>\n",
       "  </tbody>\n",
       "</table>\n",
       "</div>"
      ],
      "text/plain": [
       "    Subject ID         MRI ID     Group  Visit  MR Delay M/F Hand  Age  EDUC  \\\n",
       "357  OAS2_0181  OAS2_0181_MR2  Demented      2       539   F    R   75    12   \n",
       "358  OAS2_0181  OAS2_0181_MR3  Demented      3      1107   F    R   77    12   \n",
       "\n",
       "     SES  MMSE  CDR  eTIV   nWBV    ASF  \n",
       "357  NaN   NaN  1.0  1169  0.742  1.501  \n",
       "358  NaN   NaN  1.0  1159  0.733  1.515  "
      ]
     },
     "execution_count": 107,
     "metadata": {},
     "output_type": "execute_result"
    }
   ],
   "source": [
    "long[long['MMSE'].isna()] # los datos faltantes corresponden a dos personas con demencia, luego"
   ]
  },
  {
   "cell_type": "code",
   "execution_count": 102,
   "metadata": {},
   "outputs": [
    {
     "data": {
      "text/plain": [
       "<seaborn.axisgrid.FacetGrid at 0x7f6992a9f4f0>"
      ]
     },
     "execution_count": 102,
     "metadata": {},
     "output_type": "execute_result"
    },
    {
     "data": {
      "image/png": "[encoded data removed]",
      "text/plain": [
       "<Figure size 466.875x360 with 1 Axes>"
      ]
     },
     "metadata": {
      "needs_background": "light"
     },
     "output_type": "display_data"
    }
   ],
   "source": [
    "sns.displot(long, x='MMSE', hue='Group', kind='kde')"
   ]
  },
  {
   "cell_type": "code",
   "execution_count": 134,
   "metadata": {},
   "outputs": [
    {
     "data": {
      "text/html": [
       "<div>\n",
       "<style scoped>\n",
       "    .dataframe tbody tr th:only-of-type {\n",
       "        vertical-align: middle;\n",
       "    }\n",
       "\n",
       "    .dataframe tbody tr th {\n",
       "        vertical-align: top;\n",
       "    }\n",
       "\n",
       "    .dataframe thead th {\n",
       "        text-align: right;\n",
       "    }\n",
       "</style>\n",
       "<table border=\"1\" class=\"dataframe\">\n",
       "  <thead>\n",
       "    <tr style=\"text-align: right;\">\n",
       "      <th></th>\n",
       "      <th>Subject ID</th>\n",
       "      <th>MRI ID</th>\n",
       "      <th>Group</th>\n",
       "      <th>Visit</th>\n",
       "      <th>MR Delay</th>\n",
       "      <th>M/F</th>\n",
       "      <th>Hand</th>\n",
       "      <th>Age</th>\n",
       "      <th>EDUC</th>\n",
       "      <th>SES</th>\n",
       "      <th>MMSE</th>\n",
       "      <th>CDR</th>\n",
       "      <th>eTIV</th>\n",
       "      <th>nWBV</th>\n",
       "      <th>ASF</th>\n",
       "    </tr>\n",
       "  </thead>\n",
       "  <tbody>\n",
       "    <tr>\n",
       "      <th>357</th>\n",
       "      <td>OAS2_0181</td>\n",
       "      <td>OAS2_0181_MR2</td>\n",
       "      <td>Demented</td>\n",
       "      <td>2</td>\n",
       "      <td>539</td>\n",
       "      <td>F</td>\n",
       "      <td>R</td>\n",
       "      <td>75</td>\n",
       "      <td>12</td>\n",
       "      <td>2.771654</td>\n",
       "      <td>24.513889</td>\n",
       "      <td>1.0</td>\n",
       "      <td>1169</td>\n",
       "      <td>0.742</td>\n",
       "      <td>1.501</td>\n",
       "    </tr>\n",
       "    <tr>\n",
       "      <th>358</th>\n",
       "      <td>OAS2_0181</td>\n",
       "      <td>OAS2_0181_MR3</td>\n",
       "      <td>Demented</td>\n",
       "      <td>3</td>\n",
       "      <td>1107</td>\n",
       "      <td>F</td>\n",
       "      <td>R</td>\n",
       "      <td>77</td>\n",
       "      <td>12</td>\n",
       "      <td>2.771654</td>\n",
       "      <td>24.513889</td>\n",
       "      <td>1.0</td>\n",
       "      <td>1159</td>\n",
       "      <td>0.733</td>\n",
       "      <td>1.515</td>\n",
       "    </tr>\n",
       "  </tbody>\n",
       "</table>\n",
       "</div>"
      ],
      "text/plain": [
       "    Subject ID         MRI ID     Group  Visit  MR Delay M/F Hand  Age  EDUC  \\\n",
       "357  OAS2_0181  OAS2_0181_MR2  Demented      2       539   F    R   75    12   \n",
       "358  OAS2_0181  OAS2_0181_MR3  Demented      3      1107   F    R   77    12   \n",
       "\n",
       "          SES       MMSE  CDR  eTIV   nWBV    ASF  \n",
       "357  2.771654  24.513889  1.0  1169  0.742  1.501  \n",
       "358  2.771654  24.513889  1.0  1159  0.733  1.515  "
      ]
     },
     "execution_count": 134,
     "metadata": {},
     "output_type": "execute_result"
    }
   ],
   "source": [
    "demented = long[long['Group'] == 'Demented']\n",
    "long_no_nan_mean = long.fillna(demented.mean())\n",
    "long_no_nan_mean[long['MMSE'].isna()]"
   ]
  },
  {
   "cell_type": "markdown",
   "metadata": {},
   "source": [
    "Con el metodo `.fillna()` aplicaremos la funcion a cada uno de los valores faltante. En caso que solo quisieramos modificar una de las columnas (en este caso `MMSE`):"
   ]
  },
  {
   "cell_type": "code",
   "execution_count": 138,
   "metadata": {},
   "outputs": [
    {
     "data": {
      "text/html": [
       "<div>\n",
       "<style scoped>\n",
       "    .dataframe tbody tr th:only-of-type {\n",
       "        vertical-align: middle;\n",
       "    }\n",
       "\n",
       "    .dataframe tbody tr th {\n",
       "        vertical-align: top;\n",
       "    }\n",
       "\n",
       "    .dataframe thead th {\n",
       "        text-align: right;\n",
       "    }\n",
       "</style>\n",
       "<table border=\"1\" class=\"dataframe\">\n",
       "  <thead>\n",
       "    <tr style=\"text-align: right;\">\n",
       "      <th></th>\n",
       "      <th>Subject ID</th>\n",
       "      <th>MRI ID</th>\n",
       "      <th>Group</th>\n",
       "      <th>Visit</th>\n",
       "      <th>MR Delay</th>\n",
       "      <th>M/F</th>\n",
       "      <th>Hand</th>\n",
       "      <th>Age</th>\n",
       "      <th>EDUC</th>\n",
       "      <th>SES</th>\n",
       "      <th>MMSE</th>\n",
       "      <th>CDR</th>\n",
       "      <th>eTIV</th>\n",
       "      <th>nWBV</th>\n",
       "      <th>ASF</th>\n",
       "    </tr>\n",
       "  </thead>\n",
       "  <tbody>\n",
       "    <tr>\n",
       "      <th>357</th>\n",
       "      <td>OAS2_0181</td>\n",
       "      <td>OAS2_0181_MR2</td>\n",
       "      <td>Demented</td>\n",
       "      <td>2</td>\n",
       "      <td>539</td>\n",
       "      <td>F</td>\n",
       "      <td>R</td>\n",
       "      <td>75</td>\n",
       "      <td>12</td>\n",
       "      <td>NaN</td>\n",
       "      <td>24.513889</td>\n",
       "      <td>1.0</td>\n",
       "      <td>1169</td>\n",
       "      <td>0.742</td>\n",
       "      <td>1.501</td>\n",
       "    </tr>\n",
       "    <tr>\n",
       "      <th>358</th>\n",
       "      <td>OAS2_0181</td>\n",
       "      <td>OAS2_0181_MR3</td>\n",
       "      <td>Demented</td>\n",
       "      <td>3</td>\n",
       "      <td>1107</td>\n",
       "      <td>F</td>\n",
       "      <td>R</td>\n",
       "      <td>77</td>\n",
       "      <td>12</td>\n",
       "      <td>NaN</td>\n",
       "      <td>24.513889</td>\n",
       "      <td>1.0</td>\n",
       "      <td>1159</td>\n",
       "      <td>0.733</td>\n",
       "      <td>1.515</td>\n",
       "    </tr>\n",
       "  </tbody>\n",
       "</table>\n",
       "</div>"
      ],
      "text/plain": [
       "    Subject ID         MRI ID     Group  Visit  MR Delay M/F Hand  Age  EDUC  \\\n",
       "357  OAS2_0181  OAS2_0181_MR2  Demented      2       539   F    R   75    12   \n",
       "358  OAS2_0181  OAS2_0181_MR3  Demented      3      1107   F    R   77    12   \n",
       "\n",
       "     SES       MMSE  CDR  eTIV   nWBV    ASF  \n",
       "357  NaN  24.513889  1.0  1169  0.742  1.501  \n",
       "358  NaN  24.513889  1.0  1159  0.733  1.515  "
      ]
     },
     "execution_count": 138,
     "metadata": {},
     "output_type": "execute_result"
    }
   ],
   "source": [
    "long_no_nan_mmse = long.replace({'MMSE': {np.nan: demented['MMSE'].mean()} })\n",
    "long_no_nan_mmse[long['MMSE'].isna()]"
   ]
  },
  {
   "cell_type": "markdown",
   "metadata": {},
   "source": [
    "## Ejemplo t-Test "
   ]
  },
  {
   "cell_type": "markdown",
   "metadata": {},
   "source": [
    "La **prueba t de Student** no permite estudiar si la diferencia observada entre las medias de dos grupos es significativa. El **puntaje t** indica la razon entre la diferencia entre dos grupos y dentro de cada grupo. \n",
    "> Mientras mas alto el puntaje t, mayor es la diferencia entre los grupos. De igual forma, un puntaje bajo indica mayor similaridad entre grupos.\n",
    "\n",
    "Ahora estudiemos el nivel de significancia de las variables medidas anteriormente. Sin aplicar un algoritmo de clasificacion, podriamos aproximarnos a **entender que variable es mas importante con respecto a una variable objetivo**. Por ejemplo, ver si existe alguna dependencia que condicione el valor de `CDR`"
   ]
  },
  {
   "cell_type": "markdown",
   "metadata": {},
   "source": [
    "#### Supuestos\n",
    "\n",
    "- Las poblaciones deben seguir una distribucion normal\n",
    "- Varianzas similares\n",
    "- El mismo numero de muestras por clase (idealmente 20+)"
   ]
  },
  {
   "cell_type": "code",
   "execution_count": 224,
   "metadata": {},
   "outputs": [],
   "source": [
    "grupo_h = long_no_missing[long_no_missing['M/F'] == 'M']['CDR'].sample(n=150)\n",
    "grupo_m = long_no_missing[long_no_missing['M/F'] == 'F']['CDR'].sample(n=150)"
   ]
  },
  {
   "cell_type": "code",
   "execution_count": 225,
   "metadata": {},
   "outputs": [
    {
     "name": "stdout",
     "output_type": "stream",
     "text": [
      "std_h: 0.13 - std_m: 0.13\n",
      "std_h: 150.00 - std_m: 150.00\n"
     ]
    }
   ],
   "source": [
    "print('std_h: {:.2f} - std_m: {:.2f}'.format(np.var(grupo_h), np.var(grupo_m)))\n",
    "print('std_h: {:.2f} - std_m: {:.2f}'.format(grupo_h.size, grupo_m.size))"
   ]
  },
  {
   "cell_type": "markdown",
   "metadata": {},
   "source": [
    "#### Hipotesis\n",
    "\n",
    "- H0: El `CDR` medio es igual para hombres y mujeres\n",
    "- H1: El `CDR` medio es distinto para hombres y mujeres\n",
    "\n",
    "#### Intervalo de Confianza y grados de libertad\n",
    "El indice de confianza $\\alpha$ usualmente es 0.05. Esto quiere decir que **hay un 95% de confianza que la conclusion del test sea valida**"
   ]
  },
  {
   "cell_type": "markdown",
   "metadata": {},
   "source": [
    "<img width=500, height=400 src=\"images/confidence_interval_95.png\">"
   ]
  },
  {
   "cell_type": "code",
   "execution_count": 235,
   "metadata": {},
   "outputs": [],
   "source": [
    "alpha = 0.05"
   ]
  },
  {
   "cell_type": "markdown",
   "metadata": {},
   "source": [
    "Los grados de libertad se calculan como: \n",
    "<center>\n",
    "    $df = n_x + n_y - 2$\n",
    "</center><br>\n",
    "donde $df$ son los grados de libertad y $n_x$, $n_x$ es la cantidad de muestras para el grupo $x$ e $y$ respectivamente"
   ]
  },
  {
   "cell_type": "markdown",
   "metadata": {},
   "source": [
    "#### Calculo del estadistico t"
   ]
  },
  {
   "cell_type": "markdown",
   "metadata": {},
   "source": [
    "<center>$\n",
    "    \\text{t-value} = \\frac{|\\hat{x_1} - \\hat{x_2}|}{\\text{SED}}\\text{, donde SED} = \\sqrt{\\frac{S_1^2}{n_1} + \\frac{S_2^2}{n_2}}\n",
    "$</center>"
   ]
  },
  {
   "cell_type": "code",
   "execution_count": 227,
   "metadata": {},
   "outputs": [],
   "source": [
    "Nh = grupo_h.size\n",
    "mean_h = grupo_h.mean()\n",
    "std_h = grupo_h.std()\n",
    "# ================\n",
    "Nm = grupo_m.size\n",
    "mean_m = grupo_m.mean()\n",
    "std_m = grupo_m.std()"
   ]
  },
  {
   "cell_type": "code",
   "execution_count": 228,
   "metadata": {},
   "outputs": [],
   "source": [
    "SED = np.sqrt(std_h**2/Nh + std_m**2/Nm) # ERROR ENTRE DESVIACIONES \n",
    "t = (mean_h - mean_m)/SED # Puntaje t"
   ]
  },
  {
   "cell_type": "markdown",
   "metadata": {},
   "source": [
    "#### Comparando con el puntaje t critico \n",
    "Para hacer esto usualmente ocupamos una tabla el cual muestra el puntaje fijo dado los grados de libertad y valores de $\\alpha$. Sin embargo, podemos utilizar el paquete de python `scipy` nos permite calcular el valor rapidamente: "
   ]
  },
  {
   "cell_type": "code",
   "execution_count": 229,
   "metadata": {},
   "outputs": [],
   "source": [
    "from scipy import stats"
   ]
  },
  {
   "cell_type": "code",
   "execution_count": 230,
   "metadata": {},
   "outputs": [],
   "source": [
    "df = 2*long_no_missing.size - 2\n",
    "p = 1 - stats.t.cdf(t, df=df) # p-value despues de comparar con \"t\" calculado"
   ]
  },
  {
   "cell_type": "code",
   "execution_count": 231,
   "metadata": {},
   "outputs": [
    {
     "name": "stdout",
     "output_type": "stream",
     "text": [
      "t = 3.6175\n",
      "p = 0.0003\n"
     ]
    }
   ],
   "source": [
    "print(\"t = {:.4f}\".format(t))\n",
    "print(\"p = {:.4f}\".format(2*p))"
   ]
  },
  {
   "cell_type": "markdown",
   "metadata": {},
   "source": [
    "Tambien podemos hacer todo el proceso anterior utilizando la funcion `ttest_ind()` de `stats`"
   ]
  },
  {
   "cell_type": "code",
   "execution_count": 232,
   "metadata": {},
   "outputs": [
    {
     "name": "stdout",
     "output_type": "stream",
     "text": [
      "t = 3.6175\n",
      "p = 0.0003\n"
     ]
    }
   ],
   "source": [
    "t2, p2 = stats.ttest_ind(grupo_h,grupo_m)\n",
    "print(\"t = {:.4f}\".format(t2))\n",
    "print(\"p = {:.4f}\".format(p2))"
   ]
  },
  {
   "cell_type": "markdown",
   "metadata": {},
   "source": [
    "Dado los resultados del test se puede concluir:\n",
    "- Si el **estadistico t es mayor que el valor critico**, entonces concluimos que **hay diferencia significativa entre las dos poblaciones**. En otras palabras <u>rechazamos</u> la hipotesis nula\n",
    "- Si el **estadistico t es menor que el valor critico**, entonces **no hay una diferencia significativa entre los dos grupos**. En otras palabras <u>no podemos rechazar la hipotesis nula</u> y debemos aceptar la otra hipotesis\n",
    "\n",
    "En este caso tenemos el *p-value* que es la probabilidad de aceptacion de nuestra hipotesis nula"
   ]
  },
  {
   "cell_type": "code",
   "execution_count": 233,
   "metadata": {},
   "outputs": [
    {
     "name": "stdout",
     "output_type": "stream",
     "text": [
      "Las medias no tienen una diferencia significativa\n"
     ]
    }
   ],
   "source": [
    "reject = p > alpha\n",
    "\n",
    "str_1 = 'Las medias no tienen una diferencia significativa'\n",
    "str_2 = 'Las medias tienen una diferencia significativa (Rechazamos hipotesis nula)'\n",
    "\n",
    "print(str_1) if not reject else print(str_2)"
   ]
  },
  {
   "cell_type": "code",
   "execution_count": null,
   "metadata": {},
   "outputs": [],
   "source": []
  },
  {
   "cell_type": "code",
   "execution_count": null,
   "metadata": {},
   "outputs": [],
   "source": []
  }
 ],
 "metadata": {
  "kernelspec": {
   "display_name": "Python 3",
   "language": "python",
   "name": "python3"
  },
  "language_info": {
   "codemirror_mode": {
    "name": "ipython",
    "version": 3
   },
   "file_extension": ".py",
   "mimetype": "text/x-python",
   "name": "python",
   "nbconvert_exporter": "python",
   "pygments_lexer": "ipython3",
   "version": "3.8.5"
  }
 },
 "nbformat": 4,
 "nbformat_minor": 4
}
