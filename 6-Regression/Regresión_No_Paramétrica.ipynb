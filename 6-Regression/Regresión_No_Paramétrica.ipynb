{
  "nbformat": 4,
  "nbformat_minor": 0,
  "metadata": {
    "kernelspec": {
      "display_name": "Python 3",
      "language": "python",
      "name": "python3"
    },
    "language_info": {
      "codemirror_mode": {
        "name": "ipython",
        "version": 3
      },
      "file_extension": ".py",
      "mimetype": "text/x-python",
      "name": "python",
      "nbconvert_exporter": "python",
      "pygments_lexer": "ipython3",
      "version": "3.7.3"
    },
    "colab": {
      "name": "Regresión No Paramétrica.ipynb",
      "provenance": []
    }
  },
  "cells": [
    {
      "cell_type": "markdown",
      "metadata": {
        "id": "5Mu0cNqKeVaS"
      },
      "source": [
        "# Regresión no Paramétrica\n",
        "\n",
        "En regresión lineal teníamos el supuesto de que el modelo era lineal en término de sus parámetros.\n",
        "\n",
        "$f(\\boldsymbol{x} | \\boldsymbol{\\theta}) = \\sum_{p = 1}^{k} \\theta_pg_p (\\boldsymbol{x})$\n",
        "\n",
        "En regresión no paramétrica se relaja el supuesto de linealidad, por lo que la \"forma\" del modelo se construye a través de los datos.\n",
        "\n",
        "$y = g(x) + \\epsilon$ \n"
      ]
    },
    {
      "cell_type": "code",
      "metadata": {
        "id": "DLdg2wfJeVaW"
      },
      "source": [
        "import sys\n",
        "import numpy as np\n",
        "import pylab as pl\n",
        "import pandas as pd\n",
        "import matplotlib.pyplot as plt"
      ],
      "execution_count": null,
      "outputs": []
    },
    {
      "cell_type": "code",
      "metadata": {
        "id": "jyBwa8qQGklz",
        "colab": {
          "base_uri": "https://localhost:8080/",
          "height": 358
        },
        "outputId": "84c0f459-122b-4c54-b410-13cca29078d5"
      },
      "source": [
        "data = pd.read_csv('Notas_1er_anho.csv', sep=',')\n",
        "display( data.head() )\n",
        "print(data.dtypes)"
      ],
      "execution_count": null,
      "outputs": [
        {
          "output_type": "display_data",
          "data": {
            "text/html": [
              "<div>\n",
              "<style scoped>\n",
              "    .dataframe tbody tr th:only-of-type {\n",
              "        vertical-align: middle;\n",
              "    }\n",
              "\n",
              "    .dataframe tbody tr th {\n",
              "        vertical-align: top;\n",
              "    }\n",
              "\n",
              "    .dataframe thead th {\n",
              "        text-align: right;\n",
              "    }\n",
              "</style>\n",
              "<table border=\"1\" class=\"dataframe\">\n",
              "  <thead>\n",
              "    <tr style=\"text-align: right;\">\n",
              "      <th></th>\n",
              "      <th>Matemática</th>\n",
              "      <th>Lenguaje</th>\n",
              "      <th>Ciencias</th>\n",
              "      <th>NEM</th>\n",
              "      <th>Colegio_Egreso</th>\n",
              "      <th>Sexo</th>\n",
              "      <th>Nota</th>\n",
              "      <th>asi_Cod</th>\n",
              "    </tr>\n",
              "  </thead>\n",
              "  <tbody>\n",
              "    <tr>\n",
              "      <th>0</th>\n",
              "      <td>626</td>\n",
              "      <td>607</td>\n",
              "      <td>578</td>\n",
              "      <td>660</td>\n",
              "      <td>Subvencionado</td>\n",
              "      <td>F</td>\n",
              "      <td>1.0</td>\n",
              "      <td>530024</td>\n",
              "    </tr>\n",
              "    <tr>\n",
              "      <th>1</th>\n",
              "      <td>705</td>\n",
              "      <td>651</td>\n",
              "      <td>638</td>\n",
              "      <td>641</td>\n",
              "      <td>Subvencionado</td>\n",
              "      <td>M</td>\n",
              "      <td>4.7</td>\n",
              "      <td>510145</td>\n",
              "    </tr>\n",
              "    <tr>\n",
              "      <th>2</th>\n",
              "      <td>590</td>\n",
              "      <td>581</td>\n",
              "      <td>451</td>\n",
              "      <td>641</td>\n",
              "      <td>Municipalizado</td>\n",
              "      <td>M</td>\n",
              "      <td>2.8</td>\n",
              "      <td>520145</td>\n",
              "    </tr>\n",
              "    <tr>\n",
              "      <th>3</th>\n",
              "      <td>700</td>\n",
              "      <td>710</td>\n",
              "      <td>588</td>\n",
              "      <td>721</td>\n",
              "      <td>Subvencionado</td>\n",
              "      <td>F</td>\n",
              "      <td>3.6</td>\n",
              "      <td>520145</td>\n",
              "    </tr>\n",
              "    <tr>\n",
              "      <th>4</th>\n",
              "      <td>693</td>\n",
              "      <td>645</td>\n",
              "      <td>575</td>\n",
              "      <td>641</td>\n",
              "      <td>Subvencionado</td>\n",
              "      <td>M</td>\n",
              "      <td>4.0</td>\n",
              "      <td>520145</td>\n",
              "    </tr>\n",
              "  </tbody>\n",
              "</table>\n",
              "</div>"
            ],
            "text/plain": [
              "   Matemática  Lenguaje  Ciencias  NEM  Colegio_Egreso Sexo  Nota  asi_Cod\n",
              "0         626       607       578  660   Subvencionado    F   1.0   530024\n",
              "1         705       651       638  641   Subvencionado    M   4.7   510145\n",
              "2         590       581       451  641  Municipalizado    M   2.8   520145\n",
              "3         700       710       588  721   Subvencionado    F   3.6   520145\n",
              "4         693       645       575  641   Subvencionado    M   4.0   520145"
            ]
          },
          "metadata": {
            "tags": []
          }
        },
        {
          "output_type": "stream",
          "text": [
            "Matemática          int64\n",
            "Lenguaje            int64\n",
            "Ciencias            int64\n",
            "NEM                 int64\n",
            "Colegio_Egreso     object\n",
            "Sexo               object\n",
            "Nota              float64\n",
            "asi_Cod             int64\n",
            "dtype: object\n"
          ],
          "name": "stdout"
        }
      ]
    },
    {
      "cell_type": "markdown",
      "metadata": {
        "id": "G9F0UELSEkZO"
      },
      "source": [
        "¡Tenemos datos que no son números!\n",
        "\n",
        "Podemos reemplazarlos con un valor númerico a mano, o de forma automatica ocupando encodings (y un transformer de columnas) o la función \"get_dummies\" de pandas."
      ]
    },
    {
      "cell_type": "markdown",
      "metadata": {
        "id": "rJhO_9CUFImP"
      },
      "source": [
        "Mostremos que pasa al usar la función get_dummies."
      ]
    },
    {
      "cell_type": "code",
      "metadata": {
        "id": "8_hf3HCzFEXo",
        "colab": {
          "base_uri": "https://localhost:8080/",
          "height": 222
        },
        "outputId": "e5757599-d452-4507-f342-21611cec9336"
      },
      "source": [
        "nuevo_df = pd.get_dummies(data)\n",
        "nuevo_df.head()"
      ],
      "execution_count": null,
      "outputs": [
        {
          "output_type": "execute_result",
          "data": {
            "text/html": [
              "<div>\n",
              "<style scoped>\n",
              "    .dataframe tbody tr th:only-of-type {\n",
              "        vertical-align: middle;\n",
              "    }\n",
              "\n",
              "    .dataframe tbody tr th {\n",
              "        vertical-align: top;\n",
              "    }\n",
              "\n",
              "    .dataframe thead th {\n",
              "        text-align: right;\n",
              "    }\n",
              "</style>\n",
              "<table border=\"1\" class=\"dataframe\">\n",
              "  <thead>\n",
              "    <tr style=\"text-align: right;\">\n",
              "      <th></th>\n",
              "      <th>Matemática</th>\n",
              "      <th>Lenguaje</th>\n",
              "      <th>Ciencias</th>\n",
              "      <th>NEM</th>\n",
              "      <th>Nota</th>\n",
              "      <th>asi_Cod</th>\n",
              "      <th>Colegio_Egreso_Municipalizado</th>\n",
              "      <th>Colegio_Egreso_Privado</th>\n",
              "      <th>Colegio_Egreso_Subvencionado</th>\n",
              "      <th>Sexo_F</th>\n",
              "      <th>Sexo_M</th>\n",
              "    </tr>\n",
              "  </thead>\n",
              "  <tbody>\n",
              "    <tr>\n",
              "      <th>0</th>\n",
              "      <td>626</td>\n",
              "      <td>607</td>\n",
              "      <td>578</td>\n",
              "      <td>660</td>\n",
              "      <td>1.0</td>\n",
              "      <td>530024</td>\n",
              "      <td>0</td>\n",
              "      <td>0</td>\n",
              "      <td>1</td>\n",
              "      <td>1</td>\n",
              "      <td>0</td>\n",
              "    </tr>\n",
              "    <tr>\n",
              "      <th>1</th>\n",
              "      <td>705</td>\n",
              "      <td>651</td>\n",
              "      <td>638</td>\n",
              "      <td>641</td>\n",
              "      <td>4.7</td>\n",
              "      <td>510145</td>\n",
              "      <td>0</td>\n",
              "      <td>0</td>\n",
              "      <td>1</td>\n",
              "      <td>0</td>\n",
              "      <td>1</td>\n",
              "    </tr>\n",
              "    <tr>\n",
              "      <th>2</th>\n",
              "      <td>590</td>\n",
              "      <td>581</td>\n",
              "      <td>451</td>\n",
              "      <td>641</td>\n",
              "      <td>2.8</td>\n",
              "      <td>520145</td>\n",
              "      <td>1</td>\n",
              "      <td>0</td>\n",
              "      <td>0</td>\n",
              "      <td>0</td>\n",
              "      <td>1</td>\n",
              "    </tr>\n",
              "    <tr>\n",
              "      <th>3</th>\n",
              "      <td>700</td>\n",
              "      <td>710</td>\n",
              "      <td>588</td>\n",
              "      <td>721</td>\n",
              "      <td>3.6</td>\n",
              "      <td>520145</td>\n",
              "      <td>0</td>\n",
              "      <td>0</td>\n",
              "      <td>1</td>\n",
              "      <td>1</td>\n",
              "      <td>0</td>\n",
              "    </tr>\n",
              "    <tr>\n",
              "      <th>4</th>\n",
              "      <td>693</td>\n",
              "      <td>645</td>\n",
              "      <td>575</td>\n",
              "      <td>641</td>\n",
              "      <td>4.0</td>\n",
              "      <td>520145</td>\n",
              "      <td>0</td>\n",
              "      <td>0</td>\n",
              "      <td>1</td>\n",
              "      <td>0</td>\n",
              "      <td>1</td>\n",
              "    </tr>\n",
              "  </tbody>\n",
              "</table>\n",
              "</div>"
            ],
            "text/plain": [
              "   Matemática  Lenguaje  Ciencias  ...  Colegio_Egreso_Subvencionado  Sexo_F  Sexo_M\n",
              "0         626       607       578  ...                             1       1       0\n",
              "1         705       651       638  ...                             1       0       1\n",
              "2         590       581       451  ...                             0       0       1\n",
              "3         700       710       588  ...                             1       1       0\n",
              "4         693       645       575  ...                             1       0       1\n",
              "\n",
              "[5 rows x 11 columns]"
            ]
          },
          "metadata": {
            "tags": []
          },
          "execution_count": 5
        }
      ]
    },
    {
      "cell_type": "markdown",
      "metadata": {
        "id": "Y-8m33X5Fb8q"
      },
      "source": [
        "Reemplacemos a mano"
      ]
    },
    {
      "cell_type": "code",
      "metadata": {
        "id": "Dk8F4gAQFbBc",
        "colab": {
          "base_uri": "https://localhost:8080/"
        },
        "outputId": "288a990b-ad13-4c5f-ac46-feb308ef6547"
      },
      "source": [
        "dict_colegio = dict()\n",
        "dict_sexo = {}\n",
        "for i in range(len(data.Colegio_Egreso.unique())):\n",
        "  dict_colegio[data.Colegio_Egreso.unique()[i]] = i+1\n",
        "\n",
        "for i in range(len(data.Sexo.unique())):\n",
        "  dict_sexo[data.Sexo.unique()[i]] = i+1\n",
        "\n",
        "dict_total = {**dict_colegio, **dict_sexo}\n",
        "dict_total"
      ],
      "execution_count": null,
      "outputs": [
        {
          "output_type": "execute_result",
          "data": {
            "text/plain": [
              "{'F': 1, 'M': 2, 'Municipalizado': 2, 'Privado': 3, 'Subvencionado': 1}"
            ]
          },
          "metadata": {
            "tags": []
          },
          "execution_count": 6
        }
      ]
    },
    {
      "cell_type": "code",
      "metadata": {
        "id": "D1GLKGmcGU1E",
        "colab": {
          "base_uri": "https://localhost:8080/",
          "height": 202
        },
        "outputId": "676fa62b-a259-4939-a9cc-8fff0b40ea40"
      },
      "source": [
        "data = data.replace(dict_total)\n",
        "data.head()"
      ],
      "execution_count": null,
      "outputs": [
        {
          "output_type": "execute_result",
          "data": {
            "text/html": [
              "<div>\n",
              "<style scoped>\n",
              "    .dataframe tbody tr th:only-of-type {\n",
              "        vertical-align: middle;\n",
              "    }\n",
              "\n",
              "    .dataframe tbody tr th {\n",
              "        vertical-align: top;\n",
              "    }\n",
              "\n",
              "    .dataframe thead th {\n",
              "        text-align: right;\n",
              "    }\n",
              "</style>\n",
              "<table border=\"1\" class=\"dataframe\">\n",
              "  <thead>\n",
              "    <tr style=\"text-align: right;\">\n",
              "      <th></th>\n",
              "      <th>Matemática</th>\n",
              "      <th>Lenguaje</th>\n",
              "      <th>Ciencias</th>\n",
              "      <th>NEM</th>\n",
              "      <th>Colegio_Egreso</th>\n",
              "      <th>Sexo</th>\n",
              "      <th>Nota</th>\n",
              "      <th>asi_Cod</th>\n",
              "    </tr>\n",
              "  </thead>\n",
              "  <tbody>\n",
              "    <tr>\n",
              "      <th>0</th>\n",
              "      <td>626</td>\n",
              "      <td>607</td>\n",
              "      <td>578</td>\n",
              "      <td>660</td>\n",
              "      <td>1</td>\n",
              "      <td>1</td>\n",
              "      <td>1.0</td>\n",
              "      <td>530024</td>\n",
              "    </tr>\n",
              "    <tr>\n",
              "      <th>1</th>\n",
              "      <td>705</td>\n",
              "      <td>651</td>\n",
              "      <td>638</td>\n",
              "      <td>641</td>\n",
              "      <td>1</td>\n",
              "      <td>2</td>\n",
              "      <td>4.7</td>\n",
              "      <td>510145</td>\n",
              "    </tr>\n",
              "    <tr>\n",
              "      <th>2</th>\n",
              "      <td>590</td>\n",
              "      <td>581</td>\n",
              "      <td>451</td>\n",
              "      <td>641</td>\n",
              "      <td>2</td>\n",
              "      <td>2</td>\n",
              "      <td>2.8</td>\n",
              "      <td>520145</td>\n",
              "    </tr>\n",
              "    <tr>\n",
              "      <th>3</th>\n",
              "      <td>700</td>\n",
              "      <td>710</td>\n",
              "      <td>588</td>\n",
              "      <td>721</td>\n",
              "      <td>1</td>\n",
              "      <td>1</td>\n",
              "      <td>3.6</td>\n",
              "      <td>520145</td>\n",
              "    </tr>\n",
              "    <tr>\n",
              "      <th>4</th>\n",
              "      <td>693</td>\n",
              "      <td>645</td>\n",
              "      <td>575</td>\n",
              "      <td>641</td>\n",
              "      <td>1</td>\n",
              "      <td>2</td>\n",
              "      <td>4.0</td>\n",
              "      <td>520145</td>\n",
              "    </tr>\n",
              "  </tbody>\n",
              "</table>\n",
              "</div>"
            ],
            "text/plain": [
              "   Matemática  Lenguaje  Ciencias  NEM  Colegio_Egreso  Sexo  Nota  asi_Cod\n",
              "0         626       607       578  660               1     1   1.0   530024\n",
              "1         705       651       638  641               1     2   4.7   510145\n",
              "2         590       581       451  641               2     2   2.8   520145\n",
              "3         700       710       588  721               1     1   3.6   520145\n",
              "4         693       645       575  641               1     2   4.0   520145"
            ]
          },
          "metadata": {
            "tags": []
          },
          "execution_count": 7
        }
      ]
    },
    {
      "cell_type": "code",
      "metadata": {
        "id": "jnPKAkwiHU5n",
        "colab": {
          "base_uri": "https://localhost:8080/"
        },
        "outputId": "8c9b653f-f226-419f-bef3-50948aed530e"
      },
      "source": [
        "data.columns"
      ],
      "execution_count": null,
      "outputs": [
        {
          "output_type": "execute_result",
          "data": {
            "text/plain": [
              "Index(['Matemática', 'Lenguaje', 'Ciencias', 'NEM', 'Colegio_Egreso', 'Sexo',\n",
              "       'Nota', 'asi_Cod'],\n",
              "      dtype='object')"
            ]
          },
          "metadata": {
            "tags": []
          },
          "execution_count": 8
        }
      ]
    },
    {
      "cell_type": "code",
      "metadata": {
        "id": "KwFf9fwyHGo0"
      },
      "source": [
        "x = data[['Matemática', 'Lenguaje', 'Ciencias', 'NEM', 'Colegio_Egreso', 'Sexo', 'asi_Cod']]\n",
        "y = data['Nota'] "
      ],
      "execution_count": null,
      "outputs": []
    },
    {
      "cell_type": "code",
      "metadata": {
        "id": "WFF9aeQiHq36"
      },
      "source": [
        "from sklearn import preprocessing\n",
        "from sklearn.model_selection import train_test_split\n",
        "\n",
        "#x = preprocessing.scale(x.values)\n",
        "\n",
        "#dividimos en conjunto de entrenamiento y prueba\n",
        "X_train, X_test, y_train, y_test = train_test_split(\n",
        "    x.values, y.values, test_size=0.3, random_state=10)\n"
      ],
      "execution_count": null,
      "outputs": []
    },
    {
      "cell_type": "markdown",
      "metadata": {
        "id": "K-awv0HVeVan"
      },
      "source": [
        "### Regresión K-NN\n",
        "\n",
        "El algoritmo de K vecinos más cercanos (K-NN) es un método no paramétrico utilizado para clasificación y regresión.\n",
        "* Dado un $\\boldsymbol{x} $, calculamos sus $ K $ vecinos más cercanos.\n",
        "* El valor de $\\hat{f} (\\boldsymbol{x}) $ se calcula como la media de los valores $ y_k $ de los $ K $ puntos de datos más cercanos.\n",
        "\\begin{equation}\n",
        "\\hat{f}(\\boldsymbol{x}) = \\frac{1}{K}\\sum_{k\\in N_K(\\boldsymbol{x})}y_k\n",
        "\\end{equation}\n",
        "* Para calcular a los K vecinos mas cercanos se debe utilizar una métrica de distancia.\n",
        "\n",
        "*Documentación : https://scikit-learn.org/stable/modules/generated/sklearn.neighbors.KNeighborsRegressor.html*"
      ]
    },
    {
      "cell_type": "code",
      "metadata": {
        "id": "u4Q90i1jeVan",
        "colab": {
          "base_uri": "https://localhost:8080/",
          "height": 265
        },
        "outputId": "71787d0a-4c96-4f8d-f930-5453202bf15d"
      },
      "source": [
        "from sklearn.neighbors import KNeighborsRegressor\n",
        "from sklearn.metrics import r2_score, mean_squared_error, mean_absolute_error\n",
        "\n",
        "knn = KNeighborsRegressor()\n",
        "knn.fit (X_train, y_train)\n",
        "y_pred = knn.predict(X_test)\n",
        "\n",
        "plt.scatter (X_test[:100, 0], y_pred[:100], label = \"KNN\")\n",
        "plt.scatter (X_test[:100, 0], y_test[:100], label = \"real\")\n",
        "plt.legend()\n",
        "plt.show()\n"
      ],
      "execution_count": null,
      "outputs": [
        {
          "output_type": "display_data",
          "data": {
            "image/png": "[encoded data removed]",
            "text/plain": [
              "<Figure size 432x288 with 1 Axes>"
            ]
          },
          "metadata": {
            "tags": [],
            "needs_background": "light"
          }
        }
      ]
    },
    {
      "cell_type": "code",
      "metadata": {
        "id": "wqoqDxRTKZ4C",
        "colab": {
          "base_uri": "https://localhost:8080/"
        },
        "outputId": "ebcd7d43-a98a-4d17-ab48-e320f717a8ab"
      },
      "source": [
        "print(\"KNN MSE: %.2f\" %mean_squared_error(y_test, y_pred))\n",
        "print(\"KNN R2: %.2f\" %r2_score(y_test, y_pred))"
      ],
      "execution_count": null,
      "outputs": [
        {
          "output_type": "stream",
          "text": [
            "KNN MSE: 1.14\n",
            "KNN R2: 0.41\n"
          ],
          "name": "stdout"
        }
      ]
    },
    {
      "cell_type": "markdown",
      "metadata": {
        "id": "qkjCWuMieVay"
      },
      "source": [
        "Obtengamos el K utilizando validación cruzada"
      ]
    },
    {
      "cell_type": "markdown",
      "metadata": {
        "id": "9oN3FFQmQ4nt"
      },
      "source": [
        "1. Solo variando el K"
      ]
    },
    {
      "cell_type": "code",
      "metadata": {
        "id": "cyeTL3DLQ6fj",
        "colab": {
          "base_uri": "https://localhost:8080/"
        },
        "outputId": "49e109aa-0876-42e0-a099-214ea6fbed49"
      },
      "source": [
        "from sklearn.model_selection import GridSearchCV\n",
        "\n",
        "K_range = np.arange(1, 21)\n",
        "param_grid = dict(n_neighbors = K_range)\n",
        "grid = GridSearchCV (KNeighborsRegressor(), cv = 10, \n",
        "                     param_grid = param_grid, return_train_score = True)\n",
        "grid.fit (X_train, y_train)"
      ],
      "execution_count": null,
      "outputs": [
        {
          "output_type": "execute_result",
          "data": {
            "text/plain": [
              "GridSearchCV(cv=10, error_score=nan,\n",
              "             estimator=KNeighborsRegressor(algorithm='auto', leaf_size=30,\n",
              "                                           metric='minkowski',\n",
              "                                           metric_params=None, n_jobs=None,\n",
              "                                           n_neighbors=5, p=2,\n",
              "                                           weights='uniform'),\n",
              "             iid='deprecated', n_jobs=None,\n",
              "             param_grid={'n_neighbors': array([ 1,  2,  3,  4,  5,  6,  7,  8,  9, 10, 11, 12, 13, 14, 15, 16, 17,\n",
              "       18, 19, 20])},\n",
              "             pre_dispatch='2*n_jobs', refit=True, return_train_score=True,\n",
              "             scoring=None, verbose=0)"
            ]
          },
          "metadata": {
            "tags": []
          },
          "execution_count": 13
        }
      ]
    },
    {
      "cell_type": "code",
      "metadata": {
        "id": "rLOeuSjsQ-rd",
        "colab": {
          "base_uri": "https://localhost:8080/",
          "height": 265
        },
        "outputId": "75aa068d-5d66-4879-9bab-5cdcfb98f863"
      },
      "source": [
        "# We extract the mean scores and stdev for each K\n",
        "scores_m_test = grid.cv_results_['mean_test_score']\n",
        "scores_s_test = grid.cv_results_['std_test_score']\n",
        "scores_m_train = grid.cv_results_['mean_train_score']\n",
        "scores_s_train = grid.cv_results_['std_train_score']\n",
        "\n",
        "plt.errorbar (K_range, scores_m_test, yerr = scores_s_test, fmt = '.', label = \"test\")\n",
        "plt.errorbar (K_range+0.1, scores_m_train, yerr = scores_s_train, fmt = '.', label = \"train\")\n",
        "plt.legend(loc = \"best\")\n",
        "plt.show()"
      ],
      "execution_count": null,
      "outputs": [
        {
          "output_type": "display_data",
          "data": {
            "image/png": "[encoded data removed]",
            "text/plain": [
              "<Figure size 432x288 with 1 Axes>"
            ]
          },
          "metadata": {
            "tags": [],
            "needs_background": "light"
          }
        }
      ]
    },
    {
      "cell_type": "code",
      "metadata": {
        "id": "k6mgA_DTRgDr",
        "colab": {
          "base_uri": "https://localhost:8080/"
        },
        "outputId": "b296290f-d859-41b8-e6f6-ce6f960719da"
      },
      "source": [
        "y_pred = grid.best_estimator_.predict(X_test)\n",
        "print(\"KNN MSE: %.2f\" %mean_squared_error(y_test, y_pred))\n",
        "print(\"KNN R2: %.2f\" %r2_score(y_test, y_pred))"
      ],
      "execution_count": null,
      "outputs": [
        {
          "output_type": "stream",
          "text": [
            "KNN MSE: 1.06\n",
            "KNN R2: 0.45\n"
          ],
          "name": "stdout"
        }
      ]
    },
    {
      "cell_type": "code",
      "metadata": {
        "id": "gQcR6P1GRjfZ"
      },
      "source": [
        "knn_ = grid.best_estimator_"
      ],
      "execution_count": null,
      "outputs": []
    },
    {
      "cell_type": "markdown",
      "metadata": {
        "id": "2pmje7E2Ra3a"
      },
      "source": [
        "2. Variando K y \"weights\""
      ]
    },
    {
      "cell_type": "code",
      "metadata": {
        "id": "8ezefJgKeVaz",
        "colab": {
          "base_uri": "https://localhost:8080/"
        },
        "outputId": "4344ba1d-db97-415a-95dd-af646c24e17b"
      },
      "source": [
        "K_range = np.arange(1, 21)\n",
        "pesos = [\"uniform\", \"distance\"]\n",
        "param_grid = dict(n_neighbors = K_range, weights = pesos)\n",
        "grid = GridSearchCV (KNeighborsRegressor(), cv = 10, \n",
        "                     param_grid = param_grid, return_train_score = True)\n",
        "grid.fit (X_train, y_train)"
      ],
      "execution_count": null,
      "outputs": [
        {
          "output_type": "execute_result",
          "data": {
            "text/plain": [
              "GridSearchCV(cv=10, error_score=nan,\n",
              "             estimator=KNeighborsRegressor(algorithm='auto', leaf_size=30,\n",
              "                                           metric='minkowski',\n",
              "                                           metric_params=None, n_jobs=None,\n",
              "                                           n_neighbors=5, p=2,\n",
              "                                           weights='uniform'),\n",
              "             iid='deprecated', n_jobs=None,\n",
              "             param_grid={'n_neighbors': array([ 1,  2,  3,  4,  5,  6,  7,  8,  9, 10, 11, 12, 13, 14, 15, 16, 17,\n",
              "       18, 19, 20]),\n",
              "                         'weights': ['uniform', 'distance']},\n",
              "             pre_dispatch='2*n_jobs', refit=True, return_train_score=True,\n",
              "             scoring=None, verbose=0)"
            ]
          },
          "metadata": {
            "tags": []
          },
          "execution_count": 17
        }
      ]
    },
    {
      "cell_type": "code",
      "metadata": {
        "id": "eZkyGxY1eVa6",
        "colab": {
          "base_uri": "https://localhost:8080/",
          "height": 55
        },
        "outputId": "b900d012-71cf-4961-c1ec-91fd7674852d"
      },
      "source": [
        "# We extract the mean scores and stdev for each K\n",
        "scores_m_test = grid.cv_results_['mean_test_score']\n",
        "scores_s_test = grid.cv_results_['std_test_score']\n",
        "scores_m_train = grid.cv_results_['mean_train_score']\n",
        "scores_s_train = grid.cv_results_['std_train_score']\n",
        "\n",
        "uniform_scores_m_test = []\n",
        "distance_scores_m_test = []\n",
        "uniform_scores_s_test = []\n",
        "distance_scores_s_test = []\n",
        "uniform_scores_m_train = []\n",
        "uniform_scores_s_train = []\n",
        "\n",
        "for i in range(len(K_range)*2):\n",
        "  if(i%2 == 0):\n",
        "    uniform_scores_m_test.append(scores_m_test[i])\n",
        "    uniform_scores_s_test.append(scores_s_test[i])\n",
        "    uniform_scores_m_train.append(scores_m_train[i])\n",
        "    uniform_scores_s_train.append(scores_s_train[i])\n",
        "  else: \n",
        "    distance_scores_m_test.append(scores_m_test[i])\n",
        "    distance_scores_s_test.append(scores_s_test[i])\n",
        "    \n",
        "plt.errorbar (K_range, uniform_scores_m_test, yerr = uniform_scores_s_test, fmt = '.', label = \"u validation\")\n",
        "plt.errorbar (K_range, distance_scores_m_test, yerr = distance_scores_s_test, fmt = '.', label = \"d validation\")\n",
        "plt.errorbar (K_range, uniform_scores_m_train, yerr = uniform_scores_s_train, fmt = '.', label = \"train\")\n",
        "plt.xlabel(\"K\")\n",
        "plt.ylabel(\"R2\")\n",
        "plt.legend(loc = \"best\")\n",
        "plt.show()"
      ],
      "execution_count": null,
      "outputs": [
        {
          "output_type": "display_data",
          "data": {
            "image/png": "[encoded data removed]",
            "text/plain": [
              "<Figure size 432x288 with 1 Axes>"
            ]
          },
          "metadata": {
            "tags": [],
            "needs_background": "light"
          }
        }
      ]
    },
    {
      "cell_type": "code",
      "metadata": {
        "id": "rV4vEf27MDOq",
        "colab": {
          "base_uri": "https://localhost:8080/"
        },
        "outputId": "cb767bdb-f180-4196-930b-91dce828fce6"
      },
      "source": [
        "grid.best_estimator_"
      ],
      "execution_count": null,
      "outputs": [
        {
          "output_type": "execute_result",
          "data": {
            "text/plain": [
              "KNeighborsRegressor(algorithm='auto', leaf_size=30, metric='minkowski',\n",
              "                    metric_params=None, n_jobs=None, n_neighbors=15, p=2,\n",
              "                    weights='distance')"
            ]
          },
          "metadata": {
            "tags": []
          },
          "execution_count": 19
        }
      ]
    },
    {
      "cell_type": "code",
      "metadata": {
        "id": "Czru8xCVR9lF"
      },
      "source": [
        "original = mean_squared_error(y_test, knn_.predict(X_test))\n",
        "nuevo = mean_squared_error(y_test, grid.best_estimator_.predict(X_test))\n",
        "if(nuevo < original):\n",
        "  knn_ = grid.best_estimator_"
      ],
      "execution_count": null,
      "outputs": []
    },
    {
      "cell_type": "code",
      "metadata": {
        "id": "Hj3m0hISeVbG",
        "colab": {
          "base_uri": "https://localhost:8080/",
          "height": 55
        },
        "outputId": "87c3316d-3142-42bc-ba41-f9bc977e0e69"
      },
      "source": [
        "y_grid = knn_.predict(X_test[0:100])\n",
        "\n",
        "plt.scatter(X_test[0:100, 0], y_grid, label = \"KNN\")\n",
        "plt.scatter(X_test[0:100, 0], y_test[0:100], label = \"real\")\n",
        "plt.legend()\n",
        "plt.show()"
      ],
      "execution_count": null,
      "outputs": [
        {
          "output_type": "display_data",
          "data": {
            "image/png": "[encoded data removed]",
            "text/plain": [
              "<Figure size 432x288 with 1 Axes>"
            ]
          },
          "metadata": {
            "tags": [],
            "needs_background": "light"
          }
        }
      ]
    },
    {
      "cell_type": "markdown",
      "metadata": {
        "id": "qg8xeZVVT1YP"
      },
      "source": [
        "### SVM\n",
        "\n",
        "Las máquinas de vectores de soporte o máquinas de vector soporte (del inglés Support Vector Machines, SVM) son un conjunto de algoritmos de aprendizaje supervisado. \n",
        "\n",
        "SVM construye un hiperplano o conjunto de hiperplanos en un espacio de dimensionalidad muy alta (o incluso infinita) que puede ser utilizado en problemas de clasificación o regresión.\n",
        "\n",
        "\n",
        "*Documentación : https://scikit-learn.org/stable/modules/generated/sklearn.svm.SVR.html*"
      ]
    },
    {
      "cell_type": "code",
      "metadata": {
        "id": "FYFssZky8mu2",
        "colab": {
          "base_uri": "https://localhost:8080/",
          "height": 89
        },
        "outputId": "e2805337-5574-48c3-8363-df88bfa38ba3"
      },
      "source": [
        "from sklearn.svm import LinearSVR\n",
        "from sklearn.svm import SVR\n",
        "\n",
        "svr = SVR()\n",
        "svr.fit (X_train, y_train)\n",
        "y_pred = svr.predict(X_test)\n",
        "\n",
        "linear_svr = LinearSVR()\n",
        "linear_svr.fit (X_train, y_train)\n",
        "y_pred_ = linear_svr.predict(X_test)\n",
        "\n",
        "plt.scatter (X_test[:100, 0], y_pred[:100], label = \"SVR\")\n",
        "plt.scatter (X_test[:100, 0], y_test[:100], label = \"real\")\n",
        "plt.legend()\n",
        "plt.show()\n"
      ],
      "execution_count": null,
      "outputs": [
        {
          "output_type": "stream",
          "text": [
            "/usr/local/lib/python3.6/dist-packages/sklearn/svm/_base.py:947: ConvergenceWarning: Liblinear failed to converge, increase the number of iterations.\n",
            "  \"the number of iterations.\", ConvergenceWarning)\n"
          ],
          "name": "stderr"
        },
        {
          "output_type": "display_data",
          "data": {
            "image/png": "[encoded data removed]",
            "text/plain": [
              "<Figure size 432x288 with 1 Axes>"
            ]
          },
          "metadata": {
            "tags": [],
            "needs_background": "light"
          }
        }
      ]
    },
    {
      "cell_type": "code",
      "metadata": {
        "id": "AnAQ_oak802X",
        "colab": {
          "base_uri": "https://localhost:8080/"
        },
        "outputId": "4cfe3b3f-30fd-42df-b97a-e5eee717849a"
      },
      "source": [
        "print(\"SVR MSE: %.2f\" %mean_squared_error(y_test, y_pred))\n",
        "print(\"SVR R2: %.2f\\n\" %r2_score(y_test, y_pred))\n",
        "\n",
        "print(\"LinearSVR MSE: %.2f\" %mean_squared_error(y_test, y_pred_))\n",
        "print(\"LinearSVR R2: %.2f\" %r2_score(y_test, y_pred_))"
      ],
      "execution_count": null,
      "outputs": [
        {
          "output_type": "stream",
          "text": [
            "SVR MSE: 1.98\n",
            "SVR R2: -0.04\n",
            "\n",
            "LinearSVR MSE: 1.91\n",
            "LinearSVR R2: 0.00\n"
          ],
          "name": "stdout"
        }
      ]
    },
    {
      "cell_type": "code",
      "metadata": {
        "id": "mEwbAI2Y84oQ",
        "colab": {
          "base_uri": "https://localhost:8080/"
        },
        "outputId": "5c6bbb79-e44a-4a3e-b726-8e6dca950b6e"
      },
      "source": [
        "kernels = [\"poly\", \"rbf\", \"sigmoid\"]\n",
        "param_grid = dict(kernel = kernels)\n",
        "grid = GridSearchCV (SVR(), cv = 10, \n",
        "                     param_grid = param_grid, return_train_score = True)\n",
        "grid.fit (X_train, y_train)"
      ],
      "execution_count": null,
      "outputs": [
        {
          "output_type": "execute_result",
          "data": {
            "text/plain": [
              "GridSearchCV(cv=10, error_score=nan,\n",
              "             estimator=SVR(C=1.0, cache_size=200, coef0=0.0, degree=3,\n",
              "                           epsilon=0.1, gamma='scale', kernel='rbf',\n",
              "                           max_iter=-1, shrinking=True, tol=0.001,\n",
              "                           verbose=False),\n",
              "             iid='deprecated', n_jobs=None,\n",
              "             param_grid={'kernel': ['poly', 'rbf', 'sigmoid']},\n",
              "             pre_dispatch='2*n_jobs', refit=True, return_train_score=True,\n",
              "             scoring=None, verbose=0)"
            ]
          },
          "metadata": {
            "tags": []
          },
          "execution_count": 24
        }
      ]
    },
    {
      "cell_type": "code",
      "metadata": {
        "id": "5vk_7DGu887O",
        "colab": {
          "base_uri": "https://localhost:8080/",
          "height": 55
        },
        "outputId": "b332b73d-2113-4e2a-fc83-37e7d0c21df9"
      },
      "source": [
        "# We extract the mean scores and stdev for each K\n",
        "scores_m_test = grid.cv_results_['mean_test_score']\n",
        "scores_s_test = grid.cv_results_['std_test_score']\n",
        "scores_m_train = grid.cv_results_['mean_train_score']\n",
        "scores_s_train = grid.cv_results_['std_train_score']\n",
        "\n",
        "plt.errorbar (np.arange(1, len(kernels) +1), scores_m_test, yerr = scores_s_test, fmt = '.', label = \"test\")\n",
        "plt.errorbar (np.arange(1, len(kernels) +1) +0.1, scores_m_train, yerr = scores_s_train, fmt = '.', label = \"train\")\n",
        "plt.legend(loc = \"best\")\n",
        "plt.show()"
      ],
      "execution_count": null,
      "outputs": [
        {
          "output_type": "display_data",
          "data": {
            "image/png": "[encoded data removed]",
            "text/plain": [
              "<Figure size 432x288 with 1 Axes>"
            ]
          },
          "metadata": {
            "tags": [],
            "needs_background": "light"
          }
        }
      ]
    },
    {
      "cell_type": "code",
      "metadata": {
        "id": "MP-kpHS29AyA",
        "colab": {
          "base_uri": "https://localhost:8080/"
        },
        "outputId": "58cf020e-ca2c-4f07-f619-80eb7ce86551"
      },
      "source": [
        "y_pred = grid.best_estimator_.predict(X_test)\n",
        "print(\"SVR MSE: %.2f\" %mean_squared_error(y_test, y_pred))\n",
        "print(\"SVR R2: %.2f\" %r2_score(y_test, y_pred))"
      ],
      "execution_count": null,
      "outputs": [
        {
          "output_type": "stream",
          "text": [
            "SVR MSE: 1.94\n",
            "SVR R2: -0.02\n"
          ],
          "name": "stdout"
        }
      ]
    },
    {
      "cell_type": "code",
      "metadata": {
        "id": "9xrUvMamCC1G"
      },
      "source": [
        "svr_ = grid.best_estimator_"
      ],
      "execution_count": null,
      "outputs": []
    },
    {
      "cell_type": "code",
      "metadata": {
        "id": "kEzNvEn-CHCv",
        "colab": {
          "base_uri": "https://localhost:8080/"
        },
        "outputId": "bbebb749-eca1-4194-f7be-77ae6688e8d2"
      },
      "source": [
        "grado = np.arange(1,21)\n",
        "param_grid = dict(degree = grado)\n",
        "grid = GridSearchCV (SVR(kernel = \"poly\"), cv = 10, \n",
        "                     param_grid = param_grid, return_train_score = True)\n",
        "grid.fit (X_train, y_train)"
      ],
      "execution_count": null,
      "outputs": [
        {
          "output_type": "execute_result",
          "data": {
            "text/plain": [
              "GridSearchCV(cv=10, error_score=nan,\n",
              "             estimator=SVR(C=1.0, cache_size=200, coef0=0.0, degree=3,\n",
              "                           epsilon=0.1, gamma='scale', kernel='poly',\n",
              "                           max_iter=-1, shrinking=True, tol=0.001,\n",
              "                           verbose=False),\n",
              "             iid='deprecated', n_jobs=None,\n",
              "             param_grid={'degree': array([ 1,  2,  3,  4,  5,  6,  7,  8,  9, 10, 11, 12, 13, 14, 15, 16, 17,\n",
              "       18, 19, 20])},\n",
              "             pre_dispatch='2*n_jobs', refit=True, return_train_score=True,\n",
              "             scoring=None, verbose=0)"
            ]
          },
          "metadata": {
            "tags": []
          },
          "execution_count": 28
        }
      ]
    },
    {
      "cell_type": "code",
      "metadata": {
        "id": "LcxA4fhTD5ru",
        "colab": {
          "base_uri": "https://localhost:8080/",
          "height": 55
        },
        "outputId": "f4d83e85-9717-4cd6-b562-43ef0f559390"
      },
      "source": [
        "# We extract the mean scores and stdev for each K\n",
        "scores_m_test = grid.cv_results_['mean_test_score']\n",
        "scores_s_test = grid.cv_results_['std_test_score']\n",
        "scores_m_train = grid.cv_results_['mean_train_score']\n",
        "scores_s_train = grid.cv_results_['std_train_score']\n",
        "\n",
        "plt.errorbar (grado, scores_m_test, yerr = scores_s_test, fmt = '.', label = \"test\")\n",
        "plt.errorbar (grado+0.1, scores_m_train, yerr = scores_s_train, fmt = '.', label = \"train\")\n",
        "plt.legend(loc = \"best\")\n",
        "plt.show()"
      ],
      "execution_count": null,
      "outputs": [
        {
          "output_type": "display_data",
          "data": {
            "image/png": "[encoded data removed]",
            "text/plain": [
              "<Figure size 432x288 with 1 Axes>"
            ]
          },
          "metadata": {
            "tags": [],
            "needs_background": "light"
          }
        }
      ]
    },
    {
      "cell_type": "code",
      "metadata": {
        "id": "-m6XWgK-ISOA",
        "colab": {
          "base_uri": "https://localhost:8080/"
        },
        "outputId": "589df371-d757-4410-e909-4eb76f31bf38"
      },
      "source": [
        "grid.best_estimator_"
      ],
      "execution_count": null,
      "outputs": [
        {
          "output_type": "execute_result",
          "data": {
            "text/plain": [
              "SVR(C=1.0, cache_size=200, coef0=0.0, degree=20, epsilon=0.1, gamma='scale',\n",
              "    kernel='poly', max_iter=-1, shrinking=True, tol=0.001, verbose=False)"
            ]
          },
          "metadata": {
            "tags": []
          },
          "execution_count": 30
        }
      ]
    },
    {
      "cell_type": "code",
      "metadata": {
        "id": "4ZNArMFXIVhe"
      },
      "source": [
        "original = mean_squared_error(y_test, svr_.predict(X_test))\n",
        "nuevo = mean_squared_error(y_test, grid.best_estimator_.predict(X_test))\n",
        "if(nuevo < original):\n",
        "  svr_ = grid.best_estimator_"
      ],
      "execution_count": null,
      "outputs": []
    },
    {
      "cell_type": "markdown",
      "metadata": {
        "id": "bxMwNdedeVcN"
      },
      "source": [
        "## Árboles de regresión"
      ]
    },
    {
      "cell_type": "markdown",
      "metadata": {
        "id": "2BhC4LEMeVcO"
      },
      "source": [
        "Utilizan árboles de decisión.\n",
        "\n",
        "Un árbol de decisión -> Mapa de los posibles resultados de de cada combinación de alternativas presentes.\n",
        "\n",
        "Los modelos de árbol, donde la variable de destino puede tomar un conjunto finito de valores se denominan **árboles de clasificación**. Los árboles de decisión, donde la variable de destino puede tomar valores continuos (por lo general números reales) se llaman **árboles de regresión**. *(Fuente: Wikipedia)*\n",
        "\n",
        "La idea es dividir el espacio de nuestras variables independientes linealmente en distintas regiones.\n",
        "\n",
        "<img src = \"https://github.com/cridonoso/IntroToDataScience/raw/cefcba909f50e435cf1b0293f3e683330436beda/6-Regression/DataScience1_05_NonParametricRegression/images/TreeRegression.png/\">\n",
        "\n",
        "\n",
        "\n",
        "Dado un árbol $T$, la suma de los errores al cuadrado es:\n",
        "\\begin{equation}\n",
        "S = \\sum_{c\\in\\mathrm{hojas}(T)}\\sum_{i\\in c} (y_i - m_c)^2.\n",
        "\\end{equation}\n",
        "\n",
        "\n",
        "Cada nodo se determina dividiendo la coordenada que minimiza el error."
      ]
    },
    {
      "cell_type": "markdown",
      "metadata": {
        "id": "FPnyTDC1RIrX"
      },
      "source": [
        "#### Algoritmo básico\n"
      ]
    },
    {
      "cell_type": "markdown",
      "metadata": {
        "id": "pcoB8jMxT5hc"
      },
      "source": [
        "* Comenzar con un solo nodo que contenga todos los puntos. Calcular $ m_c $ y $ S $.\n",
        "* Si todos los puntos del nodo tienen el mismo valor para todas las variables independientes:\n",
        "  * Detener\n",
        "* En otro caso (Else):\n",
        "  * Buscar entre todas las divisiones binarias de todas las variables la que reducirá $ S $ tanto como sea posible.\n",
        "  * Si la mayor disminución en $S$ es menor que un umbral $\\delta$ o uno de los nodos resultantes contienen menos de $q$ puntos:\n",
        "    * Detener\n",
        "  * Else:\n",
        "    * Hacer esa división, creando dos nuevos nodos\n",
        "  * Para cada nuevo nodo:\n",
        "      Repetir el procedimiento"
      ]
    },
    {
      "cell_type": "markdown",
      "metadata": {
        "id": "dT609O8nT7dK"
      },
      "source": [
        "## Código"
      ]
    },
    {
      "cell_type": "code",
      "metadata": {
        "id": "lzby1fc5eVcP",
        "colab": {
          "base_uri": "https://localhost:8080/",
          "height": 55
        },
        "outputId": "18b5e542-a9c0-4507-8e67-7c1e374cb995"
      },
      "source": [
        "from sklearn import tree\n",
        "\n",
        "RTree = tree.DecisionTreeRegressor(max_depth=4)\n",
        "RTree.fit (X_train, y_train)\n",
        "y_pred = RTree.predict(X_test)\n",
        "\n",
        "\n",
        "plt.scatter (X_test[:100, 0], y_pred[:100], label = \"RTree\")\n",
        "plt.scatter (X_test[:100, 0], y_test[:100], label = \"real\")\n",
        "plt.legend()\n",
        "plt.show()"
      ],
      "execution_count": null,
      "outputs": [
        {
          "output_type": "display_data",
          "data": {
            "image/png": "[encoded data removed]",
            "text/plain": [
              "<Figure size 432x288 with 1 Axes>"
            ]
          },
          "metadata": {
            "tags": [],
            "needs_background": "light"
          }
        }
      ]
    },
    {
      "cell_type": "markdown",
      "metadata": {
        "id": "qcCJ409DTsmv"
      },
      "source": [
        "Podemos mostrar el árbol utilizando **plot_tree**"
      ]
    },
    {
      "cell_type": "code",
      "metadata": {
        "id": "bc2Ke2Y1TJRM",
        "colab": {
          "base_uri": "https://localhost:8080/",
          "height": 400
        },
        "outputId": "d8e3effa-7c7d-4584-b3ad-ce455969dcac"
      },
      "source": [
        "plt.figure(figsize=(30,10))\n",
        "tree.plot_tree(RTree);"
      ],
      "execution_count": null,
      "outputs": [
        {
          "output_type": "display_data",
          "data": {
            "image/png": "[encoded data removed]",
            "text/plain": [
              "<Figure size 2160x720 with 1 Axes>"
            ]
          },
          "metadata": {
            "tags": [],
            "needs_background": "light"
          }
        }
      ]
    },
    {
      "cell_type": "code",
      "metadata": {
        "id": "xMyqPNE0UlAc",
        "colab": {
          "base_uri": "https://localhost:8080/"
        },
        "outputId": "e3bf595f-8aa1-49a2-ea9f-761593bb67eb"
      },
      "source": [
        "print(\"Regression Tree MSE: %.2f\" %mean_squared_error(y_test, y_pred))\n",
        "print(\"Regression Tree R2: %.2f\\n\" %r2_score(y_test, y_pred))"
      ],
      "execution_count": null,
      "outputs": [
        {
          "output_type": "stream",
          "text": [
            "Regression Tree MSE: 1.29\n",
            "Regression Tree R2: 0.32\n",
            "\n"
          ],
          "name": "stdout"
        }
      ]
    },
    {
      "cell_type": "code",
      "metadata": {
        "id": "brwYVepwVG4c",
        "colab": {
          "base_uri": "https://localhost:8080/"
        },
        "outputId": "f6cfd160-d290-47ca-d438-5f51bd4233d7"
      },
      "source": [
        "prof = np.arange(1,11)\n",
        "param_grid = dict(max_depth = prof)\n",
        "grid = GridSearchCV (tree.DecisionTreeRegressor(), cv = 10, \n",
        "                     param_grid = param_grid, return_train_score = True)\n",
        "grid.fit (X_train, y_train)"
      ],
      "execution_count": null,
      "outputs": [
        {
          "output_type": "execute_result",
          "data": {
            "text/plain": [
              "GridSearchCV(cv=10, error_score=nan,\n",
              "             estimator=DecisionTreeRegressor(ccp_alpha=0.0, criterion='mse',\n",
              "                                             max_depth=None, max_features=None,\n",
              "                                             max_leaf_nodes=None,\n",
              "                                             min_impurity_decrease=0.0,\n",
              "                                             min_impurity_split=None,\n",
              "                                             min_samples_leaf=1,\n",
              "                                             min_samples_split=2,\n",
              "                                             min_weight_fraction_leaf=0.0,\n",
              "                                             presort='deprecated',\n",
              "                                             random_state=None,\n",
              "                                             splitter='best'),\n",
              "             iid='deprecated', n_jobs=None,\n",
              "             param_grid={'max_depth': array([ 1,  2,  3,  4,  5,  6,  7,  8,  9, 10])},\n",
              "             pre_dispatch='2*n_jobs', refit=True, return_train_score=True,\n",
              "             scoring=None, verbose=0)"
            ]
          },
          "metadata": {
            "tags": []
          },
          "execution_count": 35
        }
      ]
    },
    {
      "cell_type": "code",
      "metadata": {
        "id": "TM2pu0i7VcEL",
        "colab": {
          "base_uri": "https://localhost:8080/",
          "height": 265
        },
        "outputId": "29a3180a-99b2-4097-967f-9cce357e39ab"
      },
      "source": [
        "# We extract the mean scores and stdev for each K\n",
        "scores_m_test = grid.cv_results_['mean_test_score']\n",
        "scores_s_test = grid.cv_results_['std_test_score']\n",
        "scores_m_train = grid.cv_results_['mean_train_score']\n",
        "scores_s_train = grid.cv_results_['std_train_score']\n",
        "\n",
        "plt.errorbar (prof, scores_m_test, yerr = scores_s_test, fmt = '.', label = \"test\")\n",
        "plt.errorbar (prof+0.1, scores_m_train, yerr = scores_s_train, fmt = '.', label = \"train\")\n",
        "plt.legend(loc = \"best\")\n",
        "plt.show()"
      ],
      "execution_count": null,
      "outputs": [
        {
          "output_type": "display_data",
          "data": {
            "image/png": "[encoded data removed]",
            "text/plain": [
              "<Figure size 432x288 with 1 Axes>"
            ]
          },
          "metadata": {
            "tags": [],
            "needs_background": "light"
          }
        }
      ]
    },
    {
      "cell_type": "code",
      "metadata": {
        "id": "x91teM_8VyWF",
        "colab": {
          "base_uri": "https://localhost:8080/"
        },
        "outputId": "7b7fc584-4265-4e09-fc9d-a89f95beb910"
      },
      "source": [
        "grid.best_estimator_"
      ],
      "execution_count": null,
      "outputs": [
        {
          "output_type": "execute_result",
          "data": {
            "text/plain": [
              "DecisionTreeRegressor(ccp_alpha=0.0, criterion='mse', max_depth=9,\n",
              "                      max_features=None, max_leaf_nodes=None,\n",
              "                      min_impurity_decrease=0.0, min_impurity_split=None,\n",
              "                      min_samples_leaf=1, min_samples_split=2,\n",
              "                      min_weight_fraction_leaf=0.0, presort='deprecated',\n",
              "                      random_state=None, splitter='best')"
            ]
          },
          "metadata": {
            "tags": []
          },
          "execution_count": 37
        }
      ]
    },
    {
      "cell_type": "code",
      "metadata": {
        "id": "qMXqmec7Vomc",
        "colab": {
          "base_uri": "https://localhost:8080/"
        },
        "outputId": "67a2a7c4-4a24-4f34-cf75-1be7f64ced12"
      },
      "source": [
        "y_pred = grid.best_estimator_.predict(X_test)\n",
        "print(\"Regression Tree MSE: %.2f\" %mean_squared_error(y_test, y_pred))\n",
        "print(\"Regression Tree R2: %.2f\" %r2_score(y_test, y_pred))"
      ],
      "execution_count": null,
      "outputs": [
        {
          "output_type": "stream",
          "text": [
            "Regression Tree MSE: 1.13\n",
            "Regression Tree R2: 0.41\n"
          ],
          "name": "stdout"
        }
      ]
    },
    {
      "cell_type": "code",
      "metadata": {
        "id": "SulUJN9qdCji"
      },
      "source": [
        "RTree_ = grid.best_estimator_"
      ],
      "execution_count": null,
      "outputs": []
    },
    {
      "cell_type": "code",
      "metadata": {
        "id": "4O58i6nLVo8n",
        "colab": {
          "base_uri": "https://localhost:8080/"
        },
        "outputId": "7b00cb31-0300-4752-d6a0-7f58465011d3"
      },
      "source": [
        "prof = np.arange(1,11)\n",
        "criterio = [\"friedman_mse\", \"mae\"]\n",
        "param_grid = dict(criterion = criterio, max_depth = prof)\n",
        "grid = GridSearchCV (tree.DecisionTreeRegressor(), cv = 10, \n",
        "                     param_grid = param_grid, return_train_score = True)\n",
        "grid.fit (X_train, y_train)"
      ],
      "execution_count": null,
      "outputs": [
        {
          "output_type": "execute_result",
          "data": {
            "text/plain": [
              "GridSearchCV(cv=10, error_score=nan,\n",
              "             estimator=DecisionTreeRegressor(ccp_alpha=0.0, criterion='mse',\n",
              "                                             max_depth=None, max_features=None,\n",
              "                                             max_leaf_nodes=None,\n",
              "                                             min_impurity_decrease=0.0,\n",
              "                                             min_impurity_split=None,\n",
              "                                             min_samples_leaf=1,\n",
              "                                             min_samples_split=2,\n",
              "                                             min_weight_fraction_leaf=0.0,\n",
              "                                             presort='deprecated',\n",
              "                                             random_state=None,\n",
              "                                             splitter='best'),\n",
              "             iid='deprecated', n_jobs=None,\n",
              "             param_grid={'criterion': ['friedman_mse', 'mae'],\n",
              "                         'max_depth': array([ 1,  2,  3,  4,  5,  6,  7,  8,  9, 10])},\n",
              "             pre_dispatch='2*n_jobs', refit=True, return_train_score=True,\n",
              "             scoring=None, verbose=0)"
            ]
          },
          "metadata": {
            "tags": []
          },
          "execution_count": 40
        }
      ]
    },
    {
      "cell_type": "code",
      "metadata": {
        "id": "Y3hX-5QKVoCT",
        "colab": {
          "base_uri": "https://localhost:8080/",
          "height": 55
        },
        "outputId": "766342be-f145-4c18-b29d-a0a29384f926"
      },
      "source": [
        "# We extract the mean scores and stdev for each K\n",
        "scores_m_test = grid.cv_results_['mean_test_score']\n",
        "scores_s_test = grid.cv_results_['std_test_score']\n",
        "scores_m_train = grid.cv_results_['mean_train_score']\n",
        "scores_s_train = grid.cv_results_['std_train_score']\n",
        "\n",
        "uniform_scores_m_test = []\n",
        "distance_scores_m_test = []\n",
        "uniform_scores_s_test = []\n",
        "distance_scores_s_test = []\n",
        "\n",
        "uniform_scores_m_train = []\n",
        "uniform_scores_s_train = []\n",
        "\n",
        "for i in range(len(prof)*2):\n",
        "  if(i%2 == 0):\n",
        "    uniform_scores_m_test.append(scores_m_test[i])\n",
        "    uniform_scores_s_test.append(scores_s_test[i])\n",
        "    uniform_scores_m_train.append(scores_m_train[i])\n",
        "    uniform_scores_s_train.append(scores_s_train[i])\n",
        "  else: \n",
        "    distance_scores_m_test.append(scores_m_test[i])\n",
        "    distance_scores_s_test.append(scores_s_test[i])\n",
        "    \n",
        "plt.errorbar (prof, uniform_scores_m_test, yerr = uniform_scores_s_test, fmt = '.', label = \"u validation\")\n",
        "plt.errorbar (prof, distance_scores_m_test, yerr = distance_scores_s_test, fmt = '.', label = \"d validation\")\n",
        "plt.errorbar (prof, uniform_scores_m_train, yerr = uniform_scores_s_train, fmt = '.', label = \"train\")\n",
        "plt.xlabel(\"prof\")\n",
        "plt.ylabel(\"R2\")\n",
        "plt.legend(loc = \"best\")\n",
        "plt.show()"
      ],
      "execution_count": null,
      "outputs": [
        {
          "output_type": "display_data",
          "data": {
            "image/png": "[encoded data removed]",
            "text/plain": [
              "<Figure size 432x288 with 1 Axes>"
            ]
          },
          "metadata": {
            "tags": [],
            "needs_background": "light"
          }
        }
      ]
    },
    {
      "cell_type": "code",
      "metadata": {
        "id": "-yFWbPlzWtdB",
        "colab": {
          "base_uri": "https://localhost:8080/"
        },
        "outputId": "6e379fcc-5676-4c18-bd03-cd241519b91a"
      },
      "source": [
        "y_pred = grid.best_estimator_.predict(X_test)\n",
        "print(\"Regression Tree MSE: %.2f\" %mean_squared_error(y_test, y_pred))\n",
        "print(\"Regression Tree R2: %.2f\" %r2_score(y_test, y_pred))"
      ],
      "execution_count": null,
      "outputs": [
        {
          "output_type": "stream",
          "text": [
            "Regression Tree MSE: 1.12\n",
            "Regression Tree R2: 0.41\n"
          ],
          "name": "stdout"
        }
      ]
    },
    {
      "cell_type": "code",
      "metadata": {
        "id": "CVgp-IsYWv-8",
        "colab": {
          "base_uri": "https://localhost:8080/"
        },
        "outputId": "a8023e8d-4d25-4f50-c5e9-b939ca406942"
      },
      "source": [
        "grid.best_estimator_"
      ],
      "execution_count": null,
      "outputs": [
        {
          "output_type": "execute_result",
          "data": {
            "text/plain": [
              "DecisionTreeRegressor(ccp_alpha=0.0, criterion='friedman_mse', max_depth=9,\n",
              "                      max_features=None, max_leaf_nodes=None,\n",
              "                      min_impurity_decrease=0.0, min_impurity_split=None,\n",
              "                      min_samples_leaf=1, min_samples_split=2,\n",
              "                      min_weight_fraction_leaf=0.0, presort='deprecated',\n",
              "                      random_state=None, splitter='best')"
            ]
          },
          "metadata": {
            "tags": []
          },
          "execution_count": 43
        }
      ]
    },
    {
      "cell_type": "code",
      "metadata": {
        "id": "7pbqHFKkc-2e"
      },
      "source": [
        "original = mean_squared_error(y_test, RTree_.predict(X_test))\n",
        "nuevo = mean_squared_error(y_test, grid.best_estimator_.predict(X_test))\n",
        "if(nuevo < original):\n",
        "  RTree_ = grid.best_estimator_"
      ],
      "execution_count": null,
      "outputs": []
    },
    {
      "cell_type": "markdown",
      "metadata": {
        "id": "8xMuajGseVcT"
      },
      "source": [
        "## Random Forest Regression"
      ]
    },
    {
      "cell_type": "markdown",
      "metadata": {
        "id": "2NU7RQNieVcU"
      },
      "source": [
        "Combina $n$ árboles de regresión:\n",
        "\n",
        "* $n$ árboles\n",
        "* para cada árbol:\n",
        "* * seleccionar una muestra utilizando bootstrap (extraer con reemplazo)\n",
        "* * entrenar usando $m$ atributos elegidos al azar para dividir cada nodo\n",
        "* $\\hat{f}(x) = \\frac{1}{n}\\sum \\hat{f}_i(x)$"
      ]
    },
    {
      "cell_type": "code",
      "metadata": {
        "scrolled": true,
        "id": "kqUORplBeVcV",
        "colab": {
          "base_uri": "https://localhost:8080/",
          "height": 89
        },
        "outputId": "b2915b6f-699d-4cd3-99b6-2d6e24d80446"
      },
      "source": [
        "from sklearn.ensemble.forest import RandomForestRegressor\n",
        "\n",
        "RFR = RandomForestRegressor(max_depth = 4, n_estimators = 100)\n",
        "RFR.fit (X_train, y_train)\n",
        "y_pred = RFR.predict(X_test)\n",
        "\n",
        "\n",
        "plt.scatter (X_test[:100, 0], y_pred[:100], label = \"RFR\")\n",
        "plt.scatter (X_test[:100, 0], y_test[:100], label = \"real\")\n",
        "plt.legend()\n",
        "plt.show()"
      ],
      "execution_count": null,
      "outputs": [
        {
          "output_type": "stream",
          "text": [
            "/usr/local/lib/python3.6/dist-packages/sklearn/utils/deprecation.py:144: FutureWarning: The sklearn.ensemble.forest module is  deprecated in version 0.22 and will be removed in version 0.24. The corresponding classes / functions should instead be imported from sklearn.ensemble. Anything that cannot be imported from sklearn.ensemble is now part of the private API.\n",
            "  warnings.warn(message, FutureWarning)\n"
          ],
          "name": "stderr"
        },
        {
          "output_type": "display_data",
          "data": {
            "image/png": "[encoded data removed]",
            "text/plain": [
              "<Figure size 432x288 with 1 Axes>"
            ]
          },
          "metadata": {
            "tags": [],
            "needs_background": "light"
          }
        }
      ]
    },
    {
      "cell_type": "code",
      "metadata": {
        "id": "MvL9UT7gYjzA",
        "colab": {
          "base_uri": "https://localhost:8080/"
        },
        "outputId": "7e49d1fa-46bc-46d6-fce1-fe12fbc0c64f"
      },
      "source": [
        "print(\"RFR MSE: %.2f\" %mean_squared_error(y_test, y_pred))\n",
        "print(\"RFR R2: %.2f\\n\" %r2_score(y_test, y_pred))"
      ],
      "execution_count": null,
      "outputs": [
        {
          "output_type": "stream",
          "text": [
            "RFR MSE: 1.24\n",
            "RFR R2: 0.35\n",
            "\n"
          ],
          "name": "stdout"
        }
      ]
    },
    {
      "cell_type": "code",
      "metadata": {
        "id": "hT6g4DX2Y633",
        "colab": {
          "base_uri": "https://localhost:8080/"
        },
        "outputId": "4e8c3d7a-f4a8-46f0-cf23-66eac89fabd8"
      },
      "source": [
        "prof = np.arange(1,21)\n",
        "param_grid = dict(max_depth = prof)\n",
        "grid = GridSearchCV (RandomForestRegressor(), cv = 10, \n",
        "                     param_grid = param_grid, return_train_score = True)\n",
        "grid.fit (X_train, y_train)"
      ],
      "execution_count": null,
      "outputs": [
        {
          "output_type": "execute_result",
          "data": {
            "text/plain": [
              "GridSearchCV(cv=10, error_score=nan,\n",
              "             estimator=RandomForestRegressor(bootstrap=True, ccp_alpha=0.0,\n",
              "                                             criterion='mse', max_depth=None,\n",
              "                                             max_features='auto',\n",
              "                                             max_leaf_nodes=None,\n",
              "                                             max_samples=None,\n",
              "                                             min_impurity_decrease=0.0,\n",
              "                                             min_impurity_split=None,\n",
              "                                             min_samples_leaf=1,\n",
              "                                             min_samples_split=2,\n",
              "                                             min_weight_fraction_leaf=0.0,\n",
              "                                             n_estimators=100, n_jobs=None,\n",
              "                                             oob_score=False, random_state=None,\n",
              "                                             verbose=0, warm_start=False),\n",
              "             iid='deprecated', n_jobs=None,\n",
              "             param_grid={'max_depth': array([ 1,  2,  3,  4,  5,  6,  7,  8,  9, 10, 11, 12, 13, 14, 15, 16, 17,\n",
              "       18, 19, 20])},\n",
              "             pre_dispatch='2*n_jobs', refit=True, return_train_score=True,\n",
              "             scoring=None, verbose=0)"
            ]
          },
          "metadata": {
            "tags": []
          },
          "execution_count": 47
        }
      ]
    },
    {
      "cell_type": "code",
      "metadata": {
        "id": "IM-eeTzUZxe8",
        "colab": {
          "base_uri": "https://localhost:8080/",
          "height": 55
        },
        "outputId": "c21e035b-2d35-4aec-a9e4-401405321160"
      },
      "source": [
        "# We extract the mean scores and stdev for each K\n",
        "scores_m_test = grid.cv_results_['mean_test_score']\n",
        "scores_s_test = grid.cv_results_['std_test_score']\n",
        "scores_m_train = grid.cv_results_['mean_train_score']\n",
        "scores_s_train = grid.cv_results_['std_train_score']\n",
        "\n",
        "plt.errorbar (prof, scores_m_test, yerr = scores_s_test, fmt = '.', label = \"test\")\n",
        "plt.errorbar (prof+0.1, scores_m_train, yerr = scores_s_train, fmt = '.', label = \"train\")\n",
        "plt.legend(loc = \"best\")\n",
        "plt.show()"
      ],
      "execution_count": null,
      "outputs": [
        {
          "output_type": "display_data",
          "data": {
            "image/png": "[encoded data removed]",
            "text/plain": [
              "<Figure size 432x288 with 1 Axes>"
            ]
          },
          "metadata": {
            "tags": [],
            "needs_background": "light"
          }
        }
      ]
    },
    {
      "cell_type": "code",
      "metadata": {
        "id": "GM8PAQv2YwIw",
        "colab": {
          "base_uri": "https://localhost:8080/"
        },
        "outputId": "5357de39-fc86-47ba-aa69-833ec9a56d7e"
      },
      "source": [
        "y_pred = grid.best_estimator_.predict(X_test)\n",
        "print(\"RFR MSE: %.2f\" %mean_squared_error(y_test, y_pred))\n",
        "print(\"RFR Tree R2: %.2f\" %r2_score(y_test, y_pred))"
      ],
      "execution_count": null,
      "outputs": [
        {
          "output_type": "stream",
          "text": [
            "RFR MSE: 0.72\n",
            "RFR Tree R2: 0.63\n"
          ],
          "name": "stdout"
        }
      ]
    },
    {
      "cell_type": "code",
      "metadata": {
        "id": "BfSmdsHbb7Ji"
      },
      "source": [
        "RFR_ = grid.best_estimator_ "
      ],
      "execution_count": null,
      "outputs": []
    },
    {
      "cell_type": "markdown",
      "metadata": {
        "id": "y_C8Oy0NdgVZ"
      },
      "source": [
        "# Comparemos los modelos"
      ]
    },
    {
      "cell_type": "code",
      "metadata": {
        "id": "LGgUtR0jdk15"
      },
      "source": [
        "MSEs = []\n",
        "R2s = []\n",
        "for i in [knn_, svr_, RTree_, RFR_]:\n",
        "  MSEs.append(mean_squared_error(y_test, i.predict(X_test)))\n",
        "  R2s.append(r2_score(y_test, i.predict(X_test)))"
      ],
      "execution_count": null,
      "outputs": []
    },
    {
      "cell_type": "code",
      "metadata": {
        "id": "yWfj7ADDg-1v",
        "colab": {
          "base_uri": "https://localhost:8080/",
          "height": 171
        },
        "outputId": "dc2a94fe-c51d-479c-d08a-7bc56019e9e2"
      },
      "source": [
        "tablita = pd.DataFrame({\"Modelo\": [\"KNN\", \"SVR\", \"R Tree\", \"RFR\"], \"MSE\" : MSEs, \"R2\": R2s})\n",
        "tablita"
      ],
      "execution_count": null,
      "outputs": [
        {
          "output_type": "execute_result",
          "data": {
            "text/html": [
              "<div>\n",
              "<style scoped>\n",
              "    .dataframe tbody tr th:only-of-type {\n",
              "        vertical-align: middle;\n",
              "    }\n",
              "\n",
              "    .dataframe tbody tr th {\n",
              "        vertical-align: top;\n",
              "    }\n",
              "\n",
              "    .dataframe thead th {\n",
              "        text-align: right;\n",
              "    }\n",
              "</style>\n",
              "<table border=\"1\" class=\"dataframe\">\n",
              "  <thead>\n",
              "    <tr style=\"text-align: right;\">\n",
              "      <th></th>\n",
              "      <th>Modelo</th>\n",
              "      <th>MSE</th>\n",
              "      <th>R2</th>\n",
              "    </tr>\n",
              "  </thead>\n",
              "  <tbody>\n",
              "    <tr>\n",
              "      <th>0</th>\n",
              "      <td>KNN</td>\n",
              "      <td>0.770662</td>\n",
              "      <td>0.596755</td>\n",
              "    </tr>\n",
              "    <tr>\n",
              "      <th>1</th>\n",
              "      <td>SVR</td>\n",
              "      <td>1.893904</td>\n",
              "      <td>0.009023</td>\n",
              "    </tr>\n",
              "    <tr>\n",
              "      <th>2</th>\n",
              "      <td>R Tree</td>\n",
              "      <td>1.124799</td>\n",
              "      <td>0.411454</td>\n",
              "    </tr>\n",
              "    <tr>\n",
              "      <th>3</th>\n",
              "      <td>RFR</td>\n",
              "      <td>0.716584</td>\n",
              "      <td>0.625051</td>\n",
              "    </tr>\n",
              "  </tbody>\n",
              "</table>\n",
              "</div>"
            ],
            "text/plain": [
              "   Modelo       MSE        R2\n",
              "0     KNN  0.770662  0.596755\n",
              "1     SVR  1.893904  0.009023\n",
              "2  R Tree  1.124799  0.411454\n",
              "3     RFR  0.716584  0.625051"
            ]
          },
          "metadata": {
            "tags": []
          },
          "execution_count": 52
        }
      ]
    }
  ]
}