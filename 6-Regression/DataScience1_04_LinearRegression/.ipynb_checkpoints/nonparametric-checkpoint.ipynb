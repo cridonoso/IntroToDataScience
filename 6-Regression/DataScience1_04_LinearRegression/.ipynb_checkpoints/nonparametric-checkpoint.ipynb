{
 "cells": [
  {
   "cell_type": "markdown",
   "metadata": {},
   "source": [
    "# Non Parametric"
   ]
  },
  {
   "cell_type": "markdown",
   "metadata": {},
   "source": [
    "Given a data set $D = {(x_1,y_1), (x_2,y_2),...,(x_n, y_n)}$ the regression problem consists in define:\n",
    "<br>\n",
    "<br>\n",
    "<center>\n",
    "  $f_0(x) = E(Y|X=x)  $\n",
    "</center>\n",
    "<br>\n",
    "<br>\n",
    "Notice that in this parameterized regression we assume a certain parametric form for $f_o$, i.e $Y \\sim N(\\mu, \\sigma^2)$.\n",
    "<br>\n",
    "<br>\n",
    "In particular, we could consider a nonparametric approach to resolve this problem. That means we will construct an estimate $\\hat{f}$ of $f_0$"
   ]
  },
  {
   "cell_type": "markdown",
   "metadata": {},
   "source": [
    "### K-nearest-neigbirs regression\n",
    "We fix an integer K $\\ge$ 1 and define:\n",
    "<br>\n",
    "<center>\n",
    "    $\\hat{f}(x) = \\frac{1}{k}\\sum_{i \\in N_k(x)}y_i$\n",
    "</center>"
   ]
  },
  {
   "cell_type": "markdown",
   "metadata": {},
   "source": [
    "### Kernel smoothing\n",
    "We can use a kernel and weight each point instead of selecting the average in a given radius. (like a kernel density estimation). <br>\n",
    "The common kernels are:\n",
    "- Gaussian kernel\n",
    "- Epanechnikov kernel\n",
    "\n",
    "Given a bandwidth h > 0 , the kernel regression estimate is defined as:\n",
    "<br>\n",
    "<center>\n",
    "$\\hat{f}(x) = \\frac{\\sum_{i=1}^nK(\\frac{x-x_i}{h})y_i}{\\sum_{i=1}^nK(\\frac{x-x_i}{h})}$\n",
    "</center>"
   ]
  },
  {
   "cell_type": "code",
   "execution_count": null,
   "metadata": {},
   "outputs": [],
   "source": []
  }
 ],
 "metadata": {
  "kernelspec": {
   "display_name": "Python 3",
   "language": "python",
   "name": "python3"
  },
  "language_info": {
   "codemirror_mode": {
    "name": "ipython",
    "version": 2
   },
   "file_extension": ".py",
   "mimetype": "text/x-python",
   "name": "python",
   "nbconvert_exporter": "python",
   "pygments_lexer": "ipython2",
   "version": "2.7.15"
  }
 },
 "nbformat": 4,
 "nbformat_minor": 2
}
