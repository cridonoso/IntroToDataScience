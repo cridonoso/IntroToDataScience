{
 "cells": [
  {
   "cell_type": "markdown",
   "id": "c820db1a",
   "metadata": {},
   "source": [
    "# Data manipulation using Pandas\n",
    "### Workshop 1\n",
    "*Jun 27 - IACS-MACI Internship*"
   ]
  },
  {
   "cell_type": "markdown",
   "id": "98cc7bbd",
   "metadata": {},
   "source": [
    "**Pandas** is a python library containing tools for data manipulation. It extends from `numpy` as it deal with operations on multidimensional array.\n",
    "\n",
    "The main class of Pandas is `DataFrame` which is similar to tables in Excel. In other words, **Pandas allow us to work with tabular data in python**.\n",
    "\n",
    "<img src=\"images/pandas_excel.jpeg\" width=\"300\"/>\n",
    "\n",
    "Data scientist use Pandas a lot! This library provides **high-level functions** that **acelerate** the **analysis** and **preprocessing** of our data.\n",
    "\n"
   ]
  },
  {
   "cell_type": "markdown",
   "id": "bd141e8a",
   "metadata": {},
   "source": [
    "## The DataFrame class\n",
    "The [`DataFrame`](https://pandas.pydata.org/docs/reference/api/pandas.DataFrame.html#pandas.DataFrame) class contains all you need to reproduce/create an excel table.\n",
    "<img src=\"images/dataframe_excel.png\" width=\"900\"/>\n",
    "\n",
    "Lets create a `DataFrame` instance from scratch."
   ]
  },
  {
   "cell_type": "markdown",
   "id": "2bcf162e",
   "metadata": {},
   "source": [
    "First we need to import Pandas library. \n",
    "\n",
    "To install pandas use: `pip install pandas` or `conda install pandas`"
   ]
  },
  {
   "cell_type": "code",
   "execution_count": 2,
   "id": "56bdb5cc",
   "metadata": {},
   "outputs": [],
   "source": [
    "import pandas as pd # conventionally we rename pandas as 'pd'"
   ]
  },
  {
   "cell_type": "code",
   "execution_count": 2,
   "id": "15be655a",
   "metadata": {},
   "outputs": [],
   "source": [
    "data = [\n",
    "    [1, 'a', .1],\n",
    "    [2, 'b', .2],\n",
    "    [3, 'c', .3],\n",
    "    [4, 'd', .4],\n",
    "    [5, 'e', .5],\n",
    "    [6, 'd', .6]\n",
    "]\n",
    "indices = [2,3,4,5,6,7]\n",
    "\n",
    "columns = ['col1', 'col2', 'col3']"
   ]
  },
  {
   "cell_type": "code",
   "execution_count": 3,
   "id": "e0ea7488",
   "metadata": {},
   "outputs": [],
   "source": [
    "df = pd.DataFrame(data=data, index=indices, columns=columns)"
   ]
  },
  {
   "cell_type": "code",
   "execution_count": 4,
   "id": "9329ad23",
   "metadata": {},
   "outputs": [
    {
     "data": {
      "text/html": [
       "<div>\n",
       "<style scoped>\n",
       "    .dataframe tbody tr th:only-of-type {\n",
       "        vertical-align: middle;\n",
       "    }\n",
       "\n",
       "    .dataframe tbody tr th {\n",
       "        vertical-align: top;\n",
       "    }\n",
       "\n",
       "    .dataframe thead th {\n",
       "        text-align: right;\n",
       "    }\n",
       "</style>\n",
       "<table border=\"1\" class=\"dataframe\">\n",
       "  <thead>\n",
       "    <tr style=\"text-align: right;\">\n",
       "      <th></th>\n",
       "      <th>col1</th>\n",
       "      <th>col2</th>\n",
       "      <th>col3</th>\n",
       "    </tr>\n",
       "  </thead>\n",
       "  <tbody>\n",
       "    <tr>\n",
       "      <th>2</th>\n",
       "      <td>1</td>\n",
       "      <td>a</td>\n",
       "      <td>0.1</td>\n",
       "    </tr>\n",
       "    <tr>\n",
       "      <th>3</th>\n",
       "      <td>2</td>\n",
       "      <td>b</td>\n",
       "      <td>0.2</td>\n",
       "    </tr>\n",
       "    <tr>\n",
       "      <th>4</th>\n",
       "      <td>3</td>\n",
       "      <td>c</td>\n",
       "      <td>0.3</td>\n",
       "    </tr>\n",
       "    <tr>\n",
       "      <th>5</th>\n",
       "      <td>4</td>\n",
       "      <td>d</td>\n",
       "      <td>0.4</td>\n",
       "    </tr>\n",
       "    <tr>\n",
       "      <th>6</th>\n",
       "      <td>5</td>\n",
       "      <td>e</td>\n",
       "      <td>0.5</td>\n",
       "    </tr>\n",
       "    <tr>\n",
       "      <th>7</th>\n",
       "      <td>6</td>\n",
       "      <td>d</td>\n",
       "      <td>0.6</td>\n",
       "    </tr>\n",
       "  </tbody>\n",
       "</table>\n",
       "</div>"
      ],
      "text/plain": [
       "   col1 col2  col3\n",
       "2     1    a   0.1\n",
       "3     2    b   0.2\n",
       "4     3    c   0.3\n",
       "5     4    d   0.4\n",
       "6     5    e   0.5\n",
       "7     6    d   0.6"
      ]
     },
     "execution_count": 4,
     "metadata": {},
     "output_type": "execute_result"
    }
   ],
   "source": [
    "df"
   ]
  },
  {
   "cell_type": "markdown",
   "id": "38f07ac0",
   "metadata": {},
   "source": [
    "Once the DataFrame is created we can operate over it using `pandas` functions"
   ]
  },
  {
   "cell_type": "markdown",
   "id": "05a0ccda",
   "metadata": {},
   "source": [
    "### Having already an excel file?\n",
    "\n",
    "Most of the time, we recieve tabular data already stored in a file. \n",
    "\n",
    "In this case, we can load tables from different formats such as xlsx, csv, sql, etc,... \n",
    "\n",
    "Some formats (like the `xlsx`) requires special modulest to work. In the worst case, python displays an error indicating the name of the module. Then you only have to install it.\n",
    "\n",
    "<img src=\"images/error_xlsx.png\" width=\"700\"/>"
   ]
  },
  {
   "cell_type": "code",
   "execution_count": 5,
   "id": "9405e5df",
   "metadata": {},
   "outputs": [],
   "source": [
    "df = pd.read_excel('./data/example_1.xlsx')"
   ]
  },
  {
   "cell_type": "code",
   "execution_count": 6,
   "id": "b16b2fa6",
   "metadata": {},
   "outputs": [
    {
     "data": {
      "text/html": [
       "<div>\n",
       "<style scoped>\n",
       "    .dataframe tbody tr th:only-of-type {\n",
       "        vertical-align: middle;\n",
       "    }\n",
       "\n",
       "    .dataframe tbody tr th {\n",
       "        vertical-align: top;\n",
       "    }\n",
       "\n",
       "    .dataframe thead th {\n",
       "        text-align: right;\n",
       "    }\n",
       "</style>\n",
       "<table border=\"1\" class=\"dataframe\">\n",
       "  <thead>\n",
       "    <tr style=\"text-align: right;\">\n",
       "      <th></th>\n",
       "      <th>col1</th>\n",
       "      <th>col2</th>\n",
       "      <th>col3</th>\n",
       "    </tr>\n",
       "  </thead>\n",
       "  <tbody>\n",
       "    <tr>\n",
       "      <th>0</th>\n",
       "      <td>1.0</td>\n",
       "      <td>a</td>\n",
       "      <td>0.1</td>\n",
       "    </tr>\n",
       "    <tr>\n",
       "      <th>1</th>\n",
       "      <td>2.0</td>\n",
       "      <td>b</td>\n",
       "      <td>0.2</td>\n",
       "    </tr>\n",
       "    <tr>\n",
       "      <th>2</th>\n",
       "      <td>3.0</td>\n",
       "      <td>c</td>\n",
       "      <td>0.3</td>\n",
       "    </tr>\n",
       "    <tr>\n",
       "      <th>3</th>\n",
       "      <td>4.0</td>\n",
       "      <td>d</td>\n",
       "      <td>0.4</td>\n",
       "    </tr>\n",
       "    <tr>\n",
       "      <th>4</th>\n",
       "      <td>5.0</td>\n",
       "      <td>e</td>\n",
       "      <td>0.5</td>\n",
       "    </tr>\n",
       "    <tr>\n",
       "      <th>5</th>\n",
       "      <td>6.0</td>\n",
       "      <td>d</td>\n",
       "      <td>0.6</td>\n",
       "    </tr>\n",
       "  </tbody>\n",
       "</table>\n",
       "</div>"
      ],
      "text/plain": [
       "   col1 col2  col3\n",
       "0   1.0    a   0.1\n",
       "1   2.0    b   0.2\n",
       "2   3.0    c   0.3\n",
       "3   4.0    d   0.4\n",
       "4   5.0    e   0.5\n",
       "5   6.0    d   0.6"
      ]
     },
     "execution_count": 6,
     "metadata": {},
     "output_type": "execute_result"
    }
   ],
   "source": [
    "df"
   ]
  },
  {
   "cell_type": "markdown",
   "id": "b94651a5",
   "metadata": {},
   "source": [
    "Notice that the indices and the columns formats are not the same. Since we are working with a `DataFrame` object we can modify everything without changing the `xlsx` file  "
   ]
  },
  {
   "cell_type": "code",
   "execution_count": 7,
   "id": "f5632069",
   "metadata": {},
   "outputs": [],
   "source": [
    "df.index = [2, 3, 4, 5, 6, 7] # Changing a class parameter"
   ]
  },
  {
   "cell_type": "code",
   "execution_count": 8,
   "id": "1c6465f2",
   "metadata": {},
   "outputs": [
    {
     "data": {
      "text/html": [
       "<div>\n",
       "<style scoped>\n",
       "    .dataframe tbody tr th:only-of-type {\n",
       "        vertical-align: middle;\n",
       "    }\n",
       "\n",
       "    .dataframe tbody tr th {\n",
       "        vertical-align: top;\n",
       "    }\n",
       "\n",
       "    .dataframe thead th {\n",
       "        text-align: right;\n",
       "    }\n",
       "</style>\n",
       "<table border=\"1\" class=\"dataframe\">\n",
       "  <thead>\n",
       "    <tr style=\"text-align: right;\">\n",
       "      <th></th>\n",
       "      <th>col1</th>\n",
       "      <th>col2</th>\n",
       "      <th>col3</th>\n",
       "    </tr>\n",
       "  </thead>\n",
       "  <tbody>\n",
       "    <tr>\n",
       "      <th>2</th>\n",
       "      <td>1.0</td>\n",
       "      <td>a</td>\n",
       "      <td>0.1</td>\n",
       "    </tr>\n",
       "    <tr>\n",
       "      <th>3</th>\n",
       "      <td>2.0</td>\n",
       "      <td>b</td>\n",
       "      <td>0.2</td>\n",
       "    </tr>\n",
       "    <tr>\n",
       "      <th>4</th>\n",
       "      <td>3.0</td>\n",
       "      <td>c</td>\n",
       "      <td>0.3</td>\n",
       "    </tr>\n",
       "    <tr>\n",
       "      <th>5</th>\n",
       "      <td>4.0</td>\n",
       "      <td>d</td>\n",
       "      <td>0.4</td>\n",
       "    </tr>\n",
       "    <tr>\n",
       "      <th>6</th>\n",
       "      <td>5.0</td>\n",
       "      <td>e</td>\n",
       "      <td>0.5</td>\n",
       "    </tr>\n",
       "    <tr>\n",
       "      <th>7</th>\n",
       "      <td>6.0</td>\n",
       "      <td>d</td>\n",
       "      <td>0.6</td>\n",
       "    </tr>\n",
       "  </tbody>\n",
       "</table>\n",
       "</div>"
      ],
      "text/plain": [
       "   col1 col2  col3\n",
       "2   1.0    a   0.1\n",
       "3   2.0    b   0.2\n",
       "4   3.0    c   0.3\n",
       "5   4.0    d   0.4\n",
       "6   5.0    e   0.5\n",
       "7   6.0    d   0.6"
      ]
     },
     "execution_count": 8,
     "metadata": {},
     "output_type": "execute_result"
    }
   ],
   "source": [
    "df"
   ]
  },
  {
   "cell_type": "markdown",
   "id": "fa48ed2e",
   "metadata": {},
   "source": [
    "In order to change the column format we have to use the `astype()` function from the [`Series`](https://pandas.pydata.org/docs/reference/api/pandas.Series.html#pandas.Series) class. \n",
    "\n",
    "Thus, every column in a `DataFrame` is a `Series` object,"
   ]
  },
  {
   "cell_type": "code",
   "execution_count": 9,
   "id": "3545f16c",
   "metadata": {},
   "outputs": [
    {
     "data": {
      "text/plain": [
       "(pandas.core.frame.DataFrame, pandas.core.series.Series)"
      ]
     },
     "execution_count": 9,
     "metadata": {},
     "output_type": "execute_result"
    }
   ],
   "source": [
    "type(df), type(df['col1'])"
   ]
  },
  {
   "cell_type": "markdown",
   "id": "8a2620ef",
   "metadata": {},
   "source": [
    "The `Series` object has functions that operates over the column data. \n",
    "\n",
    "In the example, we need to change the format of the `col1` from floats to integers."
   ]
  },
  {
   "cell_type": "code",
   "execution_count": 10,
   "id": "a55071a4",
   "metadata": {},
   "outputs": [],
   "source": [
    "df['col1'] = df['col1'].astype(int)"
   ]
  },
  {
   "cell_type": "code",
   "execution_count": 11,
   "id": "6f4a3e60",
   "metadata": {},
   "outputs": [
    {
     "data": {
      "text/html": [
       "<div>\n",
       "<style scoped>\n",
       "    .dataframe tbody tr th:only-of-type {\n",
       "        vertical-align: middle;\n",
       "    }\n",
       "\n",
       "    .dataframe tbody tr th {\n",
       "        vertical-align: top;\n",
       "    }\n",
       "\n",
       "    .dataframe thead th {\n",
       "        text-align: right;\n",
       "    }\n",
       "</style>\n",
       "<table border=\"1\" class=\"dataframe\">\n",
       "  <thead>\n",
       "    <tr style=\"text-align: right;\">\n",
       "      <th></th>\n",
       "      <th>col1</th>\n",
       "      <th>col2</th>\n",
       "      <th>col3</th>\n",
       "    </tr>\n",
       "  </thead>\n",
       "  <tbody>\n",
       "    <tr>\n",
       "      <th>2</th>\n",
       "      <td>1</td>\n",
       "      <td>a</td>\n",
       "      <td>0.1</td>\n",
       "    </tr>\n",
       "    <tr>\n",
       "      <th>3</th>\n",
       "      <td>2</td>\n",
       "      <td>b</td>\n",
       "      <td>0.2</td>\n",
       "    </tr>\n",
       "    <tr>\n",
       "      <th>4</th>\n",
       "      <td>3</td>\n",
       "      <td>c</td>\n",
       "      <td>0.3</td>\n",
       "    </tr>\n",
       "    <tr>\n",
       "      <th>5</th>\n",
       "      <td>4</td>\n",
       "      <td>d</td>\n",
       "      <td>0.4</td>\n",
       "    </tr>\n",
       "    <tr>\n",
       "      <th>6</th>\n",
       "      <td>5</td>\n",
       "      <td>e</td>\n",
       "      <td>0.5</td>\n",
       "    </tr>\n",
       "    <tr>\n",
       "      <th>7</th>\n",
       "      <td>6</td>\n",
       "      <td>d</td>\n",
       "      <td>0.6</td>\n",
       "    </tr>\n",
       "  </tbody>\n",
       "</table>\n",
       "</div>"
      ],
      "text/plain": [
       "   col1 col2  col3\n",
       "2     1    a   0.1\n",
       "3     2    b   0.2\n",
       "4     3    c   0.3\n",
       "5     4    d   0.4\n",
       "6     5    e   0.5\n",
       "7     6    d   0.6"
      ]
     },
     "execution_count": 11,
     "metadata": {},
     "output_type": "execute_result"
    }
   ],
   "source": [
    "df"
   ]
  },
  {
   "cell_type": "markdown",
   "id": "6557d7b2",
   "metadata": {},
   "source": [
    "of course we can also save the `DataFrame` in the desire format"
   ]
  },
  {
   "cell_type": "code",
   "execution_count": 12,
   "id": "879d66e6",
   "metadata": {},
   "outputs": [],
   "source": [
    "df.to_csv('./data/example_1.csv', index=False) # Put index=false to avoid creating a new index column"
   ]
  },
  {
   "cell_type": "code",
   "execution_count": 13,
   "id": "aa349c63",
   "metadata": {},
   "outputs": [
    {
     "data": {
      "text/html": [
       "<div>\n",
       "<style scoped>\n",
       "    .dataframe tbody tr th:only-of-type {\n",
       "        vertical-align: middle;\n",
       "    }\n",
       "\n",
       "    .dataframe tbody tr th {\n",
       "        vertical-align: top;\n",
       "    }\n",
       "\n",
       "    .dataframe thead th {\n",
       "        text-align: right;\n",
       "    }\n",
       "</style>\n",
       "<table border=\"1\" class=\"dataframe\">\n",
       "  <thead>\n",
       "    <tr style=\"text-align: right;\">\n",
       "      <th></th>\n",
       "      <th>col1</th>\n",
       "      <th>col2</th>\n",
       "      <th>col3</th>\n",
       "    </tr>\n",
       "  </thead>\n",
       "  <tbody>\n",
       "    <tr>\n",
       "      <th>0</th>\n",
       "      <td>1</td>\n",
       "      <td>a</td>\n",
       "      <td>0.1</td>\n",
       "    </tr>\n",
       "    <tr>\n",
       "      <th>1</th>\n",
       "      <td>2</td>\n",
       "      <td>b</td>\n",
       "      <td>0.2</td>\n",
       "    </tr>\n",
       "    <tr>\n",
       "      <th>2</th>\n",
       "      <td>3</td>\n",
       "      <td>c</td>\n",
       "      <td>0.3</td>\n",
       "    </tr>\n",
       "    <tr>\n",
       "      <th>3</th>\n",
       "      <td>4</td>\n",
       "      <td>d</td>\n",
       "      <td>0.4</td>\n",
       "    </tr>\n",
       "    <tr>\n",
       "      <th>4</th>\n",
       "      <td>5</td>\n",
       "      <td>e</td>\n",
       "      <td>0.5</td>\n",
       "    </tr>\n",
       "    <tr>\n",
       "      <th>5</th>\n",
       "      <td>6</td>\n",
       "      <td>d</td>\n",
       "      <td>0.6</td>\n",
       "    </tr>\n",
       "  </tbody>\n",
       "</table>\n",
       "</div>"
      ],
      "text/plain": [
       "   col1 col2  col3\n",
       "0     1    a   0.1\n",
       "1     2    b   0.2\n",
       "2     3    c   0.3\n",
       "3     4    d   0.4\n",
       "4     5    e   0.5\n",
       "5     6    d   0.6"
      ]
     },
     "execution_count": 13,
     "metadata": {},
     "output_type": "execute_result"
    }
   ],
   "source": [
    "pd.read_csv('./data/example_1.csv')"
   ]
  },
  {
   "cell_type": "markdown",
   "id": "f7b65e22",
   "metadata": {},
   "source": [
    "Finally, Pandas can also load data from remote sources (`url`). For example, the science ministry of Chile has climate change resources for investigation. In this case, we use [the amount of water falling in 24 hours](https://github.com/MinCiencia/Datos-CambioClimatico/tree/main/output/agua24_dmc).\n",
    "\n",
    "In this case the link is \n",
    "\n",
    "`https://github.com/MinCiencia/Datos-CambioClimatico/blob/main/output/agua24_dmc/1955/1955_agua24_dmc.csv`\n",
    "\n",
    "which display a visualization of the tabular data. However, in order to load the csv in a `DataFrame` we must access to the raw format\n",
    "\n",
    "\n",
    "<img src=\"images/raw_csv.png\" width=\"900\"/>"
   ]
  },
  {
   "cell_type": "code",
   "execution_count": 14,
   "id": "016b9741",
   "metadata": {},
   "outputs": [
    {
     "data": {
      "text/html": [
       "<div>\n",
       "<style scoped>\n",
       "    .dataframe tbody tr th:only-of-type {\n",
       "        vertical-align: middle;\n",
       "    }\n",
       "\n",
       "    .dataframe tbody tr th {\n",
       "        vertical-align: top;\n",
       "    }\n",
       "\n",
       "    .dataframe thead th {\n",
       "        text-align: right;\n",
       "    }\n",
       "</style>\n",
       "<table border=\"1\" class=\"dataframe\">\n",
       "  <thead>\n",
       "    <tr style=\"text-align: right;\">\n",
       "      <th></th>\n",
       "      <th>time</th>\n",
       "      <th>latitud</th>\n",
       "      <th>longitud</th>\n",
       "      <th>RRR24_Valor</th>\n",
       "      <th>Traza_Valor</th>\n",
       "      <th>CodigoNacional</th>\n",
       "      <th>nombreEstacion</th>\n",
       "    </tr>\n",
       "  </thead>\n",
       "  <tbody>\n",
       "    <tr>\n",
       "      <th>0</th>\n",
       "      <td>1955-08-11 12:00:00</td>\n",
       "      <td>-45.91833</td>\n",
       "      <td>-71.67778</td>\n",
       "      <td>2.0</td>\n",
       "      <td>0.0</td>\n",
       "      <td>450005.0</td>\n",
       "      <td>Balmaceda Ad.</td>\n",
       "    </tr>\n",
       "  </tbody>\n",
       "</table>\n",
       "</div>"
      ],
      "text/plain": [
       "                  time   latitud  longitud  RRR24_Valor  Traza_Valor  \\\n",
       "0  1955-08-11 12:00:00 -45.91833 -71.67778          2.0          0.0   \n",
       "\n",
       "   CodigoNacional nombreEstacion  \n",
       "0        450005.0  Balmaceda Ad.  "
      ]
     },
     "execution_count": 14,
     "metadata": {},
     "output_type": "execute_result"
    }
   ],
   "source": [
    "pd.read_csv('https://raw.githubusercontent.com/MinCiencia/Datos-CambioClimatico/main/output/agua24_dmc/1955/1955_agua24_dmc.csv')"
   ]
  },
  {
   "cell_type": "markdown",
   "id": "6ab42102",
   "metadata": {},
   "source": [
    "## Pandas operations"
   ]
  },
  {
   "cell_type": "markdown",
   "id": "5418d50c",
   "metadata": {},
   "source": [
    "### Concatenation\n",
    "\n",
    "When we concatenate we **connect**, as in chain, **two or more** `DataFrame` that have the **same structure**.\n",
    "\n",
    "Let's take the github repository used in the previous exercise to show how concatenation works in Pandas"
   ]
  },
  {
   "cell_type": "code",
   "execution_count": 15,
   "id": "00a49da2",
   "metadata": {},
   "outputs": [],
   "source": [
    "template_url = 'https://raw.githubusercontent.com/MinCiencia/Datos-CambioClimatico/main/output/agua24_dmc/{}/{}_agua24_dmc.csv'"
   ]
  },
  {
   "cell_type": "code",
   "execution_count": 16,
   "id": "7ba8b2e1",
   "metadata": {},
   "outputs": [
    {
     "data": {
      "text/plain": [
       "'https://raw.githubusercontent.com/MinCiencia/Datos-CambioClimatico/main/output/agua24_dmc/1994/1994_agua24_dmc.csv'"
      ]
     },
     "execution_count": 16,
     "metadata": {},
     "output_type": "execute_result"
    }
   ],
   "source": [
    "year = 1994\n",
    "template_url.format(year, year)"
   ]
  },
  {
   "cell_type": "code",
   "execution_count": 17,
   "id": "ba93768e",
   "metadata": {},
   "outputs": [
    {
     "data": {
      "text/html": [
       "<div>\n",
       "<style scoped>\n",
       "    .dataframe tbody tr th:only-of-type {\n",
       "        vertical-align: middle;\n",
       "    }\n",
       "\n",
       "    .dataframe tbody tr th {\n",
       "        vertical-align: top;\n",
       "    }\n",
       "\n",
       "    .dataframe thead th {\n",
       "        text-align: right;\n",
       "    }\n",
       "</style>\n",
       "<table border=\"1\" class=\"dataframe\">\n",
       "  <thead>\n",
       "    <tr style=\"text-align: right;\">\n",
       "      <th></th>\n",
       "      <th>time</th>\n",
       "      <th>latitud</th>\n",
       "      <th>longitud</th>\n",
       "      <th>RRR24_Valor</th>\n",
       "      <th>Traza_Valor</th>\n",
       "      <th>CodigoNacional</th>\n",
       "      <th>nombreEstacion</th>\n",
       "    </tr>\n",
       "  </thead>\n",
       "  <tbody>\n",
       "    <tr>\n",
       "      <th>0</th>\n",
       "      <td>1994-01-01 12:00:00</td>\n",
       "      <td>-18.35555</td>\n",
       "      <td>-70.34028</td>\n",
       "      <td>0.0</td>\n",
       "      <td>0.0</td>\n",
       "      <td>180005.0</td>\n",
       "      <td>Chacalluta, Arica Ap.</td>\n",
       "    </tr>\n",
       "    <tr>\n",
       "      <th>1</th>\n",
       "      <td>1994-01-02 12:00:00</td>\n",
       "      <td>-18.35555</td>\n",
       "      <td>-70.34028</td>\n",
       "      <td>0.0</td>\n",
       "      <td>0.0</td>\n",
       "      <td>180005.0</td>\n",
       "      <td>Chacalluta, Arica Ap.</td>\n",
       "    </tr>\n",
       "    <tr>\n",
       "      <th>2</th>\n",
       "      <td>1994-01-03 12:00:00</td>\n",
       "      <td>-18.35555</td>\n",
       "      <td>-70.34028</td>\n",
       "      <td>0.0</td>\n",
       "      <td>0.0</td>\n",
       "      <td>180005.0</td>\n",
       "      <td>Chacalluta, Arica Ap.</td>\n",
       "    </tr>\n",
       "    <tr>\n",
       "      <th>3</th>\n",
       "      <td>1994-01-04 12:00:00</td>\n",
       "      <td>-18.35555</td>\n",
       "      <td>-70.34028</td>\n",
       "      <td>0.0</td>\n",
       "      <td>0.0</td>\n",
       "      <td>180005.0</td>\n",
       "      <td>Chacalluta, Arica Ap.</td>\n",
       "    </tr>\n",
       "    <tr>\n",
       "      <th>4</th>\n",
       "      <td>1994-01-05 12:00:00</td>\n",
       "      <td>-18.35555</td>\n",
       "      <td>-70.34028</td>\n",
       "      <td>0.0</td>\n",
       "      <td>0.0</td>\n",
       "      <td>180005.0</td>\n",
       "      <td>Chacalluta, Arica Ap.</td>\n",
       "    </tr>\n",
       "    <tr>\n",
       "      <th>...</th>\n",
       "      <td>...</td>\n",
       "      <td>...</td>\n",
       "      <td>...</td>\n",
       "      <td>...</td>\n",
       "      <td>...</td>\n",
       "      <td>...</td>\n",
       "      <td>...</td>\n",
       "    </tr>\n",
       "    <tr>\n",
       "      <th>8650</th>\n",
       "      <td>1994-06-26 12:00:00</td>\n",
       "      <td>-62.19194</td>\n",
       "      <td>-58.97972</td>\n",
       "      <td>0.3</td>\n",
       "      <td>0.0</td>\n",
       "      <td>950001.0</td>\n",
       "      <td>C.M.A. Eduardo Frei Montalva, Antártica</td>\n",
       "    </tr>\n",
       "    <tr>\n",
       "      <th>8651</th>\n",
       "      <td>1994-06-27 12:00:00</td>\n",
       "      <td>-62.19194</td>\n",
       "      <td>-58.97972</td>\n",
       "      <td>0.0</td>\n",
       "      <td>0.0</td>\n",
       "      <td>950001.0</td>\n",
       "      <td>C.M.A. Eduardo Frei Montalva, Antártica</td>\n",
       "    </tr>\n",
       "    <tr>\n",
       "      <th>8652</th>\n",
       "      <td>1994-06-28 12:00:00</td>\n",
       "      <td>-62.19194</td>\n",
       "      <td>-58.97972</td>\n",
       "      <td>0.0</td>\n",
       "      <td>0.0</td>\n",
       "      <td>950001.0</td>\n",
       "      <td>C.M.A. Eduardo Frei Montalva, Antártica</td>\n",
       "    </tr>\n",
       "    <tr>\n",
       "      <th>8653</th>\n",
       "      <td>1994-06-29 12:00:00</td>\n",
       "      <td>-62.19194</td>\n",
       "      <td>-58.97972</td>\n",
       "      <td>1.0</td>\n",
       "      <td>0.0</td>\n",
       "      <td>950001.0</td>\n",
       "      <td>C.M.A. Eduardo Frei Montalva, Antártica</td>\n",
       "    </tr>\n",
       "    <tr>\n",
       "      <th>8654</th>\n",
       "      <td>1994-06-30 12:00:00</td>\n",
       "      <td>-62.19194</td>\n",
       "      <td>-58.97972</td>\n",
       "      <td>0.8</td>\n",
       "      <td>0.0</td>\n",
       "      <td>950001.0</td>\n",
       "      <td>C.M.A. Eduardo Frei Montalva, Antártica</td>\n",
       "    </tr>\n",
       "  </tbody>\n",
       "</table>\n",
       "<p>8655 rows × 7 columns</p>\n",
       "</div>"
      ],
      "text/plain": [
       "                     time   latitud  longitud  RRR24_Valor  Traza_Valor  \\\n",
       "0     1994-01-01 12:00:00 -18.35555 -70.34028          0.0          0.0   \n",
       "1     1994-01-02 12:00:00 -18.35555 -70.34028          0.0          0.0   \n",
       "2     1994-01-03 12:00:00 -18.35555 -70.34028          0.0          0.0   \n",
       "3     1994-01-04 12:00:00 -18.35555 -70.34028          0.0          0.0   \n",
       "4     1994-01-05 12:00:00 -18.35555 -70.34028          0.0          0.0   \n",
       "...                   ...       ...       ...          ...          ...   \n",
       "8650  1994-06-26 12:00:00 -62.19194 -58.97972          0.3          0.0   \n",
       "8651  1994-06-27 12:00:00 -62.19194 -58.97972          0.0          0.0   \n",
       "8652  1994-06-28 12:00:00 -62.19194 -58.97972          0.0          0.0   \n",
       "8653  1994-06-29 12:00:00 -62.19194 -58.97972          1.0          0.0   \n",
       "8654  1994-06-30 12:00:00 -62.19194 -58.97972          0.8          0.0   \n",
       "\n",
       "      CodigoNacional                            nombreEstacion  \n",
       "0           180005.0                     Chacalluta, Arica Ap.  \n",
       "1           180005.0                     Chacalluta, Arica Ap.  \n",
       "2           180005.0                     Chacalluta, Arica Ap.  \n",
       "3           180005.0                     Chacalluta, Arica Ap.  \n",
       "4           180005.0                     Chacalluta, Arica Ap.  \n",
       "...              ...                                       ...  \n",
       "8650        950001.0  C.M.A. Eduardo Frei Montalva, Antártica   \n",
       "8651        950001.0  C.M.A. Eduardo Frei Montalva, Antártica   \n",
       "8652        950001.0  C.M.A. Eduardo Frei Montalva, Antártica   \n",
       "8653        950001.0  C.M.A. Eduardo Frei Montalva, Antártica   \n",
       "8654        950001.0  C.M.A. Eduardo Frei Montalva, Antártica   \n",
       "\n",
       "[8655 rows x 7 columns]"
      ]
     },
     "execution_count": 17,
     "metadata": {},
     "output_type": "execute_result"
    }
   ],
   "source": [
    "pd.read_csv(template_url.format(year, year))"
   ]
  },
  {
   "cell_type": "markdown",
   "id": "665d0c96",
   "metadata": {},
   "source": [
    "We can iterate over dates to capture the year-associated waterfall.\n",
    "\n",
    "Pandas provides functions to generate [range of dates](https://pandas.pydata.org/docs/reference/api/pandas.date_range.html#pandas-date-range)"
   ]
  },
  {
   "cell_type": "code",
   "execution_count": 28,
   "id": "3ebb09b5",
   "metadata": {},
   "outputs": [
    {
     "data": {
      "text/plain": [
       "DatetimeIndex(['1955-12-31', '1956-12-31', '1957-12-31', '1958-12-31',\n",
       "               '1959-12-31', '1960-12-31', '1961-12-31', '1962-12-31',\n",
       "               '1963-12-31', '1964-12-31'],\n",
       "              dtype='datetime64[ns]', freq='A-DEC')"
      ]
     },
     "execution_count": 28,
     "metadata": {},
     "output_type": "execute_result"
    }
   ],
   "source": [
    "start = '1-1-1955'\n",
    "end   = '1-1-1965'\n",
    "years_range = pd.date_range(start=start, end=end, freq ='1Y')\n",
    "years_range"
   ]
  },
  {
   "cell_type": "markdown",
   "id": "8b7ec491",
   "metadata": {},
   "source": [
    "Now we must push `DataFrame`s into a `list`. This list contains the DataFrames to be concatenated"
   ]
  },
  {
   "cell_type": "code",
   "execution_count": 46,
   "id": "dc036a98",
   "metadata": {},
   "outputs": [],
   "source": [
    "list_of_dataframes = []\n",
    "for pos, date in enumerate(years_range):\n",
    "    df = pd.read_csv(template_url.format(date.year, date.year))\n",
    "    list_of_dataframes.append(df)"
   ]
  },
  {
   "cell_type": "markdown",
   "id": "f20f9b42",
   "metadata": {},
   "source": [
    "Now we can use the [`pd.concat()`](https://pandas.pydata.org/docs/reference/api/pandas.concat.html#pandas-concat) method that recieve our list of `DataFrame`."
   ]
  },
  {
   "cell_type": "code",
   "execution_count": 47,
   "id": "1e68efba",
   "metadata": {},
   "outputs": [],
   "source": [
    "df_concat = pd.concat(list_of_dataframes)"
   ]
  },
  {
   "cell_type": "code",
   "execution_count": 48,
   "id": "f3bb9ec0",
   "metadata": {},
   "outputs": [
    {
     "data": {
      "text/html": [
       "<div>\n",
       "<style scoped>\n",
       "    .dataframe tbody tr th:only-of-type {\n",
       "        vertical-align: middle;\n",
       "    }\n",
       "\n",
       "    .dataframe tbody tr th {\n",
       "        vertical-align: top;\n",
       "    }\n",
       "\n",
       "    .dataframe thead th {\n",
       "        text-align: right;\n",
       "    }\n",
       "</style>\n",
       "<table border=\"1\" class=\"dataframe\">\n",
       "  <thead>\n",
       "    <tr style=\"text-align: right;\">\n",
       "      <th></th>\n",
       "      <th>time</th>\n",
       "      <th>latitud</th>\n",
       "      <th>longitud</th>\n",
       "      <th>RRR24_Valor</th>\n",
       "      <th>Traza_Valor</th>\n",
       "      <th>CodigoNacional</th>\n",
       "      <th>nombreEstacion</th>\n",
       "    </tr>\n",
       "  </thead>\n",
       "  <tbody>\n",
       "    <tr>\n",
       "      <th>0</th>\n",
       "      <td>1955-08-11 12:00:00</td>\n",
       "      <td>-45.91833</td>\n",
       "      <td>-71.67778</td>\n",
       "      <td>2.0</td>\n",
       "      <td>0.0</td>\n",
       "      <td>450005.0</td>\n",
       "      <td>Balmaceda Ad.</td>\n",
       "    </tr>\n",
       "    <tr>\n",
       "      <th>0</th>\n",
       "      <td>1957-01-02 12:00:00</td>\n",
       "      <td>-34.96944</td>\n",
       "      <td>-71.21694</td>\n",
       "      <td>NaN</td>\n",
       "      <td>NaN</td>\n",
       "      <td>340031.0</td>\n",
       "      <td>General Freire, Curicó Ad.</td>\n",
       "    </tr>\n",
       "    <tr>\n",
       "      <th>1</th>\n",
       "      <td>1957-09-24 12:00:00</td>\n",
       "      <td>-45.91833</td>\n",
       "      <td>-71.67778</td>\n",
       "      <td>3.8</td>\n",
       "      <td>0.0</td>\n",
       "      <td>450005.0</td>\n",
       "      <td>Balmaceda Ad.</td>\n",
       "    </tr>\n",
       "    <tr>\n",
       "      <th>2</th>\n",
       "      <td>1957-09-26 12:00:00</td>\n",
       "      <td>-45.91833</td>\n",
       "      <td>-71.67778</td>\n",
       "      <td>0.8</td>\n",
       "      <td>0.0</td>\n",
       "      <td>450005.0</td>\n",
       "      <td>Balmaceda Ad.</td>\n",
       "    </tr>\n",
       "    <tr>\n",
       "      <th>3</th>\n",
       "      <td>1957-09-27 12:00:00</td>\n",
       "      <td>-45.91833</td>\n",
       "      <td>-71.67778</td>\n",
       "      <td>7.2</td>\n",
       "      <td>0.0</td>\n",
       "      <td>450005.0</td>\n",
       "      <td>Balmaceda Ad.</td>\n",
       "    </tr>\n",
       "    <tr>\n",
       "      <th>...</th>\n",
       "      <td>...</td>\n",
       "      <td>...</td>\n",
       "      <td>...</td>\n",
       "      <td>...</td>\n",
       "      <td>...</td>\n",
       "      <td>...</td>\n",
       "      <td>...</td>\n",
       "    </tr>\n",
       "    <tr>\n",
       "      <th>361</th>\n",
       "      <td>1964-12-27 12:00:00</td>\n",
       "      <td>-54.93167</td>\n",
       "      <td>-67.61556</td>\n",
       "      <td>0.0</td>\n",
       "      <td>0.0</td>\n",
       "      <td>550001.0</td>\n",
       "      <td>Guardiamarina Zañartu, Pto Williams Ad.</td>\n",
       "    </tr>\n",
       "    <tr>\n",
       "      <th>362</th>\n",
       "      <td>1964-12-28 12:00:00</td>\n",
       "      <td>-54.93167</td>\n",
       "      <td>-67.61556</td>\n",
       "      <td>0.0</td>\n",
       "      <td>0.0</td>\n",
       "      <td>550001.0</td>\n",
       "      <td>Guardiamarina Zañartu, Pto Williams Ad.</td>\n",
       "    </tr>\n",
       "    <tr>\n",
       "      <th>363</th>\n",
       "      <td>1964-12-29 12:00:00</td>\n",
       "      <td>-54.93167</td>\n",
       "      <td>-67.61556</td>\n",
       "      <td>0.0</td>\n",
       "      <td>0.0</td>\n",
       "      <td>550001.0</td>\n",
       "      <td>Guardiamarina Zañartu, Pto Williams Ad.</td>\n",
       "    </tr>\n",
       "    <tr>\n",
       "      <th>364</th>\n",
       "      <td>1964-12-30 12:00:00</td>\n",
       "      <td>-54.93167</td>\n",
       "      <td>-67.61556</td>\n",
       "      <td>0.0</td>\n",
       "      <td>0.0</td>\n",
       "      <td>550001.0</td>\n",
       "      <td>Guardiamarina Zañartu, Pto Williams Ad.</td>\n",
       "    </tr>\n",
       "    <tr>\n",
       "      <th>365</th>\n",
       "      <td>1964-12-31 12:00:00</td>\n",
       "      <td>-54.93167</td>\n",
       "      <td>-67.61556</td>\n",
       "      <td>0.0</td>\n",
       "      <td>1.0</td>\n",
       "      <td>550001.0</td>\n",
       "      <td>Guardiamarina Zañartu, Pto Williams Ad.</td>\n",
       "    </tr>\n",
       "  </tbody>\n",
       "</table>\n",
       "<p>3361 rows × 7 columns</p>\n",
       "</div>"
      ],
      "text/plain": [
       "                    time   latitud  longitud RRR24_Valor Traza_Valor  \\\n",
       "0    1955-08-11 12:00:00 -45.91833 -71.67778         2.0         0.0   \n",
       "0    1957-01-02 12:00:00 -34.96944 -71.21694         NaN         NaN   \n",
       "1    1957-09-24 12:00:00 -45.91833 -71.67778         3.8         0.0   \n",
       "2    1957-09-26 12:00:00 -45.91833 -71.67778         0.8         0.0   \n",
       "3    1957-09-27 12:00:00 -45.91833 -71.67778         7.2         0.0   \n",
       "..                   ...       ...       ...         ...         ...   \n",
       "361  1964-12-27 12:00:00 -54.93167 -67.61556         0.0         0.0   \n",
       "362  1964-12-28 12:00:00 -54.93167 -67.61556         0.0         0.0   \n",
       "363  1964-12-29 12:00:00 -54.93167 -67.61556         0.0         0.0   \n",
       "364  1964-12-30 12:00:00 -54.93167 -67.61556         0.0         0.0   \n",
       "365  1964-12-31 12:00:00 -54.93167 -67.61556         0.0         1.0   \n",
       "\n",
       "    CodigoNacional                           nombreEstacion  \n",
       "0         450005.0                            Balmaceda Ad.  \n",
       "0         340031.0               General Freire, Curicó Ad.  \n",
       "1         450005.0                            Balmaceda Ad.  \n",
       "2         450005.0                            Balmaceda Ad.  \n",
       "3         450005.0                            Balmaceda Ad.  \n",
       "..             ...                                      ...  \n",
       "361       550001.0  Guardiamarina Zañartu, Pto Williams Ad.  \n",
       "362       550001.0  Guardiamarina Zañartu, Pto Williams Ad.  \n",
       "363       550001.0  Guardiamarina Zañartu, Pto Williams Ad.  \n",
       "364       550001.0  Guardiamarina Zañartu, Pto Williams Ad.  \n",
       "365       550001.0  Guardiamarina Zañartu, Pto Williams Ad.  \n",
       "\n",
       "[3361 rows x 7 columns]"
      ]
     },
     "execution_count": 48,
     "metadata": {},
     "output_type": "execute_result"
    }
   ],
   "source": [
    "df_concat"
   ]
  },
  {
   "cell_type": "markdown",
   "id": "a4269dc2",
   "metadata": {},
   "source": [
    "### Merge"
   ]
  },
  {
   "cell_type": "markdown",
   "id": "f8b0887e",
   "metadata": {},
   "source": [
    "The `merge` method is similar to `join` in SQL. Actually, pandas also implements a `join()` method. However, the `merge` operator is **high performance in-memory**, and it can work on every sql-like `join` operation.\n",
    "\n",
    "Before showing the implementantion and sintax of the method, we must understand the mechansim of joining `DataFrame`"
   ]
  },
  {
   "cell_type": "code",
   "execution_count": 8,
   "id": "3685b185",
   "metadata": {},
   "outputs": [],
   "source": [
    "from utils import display_side_by_side # Just to plot"
   ]
  },
  {
   "cell_type": "markdown",
   "id": "0e3cdb49",
   "metadata": {},
   "source": [
    "In any merge/join operation we must have **common columns**,"
   ]
  },
  {
   "cell_type": "code",
   "execution_count": 45,
   "id": "bbe89e90",
   "metadata": {},
   "outputs": [],
   "source": [
    "df_1 = pd.DataFrame({'a':['a1', 'a2'], 'b':['b1', 'b2']})\n",
    "df_2 = pd.DataFrame({'b':['b1', 'b2', 'b3'], 'c':['c1', 'c2','c3']})"
   ]
  },
  {
   "cell_type": "code",
   "execution_count": 46,
   "id": "69e52b01",
   "metadata": {},
   "outputs": [
    {
     "data": {
      "text/html": [
       "<th style=\"text-align:center\"><td style=\"vertical-align:top\"><h2></h2><table style=\"display:inline\" border=\"1\" class=\"dataframe\">\n",
       "  <thead>\n",
       "    <tr style=\"text-align: right;\">\n",
       "      <th></th>\n",
       "      <th>a</th>\n",
       "      <th>b</th>\n",
       "    </tr>\n",
       "  </thead>\n",
       "  <tbody>\n",
       "    <tr>\n",
       "      <th>0</th>\n",
       "      <td>a1</td>\n",
       "      <td>b1</td>\n",
       "    </tr>\n",
       "    <tr>\n",
       "      <th>1</th>\n",
       "      <td>a2</td>\n",
       "      <td>b2</td>\n",
       "    </tr>\n",
       "  </tbody>\n",
       "</table style=\"display:inline\"></td></th><th style=\"text-align:center\"><td style=\"vertical-align:top\"><h2></h2><table style=\"display:inline\" border=\"1\" class=\"dataframe\">\n",
       "  <thead>\n",
       "    <tr style=\"text-align: right;\">\n",
       "      <th></th>\n",
       "      <th>b</th>\n",
       "      <th>c</th>\n",
       "    </tr>\n",
       "  </thead>\n",
       "  <tbody>\n",
       "    <tr>\n",
       "      <th>0</th>\n",
       "      <td>b1</td>\n",
       "      <td>c1</td>\n",
       "    </tr>\n",
       "    <tr>\n",
       "      <th>1</th>\n",
       "      <td>b2</td>\n",
       "      <td>c2</td>\n",
       "    </tr>\n",
       "    <tr>\n",
       "      <th>2</th>\n",
       "      <td>b3</td>\n",
       "      <td>c3</td>\n",
       "    </tr>\n",
       "  </tbody>\n",
       "</table style=\"display:inline\"></td></th>"
      ]
     },
     "metadata": {},
     "output_type": "display_data"
    }
   ],
   "source": [
    "display_side_by_side(df_1,df_2)"
   ]
  },
  {
   "cell_type": "code",
   "execution_count": 47,
   "id": "dd793847",
   "metadata": {},
   "outputs": [
    {
     "data": {
      "text/html": [
       "<th style=\"text-align:center\"><td style=\"vertical-align:top\"><h2></h2><table style=\"display:inline\" border=\"1\" class=\"dataframe\">\n",
       "  <thead>\n",
       "    <tr style=\"text-align: right;\">\n",
       "      <th></th>\n",
       "      <th>a</th>\n",
       "      <th>b</th>\n",
       "    </tr>\n",
       "  </thead>\n",
       "  <tbody>\n",
       "    <tr>\n",
       "      <th>0</th>\n",
       "      <td>a1</td>\n",
       "      <td>b1</td>\n",
       "    </tr>\n",
       "    <tr>\n",
       "      <th>1</th>\n",
       "      <td>a2</td>\n",
       "      <td>b2</td>\n",
       "    </tr>\n",
       "  </tbody>\n",
       "</table style=\"display:inline\"></td></th><th style=\"text-align:center\"><td style=\"vertical-align:top\"><h2></h2><table style=\"display:inline\" border=\"1\" class=\"dataframe\">\n",
       "  <thead>\n",
       "    <tr style=\"text-align: right;\">\n",
       "      <th></th>\n",
       "      <th>b</th>\n",
       "      <th>c</th>\n",
       "    </tr>\n",
       "  </thead>\n",
       "  <tbody>\n",
       "    <tr>\n",
       "      <th>0</th>\n",
       "      <td>b1</td>\n",
       "      <td>c1</td>\n",
       "    </tr>\n",
       "    <tr>\n",
       "      <th>1</th>\n",
       "      <td>b2</td>\n",
       "      <td>c2</td>\n",
       "    </tr>\n",
       "    <tr>\n",
       "      <th>2</th>\n",
       "      <td>b3</td>\n",
       "      <td>c3</td>\n",
       "    </tr>\n",
       "  </tbody>\n",
       "</table style=\"display:inline\"></td></th><th style=\"text-align:center\"><td style=\"vertical-align:top\"><h2></h2><table style=\"display:inline\" border=\"1\" class=\"dataframe\">\n",
       "  <thead>\n",
       "    <tr style=\"text-align: right;\">\n",
       "      <th></th>\n",
       "      <th>a</th>\n",
       "      <th>b</th>\n",
       "      <th>c</th>\n",
       "    </tr>\n",
       "  </thead>\n",
       "  <tbody>\n",
       "    <tr>\n",
       "      <th>0</th>\n",
       "      <td>a1</td>\n",
       "      <td>b1</td>\n",
       "      <td>c1</td>\n",
       "    </tr>\n",
       "    <tr>\n",
       "      <th>1</th>\n",
       "      <td>a2</td>\n",
       "      <td>b2</td>\n",
       "      <td>c2</td>\n",
       "    </tr>\n",
       "  </tbody>\n",
       "</table style=\"display:inline\"></td></th>"
      ]
     },
     "metadata": {},
     "output_type": "display_data"
    }
   ],
   "source": [
    "df_12 = pd.merge(df_1, df_2)\n",
    "\n",
    "# =================\n",
    "display_side_by_side(df_1,df_2, df_12)"
   ]
  },
  {
   "cell_type": "markdown",
   "id": "03379944",
   "metadata": {},
   "source": [
    "The `merge` function has different join methods depending on what we need.\n",
    "\n",
    "By default, `method='inner'` which uses the intersection of the `DataFrames`. However we have another alternativies:"
   ]
  },
  {
   "cell_type": "markdown",
   "id": "4072bfa2",
   "metadata": {},
   "source": [
    "There are many ways to combine 2 dataframes using `pd.merge`.\n",
    "\n",
    "| Method| Description|\n",
    "| --- | --- |\n",
    "| left | Use keys from left frame only|\n",
    "| right| Use keys from right frame only|\n",
    "| outer| Use union of keys from both frames|\n",
    "| inner| Use intersection of keys from both frames|\n",
    "| cross| Create the cartesian product of rows of both frames"
   ]
  },
  {
   "cell_type": "code",
   "execution_count": 50,
   "id": "3c876865",
   "metadata": {},
   "outputs": [
    {
     "data": {
      "text/html": [
       "<th style=\"text-align:center\"><td style=\"vertical-align:top\"><h2>left</h2><table style=\"display:inline\" border=\"1\" class=\"dataframe\">\n",
       "  <thead>\n",
       "    <tr style=\"text-align: right;\">\n",
       "      <th></th>\n",
       "      <th>a</th>\n",
       "      <th>b</th>\n",
       "      <th>c</th>\n",
       "    </tr>\n",
       "  </thead>\n",
       "  <tbody>\n",
       "    <tr>\n",
       "      <th>0</th>\n",
       "      <td>a1</td>\n",
       "      <td>b1</td>\n",
       "      <td>c1</td>\n",
       "    </tr>\n",
       "    <tr>\n",
       "      <th>1</th>\n",
       "      <td>a2</td>\n",
       "      <td>b2</td>\n",
       "      <td>c2</td>\n",
       "    </tr>\n",
       "  </tbody>\n",
       "</table style=\"display:inline\"></td></th><th style=\"text-align:center\"><td style=\"vertical-align:top\"><h2>right</h2><table style=\"display:inline\" border=\"1\" class=\"dataframe\">\n",
       "  <thead>\n",
       "    <tr style=\"text-align: right;\">\n",
       "      <th></th>\n",
       "      <th>a</th>\n",
       "      <th>b</th>\n",
       "      <th>c</th>\n",
       "    </tr>\n",
       "  </thead>\n",
       "  <tbody>\n",
       "    <tr>\n",
       "      <th>0</th>\n",
       "      <td>a1</td>\n",
       "      <td>b1</td>\n",
       "      <td>c1</td>\n",
       "    </tr>\n",
       "    <tr>\n",
       "      <th>1</th>\n",
       "      <td>a2</td>\n",
       "      <td>b2</td>\n",
       "      <td>c2</td>\n",
       "    </tr>\n",
       "    <tr>\n",
       "      <th>2</th>\n",
       "      <td>NaN</td>\n",
       "      <td>b3</td>\n",
       "      <td>c3</td>\n",
       "    </tr>\n",
       "  </tbody>\n",
       "</table style=\"display:inline\"></td></th><th style=\"text-align:center\"><td style=\"vertical-align:top\"><h2>outer</h2><table style=\"display:inline\" border=\"1\" class=\"dataframe\">\n",
       "  <thead>\n",
       "    <tr style=\"text-align: right;\">\n",
       "      <th></th>\n",
       "      <th>a</th>\n",
       "      <th>b</th>\n",
       "      <th>c</th>\n",
       "    </tr>\n",
       "  </thead>\n",
       "  <tbody>\n",
       "    <tr>\n",
       "      <th>0</th>\n",
       "      <td>a1</td>\n",
       "      <td>b1</td>\n",
       "      <td>c1</td>\n",
       "    </tr>\n",
       "    <tr>\n",
       "      <th>1</th>\n",
       "      <td>a2</td>\n",
       "      <td>b2</td>\n",
       "      <td>c2</td>\n",
       "    </tr>\n",
       "    <tr>\n",
       "      <th>2</th>\n",
       "      <td>NaN</td>\n",
       "      <td>b3</td>\n",
       "      <td>c3</td>\n",
       "    </tr>\n",
       "  </tbody>\n",
       "</table style=\"display:inline\"></td></th><th style=\"text-align:center\"><td style=\"vertical-align:top\"><h2>inner</h2><table style=\"display:inline\" border=\"1\" class=\"dataframe\">\n",
       "  <thead>\n",
       "    <tr style=\"text-align: right;\">\n",
       "      <th></th>\n",
       "      <th>a</th>\n",
       "      <th>b</th>\n",
       "      <th>c</th>\n",
       "    </tr>\n",
       "  </thead>\n",
       "  <tbody>\n",
       "    <tr>\n",
       "      <th>0</th>\n",
       "      <td>a1</td>\n",
       "      <td>b1</td>\n",
       "      <td>c1</td>\n",
       "    </tr>\n",
       "    <tr>\n",
       "      <th>1</th>\n",
       "      <td>a2</td>\n",
       "      <td>b2</td>\n",
       "      <td>c2</td>\n",
       "    </tr>\n",
       "  </tbody>\n",
       "</table style=\"display:inline\"></td></th><th style=\"text-align:center\"><td style=\"vertical-align:top\"><h2>cross</h2><table style=\"display:inline\" border=\"1\" class=\"dataframe\">\n",
       "  <thead>\n",
       "    <tr style=\"text-align: right;\">\n",
       "      <th></th>\n",
       "      <th>a</th>\n",
       "      <th>b_x</th>\n",
       "      <th>b_y</th>\n",
       "      <th>c</th>\n",
       "    </tr>\n",
       "  </thead>\n",
       "  <tbody>\n",
       "    <tr>\n",
       "      <th>0</th>\n",
       "      <td>a1</td>\n",
       "      <td>b1</td>\n",
       "      <td>b1</td>\n",
       "      <td>c1</td>\n",
       "    </tr>\n",
       "    <tr>\n",
       "      <th>1</th>\n",
       "      <td>a1</td>\n",
       "      <td>b1</td>\n",
       "      <td>b2</td>\n",
       "      <td>c2</td>\n",
       "    </tr>\n",
       "    <tr>\n",
       "      <th>2</th>\n",
       "      <td>a1</td>\n",
       "      <td>b1</td>\n",
       "      <td>b3</td>\n",
       "      <td>c3</td>\n",
       "    </tr>\n",
       "    <tr>\n",
       "      <th>3</th>\n",
       "      <td>a2</td>\n",
       "      <td>b2</td>\n",
       "      <td>b1</td>\n",
       "      <td>c1</td>\n",
       "    </tr>\n",
       "    <tr>\n",
       "      <th>4</th>\n",
       "      <td>a2</td>\n",
       "      <td>b2</td>\n",
       "      <td>b2</td>\n",
       "      <td>c2</td>\n",
       "    </tr>\n",
       "    <tr>\n",
       "      <th>5</th>\n",
       "      <td>a2</td>\n",
       "      <td>b2</td>\n",
       "      <td>b3</td>\n",
       "      <td>c3</td>\n",
       "    </tr>\n",
       "  </tbody>\n",
       "</table style=\"display:inline\"></td></th>"
      ]
     },
     "metadata": {},
     "output_type": "display_data"
    }
   ],
   "source": [
    "df_l = pd.merge(df_1, df_2, how='left')\n",
    "df_r = pd.merge(df_1, df_2, how='right')\n",
    "df_o = pd.merge(df_1, df_2, how='outer')\n",
    "df_i = pd.merge(df_1, df_2, how='inner')\n",
    "df_x = pd.merge(df_1, df_2, how='cross')\n",
    "\n",
    "display_side_by_side(df_l, df_r, df_o, df_i, df_x, titles=['left', 'right', 'outer','inner','cross'])"
   ]
  },
  {
   "cell_type": "markdown",
   "id": "46d44860",
   "metadata": {},
   "source": [
    "Pandas also provides a [`join()`](https://pandas.pydata.org/docs/reference/api/pandas.DataFrame.join.html#pandas.DataFrame.join) method which works on indices only"
   ]
  },
  {
   "cell_type": "code",
   "execution_count": 59,
   "id": "b094b0d7",
   "metadata": {},
   "outputs": [
    {
     "data": {
      "text/html": [
       "<th style=\"text-align:center\"><td style=\"vertical-align:top\"><h2></h2><table style=\"display:inline\" border=\"1\" class=\"dataframe\">\n",
       "  <thead>\n",
       "    <tr style=\"text-align: right;\">\n",
       "      <th></th>\n",
       "      <th>a</th>\n",
       "    </tr>\n",
       "    <tr>\n",
       "      <th>b</th>\n",
       "      <th></th>\n",
       "    </tr>\n",
       "  </thead>\n",
       "  <tbody>\n",
       "    <tr>\n",
       "      <th>b1</th>\n",
       "      <td>a1</td>\n",
       "    </tr>\n",
       "    <tr>\n",
       "      <th>b2</th>\n",
       "      <td>a2</td>\n",
       "    </tr>\n",
       "  </tbody>\n",
       "</table style=\"display:inline\"></td></th><th style=\"text-align:center\"><td style=\"vertical-align:top\"><h2></h2><table style=\"display:inline\" border=\"1\" class=\"dataframe\">\n",
       "  <thead>\n",
       "    <tr style=\"text-align: right;\">\n",
       "      <th></th>\n",
       "      <th>c</th>\n",
       "    </tr>\n",
       "    <tr>\n",
       "      <th>b</th>\n",
       "      <th></th>\n",
       "    </tr>\n",
       "  </thead>\n",
       "  <tbody>\n",
       "    <tr>\n",
       "      <th>b1</th>\n",
       "      <td>c1</td>\n",
       "    </tr>\n",
       "    <tr>\n",
       "      <th>b2</th>\n",
       "      <td>c2</td>\n",
       "    </tr>\n",
       "    <tr>\n",
       "      <th>b3</th>\n",
       "      <td>c3</td>\n",
       "    </tr>\n",
       "  </tbody>\n",
       "</table style=\"display:inline\"></td></th><th style=\"text-align:center\"><td style=\"vertical-align:top\"><h2></h2><table style=\"display:inline\" border=\"1\" class=\"dataframe\">\n",
       "  <thead>\n",
       "    <tr style=\"text-align: right;\">\n",
       "      <th></th>\n",
       "      <th>a</th>\n",
       "      <th>c</th>\n",
       "    </tr>\n",
       "    <tr>\n",
       "      <th>b</th>\n",
       "      <th></th>\n",
       "      <th></th>\n",
       "    </tr>\n",
       "  </thead>\n",
       "  <tbody>\n",
       "    <tr>\n",
       "      <th>b1</th>\n",
       "      <td>a1</td>\n",
       "      <td>c1</td>\n",
       "    </tr>\n",
       "    <tr>\n",
       "      <th>b2</th>\n",
       "      <td>a2</td>\n",
       "      <td>c2</td>\n",
       "    </tr>\n",
       "  </tbody>\n",
       "</table style=\"display:inline\"></td></th>"
      ]
     },
     "metadata": {},
     "output_type": "display_data"
    }
   ],
   "source": [
    "df_1_index = df_1.set_index('b')\n",
    "df_2_index = df_2.set_index('b')\n",
    "\n",
    "join_df_1_2 = df_1_index.join(df_2_index)\n",
    "\n",
    "display_side_by_side(df_1_index, df_2_index, join_df_1_2)"
   ]
  },
  {
   "cell_type": "markdown",
   "id": "76669137",
   "metadata": {},
   "source": [
    "The merge method also do the same"
   ]
  },
  {
   "cell_type": "code",
   "execution_count": 66,
   "id": "a7177322",
   "metadata": {},
   "outputs": [
    {
     "data": {
      "text/html": [
       "<th style=\"text-align:center\"><td style=\"vertical-align:top\"><h2></h2><table style=\"display:inline\" border=\"1\" class=\"dataframe\">\n",
       "  <thead>\n",
       "    <tr style=\"text-align: right;\">\n",
       "      <th></th>\n",
       "      <th>a</th>\n",
       "    </tr>\n",
       "    <tr>\n",
       "      <th>b</th>\n",
       "      <th></th>\n",
       "    </tr>\n",
       "  </thead>\n",
       "  <tbody>\n",
       "    <tr>\n",
       "      <th>b1</th>\n",
       "      <td>a1</td>\n",
       "    </tr>\n",
       "    <tr>\n",
       "      <th>b2</th>\n",
       "      <td>a2</td>\n",
       "    </tr>\n",
       "  </tbody>\n",
       "</table style=\"display:inline\"></td></th><th style=\"text-align:center\"><td style=\"vertical-align:top\"><h2></h2><table style=\"display:inline\" border=\"1\" class=\"dataframe\">\n",
       "  <thead>\n",
       "    <tr style=\"text-align: right;\">\n",
       "      <th></th>\n",
       "      <th>c</th>\n",
       "    </tr>\n",
       "    <tr>\n",
       "      <th>b</th>\n",
       "      <th></th>\n",
       "    </tr>\n",
       "  </thead>\n",
       "  <tbody>\n",
       "    <tr>\n",
       "      <th>b1</th>\n",
       "      <td>c1</td>\n",
       "    </tr>\n",
       "    <tr>\n",
       "      <th>b2</th>\n",
       "      <td>c2</td>\n",
       "    </tr>\n",
       "    <tr>\n",
       "      <th>b3</th>\n",
       "      <td>c3</td>\n",
       "    </tr>\n",
       "  </tbody>\n",
       "</table style=\"display:inline\"></td></th><th style=\"text-align:center\"><td style=\"vertical-align:top\"><h2></h2><table style=\"display:inline\" border=\"1\" class=\"dataframe\">\n",
       "  <thead>\n",
       "    <tr style=\"text-align: right;\">\n",
       "      <th></th>\n",
       "      <th>a</th>\n",
       "      <th>c</th>\n",
       "    </tr>\n",
       "    <tr>\n",
       "      <th>b</th>\n",
       "      <th></th>\n",
       "      <th></th>\n",
       "    </tr>\n",
       "  </thead>\n",
       "  <tbody>\n",
       "    <tr>\n",
       "      <th>b1</th>\n",
       "      <td>a1</td>\n",
       "      <td>c1</td>\n",
       "    </tr>\n",
       "    <tr>\n",
       "      <th>b2</th>\n",
       "      <td>a2</td>\n",
       "      <td>c2</td>\n",
       "    </tr>\n",
       "  </tbody>\n",
       "</table style=\"display:inline\"></td></th>"
      ]
     },
     "metadata": {},
     "output_type": "display_data"
    }
   ],
   "source": [
    "merge_df_1_2 = pd.merge(df_1_index, df_2_index, left_index=True, right_index=True, how='left')\n",
    "\n",
    "display_side_by_side(df_1_index, df_2_index, merge_df_1_2)"
   ]
  },
  {
   "cell_type": "markdown",
   "id": "85da7146",
   "metadata": {},
   "source": [
    "In the next table we can see the comparison between `join()` and `merge()` as function of their capabilities\n",
    "\n",
    "<img src=\"images/merge_vs_join.png\" width=\"500\"/>"
   ]
  },
  {
   "cell_type": "markdown",
   "id": "ef3c6db6",
   "metadata": {},
   "source": [
    "### Split-Apply-Combine"
   ]
  },
  {
   "cell_type": "markdown",
   "id": "f57ee6e4",
   "metadata": {},
   "source": [
    "One of the most useful method in Pandas is the `groupby()` function. It allows to split our dataset given the columns values. "
   ]
  },
  {
   "cell_type": "code",
   "execution_count": 98,
   "id": "97635dca",
   "metadata": {},
   "outputs": [
    {
     "data": {
      "text/plain": [
       "Index(['Unnamed: 0', 'work_year', 'experience_level', 'employment_type',\n",
       "       'job_title', 'salary', 'salary_currency', 'salary_in_usd',\n",
       "       'employee_residence', 'remote_ratio', 'company_location',\n",
       "       'company_size'],\n",
       "      dtype='object')"
      ]
     },
     "execution_count": 98,
     "metadata": {},
     "output_type": "execute_result"
    }
   ],
   "source": [
    "df = pd.read_csv('./data/ds_salaries.csv')\n",
    "df.columns"
   ]
  },
  {
   "cell_type": "markdown",
   "id": "4eb57e38",
   "metadata": {},
   "source": [
    "In this case we have salaries for jobs related to data science. "
   ]
  },
  {
   "cell_type": "code",
   "execution_count": 103,
   "id": "66c9ef8c",
   "metadata": {},
   "outputs": [
    {
     "data": {
      "text/plain": [
       "US    355\n",
       "GB     47\n",
       "CA     30\n",
       "DE     28\n",
       "IN     24\n",
       "FR     15\n",
       "ES     14\n",
       "GR     11\n",
       "JP      6\n",
       "NL      4\n",
       "AT      4\n",
       "PT      4\n",
       "PL      4\n",
       "LU      3\n",
       "PK      3\n",
       "BR      3\n",
       "AE      3\n",
       "MX      3\n",
       "AU      3\n",
       "TR      3\n",
       "DK      3\n",
       "IT      2\n",
       "CZ      2\n",
       "SI      2\n",
       "RU      2\n",
       "CH      2\n",
       "NG      2\n",
       "CN      2\n",
       "BE      2\n",
       "VN      1\n",
       "EE      1\n",
       "AS      1\n",
       "DZ      1\n",
       "MY      1\n",
       "MD      1\n",
       "KE      1\n",
       "SG      1\n",
       "CO      1\n",
       "IR      1\n",
       "CL      1\n",
       "MT      1\n",
       "IL      1\n",
       "UA      1\n",
       "IQ      1\n",
       "RO      1\n",
       "HR      1\n",
       "NZ      1\n",
       "HU      1\n",
       "HN      1\n",
       "IE      1\n",
       "Name: company_location, dtype: int64"
      ]
     },
     "execution_count": 103,
     "metadata": {},
     "output_type": "execute_result"
    }
   ],
   "source": [
    "df['company_location'].value_counts()"
   ]
  },
  {
   "cell_type": "markdown",
   "id": "feefb8c0",
   "metadata": {},
   "source": [
    "What if we need to see the average salary for each of those countries?\n",
    "\n",
    "First we need to **separate rows based on its location**. To do that we use the [`groupby()`](https://pandas.pydata.org/docs/reference/api/pandas.DataFrame.groupby.html#pandas-dataframe-groupby) method"
   ]
  },
  {
   "cell_type": "code",
   "execution_count": 105,
   "id": "ed1d95d6",
   "metadata": {},
   "outputs": [
    {
     "data": {
      "text/plain": [
       "<pandas.core.groupby.generic.DataFrameGroupBy object at 0x7fe5940b24f0>"
      ]
     },
     "execution_count": 105,
     "metadata": {},
     "output_type": "execute_result"
    }
   ],
   "source": [
    "groups = df.groupby('company_location')\n",
    "groups"
   ]
  },
  {
   "cell_type": "markdown",
   "id": "ccdad834",
   "metadata": {},
   "source": [
    "This method returns an object that contains all the subframes associated with each location. \n",
    "\n",
    "We can iterate over the groups and calculate the average salary per location"
   ]
  },
  {
   "cell_type": "code",
   "execution_count": 106,
   "id": "220f29ed",
   "metadata": {},
   "outputs": [
    {
     "name": "stdout",
     "output_type": "stream",
     "text": [
      "     Unnamed: 0  work_year experience_level employment_type  \\\n",
      "24           24       2020               MI              FT   \n",
      "480         480       2022               SE              FT   \n",
      "481         481       2022               SE              FT   \n",
      "\n",
      "                     job_title  salary salary_currency  salary_in_usd  \\\n",
      "24         Lead Data Scientist  115000             USD         115000   \n",
      "480  Machine Learning Engineer  120000             USD         120000   \n",
      "481  Machine Learning Engineer   65000             USD          65000   \n",
      "\n",
      "    employee_residence  remote_ratio company_location company_size  \n",
      "24                  AE             0               AE            L  \n",
      "480                 AE           100               AE            S  \n",
      "481                 AE           100               AE            S  \n"
     ]
    }
   ],
   "source": [
    "for loc, subframe in groups:\n",
    "    print(subframe)\n",
    "    break"
   ]
  },
  {
   "cell_type": "markdown",
   "id": "6276b6a9",
   "metadata": {},
   "source": [
    "However, Pandas allow us to work directly on the set of groups using `apply()`"
   ]
  },
  {
   "cell_type": "code",
   "execution_count": 108,
   "id": "06c3c7e6",
   "metadata": {},
   "outputs": [
    {
     "data": {
      "text/plain": [
       "company_location\n",
       "AE    1.000000e+05\n",
       "AS    1.335000e+06\n",
       "AT    6.400000e+04\n",
       "AU    1.303333e+05\n",
       "BE    7.250000e+04\n",
       "BR    6.520000e+04\n",
       "CA    1.153067e+05\n",
       "CH    2.750000e+05\n",
       "CL    3.040000e+07\n",
       "CN    1.995000e+05\n",
       "CO    2.184400e+04\n",
       "CZ    4.949950e+04\n",
       "DE    7.128996e+04\n",
       "DK    1.850000e+05\n",
       "DZ    1.000000e+05\n",
       "EE    3.000000e+04\n",
       "ES    4.738286e+04\n",
       "FR    5.688133e+04\n",
       "GB    6.229481e+04\n",
       "GR    4.736364e+04\n",
       "HN    2.000000e+04\n",
       "HR    4.000000e+04\n",
       "HU    1.100000e+07\n",
       "IE    6.500000e+04\n",
       "IL    1.600000e+05\n",
       "IN    2.065208e+06\n",
       "IQ    1.000000e+05\n",
       "IR    4.000000e+03\n",
       "IT    3.110000e+04\n",
       "JP    3.408667e+06\n",
       "KE    9.272000e+03\n",
       "LU    3.833333e+04\n",
       "MD    1.800000e+04\n",
       "MT    2.400000e+04\n",
       "MX    2.793333e+05\n",
       "MY    4.000000e+04\n",
       "NG    3.000000e+04\n",
       "NL    4.910000e+04\n",
       "NZ    1.250000e+05\n",
       "PK    1.333333e+04\n",
       "PL    1.425000e+05\n",
       "PT    4.210000e+04\n",
       "RO    6.000000e+04\n",
       "RU    1.575000e+05\n",
       "SG    1.200000e+05\n",
       "SI    5.400000e+04\n",
       "TR    1.793333e+05\n",
       "UA    1.340000e+04\n",
       "US    1.877160e+05\n",
       "VN    4.000000e+03\n",
       "Name: salary, dtype: float64"
      ]
     },
     "execution_count": 108,
     "metadata": {},
     "output_type": "execute_result"
    }
   ],
   "source": [
    "groups['salary'].apply(lambda x: x.mean())"
   ]
  },
  {
   "cell_type": "markdown",
   "id": "e7bbd05d",
   "metadata": {},
   "source": [
    "## Excercise\n",
    "\n",
    "Answer the following questions"
   ]
  },
  {
   "cell_type": "markdown",
   "id": "2cc4d3de",
   "metadata": {},
   "source": [
    "1.- What is the best paid job in data science field? "
   ]
  },
  {
   "cell_type": "code",
   "execution_count": null,
   "id": "370cade4",
   "metadata": {},
   "outputs": [],
   "source": []
  },
  {
   "cell_type": "markdown",
   "id": "29c19c37",
   "metadata": {},
   "source": [
    "2.- What is the average salary per job title and location?"
   ]
  },
  {
   "cell_type": "code",
   "execution_count": null,
   "id": "c6cb14bc",
   "metadata": {},
   "outputs": [],
   "source": []
  },
  {
   "cell_type": "code",
   "execution_count": null,
   "id": "a7802f29",
   "metadata": {},
   "outputs": [],
   "source": []
  }
 ],
 "metadata": {
  "kernelspec": {
   "display_name": "Python 3 (ipykernel)",
   "language": "python",
   "name": "python3"
  },
  "language_info": {
   "codemirror_mode": {
    "name": "ipython",
    "version": 3
   },
   "file_extension": ".py",
   "mimetype": "text/x-python",
   "name": "python",
   "nbconvert_exporter": "python",
   "pygments_lexer": "ipython3",
   "version": "3.9.7"
  }
 },
 "nbformat": 4,
 "nbformat_minor": 5
}
