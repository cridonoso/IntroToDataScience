{
 "cells": [
  {
   "cell_type": "markdown",
   "id": "c820db1a",
   "metadata": {},
   "source": [
    "# Data manipulation using Pandas\n",
    "### Workshop 1\n",
    "*Jun 27 - IACS-MACI Internship*"
   ]
  },
  {
   "cell_type": "markdown",
   "id": "98cc7bbd",
   "metadata": {},
   "source": [
    "**Pandas** is a python library containing tools for data manipulation. It extends from `numpy` as it deal with operations on multidimensional array.\n",
    "\n",
    "The main class of Pandas is `DataFrame` which is similar to tables in Excel. In other words, **Pandas allow us to work with tabular data in python**.\n",
    "\n",
    "<img src=\"images/pandas_excel.jpeg\" width=\"300\"/>\n",
    "\n",
    "Data scientist use Pandas a lot! This library provides **high-level functions** that **acelerate** the **analysis** and **preprocessing** of our data.\n",
    "\n"
   ]
  },
  {
   "cell_type": "markdown",
   "id": "bd141e8a",
   "metadata": {},
   "source": [
    "## The DataFrame class\n",
    "The [`DataFrame`](https://pandas.pydata.org/docs/reference/api/pandas.DataFrame.html#pandas.DataFrame) class contains all you need to reproduce/create an excel table.\n",
    "<img src=\"images/dataframe_excel.png\" width=\"900\"/>\n",
    "\n",
    "Lets create a `DataFrame` instance from scratch."
   ]
  },
  {
   "cell_type": "markdown",
   "id": "2bcf162e",
   "metadata": {},
   "source": [
    "First we need to import Pandas library. \n",
    "\n",
    "To install pandas use: `pip install pandas` or `conda install pandas`"
   ]
  },
  {
   "cell_type": "code",
   "execution_count": 1,
   "id": "56bdb5cc",
   "metadata": {},
   "outputs": [],
   "source": [
    "import pandas as pd # conventionally we rename pandas as 'pd'"
   ]
  },
  {
   "cell_type": "code",
   "execution_count": 5,
   "id": "15be655a",
   "metadata": {},
   "outputs": [],
   "source": [
    "data = [\n",
    "    [1, 'a', .1],\n",
    "    [2, 'b', .2],\n",
    "    [3, 'c', .3],\n",
    "    [4, 'd', .4],\n",
    "    [5, 'e', .5],\n",
    "    [6, 'd', .6]\n",
    "]\n",
    "indices = [2,3,4,5,6,7]\n",
    "\n",
    "columns = ['col1', 'col2', 'col3']"
   ]
  },
  {
   "cell_type": "code",
   "execution_count": 7,
   "id": "e0ea7488",
   "metadata": {},
   "outputs": [],
   "source": [
    "df = pd.DataFrame(data=data, index=indices, columns=columns)"
   ]
  },
  {
   "cell_type": "code",
   "execution_count": 8,
   "id": "9329ad23",
   "metadata": {},
   "outputs": [
    {
     "data": {
      "text/html": [
       "<div>\n",
       "<style scoped>\n",
       "    .dataframe tbody tr th:only-of-type {\n",
       "        vertical-align: middle;\n",
       "    }\n",
       "\n",
       "    .dataframe tbody tr th {\n",
       "        vertical-align: top;\n",
       "    }\n",
       "\n",
       "    .dataframe thead th {\n",
       "        text-align: right;\n",
       "    }\n",
       "</style>\n",
       "<table border=\"1\" class=\"dataframe\">\n",
       "  <thead>\n",
       "    <tr style=\"text-align: right;\">\n",
       "      <th></th>\n",
       "      <th>col1</th>\n",
       "      <th>col2</th>\n",
       "      <th>col3</th>\n",
       "    </tr>\n",
       "  </thead>\n",
       "  <tbody>\n",
       "    <tr>\n",
       "      <th>2</th>\n",
       "      <td>1</td>\n",
       "      <td>a</td>\n",
       "      <td>0.1</td>\n",
       "    </tr>\n",
       "    <tr>\n",
       "      <th>3</th>\n",
       "      <td>2</td>\n",
       "      <td>b</td>\n",
       "      <td>0.2</td>\n",
       "    </tr>\n",
       "    <tr>\n",
       "      <th>4</th>\n",
       "      <td>3</td>\n",
       "      <td>c</td>\n",
       "      <td>0.3</td>\n",
       "    </tr>\n",
       "    <tr>\n",
       "      <th>5</th>\n",
       "      <td>4</td>\n",
       "      <td>d</td>\n",
       "      <td>0.4</td>\n",
       "    </tr>\n",
       "    <tr>\n",
       "      <th>6</th>\n",
       "      <td>5</td>\n",
       "      <td>e</td>\n",
       "      <td>0.5</td>\n",
       "    </tr>\n",
       "    <tr>\n",
       "      <th>7</th>\n",
       "      <td>6</td>\n",
       "      <td>d</td>\n",
       "      <td>0.6</td>\n",
       "    </tr>\n",
       "  </tbody>\n",
       "</table>\n",
       "</div>"
      ],
      "text/plain": [
       "   col1 col2  col3\n",
       "2     1    a   0.1\n",
       "3     2    b   0.2\n",
       "4     3    c   0.3\n",
       "5     4    d   0.4\n",
       "6     5    e   0.5\n",
       "7     6    d   0.6"
      ]
     },
     "execution_count": 8,
     "metadata": {},
     "output_type": "execute_result"
    }
   ],
   "source": [
    "df"
   ]
  },
  {
   "cell_type": "markdown",
   "id": "38f07ac0",
   "metadata": {},
   "source": [
    "Once the DataFrame is created we can operate over it using `pandas` functions"
   ]
  },
  {
   "cell_type": "markdown",
   "id": "05a0ccda",
   "metadata": {},
   "source": [
    "### Having already an excel file?\n",
    "\n",
    "Most of the time, we recieve tabular data already stored in a file. \n",
    "\n",
    "In this case, we can load tables from different formats such as xlsx, csv, sql, etc,... \n",
    "\n",
    "Some formats (like the `xlsx`) requires special modulest to work. In the worst case, python displays an error indicating the name of the module. Then you only have to install it.\n",
    "\n",
    "<img src=\"images/error_xlsx.png\" width=\"700\"/>"
   ]
  },
  {
   "cell_type": "code",
   "execution_count": 11,
   "id": "9405e5df",
   "metadata": {},
   "outputs": [],
   "source": [
    "df = pd.read_excel('./data/example_1.xlsx')"
   ]
  },
  {
   "cell_type": "code",
   "execution_count": 12,
   "id": "b16b2fa6",
   "metadata": {},
   "outputs": [
    {
     "data": {
      "text/html": [
       "<div>\n",
       "<style scoped>\n",
       "    .dataframe tbody tr th:only-of-type {\n",
       "        vertical-align: middle;\n",
       "    }\n",
       "\n",
       "    .dataframe tbody tr th {\n",
       "        vertical-align: top;\n",
       "    }\n",
       "\n",
       "    .dataframe thead th {\n",
       "        text-align: right;\n",
       "    }\n",
       "</style>\n",
       "<table border=\"1\" class=\"dataframe\">\n",
       "  <thead>\n",
       "    <tr style=\"text-align: right;\">\n",
       "      <th></th>\n",
       "      <th>col1</th>\n",
       "      <th>col2</th>\n",
       "      <th>col3</th>\n",
       "    </tr>\n",
       "  </thead>\n",
       "  <tbody>\n",
       "    <tr>\n",
       "      <th>0</th>\n",
       "      <td>1.0</td>\n",
       "      <td>a</td>\n",
       "      <td>0.1</td>\n",
       "    </tr>\n",
       "    <tr>\n",
       "      <th>1</th>\n",
       "      <td>2.0</td>\n",
       "      <td>b</td>\n",
       "      <td>0.2</td>\n",
       "    </tr>\n",
       "    <tr>\n",
       "      <th>2</th>\n",
       "      <td>3.0</td>\n",
       "      <td>c</td>\n",
       "      <td>0.3</td>\n",
       "    </tr>\n",
       "    <tr>\n",
       "      <th>3</th>\n",
       "      <td>4.0</td>\n",
       "      <td>d</td>\n",
       "      <td>0.4</td>\n",
       "    </tr>\n",
       "    <tr>\n",
       "      <th>4</th>\n",
       "      <td>5.0</td>\n",
       "      <td>e</td>\n",
       "      <td>0.5</td>\n",
       "    </tr>\n",
       "    <tr>\n",
       "      <th>5</th>\n",
       "      <td>6.0</td>\n",
       "      <td>d</td>\n",
       "      <td>0.6</td>\n",
       "    </tr>\n",
       "  </tbody>\n",
       "</table>\n",
       "</div>"
      ],
      "text/plain": [
       "   col1 col2  col3\n",
       "0   1.0    a   0.1\n",
       "1   2.0    b   0.2\n",
       "2   3.0    c   0.3\n",
       "3   4.0    d   0.4\n",
       "4   5.0    e   0.5\n",
       "5   6.0    d   0.6"
      ]
     },
     "execution_count": 12,
     "metadata": {},
     "output_type": "execute_result"
    }
   ],
   "source": [
    "df"
   ]
  },
  {
   "cell_type": "markdown",
   "id": "b94651a5",
   "metadata": {},
   "source": [
    "Notice that the indices and the columns formats are not the same. Since we are working with a `DataFrame` object we can modify everything without changing the `xlsx` file  "
   ]
  },
  {
   "cell_type": "code",
   "execution_count": 15,
   "id": "f5632069",
   "metadata": {},
   "outputs": [],
   "source": [
    "df.index = [2, 3, 4, 5, 6, 7] # Changing a class parameter"
   ]
  },
  {
   "cell_type": "code",
   "execution_count": 16,
   "id": "1c6465f2",
   "metadata": {},
   "outputs": [
    {
     "data": {
      "text/html": [
       "<div>\n",
       "<style scoped>\n",
       "    .dataframe tbody tr th:only-of-type {\n",
       "        vertical-align: middle;\n",
       "    }\n",
       "\n",
       "    .dataframe tbody tr th {\n",
       "        vertical-align: top;\n",
       "    }\n",
       "\n",
       "    .dataframe thead th {\n",
       "        text-align: right;\n",
       "    }\n",
       "</style>\n",
       "<table border=\"1\" class=\"dataframe\">\n",
       "  <thead>\n",
       "    <tr style=\"text-align: right;\">\n",
       "      <th></th>\n",
       "      <th>col1</th>\n",
       "      <th>col2</th>\n",
       "      <th>col3</th>\n",
       "    </tr>\n",
       "  </thead>\n",
       "  <tbody>\n",
       "    <tr>\n",
       "      <th>2</th>\n",
       "      <td>1.0</td>\n",
       "      <td>a</td>\n",
       "      <td>0.1</td>\n",
       "    </tr>\n",
       "    <tr>\n",
       "      <th>3</th>\n",
       "      <td>2.0</td>\n",
       "      <td>b</td>\n",
       "      <td>0.2</td>\n",
       "    </tr>\n",
       "    <tr>\n",
       "      <th>4</th>\n",
       "      <td>3.0</td>\n",
       "      <td>c</td>\n",
       "      <td>0.3</td>\n",
       "    </tr>\n",
       "    <tr>\n",
       "      <th>5</th>\n",
       "      <td>4.0</td>\n",
       "      <td>d</td>\n",
       "      <td>0.4</td>\n",
       "    </tr>\n",
       "    <tr>\n",
       "      <th>6</th>\n",
       "      <td>5.0</td>\n",
       "      <td>e</td>\n",
       "      <td>0.5</td>\n",
       "    </tr>\n",
       "    <tr>\n",
       "      <th>7</th>\n",
       "      <td>6.0</td>\n",
       "      <td>d</td>\n",
       "      <td>0.6</td>\n",
       "    </tr>\n",
       "  </tbody>\n",
       "</table>\n",
       "</div>"
      ],
      "text/plain": [
       "   col1 col2  col3\n",
       "2   1.0    a   0.1\n",
       "3   2.0    b   0.2\n",
       "4   3.0    c   0.3\n",
       "5   4.0    d   0.4\n",
       "6   5.0    e   0.5\n",
       "7   6.0    d   0.6"
      ]
     },
     "execution_count": 16,
     "metadata": {},
     "output_type": "execute_result"
    }
   ],
   "source": [
    "df"
   ]
  },
  {
   "cell_type": "markdown",
   "id": "fa48ed2e",
   "metadata": {},
   "source": [
    "In order to change the column format we have to use the `astype()` function from the [`Series`](https://pandas.pydata.org/docs/reference/api/pandas.Series.html#pandas.Series) class. \n",
    "\n",
    "Thus, every column in a `DataFrame` is a `Series` object,"
   ]
  },
  {
   "cell_type": "code",
   "execution_count": 27,
   "id": "3545f16c",
   "metadata": {},
   "outputs": [
    {
     "data": {
      "text/plain": [
       "(pandas.core.frame.DataFrame, pandas.core.series.Series)"
      ]
     },
     "execution_count": 27,
     "metadata": {},
     "output_type": "execute_result"
    }
   ],
   "source": [
    "type(df), type(df['col1'])"
   ]
  },
  {
   "cell_type": "markdown",
   "id": "8a2620ef",
   "metadata": {},
   "source": [
    "The `Series` object has functions that operates over the column data. \n",
    "\n",
    "In the example, we need to change the format of the `col1` from floats to integers."
   ]
  },
  {
   "cell_type": "code",
   "execution_count": 28,
   "id": "a55071a4",
   "metadata": {},
   "outputs": [],
   "source": [
    "df['col1'] = df['col1'].astype(int)"
   ]
  },
  {
   "cell_type": "code",
   "execution_count": 29,
   "id": "6f4a3e60",
   "metadata": {},
   "outputs": [
    {
     "data": {
      "text/html": [
       "<div>\n",
       "<style scoped>\n",
       "    .dataframe tbody tr th:only-of-type {\n",
       "        vertical-align: middle;\n",
       "    }\n",
       "\n",
       "    .dataframe tbody tr th {\n",
       "        vertical-align: top;\n",
       "    }\n",
       "\n",
       "    .dataframe thead th {\n",
       "        text-align: right;\n",
       "    }\n",
       "</style>\n",
       "<table border=\"1\" class=\"dataframe\">\n",
       "  <thead>\n",
       "    <tr style=\"text-align: right;\">\n",
       "      <th></th>\n",
       "      <th>col1</th>\n",
       "      <th>col2</th>\n",
       "      <th>col3</th>\n",
       "    </tr>\n",
       "  </thead>\n",
       "  <tbody>\n",
       "    <tr>\n",
       "      <th>2</th>\n",
       "      <td>1</td>\n",
       "      <td>a</td>\n",
       "      <td>0.1</td>\n",
       "    </tr>\n",
       "    <tr>\n",
       "      <th>3</th>\n",
       "      <td>2</td>\n",
       "      <td>b</td>\n",
       "      <td>0.2</td>\n",
       "    </tr>\n",
       "    <tr>\n",
       "      <th>4</th>\n",
       "      <td>3</td>\n",
       "      <td>c</td>\n",
       "      <td>0.3</td>\n",
       "    </tr>\n",
       "    <tr>\n",
       "      <th>5</th>\n",
       "      <td>4</td>\n",
       "      <td>d</td>\n",
       "      <td>0.4</td>\n",
       "    </tr>\n",
       "    <tr>\n",
       "      <th>6</th>\n",
       "      <td>5</td>\n",
       "      <td>e</td>\n",
       "      <td>0.5</td>\n",
       "    </tr>\n",
       "    <tr>\n",
       "      <th>7</th>\n",
       "      <td>6</td>\n",
       "      <td>d</td>\n",
       "      <td>0.6</td>\n",
       "    </tr>\n",
       "  </tbody>\n",
       "</table>\n",
       "</div>"
      ],
      "text/plain": [
       "   col1 col2  col3\n",
       "2     1    a   0.1\n",
       "3     2    b   0.2\n",
       "4     3    c   0.3\n",
       "5     4    d   0.4\n",
       "6     5    e   0.5\n",
       "7     6    d   0.6"
      ]
     },
     "execution_count": 29,
     "metadata": {},
     "output_type": "execute_result"
    }
   ],
   "source": [
    "df"
   ]
  },
  {
   "cell_type": "markdown",
   "id": "6557d7b2",
   "metadata": {},
   "source": [
    "of course we can also save the `DataFrame` in the desire format"
   ]
  },
  {
   "cell_type": "code",
   "execution_count": 32,
   "id": "879d66e6",
   "metadata": {},
   "outputs": [],
   "source": [
    "df.to_csv('./data/example_1.csv', index=False) # Put index=false to avoid creating a new index column"
   ]
  },
  {
   "cell_type": "code",
   "execution_count": 33,
   "id": "aa349c63",
   "metadata": {},
   "outputs": [
    {
     "data": {
      "text/html": [
       "<div>\n",
       "<style scoped>\n",
       "    .dataframe tbody tr th:only-of-type {\n",
       "        vertical-align: middle;\n",
       "    }\n",
       "\n",
       "    .dataframe tbody tr th {\n",
       "        vertical-align: top;\n",
       "    }\n",
       "\n",
       "    .dataframe thead th {\n",
       "        text-align: right;\n",
       "    }\n",
       "</style>\n",
       "<table border=\"1\" class=\"dataframe\">\n",
       "  <thead>\n",
       "    <tr style=\"text-align: right;\">\n",
       "      <th></th>\n",
       "      <th>col1</th>\n",
       "      <th>col2</th>\n",
       "      <th>col3</th>\n",
       "    </tr>\n",
       "  </thead>\n",
       "  <tbody>\n",
       "    <tr>\n",
       "      <th>0</th>\n",
       "      <td>1</td>\n",
       "      <td>a</td>\n",
       "      <td>0.1</td>\n",
       "    </tr>\n",
       "    <tr>\n",
       "      <th>1</th>\n",
       "      <td>2</td>\n",
       "      <td>b</td>\n",
       "      <td>0.2</td>\n",
       "    </tr>\n",
       "    <tr>\n",
       "      <th>2</th>\n",
       "      <td>3</td>\n",
       "      <td>c</td>\n",
       "      <td>0.3</td>\n",
       "    </tr>\n",
       "    <tr>\n",
       "      <th>3</th>\n",
       "      <td>4</td>\n",
       "      <td>d</td>\n",
       "      <td>0.4</td>\n",
       "    </tr>\n",
       "    <tr>\n",
       "      <th>4</th>\n",
       "      <td>5</td>\n",
       "      <td>e</td>\n",
       "      <td>0.5</td>\n",
       "    </tr>\n",
       "    <tr>\n",
       "      <th>5</th>\n",
       "      <td>6</td>\n",
       "      <td>d</td>\n",
       "      <td>0.6</td>\n",
       "    </tr>\n",
       "  </tbody>\n",
       "</table>\n",
       "</div>"
      ],
      "text/plain": [
       "   col1 col2  col3\n",
       "0     1    a   0.1\n",
       "1     2    b   0.2\n",
       "2     3    c   0.3\n",
       "3     4    d   0.4\n",
       "4     5    e   0.5\n",
       "5     6    d   0.6"
      ]
     },
     "execution_count": 33,
     "metadata": {},
     "output_type": "execute_result"
    }
   ],
   "source": [
    "pd.read_csv('./data/example_1.csv')"
   ]
  },
  {
   "cell_type": "markdown",
   "id": "f7b65e22",
   "metadata": {},
   "source": [
    "Finally, Pandas can also load data from remote sources (`url`). For example, the science ministry of Chile has climate change resources for investigation. In this case, we use [the amount of water falling in 24 hours](https://github.com/MinCiencia/Datos-CambioClimatico/tree/main/output/agua24_dmc).\n",
    "\n",
    "In this case the link is \n",
    "\n",
    "`https://github.com/MinCiencia/Datos-CambioClimatico/blob/main/output/agua24_dmc/1955/1955_agua24_dmc.csv`\n",
    "\n",
    "which display a visualization of the tabular data. However, in order to load the csv in a `DataFrame` we must access to the raw format\n",
    "\n",
    "\n",
    "<img src=\"images/raw_csv.png\" width=\"900\"/>"
   ]
  },
  {
   "cell_type": "code",
   "execution_count": 37,
   "id": "016b9741",
   "metadata": {},
   "outputs": [
    {
     "data": {
      "text/html": [
       "<div>\n",
       "<style scoped>\n",
       "    .dataframe tbody tr th:only-of-type {\n",
       "        vertical-align: middle;\n",
       "    }\n",
       "\n",
       "    .dataframe tbody tr th {\n",
       "        vertical-align: top;\n",
       "    }\n",
       "\n",
       "    .dataframe thead th {\n",
       "        text-align: right;\n",
       "    }\n",
       "</style>\n",
       "<table border=\"1\" class=\"dataframe\">\n",
       "  <thead>\n",
       "    <tr style=\"text-align: right;\">\n",
       "      <th></th>\n",
       "      <th>time</th>\n",
       "      <th>latitud</th>\n",
       "      <th>longitud</th>\n",
       "      <th>RRR24_Valor</th>\n",
       "      <th>Traza_Valor</th>\n",
       "      <th>CodigoNacional</th>\n",
       "      <th>nombreEstacion</th>\n",
       "    </tr>\n",
       "  </thead>\n",
       "  <tbody>\n",
       "    <tr>\n",
       "      <th>0</th>\n",
       "      <td>1955-08-11 12:00:00</td>\n",
       "      <td>-45.91833</td>\n",
       "      <td>-71.67778</td>\n",
       "      <td>2.0</td>\n",
       "      <td>0.0</td>\n",
       "      <td>450005.0</td>\n",
       "      <td>Balmaceda Ad.</td>\n",
       "    </tr>\n",
       "  </tbody>\n",
       "</table>\n",
       "</div>"
      ],
      "text/plain": [
       "                  time   latitud  longitud  RRR24_Valor  Traza_Valor  \\\n",
       "0  1955-08-11 12:00:00 -45.91833 -71.67778          2.0          0.0   \n",
       "\n",
       "   CodigoNacional nombreEstacion  \n",
       "0        450005.0  Balmaceda Ad.  "
      ]
     },
     "execution_count": 37,
     "metadata": {},
     "output_type": "execute_result"
    }
   ],
   "source": [
    "pd.read_csv('https://raw.githubusercontent.com/MinCiencia/Datos-CambioClimatico/main/output/agua24_dmc/1955/1955_agua24_dmc.csv')"
   ]
  },
  {
   "cell_type": "markdown",
   "id": "6ab42102",
   "metadata": {},
   "source": [
    "## Pandas operations\n",
    "\n",
    "- Concat\n",
    "- Merge\n",
    "- Join"
   ]
  },
  {
   "cell_type": "code",
   "execution_count": null,
   "id": "63662eb5",
   "metadata": {},
   "outputs": [],
   "source": []
  }
 ],
 "metadata": {
  "kernelspec": {
   "display_name": "Python 3 (ipykernel)",
   "language": "python",
   "name": "python3"
  },
  "language_info": {
   "codemirror_mode": {
    "name": "ipython",
    "version": 3
   },
   "file_extension": ".py",
   "mimetype": "text/x-python",
   "name": "python",
   "nbconvert_exporter": "python",
   "pygments_lexer": "ipython3",
   "version": "3.9.7"
  }
 },
 "nbformat": 4,
 "nbformat_minor": 5
}
