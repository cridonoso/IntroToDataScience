{
 "cells": [
  {
   "cell_type": "markdown",
   "metadata": {},
   "source": [
    "# Naive Bayes Classifiers "
   ]
  },
  {
   "cell_type": "markdown",
   "metadata": {},
   "source": [
    "Let a discrete-valued features $x \\in \\{1,...,K\\}^D$ where $K$ is the number of values for each feature and D is the number of features. We will use a generative approach. "
   ]
  },
  {
   "cell_type": "markdown",
   "metadata": {},
   "source": [
    "\\begin{equation}\n",
    "p(\\boldsymbol{x}|y=c,\\theta) = \\prod_{j=1}^Dp(x_j|y=c,\\theta_{jc})\n",
    "\\end{equation}\n"
   ]
  },
  {
   "cell_type": "markdown",
   "metadata": {},
   "source": [
    "the resulting model is called a *Naive Bayes Classifier* (NBC)"
   ]
  },
  {
   "cell_type": "markdown",
   "metadata": {},
   "source": [
    "In the case of binary features, x_j $\\in \\{0,1\\}$, we can use the Bernoulli distribution $p($**x**$|y=x, \\theta) = \\prod_{j=1}^D Ber(x_{j}|\\mu_{jc})$ where $\\mu_{jc}$ is the probability that feature $j$ occur in class $c$"
   ]
  },
  {
   "cell_type": "code",
   "execution_count": 95,
   "metadata": {},
   "outputs": [],
   "source": [
    "import numpy as np\n",
    "import matplotlib.pyplot as plt"
   ]
  },
  {
   "cell_type": "code",
   "execution_count": 98,
   "metadata": {},
   "outputs": [
    {
     "name": "stdout",
     "output_type": "stream",
     "text": [
      "means\n",
      "[[0.74018215 0.63822358]\n",
      " [0.62861624 0.76504147]\n",
      " [0.5248847  0.87962325]\n",
      " [0.17018888 0.21577429]]\n"
     ]
    }
   ],
   "source": [
    "D = 2 # numbers of features or the dimension of data\n",
    "K = 1 # number of values for each feature\n",
    "C = 4 # number of classes \n",
    "\n",
    "mu_d = np.random.random((C,D))\n",
    "print('means')\n",
    "print(mu_d)"
   ]
  },
  {
   "cell_type": "code",
   "execution_count": 110,
   "metadata": {},
   "outputs": [
    {
     "name": "stdout",
     "output_type": "stream",
     "text": [
      "----------------------------------------------------------------------------------------------------\n",
      "----------------------------------------------------------------------------------------------------\n",
      "----------------------------------------------------------------------------------------------------\n",
      "----------------------------------------------------------------------------------------------------\n"
     ]
    }
   ],
   "source": [
    "N = 1000 #number of samples\n",
    "inputs = []\n",
    "labels = []\n",
    "for label, mu in enumerate(mu_d):\n",
    "    features = []\n",
    "    for f in mu:\n",
    "        feat = np.random.binomial(K, f, N)\n",
    "        features.append(feat)\n",
    "    stacked = np.stack(features, axis=-1)\n",
    "    inputs.append(stacked)\n",
    "    labels.append([label]*N)\n",
    "    print('-'*100)"
   ]
  },
  {
   "cell_type": "code",
   "execution_count": 113,
   "metadata": {},
   "outputs": [
    {
     "name": "stdout",
     "output_type": "stream",
     "text": [
      "[[1 1]\n",
      " [1 1]\n",
      " [1 1]\n",
      " ...\n",
      " [1 1]\n",
      " [0 0]\n",
      " [1 0]]\n"
     ]
    }
   ],
   "source": [
    "x = np.array(inputs)\n",
    "print(x[0])"
   ]
  },
  {
   "cell_type": "code",
   "execution_count": 100,
   "metadata": {},
   "outputs": [],
   "source": [
    "x = np.array(inputs)\n",
    "X = x.reshape(-1, x.shape[-1])\n",
    "y = np.array(labels)\n",
    "Y = y.flatten()"
   ]
  },
  {
   "cell_type": "code",
   "execution_count": 178,
   "metadata": {},
   "outputs": [
    {
     "data": {
      "image/png": "[encoded data removed]",
      "text/plain": [
       "<Figure size 1080x1080 with 4 Axes>"
      ]
     },
     "metadata": {},
     "output_type": "display_data"
    }
   ],
   "source": [
    "plt.figure(figsize=(15,15))\n",
    "for i, x_ in enumerate(x):\n",
    "    t = int(str(42)+str(i+1))\n",
    "    plt.subplot(t)\n",
    "    plt.hist(x_[:,0],bins=20, alpha=0.5, label='feature 1')\n",
    "    plt.hist(x_[:,1],bins=20, alpha=0.5, label='feature 2')\n",
    "    tex = 'feature '+str(i+1)\n",
    "    plt.title(tex)\n",
    "    plt.ylabel('Quantity')\n",
    "    plt.xticks([0.022,0.972], ['On','Off'])\n",
    "    plt.legend(loc='upper left')\n",
    "plt.show()"
   ]
  },
  {
   "cell_type": "code",
   "execution_count": 179,
   "metadata": {},
   "outputs": [
    {
     "name": "stdout",
     "output_type": "stream",
     "text": [
      "(4000, 2)\n",
      "(4000,)\n"
     ]
    }
   ],
   "source": [
    "print(X.shape)\n",
    "print(Y.shape)"
   ]
  },
  {
   "cell_type": "markdown",
   "metadata": {},
   "source": [
    "### Model Fitting"
   ]
  },
  {
   "cell_type": "markdown",
   "metadata": {},
   "source": [
    "We now discuss how to train a naive Bayes classifier. This usually means computing the MLE or MAP estimate for the parameters. However, we will also discuss how to compute the full posterior, $p(\\theta|D)$"
   ]
  },
  {
   "cell_type": "code",
   "execution_count": 180,
   "metadata": {},
   "outputs": [],
   "source": [
    "from sklearn.utils import shuffle\n",
    "X_, Y_ = shuffle(X,Y)\n",
    "x_train = X_[0:700]\n",
    "y_train = Y_[0:700]\n",
    "x_test  = X_[700:]\n",
    "y_test  = Y_[700:]"
   ]
  },
  {
   "cell_type": "markdown",
   "metadata": {},
   "source": [
    "The probability for a single data case is given by \n",
    "\\begin{equation}\n",
    "p(x_i, y_i |\\theta) \\\\\n",
    "= p(y_i|\\pi)\\prod_jp(x_{ij}|\\theta_j) \\\\\n",
    "= \\prod_c\\pi_c^{\\boldsymbol{1}{\\{y_i = c\\}}}\\prod_j\\prod_c p(x_{ij}|\\theta_{jc})^{\\boldsymbol{1}\\{y_i = c\\}}\n",
    "\\end{equation}"
   ]
  },
  {
   "cell_type": "markdown",
   "metadata": {},
   "source": [
    "Hence the log-likelihood is given by\n",
    "\\begin{equation}\n",
    "log(p(D|\\theta)) = \\sum_{c=1}^CN_c\\log{\\pi_c}+\\sum_{j=1}^D\\sum_{c=1}^C\\sum_{i:y_i=c}\\log{p(x_{ij}|\\theta_{jc}})\n",
    "\\end{equation}"
   ]
  },
  {
   "cell_type": "markdown",
   "metadata": {},
   "source": [
    "We can see that this expression decomposes into a series of terms, obe concerning $\\pi$ and $DC$ terms containing the $\\theta_{jc}$'s. Hence we can optimize all these parameters separately."
   ]
  },
  {
   "cell_type": "markdown",
   "metadata": {},
   "source": [
    "\\begin{equation}\n",
    "\\hat{\\pi}_{c} = \\frac{N_c}{N}\n",
    "\\end{equation}"
   ]
  },
  {
   "cell_type": "markdown",
   "metadata": {},
   "source": [
    "where $N_c \\doteq \\sum_i \\boldsymbol{1}(x_{ij}=1, y_i=c)$ is the number of examples in class $c$ where feature $j$ turns on."
   ]
  },
  {
   "cell_type": "markdown",
   "metadata": {},
   "source": [
    "The MLE for the likelihood depends on the type of distribution we choose to use for each feature. For simplicity, let us suppose all features are binary, so $x_j\\ |\\ y=c \\sim Ber(\\theta_{jc})$. In this case, MLE becomes: \n",
    "<center>\n",
    "$\\begin{equation}\n",
    "\\hat{\\theta_{jc}} = \\hat{P}(x_j|y=c) = \\frac{N\\hat{P}(x_j=1, y=c)}{N\\hat{P}(y=c)} = \\frac{N_{jc}}{N_c}\n",
    "\\end{equation}$\n",
    "</center>\n",
    "where $N_{jc}  \\doteq  \\sum_i\\boldsymbol{1}(x_{ij}=1, y_i=c) $ is the number of examples in class $c$ where feature $j$ turns on."
   ]
  },
  {
   "cell_type": "code",
   "execution_count": 258,
   "metadata": {},
   "outputs": [
    {
     "name": "stdout",
     "output_type": "stream",
     "text": [
      "pi: [0.165 0.183 0.172 0.18 ]\n",
      "theta: [1.36363636 1.45355191 1.39534884 0.44444444]\n"
     ]
    }
   ],
   "source": [
    "#ALGORITHM\n",
    "N_c = []\n",
    "N_jc = []\n",
    "for c in np.unique(y_train):\n",
    "    Nc  = 0\n",
    "    Njc = 0\n",
    "    for i, y_label in enumerate(y_train):\n",
    "        if c == y_label:\n",
    "            Nc = Nc + 1\n",
    "            partial = []\n",
    "            Njc = 0\n",
    "            for j in range(0, D):\n",
    "                if x_train[i][j] == 1:\n",
    "                    Njc = Njc + 1\n",
    "                partial.append(Njc)\n",
    "    N_c.append(Nc)\n",
    "    N_jc.append(Njc)\n",
    "\n",
    "#Making operations\n",
    "pi_c  = np.divide(N_c, N, dtype='float')\n",
    "theta_jc = np.divide(N_jc, N_c, dtype='float') \n",
    "print( 'pi: {}'.format(pi_c))\n",
    "print( 'theta: {}'.format(theta_jc))"
   ]
  },
  {
   "cell_type": "code",
   "execution_count": 259,
   "metadata": {},
   "outputs": [
    {
     "name": "stdout",
     "output_type": "stream",
     "text": [
      "pi: [0.165 0.183 0.172 0.18 ]\n",
      "theta: [1.36363636 1.45355191 1.39534884 0.44444444]\n"
     ]
    }
   ],
   "source": [
    "# Extracting counts from unique labels in training set\n",
    "_ , c_quantities = np.unique(y_train, return_counts=True)\n",
    "\n",
    "#Algorithm + making operation\n",
    "pi_c_2  = np.divide(c_quantities, N, dtype='float')\n",
    "theta = [np.count_nonzero(x_train[y_train == k]) for k in np.unique(y_train)]\n",
    "theta_jc_2 = np.divide(theta,c_quantities, dtype = 'float')\n",
    "print( 'pi: {}'.format(pi_c_2))\n",
    "print( 'theta: {}'.format(theta_jc_2))"
   ]
  },
  {
   "cell_type": "code",
   "execution_count": null,
   "metadata": {},
   "outputs": [],
   "source": []
  },
  {
   "cell_type": "code",
   "execution_count": null,
   "metadata": {},
   "outputs": [],
   "source": []
  },
  {
   "cell_type": "code",
   "execution_count": null,
   "metadata": {},
   "outputs": [],
   "source": []
  },
  {
   "cell_type": "code",
   "execution_count": null,
   "metadata": {},
   "outputs": [],
   "source": []
  },
  {
   "cell_type": "code",
   "execution_count": null,
   "metadata": {},
   "outputs": [],
   "source": []
  },
  {
   "cell_type": "code",
   "execution_count": 43,
   "metadata": {},
   "outputs": [
    {
     "data": {
      "text/plain": [
       "array([[8.0871654 , 0.99960758],\n",
       "       [8.00013958, 0.98327572],\n",
       "       [8.1317888 , 0.99148135],\n",
       "       ...,\n",
       "       [4.96550422, 5.55074321],\n",
       "       [7.08830387, 1.33678579],\n",
       "       [4.31177861, 6.44718303]])"
      ]
     },
     "execution_count": 43,
     "metadata": {},
     "output_type": "execute_result"
    }
   ],
   "source": [
    "x_train"
   ]
  },
  {
   "cell_type": "code",
   "execution_count": 44,
   "metadata": {},
   "outputs": [],
   "source": [
    "x_0 = x_train[y_train == 0]\n",
    "x_1 = x_train[y_train == 1]\n",
    "x_2 = x_train[y_train == 2]\n",
    "x_3 = x_train[y_train == 3]"
   ]
  },
  {
   "cell_type": "code",
   "execution_count": 45,
   "metadata": {},
   "outputs": [],
   "source": [
    "mu_star = [np.divide(np.sum(x_0, axis=0), x_0.shape[0]),\n",
    "           np.divide(np.sum(x_1, axis=0), x_1.shape[0]),\n",
    "           np.divide(np.sum(x_2, axis=0), x_2.shape[0]),\n",
    "           np.divide(np.sum(x_3, axis=0), x_3.shape[0])]"
   ]
  },
  {
   "cell_type": "code",
   "execution_count": 46,
   "metadata": {},
   "outputs": [],
   "source": [
    "sigma_star = [np.divide(np.subtract(x_0, mu_star[0]), x_0.shape[0]),\n",
    "              np.divide(np.subtract(x_1, mu_star[1]), x_1.shape[0]),\n",
    "              np.divide(np.subtract(x_2, mu_star[2]), x_2.shape[0]),\n",
    "              np.divide(np.subtract(x_3, mu_star[3]), x_3.shape[0])]"
   ]
  },
  {
   "cell_type": "code",
   "execution_count": 50,
   "metadata": {},
   "outputs": [
    {
     "data": {
      "text/plain": [
       "array([[8.01479181, 0.98480965],\n",
       "       [7.90831191, 8.49172351],\n",
       "       [7.52213801, 2.66864032],\n",
       "       ...,\n",
       "       [8.22311706, 7.71971491],\n",
       "       [7.15378545, 2.05389821],\n",
       "       [4.54516318, 5.86586775]])"
      ]
     },
     "execution_count": 50,
     "metadata": {},
     "output_type": "execute_result"
    }
   ],
   "source": [
    "x_test"
   ]
  },
  {
   "cell_type": "markdown",
   "metadata": {},
   "source": [
    "The trouble with maximum likelihood is that it can overfit. A simple solution is to be Bayesian."
   ]
  },
  {
   "cell_type": "markdown",
   "metadata": {},
   "source": [
    "### Bayesian naive Bayes\n",
    "For simplicity, we will use a facotred prior"
   ]
  },
  {
   "cell_type": "code",
   "execution_count": null,
   "metadata": {},
   "outputs": [],
   "source": []
  }
 ],
 "metadata": {
  "kernelspec": {
   "display_name": "Python 3",
   "language": "python",
   "name": "python3"
  },
  "language_info": {
   "codemirror_mode": {
    "name": "ipython",
    "version": 3
   },
   "file_extension": ".py",
   "mimetype": "text/x-python",
   "name": "python",
   "nbconvert_exporter": "python",
   "pygments_lexer": "ipython3",
   "version": "3.8.5"
  }
 },
 "nbformat": 4,
 "nbformat_minor": 2
}
