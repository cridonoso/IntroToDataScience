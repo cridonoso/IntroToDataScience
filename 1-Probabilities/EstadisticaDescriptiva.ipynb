{
 "cells": [
  {
   "cell_type": "markdown",
   "metadata": {},
   "source": [
    "# Estadistica Descriptiva\n",
    "\n",
    "Cristobal Donoso Oliva<br>\n",
    "Universidad de Concepcion, Chile<br>\n",
    "cridonoso@inf.udec.cl<br>\n",
    "\n",
    "\n",
    "_Viernes 9 de Octubre del 2020_"
   ]
  },
  {
   "cell_type": "markdown",
   "metadata": {},
   "source": [
    "La estadistica descriptiva tiene como objetivo **resumir** y **presentar** los datos, seaan estos de la **poblacion total** o una **muestra** de ella <br><br>\n",
    "En este tutorial revisaremos los conceptos fundamentales en esta area, los cuales pueden agruparse en tres ramas principales:\n",
    "- Medidas de tendencia central\n",
    "- Medidas de dispersion\n",
    "\n",
    "La estadistica descriptiva es el primer paso en la exploracion de datos. Nos permite ver como estos se distribuyen y hace hipotesis al respecto."
   ]
  },
  {
   "cell_type": "markdown",
   "metadata": {},
   "source": [
    "En este tutorial utilizaremos la libreria de python ```pandas```, la cual fue presentada en el [tutorial pasado](https://github.com/cridonoso/IntroToDataScience/blob/master/0-Python/Python.ipynb)"
   ]
  },
  {
   "cell_type": "code",
   "execution_count": 1,
   "metadata": {},
   "outputs": [],
   "source": [
    "import pandas as pd # importamos la libreria"
   ]
  },
  {
   "cell_type": "markdown",
   "metadata": {},
   "source": [
    "He descargado la <ins>tabla de personas</ins> de la *Encuesta de Presupuestos Familiares* (EPF) [desde la pagina del INE](https://www.ine.cl/estadisticas/sociales/ingresos-y-gastos/encuesta-de-presupuestos-familiares). En este tutorial describiremos los datos utilizando los conceptos previamente definidos"
   ]
  },
  {
   "cell_type": "code",
   "execution_count": 2,
   "metadata": {},
   "outputs": [],
   "source": [
    "epf_gastos = pd.read_csv('base-personas-viii-epf-(formato-csv).csv', \n",
    "                    delimiter=';', # porque el separador del csv no son \",\" (comas)\n",
    "                    low_memory=False) # Porque la tabla contiene distintos tipos de datos"
   ]
  },
  {
   "cell_type": "markdown",
   "metadata": {},
   "source": [
    "La columna ```ING_TOTAL_HOG_HD``` contiene el gasto total de los hogares. Sin embargo, el formato de los datos son de tipo `Object` lo cual imposibilita extraer estadisticos descriptivos. "
   ]
  },
  {
   "cell_type": "code",
   "execution_count": 3,
   "metadata": {},
   "outputs": [
    {
     "data": {
      "text/plain": [
       "dtype('O')"
      ]
     },
     "execution_count": 3,
     "metadata": {},
     "output_type": "execute_result"
    }
   ],
   "source": [
    "epf_gastos['ING_TOTAL_HOG_HD'].dtype"
   ]
  },
  {
   "cell_type": "markdown",
   "metadata": {},
   "source": [
    "Primero reemplazamos la ',' coma '.' por un punto"
   ]
  },
  {
   "cell_type": "code",
   "execution_count": 4,
   "metadata": {},
   "outputs": [],
   "source": [
    "epf_gastos['ING_TOTAL_HOG_HD'] = epf_gastos['ING_TOTAL_HOG_HD'].str.replace(',','.')"
   ]
  },
  {
   "cell_type": "markdown",
   "metadata": {},
   "source": [
    "Luego cambiamos el tipo de dato a `float` flotante"
   ]
  },
  {
   "cell_type": "code",
   "execution_count": 5,
   "metadata": {},
   "outputs": [],
   "source": [
    "epf_gastos['ING_TOTAL_HOG_HD'] = epf_gastos['ING_TOTAL_HOG_HD'].astype(float) "
   ]
  },
  {
   "cell_type": "code",
   "execution_count": 6,
   "metadata": {},
   "outputs": [
    {
     "data": {
      "text/plain": [
       "dtype('float64')"
      ]
     },
     "execution_count": 6,
     "metadata": {},
     "output_type": "execute_result"
    }
   ],
   "source": [
    "epf_gastos['ING_TOTAL_HOG_HD'].dtype"
   ]
  },
  {
   "cell_type": "markdown",
   "metadata": {},
   "source": [
    "Alternativamente, en caso de no querer alterar la columna original podemos crear una nueva columna con los valores actualizados "
   ]
  },
  {
   "cell_type": "code",
   "execution_count": 7,
   "metadata": {},
   "outputs": [],
   "source": [
    "epf_gastos['ingresoTotal'] = epf_gastos['ING_TOTAL_HOG_HD'].astype(float) "
   ]
  },
  {
   "cell_type": "code",
   "execution_count": 8,
   "metadata": {},
   "outputs": [
    {
     "data": {
      "text/html": [
       "<div>\n",
       "<style scoped>\n",
       "    .dataframe tbody tr th:only-of-type {\n",
       "        vertical-align: middle;\n",
       "    }\n",
       "\n",
       "    .dataframe tbody tr th {\n",
       "        vertical-align: top;\n",
       "    }\n",
       "\n",
       "    .dataframe thead th {\n",
       "        text-align: right;\n",
       "    }\n",
       "</style>\n",
       "<table border=\"1\" class=\"dataframe\">\n",
       "  <thead>\n",
       "    <tr style=\"text-align: right;\">\n",
       "      <th></th>\n",
       "      <th>TE09</th>\n",
       "      <th>TE10_HOG</th>\n",
       "      <th>ingresoTotal</th>\n",
       "    </tr>\n",
       "  </thead>\n",
       "  <tbody>\n",
       "    <tr>\n",
       "      <th>0</th>\n",
       "      <td>2</td>\n",
       "      <td>-77</td>\n",
       "      <td>1588000.0</td>\n",
       "    </tr>\n",
       "    <tr>\n",
       "      <th>1</th>\n",
       "      <td>2</td>\n",
       "      <td>-77</td>\n",
       "      <td>1588000.0</td>\n",
       "    </tr>\n",
       "    <tr>\n",
       "      <th>2</th>\n",
       "      <td>2</td>\n",
       "      <td>-77</td>\n",
       "      <td>1588000.0</td>\n",
       "    </tr>\n",
       "  </tbody>\n",
       "</table>\n",
       "</div>"
      ],
      "text/plain": [
       "   TE09  TE10_HOG  ingresoTotal\n",
       "0     2       -77     1588000.0\n",
       "1     2       -77     1588000.0\n",
       "2     2       -77     1588000.0"
      ]
     },
     "execution_count": 8,
     "metadata": {},
     "output_type": "execute_result"
    }
   ],
   "source": [
    "epf_gastos.iloc[:3, -3:] # selecionamos las primeras 3 filas y columnas"
   ]
  },
  {
   "cell_type": "markdown",
   "metadata": {},
   "source": [
    "Ahora podemos calcular nuestros estadisticos descriptivos"
   ]
  },
  {
   "cell_type": "code",
   "execution_count": 9,
   "metadata": {},
   "outputs": [
    {
     "name": "stdout",
     "output_type": "stream",
     "text": [
      "Media Ingreso: $1462937.64\n"
     ]
    }
   ],
   "source": [
    "media_ingreso = epf_gastos['ingresoTotal'].mean()\n",
    "print('Media Ingreso: ${:.2f}'.format(media_ingreso))"
   ]
  },
  {
   "cell_type": "code",
   "execution_count": 10,
   "metadata": {},
   "outputs": [
    {
     "name": "stdout",
     "output_type": "stream",
     "text": [
      "Mediana Ingreso: $955675.00\n"
     ]
    }
   ],
   "source": [
    "mediana_ingreso = epf_gastos['ingresoTotal'].median()\n",
    "print('Mediana Ingreso: ${:.2f}'.format(mediana_ingreso))"
   ]
  },
  {
   "cell_type": "code",
   "execution_count": 11,
   "metadata": {},
   "outputs": [
    {
     "name": "stdout",
     "output_type": "stream",
     "text": [
      "Moda Ingreso: $500000.0\n"
     ]
    }
   ],
   "source": [
    "moda_ingreso = epf_gastos['ingresoTotal'].mode().values[0]\n",
    "print('Moda Ingreso: ${}'.format(moda_ingreso))"
   ]
  },
  {
   "cell_type": "markdown",
   "metadata": {},
   "source": [
    "Como podemos darnos cuenta, los <u>valores centrales</u> para la columna `ingresoTotal` no es igual. **Debemos tener mucho cuidado a la hora de utilizar estos estadisticos para contestar o validar una hipotesis** <br> <br> \n",
    "<span style=\"color:red\">Cual el ingreso promedio de las familias chilenas? <span>"
   ]
  },
  {
   "cell_type": "markdown",
   "metadata": {},
   "source": []
  },
  {
   "cell_type": "markdown",
   "metadata": {},
   "source": [
    "Ahora, analicemos los datos nuevamente, pero siendo mas rigurosos. Por ejemplo, podriamos estudiar la diferencia entre el <u>ingreso maximo y minimo</u> entre todas las familias. Para ello debemos calcular **el rango** de `ingresoTotal`"
   ]
  },
  {
   "cell_type": "code",
   "execution_count": 12,
   "metadata": {},
   "outputs": [
    {
     "name": "stdout",
     "output_type": "stream",
     "text": [
      "Rango Ingreso: $62080830.0\n"
     ]
    }
   ],
   "source": [
    "rango_ingreso = epf_gastos['ingresoTotal'].max() - epf_gastos['ingresoTotal'].min()\n",
    "print('Rango Ingreso: ${}'.format(rango_ingreso))"
   ]
  },
  {
   "cell_type": "markdown",
   "metadata": {},
   "source": [
    "Existe una diferencia de un poco mas de 62 millones!. Con esto podemos ver una primera aproximacion de la <u>dispersion</u> de los datos."
   ]
  },
  {
   "cell_type": "markdown",
   "metadata": {},
   "source": [
    "Ahora bien, ya que conocemos la media, podriamos ver que tan cerca se encuentran los datos de ella -es probable que en nuestra distribucion hayan valores atipicos (*del ingles, outliers*)"
   ]
  },
  {
   "cell_type": "markdown",
   "metadata": {},
   "source": [
    "Para calcular que tanto se alejan los datos de la media, simplemente calculamos el promedio entre las distancias de cada punto con la media aritmetica <br><br>\n",
    "Sea $X$ el conjunto de todos los presupuestos familiares y $x_i$ la i-esima muestra de ese conjunto, la distancia promedio entre los puntos estara definida por: <br>\n",
    "<center>\n",
    "$\\frac{1}{N-1}\\sum_{i=0}^{N-1} (x_i - \\hat{x})^2$\n",
    "</center><br>\n",
    "donde $N$ es la cantidad de presupuestos y $\\hat{x}$ es la media de los presupuestos. <u>Note que la distancia siempre debe ser positiva</u>. "
   ]
  },
  {
   "cell_type": "markdown",
   "metadata": {},
   "source": [
    "El valor que acabamos de calcular es conocido como **varianza** y la raiz cuadrada de esta corresponde a la **desviacion estandar**.<br><br>\n",
    "<span style=\"color:red\">En que casos utilizarias la desviacion estandar?<span>"
   ]
  },
  {
   "cell_type": "markdown",
   "metadata": {},
   "source": []
  },
  {
   "cell_type": "markdown",
   "metadata": {},
   "source": [
    "Ahora, calculemos la varianza y desviacion estandar en Pandas"
   ]
  },
  {
   "cell_type": "code",
   "execution_count": 13,
   "metadata": {},
   "outputs": [
    {
     "name": "stdout",
     "output_type": "stream",
     "text": [
      "Varianza Ingreso: 3067507480673.77\n"
     ]
    }
   ],
   "source": [
    "varianza_ingreso = epf_gastos['ingresoTotal'].var()\n",
    "print('Varianza Ingreso: {:.2f}'.format(varianza_ingreso))"
   ]
  },
  {
   "cell_type": "code",
   "execution_count": 14,
   "metadata": {},
   "outputs": [
    {
     "name": "stdout",
     "output_type": "stream",
     "text": [
      "Desviacion Estandar Ingreso: $1751430.12\n"
     ]
    }
   ],
   "source": [
    "std_ingreso = epf_gastos['ingresoTotal'].std()\n",
    "print('Desviacion Estandar Ingreso: ${:.2f}'.format(std_ingreso))"
   ]
  },
  {
   "cell_type": "markdown",
   "metadata": {},
   "source": [
    "Un estudio interesante seria ordenar los datos e ir viendo el ingreso maximo por porcentaje de la poblacion. Este medida se conoce como percentil, y en pandas podemos calcularlo utilizando `quantile`"
   ]
  },
  {
   "cell_type": "code",
   "execution_count": 15,
   "metadata": {},
   "outputs": [
    {
     "data": {
      "text/plain": [
       "0.25     548740\n",
       "0.50     955675\n",
       "0.75    1691342\n",
       "Name: ingresoTotal, dtype: int64"
      ]
     },
     "execution_count": 15,
     "metadata": {},
     "output_type": "execute_result"
    }
   ],
   "source": [
    "epf_gastos['ingresoTotal'].quantile([.25, .5, .75]).astype(int)"
   ]
  },
  {
   "cell_type": "markdown",
   "metadata": {},
   "source": [
    "<span style=\"color:red\"> Que podemos decir de esta informacion?<span>"
   ]
  },
  {
   "cell_type": "markdown",
   "metadata": {},
   "source": []
  },
  {
   "cell_type": "markdown",
   "metadata": {},
   "source": [
    "En resumen, pandas nos permite realizar todos los calculos necesarios para hacer estadistica descriptiva. Mas aun, esta libreria tiene un metodo el cual nos entrega un resumen de los <u>estadisticos descriptivos<u> mas importantes en el dataframe:  `describe()` "
   ]
  },
  {
   "cell_type": "code",
   "execution_count": 16,
   "metadata": {},
   "outputs": [
    {
     "data": {
      "text/plain": [
       "count       48308\n",
       "mean      1462937\n",
       "std       1751430\n",
       "min             0\n",
       "25%        548740\n",
       "50%        955675\n",
       "75%       1691342\n",
       "max      62080830\n",
       "Name: ingresoTotal, dtype: int64"
      ]
     },
     "execution_count": 16,
     "metadata": {},
     "output_type": "execute_result"
    }
   ],
   "source": [
    "epf_gastos['ingresoTotal'].describe().astype(int) #.astype(int) para visualizar mejor los valores"
   ]
  },
  {
   "cell_type": "markdown",
   "metadata": {},
   "source": [
    "El ingreso de las familias chilenas durante el 2018 varia bastante. Es mas, desde nuestro estudio, podemos observar presencia de valores atipicos extremos que alteran el valor de la media. Si quisieramos estudiar la realidad promedio de las familias chilenas la mediana es una mejor opcion. Sin embargo.... "
   ]
  },
  {
   "cell_type": "markdown",
   "metadata": {},
   "source": [
    "Voy a mostrar algunas columnas de la tabla de nuevamente"
   ]
  },
  {
   "cell_type": "code",
   "execution_count": 17,
   "metadata": {},
   "outputs": [
    {
     "data": {
      "text/html": [
       "<div>\n",
       "<style scoped>\n",
       "    .dataframe tbody tr th:only-of-type {\n",
       "        vertical-align: middle;\n",
       "    }\n",
       "\n",
       "    .dataframe tbody tr th {\n",
       "        vertical-align: top;\n",
       "    }\n",
       "\n",
       "    .dataframe thead th {\n",
       "        text-align: right;\n",
       "    }\n",
       "</style>\n",
       "<table border=\"1\" class=\"dataframe\">\n",
       "  <thead>\n",
       "    <tr style=\"text-align: right;\">\n",
       "      <th></th>\n",
       "      <th>FOLIO</th>\n",
       "      <th>NPERSONAS</th>\n",
       "      <th>ingresoTotal</th>\n",
       "    </tr>\n",
       "  </thead>\n",
       "  <tbody>\n",
       "    <tr>\n",
       "      <th>0</th>\n",
       "      <td>00001-1</td>\n",
       "      <td>4</td>\n",
       "      <td>1.588000e+06</td>\n",
       "    </tr>\n",
       "    <tr>\n",
       "      <th>1</th>\n",
       "      <td>00001-1</td>\n",
       "      <td>4</td>\n",
       "      <td>1.588000e+06</td>\n",
       "    </tr>\n",
       "    <tr>\n",
       "      <th>2</th>\n",
       "      <td>00001-1</td>\n",
       "      <td>4</td>\n",
       "      <td>1.588000e+06</td>\n",
       "    </tr>\n",
       "    <tr>\n",
       "      <th>3</th>\n",
       "      <td>00001-1</td>\n",
       "      <td>4</td>\n",
       "      <td>1.588000e+06</td>\n",
       "    </tr>\n",
       "    <tr>\n",
       "      <th>4</th>\n",
       "      <td>00002-1</td>\n",
       "      <td>1</td>\n",
       "      <td>6.700604e+05</td>\n",
       "    </tr>\n",
       "  </tbody>\n",
       "</table>\n",
       "</div>"
      ],
      "text/plain": [
       "     FOLIO  NPERSONAS  ingresoTotal\n",
       "0  00001-1          4  1.588000e+06\n",
       "1  00001-1          4  1.588000e+06\n",
       "2  00001-1          4  1.588000e+06\n",
       "3  00001-1          4  1.588000e+06\n",
       "4  00002-1          1  6.700604e+05"
      ]
     },
     "execution_count": 17,
     "metadata": {},
     "output_type": "execute_result"
    }
   ],
   "source": [
    "epf_gastos[['FOLIO', 'NPERSONAS', 'ingresoTotal']].head()"
   ]
  },
  {
   "cell_type": "markdown",
   "metadata": {},
   "source": [
    "<span style=\"color:red\"> Que puedes decir del analisis que acabamos de hacer?<span>"
   ]
  },
  {
   "cell_type": "markdown",
   "metadata": {},
   "source": []
  },
  {
   "cell_type": "markdown",
   "metadata": {},
   "source": [
    "`ING_TOTAL_HOG_HD`: \"*Corresponde  a  la  <u>sumatoria</u>  de  todas  las  fuentes  habituales  de  ingreso  del  hogar percibidos en el <u>mes anterior a la aplicación de la encuesta<u/>*\" ([Diccionario de Variables, INE 2018](https://www.ine.cl/docs/default-source/encuesta-de-presupuestos-familiares/bbdd/viii-epf---(junio-2016---julio-2017)/diccionario-de-variables-viii-encuesta-de-presupuestos-familiares-(epf).pdf?sfvrsn=4de1bd06_2))"
   ]
  },
  {
   "cell_type": "markdown",
   "metadata": {},
   "source": [
    "#### Calculando ...."
   ]
  },
  {
   "cell_type": "markdown",
   "metadata": {},
   "source": [
    "Para calcular el nuevo valor percapita utilizaremos la funcion `apply` la cual nos permite ejecutar una funcion sobre una columna o fila ([mas informacion aqui](https://pandas.pydata.org/pandas-docs/stable/reference/api/pandas.DataFrame.apply.html#pandas-dataframe-apply))"
   ]
  },
  {
   "cell_type": "code",
   "execution_count": 18,
   "metadata": {},
   "outputs": [],
   "source": [
    "funcion = lambda x: x['ingresoTotal']/x['NPERSONAS']\n",
    "epf_gastos['ingresoPerCapita'] = epf_gastos.apply(funcion, axis=1)"
   ]
  },
  {
   "cell_type": "code",
   "execution_count": 19,
   "metadata": {},
   "outputs": [
    {
     "data": {
      "text/html": [
       "<div>\n",
       "<style scoped>\n",
       "    .dataframe tbody tr th:only-of-type {\n",
       "        vertical-align: middle;\n",
       "    }\n",
       "\n",
       "    .dataframe tbody tr th {\n",
       "        vertical-align: top;\n",
       "    }\n",
       "\n",
       "    .dataframe thead th {\n",
       "        text-align: right;\n",
       "    }\n",
       "</style>\n",
       "<table border=\"1\" class=\"dataframe\">\n",
       "  <thead>\n",
       "    <tr style=\"text-align: right;\">\n",
       "      <th></th>\n",
       "      <th>FOLIO</th>\n",
       "      <th>NPERSONAS</th>\n",
       "      <th>ingresoTotal</th>\n",
       "      <th>ingresoPerCapita</th>\n",
       "    </tr>\n",
       "  </thead>\n",
       "  <tbody>\n",
       "    <tr>\n",
       "      <th>0</th>\n",
       "      <td>00001-1</td>\n",
       "      <td>4</td>\n",
       "      <td>1.588000e+06</td>\n",
       "      <td>397000.000000</td>\n",
       "    </tr>\n",
       "    <tr>\n",
       "      <th>1</th>\n",
       "      <td>00001-1</td>\n",
       "      <td>4</td>\n",
       "      <td>1.588000e+06</td>\n",
       "      <td>397000.000000</td>\n",
       "    </tr>\n",
       "    <tr>\n",
       "      <th>2</th>\n",
       "      <td>00001-1</td>\n",
       "      <td>4</td>\n",
       "      <td>1.588000e+06</td>\n",
       "      <td>397000.000000</td>\n",
       "    </tr>\n",
       "    <tr>\n",
       "      <th>3</th>\n",
       "      <td>00001-1</td>\n",
       "      <td>4</td>\n",
       "      <td>1.588000e+06</td>\n",
       "      <td>397000.000000</td>\n",
       "    </tr>\n",
       "    <tr>\n",
       "      <th>4</th>\n",
       "      <td>00002-1</td>\n",
       "      <td>1</td>\n",
       "      <td>6.700604e+05</td>\n",
       "      <td>670060.416667</td>\n",
       "    </tr>\n",
       "  </tbody>\n",
       "</table>\n",
       "</div>"
      ],
      "text/plain": [
       "     FOLIO  NPERSONAS  ingresoTotal  ingresoPerCapita\n",
       "0  00001-1          4  1.588000e+06     397000.000000\n",
       "1  00001-1          4  1.588000e+06     397000.000000\n",
       "2  00001-1          4  1.588000e+06     397000.000000\n",
       "3  00001-1          4  1.588000e+06     397000.000000\n",
       "4  00002-1          1  6.700604e+05     670060.416667"
      ]
     },
     "execution_count": 19,
     "metadata": {},
     "output_type": "execute_result"
    }
   ],
   "source": [
    "epf_gastos[['FOLIO', 'NPERSONAS', 'ingresoTotal', 'ingresoPerCapita']].head()"
   ]
  },
  {
   "cell_type": "markdown",
   "metadata": {},
   "source": [
    "Ahora tiene mas sentido hablar del ingreso promedio de los chilenos"
   ]
  },
  {
   "cell_type": "markdown",
   "metadata": {},
   "source": [
    "<span style=\"color:red\"> Cual es el ingreso medio de los chilenos y chilenas?<span>"
   ]
  },
  {
   "cell_type": "code",
   "execution_count": null,
   "metadata": {},
   "outputs": [],
   "source": []
  },
  {
   "cell_type": "markdown",
   "metadata": {},
   "source": [
    "<span style=\"color:red\"> Que porcentaje de la poblacion percibe un ingreso menor al minimo bruto (i.e., $320.500)<span>"
   ]
  },
  {
   "cell_type": "code",
   "execution_count": null,
   "metadata": {},
   "outputs": [],
   "source": []
  },
  {
   "cell_type": "markdown",
   "metadata": {},
   "source": [
    "Por ultimo, la estadistica descriptiva nos entrega valores representativos de una poblacion o muestra. Utilizando medidas de *tendencia central o dispersion* somos capaces de caracterizar y analizar <u>el contexto puntual</u> de los datos.<br><br> En general, en ciencia de datos nosotros **asumimos** que los **fenomenos y/o eventos** de nuestro entorno **persiguen una distribucion**. Si conocemos la distribucion podemos hacer estadistica inferencial."
   ]
  },
  {
   "cell_type": "markdown",
   "metadata": {},
   "source": [
    "Por ejemplo, cual es la probabilidad de que en cinco años no existan personas que vivan con menos del sueldo minimo en chile? <br>\n",
    "Para contestar esta pregunta debemos conocer la **distribucion de ingresos** en el **tiempo** la cual no es tan facil de saber a priori, pero durante el curso aprenderemos como."
   ]
  },
  {
   "cell_type": "markdown",
   "metadata": {},
   "source": [
    "Por mientras podemos visualizar la distribucion de los valores que acabamos de utilizar:"
   ]
  },
  {
   "cell_type": "code",
   "execution_count": 20,
   "metadata": {},
   "outputs": [],
   "source": [
    "import matplotlib.pyplot as plt\n",
    "import numpy as np"
   ]
  },
  {
   "cell_type": "code",
   "execution_count": 21,
   "metadata": {},
   "outputs": [],
   "source": [
    "def freedman_diaconis(serie):\n",
    "    '''    \n",
    "    Calcula la cantidad de bins para un histograma dado un conjunto de muestras\n",
    "    \n",
    "    Arguments:\n",
    "        serie {[Pandas serie]} -- [Columna con valores]\n",
    "    \n",
    "    Returns:\n",
    "        [int] -- bins\n",
    "    \n",
    "    '''\n",
    "    percentil = serie.quantile([.25, .75])\n",
    "    IQR = percentil[0.75] - percentil[0.25]\n",
    "    bins = int(2*IQR/serie.shape[0]**(1/3))\n",
    "    return bins"
   ]
  },
  {
   "cell_type": "code",
   "execution_count": 22,
   "metadata": {},
   "outputs": [
    {
     "data": {
      "image/png": "[encoded data removed]",
      "text/plain": [
       "<Figure size 432x288 with 2 Axes>"
      ]
     },
     "metadata": {
      "needs_background": "light"
     },
     "output_type": "display_data"
    }
   ],
   "source": [
    "fig, axes = plt.subplots(1,2,sharey=True)\n",
    "bins = freedman_diaconis(epf_gastos['ingresoPerCapita'])\n",
    "axes[0].hist(epf_gastos['ingresoPerCapita'], bins=50)\n",
    "axes[0].grid()\n",
    "axes[0].set_xticks([epf_gastos['ingresoPerCapita'].mean() , \n",
    "            epf_gastos['ingresoPerCapita'].max()])\n",
    "axes[0].set_xticklabels([np.round(epf_gastos['ingresoPerCapita'].mean(), 2), \n",
    "                         np.round(epf_gastos['ingresoPerCapita'].max(), 2)], \n",
    "                        rotation=90)\n",
    "# ==========================\n",
    "col_pib = epf_gastos['ingresoPerCapita']\n",
    "\n",
    "no_outliers = col_pib[(col_pib > 0) & (col_pib < 1e6)]\n",
    "\n",
    "axes[1].hist(no_outliers)\n",
    "axes[1].set_xticks([epf_gastos['ingresoPerCapita'].median(), \n",
    "                    epf_gastos['ingresoPerCapita'].mean()])\n",
    "\n",
    "axes[1].set_xticklabels([np.round(epf_gastos['ingresoPerCapita'].median(), 2), \n",
    "                         np.round(epf_gastos['ingresoPerCapita'].mean(), 2)],\n",
    "                       rotation=90)\n",
    "axes[1].grid()\n",
    "\n",
    "fig.suptitle('Distribucion de Ingreso Per Capita')\n",
    "fig.tight_layout()\n",
    "plt.show()"
   ]
  },
  {
   "cell_type": "markdown",
   "metadata": {},
   "source": [
    "### Teorema del Limite Central"
   ]
  },
  {
   "cell_type": "markdown",
   "metadata": {},
   "source": [
    "El teorema del limite central establece que la media de muestras (de tamaño suficientemente grande) tiende a una distribucion normal, independiente de la distribucion de la variable aleatoria que estemos midiendo.\n",
    "<br>\n",
    "Las supuestos necesarios para que se cumpla este teorema son:\n",
    "- Las muestras deben ser aleatorias\n",
    "- Los datos deben ser independientes entre si. "
   ]
  },
  {
   "cell_type": "markdown",
   "metadata": {},
   "source": [
    "Supongamos una variable aleatoria la cual sigue una distribucion exponencial "
   ]
  },
  {
   "cell_type": "code",
   "execution_count": 23,
   "metadata": {},
   "outputs": [
    {
     "data": {
      "image/png": "[encoded data removed]",
      "text/plain": [
       "<Figure size 432x288 with 1 Axes>"
      ]
     },
     "metadata": {
      "needs_background": "light"
     },
     "output_type": "display_data"
    }
   ],
   "source": [
    "n_samples = 10000\n",
    "scale = 3 # lambda = 1/scale\n",
    "data = np.random.exponential (scale, n_samples) \n",
    "plt.hist(data,  bins=100)\n",
    "plt.show()"
   ]
  },
  {
   "cell_type": "markdown",
   "metadata": {},
   "source": [
    "Ahora sacaremos `M` muestras de tamaño `n_muestra` y guardaremos la media "
   ]
  },
  {
   "cell_type": "code",
   "execution_count": 24,
   "metadata": {},
   "outputs": [],
   "source": [
    "M = 1000\n",
    "n_muestra = 1000\n",
    "\n",
    "medias = []\n",
    "for iteracion in range(M):\n",
    "    muestra = np.random.choice(data, n_muestra, replace=True)\n",
    "    media_muestra = np.mean(muestra)\n",
    "    medias.append(media_muestra)"
   ]
  },
  {
   "cell_type": "code",
   "execution_count": 25,
   "metadata": {},
   "outputs": [
    {
     "data": {
      "image/png": "[encoded data removed]",
      "text/plain": [
       "<Figure size 432x288 with 1 Axes>"
      ]
     },
     "metadata": {
      "needs_background": "light"
     },
     "output_type": "display_data"
    }
   ],
   "source": [
    "plt.hist(medias,  bins=100)\n",
    "plt.show()"
   ]
  },
  {
   "cell_type": "markdown",
   "metadata": {},
   "source": [
    "Podemos ver una distribucion normal la cual tiene meadia y desviacion igual a:"
   ]
  },
  {
   "cell_type": "code",
   "execution_count": 26,
   "metadata": {},
   "outputs": [
    {
     "name": "stdout",
     "output_type": "stream",
     "text": [
      "mu: 2.99 - sigma: 0.09\n"
     ]
    }
   ],
   "source": [
    "print('mu: {:.2f} - sigma: {:.2f}'.format(np.mean(medias), np.std(medias)))"
   ]
  },
  {
   "cell_type": "markdown",
   "metadata": {},
   "source": [
    "y comparando con la teorica"
   ]
  },
  {
   "cell_type": "code",
   "execution_count": 27,
   "metadata": {},
   "outputs": [
    {
     "name": "stdout",
     "output_type": "stream",
     "text": [
      "mu: 3.00 - sigma: 0.09\n"
     ]
    }
   ],
   "source": [
    "sigma_teorico = scale/np.sqrt(n_muestra)\n",
    "print('mu: {:.2f} - sigma: {:.2f}'.format(scale, sigma_teorico))"
   ]
  },
  {
   "cell_type": "markdown",
   "metadata": {},
   "source": [
    "Ahora intentemos con los datos de presupuestos familiares "
   ]
  },
  {
   "cell_type": "code",
   "execution_count": 31,
   "metadata": {},
   "outputs": [],
   "source": [
    "data = epf_gastos['ingresoPerCapita']\n",
    "\n",
    "M = 1000 # Numero de muestras\n",
    "n_muestra = 4000 # tamano de la muestra\n",
    "\n",
    "medias = []\n",
    "for iteracion in range(M):\n",
    "    muestra = np.random.choice(data, n_muestra, replace=True)\n",
    "    media_muestra = np.mean(muestra)\n",
    "    medias.append(media_muestra)"
   ]
  },
  {
   "cell_type": "code",
   "execution_count": 35,
   "metadata": {},
   "outputs": [
    {
     "data": {
      "image/png": "[encoded data removed]",
      "text/plain": [
       "<Figure size 432x288 with 1 Axes>"
      ]
     },
     "metadata": {
      "needs_background": "light"
     },
     "output_type": "display_data"
    }
   ],
   "source": [
    "plt.hist(medias, bins=100)\n",
    "plt.show()"
   ]
  },
  {
   "cell_type": "code",
   "execution_count": 32,
   "metadata": {},
   "outputs": [
    {
     "name": "stdout",
     "output_type": "stream",
     "text": [
      "mu: 423595.68 - sigma: 9551.01\n"
     ]
    }
   ],
   "source": [
    "print('mu: {:.2f} - sigma: {:.2f}'.format(np.mean(medias), np.std(medias)))"
   ]
  },
  {
   "cell_type": "code",
   "execution_count": 33,
   "metadata": {},
   "outputs": [
    {
     "name": "stdout",
     "output_type": "stream",
     "text": [
      "mu: 423710.76 - sigma: 586252.53\n"
     ]
    }
   ],
   "source": [
    "print('mu: {:.2f} - sigma: {:.2f}'.format(np.mean(epf_gastos['ingresoPerCapita']), \n",
    "                                          np.std(epf_gastos['ingresoPerCapita'])))"
   ]
  },
  {
   "cell_type": "markdown",
   "metadata": {},
   "source": [
    "<span style=\"color:red\"> Porque el error entre la std empirica y teorica son distintas?<span>"
   ]
  },
  {
   "cell_type": "code",
   "execution_count": null,
   "metadata": {},
   "outputs": [],
   "source": []
  },
  {
   "cell_type": "code",
   "execution_count": null,
   "metadata": {},
   "outputs": [],
   "source": []
  },
  {
   "cell_type": "markdown",
   "metadata": {},
   "source": [
    "### Otro ejemplo para TLE (teorema del limite central)"
   ]
  },
  {
   "cell_type": "markdown",
   "metadata": {},
   "source": [
    "### Galton Board\n",
    "\n",
    "Para este experimento, se debe colocar un gran número de pelotitas en el embudo y dejarlas correr hacia el tablero de clavos que se encuentra debajo. Cada pelota, a medida que cae, golpeará el clavo debajo del embudo, y rebotará a la izquierda o a la derecha- Así que $p_{l} = 1- p_{r}$. En otras palabras, la probabilidad de que una pelotita vaya a la izquierda ($p_{l}$) es 1 menos la probabilidad de que una pelotita vaya a la derecha ($p_{r}$). Si las clavijas están dispuestas simétricamente (como en este caso), $p_{l} = p_{r} = \\frac{1}{2}$. Estas pelotas seguirán rebotando contra las clavijas de abajo. En cada clavija, la pelota elige al azar una de las dos direcciones. Eventualmente, cada pelota caerá en una de las ranuras de la parte inferior.\n",
    "\n",
    "<br> \n",
    "<img src=\"data:image/png;base64,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\">\n"
   ]
  },
  {
   "cell_type": "markdown",
   "metadata": {},
   "source": [
    "Programemos una simulación del experimento.\n",
    "\n",
    "- Si la altura es 1, habrán 2 ranuras<br>\n",
    "- Si la altura es 2, habran 3 ranuras.<br>\n",
    "- Si la altura es 5, habrán 6 ranuras.<br>\n",
    "\n",
    "**Entonces el número de ranuras es la altura + 1.**\n",
    "\n",
    "¿Como programamos el recorrido de cada pelotita?\n",
    "\n",
    "- Si la pelotita siempre se va por la izquierda, acabará en la ranura 0.\n",
    "- Si la pelotita solo se va por la derecha una vez, independiente de en que momento, acabará en la ranura 1.\n",
    "- Si la pelotita se va por la derecha 2 veces, acabará en la ranura 2.\n",
    "\n",
    "**Entonces la ranura depende de cuantas veces la pelotita se va por la derecha**\n",
    "\n",
    "\n"
   ]
  },
  {
   "cell_type": "code",
   "execution_count": 6,
   "metadata": {},
   "outputs": [
    {
     "name": "stderr",
     "output_type": "stream",
     "text": [
      "/usr/local/lib/python3.7/site-packages/pandas-1.0.0rc0-py3.7-linux-x86_64.egg/pandas/compat/__init__.py:117: UserWarning: Could not import the lzma module. Your installed Python is incomplete. Attempting to use lzma compression will result in a RuntimeError.\n",
      "  warnings.warn(msg)\n"
     ]
    }
   ],
   "source": [
    "import numpy as np\n",
    "import pandas as pd\n",
    "import matplotlib.pyplot as plt"
   ]
  },
  {
   "cell_type": "code",
   "execution_count": 3,
   "metadata": {},
   "outputs": [],
   "source": [
    "def galton_experimento(altura, pelotitas):\n",
    "    ranuras = [0] * (altura + 1)\n",
    "    datos = []\n",
    "    index = range(0,altura+1)\n",
    "    for _ in range(pelotitas):\n",
    "        pos = 0\n",
    "        for i in range(0, altura):\n",
    "            hacia_la_derecha = np.random.randint(2, size=1) #random donde 1 indica que se fue por la derecha\n",
    "            if hacia_la_derecha == 1:\n",
    "                pos += 1\n",
    "        datos.append(pos)\n",
    "        ranuras[pos] = ranuras[pos] + 1\n",
    "    return index,ranuras,datos\n"
   ]
  },
  {
   "cell_type": "code",
   "execution_count": 4,
   "metadata": {},
   "outputs": [],
   "source": [
    "altura = 1000\n",
    "pelotas = 10000\n",
    "x,y,datos = galton_experimento(altura,pelotas)"
   ]
  },
  {
   "cell_type": "code",
   "execution_count": 7,
   "metadata": {},
   "outputs": [
    {
     "data": {
      "image/png": "[encoded data removed]",
      "text/plain": [
       "<Figure size 432x288 with 1 Axes>"
      ]
     },
     "metadata": {
      "needs_background": "light"
     },
     "output_type": "display_data"
    }
   ],
   "source": [
    "plt.hist(datos, bins=20)\n",
    "plt.show()"
   ]
  },
  {
   "cell_type": "markdown",
   "metadata": {},
   "source": [
    "**¡Esto se parece a una distribución normal!**<br><br>\n",
    "¿Por qué?<br><br>\n",
    "Cada paso es aleatorio, así que si la pelotita golpea $n$ clavijas en su viaje descendente, la ranura en la que finalmente termina puede ser considerada como la suma de $n$ variables aleatorias. Como el teorema del límite central nos dice que la suma de las variables aleatorias k se acerca a una distribución normal a medida que k aumenta, esta distribución se acercará cada vez más a una normal cuanto mayor sea el número de clavijas que tenga nuestro tablero, y cuanto mayor sea el número de bolas que se dejen caer.\n"
   ]
  },
  {
   "cell_type": "code",
   "execution_count": 8,
   "metadata": {},
   "outputs": [
    {
     "data": {
      "image/png": "[encoded data removed]",
      "text/plain": [
       "<Figure size 576x432 with 1 Axes>"
      ]
     },
     "metadata": {
      "needs_background": "light"
     },
     "output_type": "display_data"
    }
   ],
   "source": [
    "import scipy.stats as ss\n",
    "ax = plt.figure(figsize=(8, 6))\n",
    "d = np.array(datos)\n",
    "mu = d.mean()\n",
    "sigma = d.std()\n",
    "normal = ss.norm.pdf(x[400:600],mu,sigma)\n",
    "plt.hist(datos, bins=20, density = True)\n",
    "plt.plot(x[400:600],normal,color=\"r\", lw=\"2\")\n",
    "plt.show()"
   ]
  },
  {
   "cell_type": "markdown",
   "metadata": {},
   "source": [
    "En el código anterior dibujamos una distribución normal (linea roja) sobre neustro histograma"
   ]
  },
  {
   "cell_type": "markdown",
   "metadata": {},
   "source": [
    "#### Regresión a la media\n",
    "\n",
    "Para mostrar este fenónemo utilizaremos un dataset que contiene información sobre las alturas de hijos y sus padres"
   ]
  },
  {
   "cell_type": "code",
   "execution_count": 9,
   "metadata": {},
   "outputs": [
    {
     "data": {
      "text/html": [
       "<div>\n",
       "<style scoped>\n",
       "    .dataframe tbody tr th:only-of-type {\n",
       "        vertical-align: middle;\n",
       "    }\n",
       "\n",
       "    .dataframe tbody tr th {\n",
       "        vertical-align: top;\n",
       "    }\n",
       "\n",
       "    .dataframe thead th {\n",
       "        text-align: right;\n",
       "    }\n",
       "</style>\n",
       "<table border=\"1\" class=\"dataframe\">\n",
       "  <thead>\n",
       "    <tr style=\"text-align: right;\">\n",
       "      <th></th>\n",
       "      <th>Family</th>\n",
       "      <th>Father</th>\n",
       "      <th>Mother</th>\n",
       "      <th>Gender</th>\n",
       "      <th>Height</th>\n",
       "      <th>Kids</th>\n",
       "    </tr>\n",
       "  </thead>\n",
       "  <tbody>\n",
       "    <tr>\n",
       "      <th>0</th>\n",
       "      <td>1</td>\n",
       "      <td>78.5</td>\n",
       "      <td>67.0</td>\n",
       "      <td>M</td>\n",
       "      <td>73.2</td>\n",
       "      <td>4</td>\n",
       "    </tr>\n",
       "    <tr>\n",
       "      <th>1</th>\n",
       "      <td>1</td>\n",
       "      <td>78.5</td>\n",
       "      <td>67.0</td>\n",
       "      <td>F</td>\n",
       "      <td>69.2</td>\n",
       "      <td>4</td>\n",
       "    </tr>\n",
       "    <tr>\n",
       "      <th>2</th>\n",
       "      <td>1</td>\n",
       "      <td>78.5</td>\n",
       "      <td>67.0</td>\n",
       "      <td>F</td>\n",
       "      <td>69.0</td>\n",
       "      <td>4</td>\n",
       "    </tr>\n",
       "    <tr>\n",
       "      <th>3</th>\n",
       "      <td>1</td>\n",
       "      <td>78.5</td>\n",
       "      <td>67.0</td>\n",
       "      <td>F</td>\n",
       "      <td>69.0</td>\n",
       "      <td>4</td>\n",
       "    </tr>\n",
       "    <tr>\n",
       "      <th>4</th>\n",
       "      <td>2</td>\n",
       "      <td>75.5</td>\n",
       "      <td>66.5</td>\n",
       "      <td>M</td>\n",
       "      <td>73.5</td>\n",
       "      <td>4</td>\n",
       "    </tr>\n",
       "  </tbody>\n",
       "</table>\n",
       "</div>"
      ],
      "text/plain": [
       "  Family  Father  Mother Gender  Height  Kids\n",
       "0      1    78.5    67.0      M    73.2     4\n",
       "1      1    78.5    67.0      F    69.2     4\n",
       "2      1    78.5    67.0      F    69.0     4\n",
       "3      1    78.5    67.0      F    69.0     4\n",
       "4      2    75.5    66.5      M    73.5     4"
      ]
     },
     "execution_count": 9,
     "metadata": {},
     "output_type": "execute_result"
    }
   ],
   "source": [
    "galton = pd.read_csv('http://www.randomservices.org/random/data/Galton.txt', sep='\\t', header=0)\n",
    "galton.head()"
   ]
  },
  {
   "cell_type": "code",
   "execution_count": 10,
   "metadata": {},
   "outputs": [
    {
     "data": {
      "image/png": "[encoded data removed]",
      "text/plain": [
       "<Figure size 648x216 with 3 Axes>"
      ]
     },
     "metadata": {
      "needs_background": "light"
     },
     "output_type": "display_data"
    }
   ],
   "source": [
    "plt.figure(figsize=(9,3))\n",
    "plt.subplot(1,3,1)\n",
    "plt.hist(galton[\"Father\"], bins=7)\n",
    "plt.title(\"Padres\")\n",
    "plt.subplot(1,3,2)\n",
    "plt.title(\"Madres\")\n",
    "plt.hist(galton[\"Mother\"], bins=7, color = \"g\")\n",
    "plt.subplot(1,3,3)\n",
    "plt.title(\"Altura\")\n",
    "plt.hist(galton[\"Height\"], bins=7, color = \"orange\");"
   ]
  },
  {
   "cell_type": "markdown",
   "metadata": {},
   "source": [
    "Analizemos más a fondo los datos obteniendo altura promedio y la mediana."
   ]
  },
  {
   "cell_type": "code",
   "execution_count": 13,
   "metadata": {},
   "outputs": [
    {
     "name": "stdout",
     "output_type": "stream",
     "text": [
      "Media Padres:  69.23285077951002 Media Madres:  64.08440979955456\n",
      "Mediana Padres:  69.0 Mediana Madres:  64.0\n",
      "**************************************************\n",
      "1.0803384317037314\n",
      "1.078125\n",
      "**************************************************\n",
      "Altura promedio de los hijos:  66.76069042316259\n"
     ]
    }
   ],
   "source": [
    "print(\"Media Padres: \", galton[\"Father\"].mean(), \"Media Madres: \", galton[\"Mother\"].mean())\n",
    "print(\"Mediana Padres: \", np.median(galton[\"Father\"]), \"Mediana Madres: \", np.median(galton[\"Mother\"]))\n",
    "print(\"*\"*50)\n",
    "print(galton[\"Father\"].mean()/galton[\"Mother\"].mean())\n",
    "print(np.median(galton[\"Father\"])/np.median(galton[\"Mother\"]))\n",
    "print(\"*\"*50)\n",
    "print(\"Altura promedio de los hijos: \", galton[\"Height\"].mean())"
   ]
  },
  {
   "cell_type": "markdown",
   "metadata": {},
   "source": [
    "Obtuvimos media y mediana de las alturas de los padres y de las madres, y también sabemos que los padres son aproximadamente un 8% más altos que las madres.\n",
    "Por esto, para las siguientes operaciones, se utilizará la altura promedio de los padres ((padre + madre) / 2)"
   ]
  },
  {
   "cell_type": "markdown",
   "metadata": {},
   "source": [
    "Ahora que sabemos la altura promedio de los hijos (66.76), analizemos los **casos extremos**"
   ]
  },
  {
   "cell_type": "code",
   "execution_count": 14,
   "metadata": {},
   "outputs": [
    {
     "name": "stdout",
     "output_type": "stream",
     "text": [
      "Min :  62.0\n",
      "Max :  72.75\n"
     ]
    }
   ],
   "source": [
    "padres = (galton[\"Mother\"].values + galton[\"Father\"].values)/2\n",
    "min = padres.min()\n",
    "max = padres.max()\n",
    "print(\"Min : \", min)\n",
    "print(\"Max : \", max)"
   ]
  },
  {
   "cell_type": "markdown",
   "metadata": {},
   "source": [
    "Observamos los valores extremos de las alturas de los padres. Como queremos ver los casos extremos, queremos tener en cuenta los hijos de padres que tengan alturas cercanas a esos valores."
   ]
  },
  {
   "cell_type": "markdown",
   "metadata": {},
   "source": [
    "Extremo superior:"
   ]
  },
  {
   "cell_type": "code",
   "execution_count": 15,
   "metadata": {},
   "outputs": [
    {
     "data": {
      "text/plain": [
       "70.36086956521739"
      ]
     },
     "execution_count": 15,
     "metadata": {},
     "output_type": "execute_result"
    }
   ],
   "source": [
    "galton[\"Height\"][padres>max-2.0].mean()"
   ]
  },
  {
   "cell_type": "markdown",
   "metadata": {},
   "source": [
    "El promedio de los hijos de padres con alturas entre 72.5 y 70.75 es 70.36\n",
    "Si nos damos cuenta, 70.36 es menor a 72.5, es decir que los hijos en promedio son más bajos que sus padres cuando estos son exepcionalmente altos."
   ]
  },
  {
   "cell_type": "markdown",
   "metadata": {},
   "source": [
    "Extremo inferior:"
   ]
  },
  {
   "cell_type": "code",
   "execution_count": 16,
   "metadata": {},
   "outputs": [
    {
     "data": {
      "text/plain": [
       "64.41428571428571"
      ]
     },
     "execution_count": 16,
     "metadata": {},
     "output_type": "execute_result"
    }
   ],
   "source": [
    "galton[\"Height\"][padres<min+2.0].mean()"
   ]
  },
  {
   "cell_type": "markdown",
   "metadata": {},
   "source": [
    "El promedio de los hijos de padres con alturas entre 64.0 y 62.0 es 64.41\n",
    "Si nos damos cuenta, 64.41 es mayor a 64.0, es decir que los hijos en promedio son más altos que sus padres cuando estos son excepcionalmente bajos."
   ]
  },
  {
   "cell_type": "markdown",
   "metadata": {},
   "source": [
    "Con esto concluimos:\n",
    "\n",
    "- Los hijos de padres muy altos tienden a ser más altos que el promedio, pero más pequeños que sus padres\n",
    "\n",
    "- Los hijos de padres muy pequeños tienden a ser más pequeños que el promedio pero más altos que sus padres.\n",
    "\n",
    "\n",
    "Esto se conoce como **regresión a la media** y ocurre cuando se realizan mediciones repetidas.  Significa que, en general, es probable que las observaciones relativamente altas (o bajas) sean seguidas por otras menos extremas más cercanas a la media real del sujeto. "
   ]
  }
 ],
 "metadata": {
  "kernelspec": {
   "display_name": "Python 3",
   "language": "python",
   "name": "python3"
  },
  "language_info": {
   "codemirror_mode": {
    "name": "ipython",
    "version": 3
   },
   "file_extension": ".py",
   "mimetype": "text/x-python",
   "name": "python",
   "nbconvert_exporter": "python",
   "pygments_lexer": "ipython3",
   "version": "3.7.4"
  }
 },
 "nbformat": 4,
 "nbformat_minor": 4
}
