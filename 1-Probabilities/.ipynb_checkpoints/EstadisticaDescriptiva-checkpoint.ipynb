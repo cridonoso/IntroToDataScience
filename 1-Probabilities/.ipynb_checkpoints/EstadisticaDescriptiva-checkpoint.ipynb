{
 "cells": [
  {
   "cell_type": "markdown",
   "metadata": {},
   "source": [
    "# Estadistica Descriptiva\n",
    "\n",
    "Cristobal Donoso Oliva<br>\n",
    "Universidad de Concepcion, Chile<br>\n",
    "cridonoso@inf.udec.cl<br>\n",
    "\n",
    "\n",
    "_Viernes 9 de Octubre del 2020_"
   ]
  },
  {
   "cell_type": "markdown",
   "metadata": {},
   "source": [
    "La estadistica descriptiva tiene como objetivo **resumir** y **presentar** los datos, seaan estos de la **poblacion total** o una **muestra** de ella <br><br>\n",
    "En este tutorial revisaremos los conceptos fundamentales en esta area, los cuales pueden agruparse en tres ramas principales:\n",
    "- Medidas de tendencia central\n",
    "- Medidas de dispersion\n",
    "\n",
    "La estadistica descriptiva es el primer paso en la exploracion de datos. Nos permite ver como estos se distribuyen y hace hipotesis al respecto."
   ]
  },
  {
   "cell_type": "markdown",
   "metadata": {},
   "source": [
    "En este tutorial utilizaremos la libreria de python ```pandas```, la cual fue presentada en el [tutorial pasado](https://github.com/cridonoso/IntroToDataScience/blob/master/0-Python/Python.ipynb)"
   ]
  },
  {
   "cell_type": "code",
   "execution_count": 1,
   "metadata": {},
   "outputs": [],
   "source": [
    "import pandas as pd # importamos la libreria"
   ]
  },
  {
   "cell_type": "markdown",
   "metadata": {},
   "source": [
    "He descargado la <ins>tabla de personas</ins> de la *Encuesta de Presupuestos Familiares* (EPF) [desde la pagina del INE](https://www.ine.cl/estadisticas/sociales/ingresos-y-gastos/encuesta-de-presupuestos-familiares). En este tutorial describiremos los datos utilizando los conceptos previamente definidos"
   ]
  },
  {
   "cell_type": "code",
   "execution_count": 2,
   "metadata": {},
   "outputs": [],
   "source": [
    "epf_gastos = pd.read_csv('base-personas-viii-epf-(formato-csv).csv', \n",
    "                    delimiter=';', # porque el separador del csv no son \",\" (comas)\n",
    "                    low_memory=False) # Porque la tabla contiene distintos tipos de datos"
   ]
  },
  {
   "cell_type": "markdown",
   "metadata": {},
   "source": [
    "La columna ```ING_TOTAL_HOG_HD``` contiene el gasto total de los hogares. Sin embargo, el formato de los datos son de tipo `Object` lo cual imposibilita extraer estadisticos descriptivos. "
   ]
  },
  {
   "cell_type": "code",
   "execution_count": 3,
   "metadata": {},
   "outputs": [
    {
     "data": {
      "text/plain": [
       "dtype('O')"
      ]
     },
     "execution_count": 3,
     "metadata": {},
     "output_type": "execute_result"
    }
   ],
   "source": [
    "epf_gastos['ING_TOTAL_HOG_HD'].dtype"
   ]
  },
  {
   "cell_type": "markdown",
   "metadata": {},
   "source": [
    "Primero reemplazamos la ',' coma '.' por un punto"
   ]
  },
  {
   "cell_type": "code",
   "execution_count": 4,
   "metadata": {},
   "outputs": [],
   "source": [
    "epf_gastos['ING_TOTAL_HOG_HD'] = epf_gastos['ING_TOTAL_HOG_HD'].str.replace(',','.')"
   ]
  },
  {
   "cell_type": "markdown",
   "metadata": {},
   "source": [
    "Luego cambiamos el tipo de dato a `float` flotante"
   ]
  },
  {
   "cell_type": "code",
   "execution_count": 5,
   "metadata": {},
   "outputs": [],
   "source": [
    "epf_gastos['ING_TOTAL_HOG_HD'] = epf_gastos['ING_TOTAL_HOG_HD'].astype(float) "
   ]
  },
  {
   "cell_type": "code",
   "execution_count": 6,
   "metadata": {},
   "outputs": [
    {
     "data": {
      "text/plain": [
       "dtype('float64')"
      ]
     },
     "execution_count": 6,
     "metadata": {},
     "output_type": "execute_result"
    }
   ],
   "source": [
    "epf_gastos['ING_TOTAL_HOG_HD'].dtype"
   ]
  },
  {
   "cell_type": "markdown",
   "metadata": {},
   "source": [
    "Alternativamente, en caso de no querer alterar la columna original podemos crear una nueva columna con los valores actualizados "
   ]
  },
  {
   "cell_type": "code",
   "execution_count": 7,
   "metadata": {},
   "outputs": [],
   "source": [
    "epf_gastos['ingresoTotal'] = epf_gastos['ING_TOTAL_HOG_HD'].astype(float) "
   ]
  },
  {
   "cell_type": "code",
   "execution_count": 8,
   "metadata": {},
   "outputs": [
    {
     "data": {
      "text/html": [
       "<div>\n",
       "<style scoped>\n",
       "    .dataframe tbody tr th:only-of-type {\n",
       "        vertical-align: middle;\n",
       "    }\n",
       "\n",
       "    .dataframe tbody tr th {\n",
       "        vertical-align: top;\n",
       "    }\n",
       "\n",
       "    .dataframe thead th {\n",
       "        text-align: right;\n",
       "    }\n",
       "</style>\n",
       "<table border=\"1\" class=\"dataframe\">\n",
       "  <thead>\n",
       "    <tr style=\"text-align: right;\">\n",
       "      <th></th>\n",
       "      <th>TE09</th>\n",
       "      <th>TE10_HOG</th>\n",
       "      <th>ingresoTotal</th>\n",
       "    </tr>\n",
       "  </thead>\n",
       "  <tbody>\n",
       "    <tr>\n",
       "      <th>0</th>\n",
       "      <td>2</td>\n",
       "      <td>-77</td>\n",
       "      <td>1588000.0</td>\n",
       "    </tr>\n",
       "    <tr>\n",
       "      <th>1</th>\n",
       "      <td>2</td>\n",
       "      <td>-77</td>\n",
       "      <td>1588000.0</td>\n",
       "    </tr>\n",
       "    <tr>\n",
       "      <th>2</th>\n",
       "      <td>2</td>\n",
       "      <td>-77</td>\n",
       "      <td>1588000.0</td>\n",
       "    </tr>\n",
       "  </tbody>\n",
       "</table>\n",
       "</div>"
      ],
      "text/plain": [
       "   TE09  TE10_HOG  ingresoTotal\n",
       "0     2       -77     1588000.0\n",
       "1     2       -77     1588000.0\n",
       "2     2       -77     1588000.0"
      ]
     },
     "execution_count": 8,
     "metadata": {},
     "output_type": "execute_result"
    }
   ],
   "source": [
    "epf_gastos.iloc[:3, -3:] # selecionamos las primeras 3 filas y columnas"
   ]
  },
  {
   "cell_type": "markdown",
   "metadata": {},
   "source": [
    "Ahora podemos calcular nuestros estadisticos descriptivos"
   ]
  },
  {
   "cell_type": "code",
   "execution_count": 9,
   "metadata": {},
   "outputs": [
    {
     "name": "stdout",
     "output_type": "stream",
     "text": [
      "Media Ingreso: $1462937.64\n"
     ]
    }
   ],
   "source": [
    "media_ingreso = epf_gastos['ingresoTotal'].mean()\n",
    "print('Media Ingreso: ${:.2f}'.format(media_ingreso))"
   ]
  },
  {
   "cell_type": "code",
   "execution_count": 10,
   "metadata": {},
   "outputs": [
    {
     "name": "stdout",
     "output_type": "stream",
     "text": [
      "Mediana Ingreso: $955675.00\n"
     ]
    }
   ],
   "source": [
    "mediana_ingreso = epf_gastos['ingresoTotal'].median()\n",
    "print('Mediana Ingreso: ${:.2f}'.format(mediana_ingreso))"
   ]
  },
  {
   "cell_type": "code",
   "execution_count": 11,
   "metadata": {},
   "outputs": [
    {
     "name": "stdout",
     "output_type": "stream",
     "text": [
      "Moda Ingreso: $500000.0\n"
     ]
    }
   ],
   "source": [
    "moda_ingreso = epf_gastos['ingresoTotal'].mode().values[0]\n",
    "print('Moda Ingreso: ${}'.format(moda_ingreso))"
   ]
  },
  {
   "cell_type": "markdown",
   "metadata": {},
   "source": [
    "Como podemos darnos cuenta, los <u>valores centrales</u> para la columna `ingresoTotal` no es igual. **Debemos tener mucho cuidado a la hora de utilizar estos estadisticos para contestar o validar una hipotesis** <br> <br> \n",
    "<span style=\"color:red\">Cual el ingreso promedio de las familias chilenas? <span>"
   ]
  },
  {
   "cell_type": "markdown",
   "metadata": {},
   "source": []
  },
  {
   "cell_type": "markdown",
   "metadata": {},
   "source": [
    "Ahora, analicemos los datos nuevamente, pero siendo mas rigurosos. Por ejemplo, podriamos estudiar la diferencia entre el <u>ingreso maximo y minimo</u> entre todas las familias. Para ello debemos calcular **el rango** de `ingresoTotal`"
   ]
  },
  {
   "cell_type": "code",
   "execution_count": 12,
   "metadata": {},
   "outputs": [
    {
     "name": "stdout",
     "output_type": "stream",
     "text": [
      "Rango Ingreso: $62080830.0\n"
     ]
    }
   ],
   "source": [
    "rango_ingreso = epf_gastos['ingresoTotal'].max() - epf_gastos['ingresoTotal'].min()\n",
    "print('Rango Ingreso: ${}'.format(rango_ingreso))"
   ]
  },
  {
   "cell_type": "markdown",
   "metadata": {},
   "source": [
    "Existe una diferencia de un poco mas de 62 millones!. Con esto podemos ver una primera aproximacion de la <u>dispersion</u> de los datos."
   ]
  },
  {
   "cell_type": "markdown",
   "metadata": {},
   "source": [
    "Ahora bien, ya que conocemos la media, podriamos ver que tan cerca se encuentran los datos de ella -es probable que en nuestra distribucion hayan valores atipicos (*del ingles, outliers*)"
   ]
  },
  {
   "cell_type": "markdown",
   "metadata": {},
   "source": [
    "Para calcular que tanto se alejan los datos de la media, simplemente calculamos el promedio entre las distancias de cada punto con la media aritmetica <br><br>\n",
    "Sea $X$ el conjunto de todos los presupuestos familiares y $x_i$ la i-esima muestra de ese conjunto, la distancia promedio entre los puntos estara definida por: <br>\n",
    "<center>\n",
    "$\\frac{1}{N-1}\\sum_{i=0}^{N-1} (x_i - \\hat{x})^2$\n",
    "</center><br>\n",
    "donde $N$ es la cantidad de presupuestos y $\\hat{x}$ es la media de los presupuestos. <u>Note que la distancia siempre debe ser positiva</u>. "
   ]
  },
  {
   "cell_type": "markdown",
   "metadata": {},
   "source": [
    "El valor que acabamos de calcular es conocido como **varianza** y la raiz cuadrada de esta corresponde a la **desviacion estandar**.<br><br>\n",
    "<span style=\"color:red\">En que casos utilizarias la desviacion estandar?<span>"
   ]
  },
  {
   "cell_type": "markdown",
   "metadata": {},
   "source": []
  },
  {
   "cell_type": "markdown",
   "metadata": {},
   "source": [
    "Ahora, calculemos la varianza y desviacion estandar en Pandas"
   ]
  },
  {
   "cell_type": "code",
   "execution_count": 13,
   "metadata": {},
   "outputs": [
    {
     "name": "stdout",
     "output_type": "stream",
     "text": [
      "Varianza Ingreso: 3067507480673.77\n"
     ]
    }
   ],
   "source": [
    "varianza_ingreso = epf_gastos['ingresoTotal'].var()\n",
    "print('Varianza Ingreso: {:.2f}'.format(varianza_ingreso))"
   ]
  },
  {
   "cell_type": "code",
   "execution_count": 14,
   "metadata": {},
   "outputs": [
    {
     "name": "stdout",
     "output_type": "stream",
     "text": [
      "Desviacion Estandar Ingreso: $1751430.12\n"
     ]
    }
   ],
   "source": [
    "std_ingreso = epf_gastos['ingresoTotal'].std()\n",
    "print('Desviacion Estandar Ingreso: ${:.2f}'.format(std_ingreso))"
   ]
  },
  {
   "cell_type": "markdown",
   "metadata": {},
   "source": [
    "Un estudio interesante seria ordenar los datos e ir viendo el ingreso maximo por porcentaje de la poblacion. Este medida se conoce como percentil, y en pandas podemos calcularlo utilizando `quantile`"
   ]
  },
  {
   "cell_type": "code",
   "execution_count": 15,
   "metadata": {},
   "outputs": [
    {
     "data": {
      "text/plain": [
       "0.25     548740\n",
       "0.50     955675\n",
       "0.75    1691342\n",
       "Name: ingresoTotal, dtype: int64"
      ]
     },
     "execution_count": 15,
     "metadata": {},
     "output_type": "execute_result"
    }
   ],
   "source": [
    "epf_gastos['ingresoTotal'].quantile([.25, .5, .75]).astype(int)"
   ]
  },
  {
   "cell_type": "markdown",
   "metadata": {},
   "source": [
    "<span style=\"color:red\"> Que podemos decir de esta informacion?<span>"
   ]
  },
  {
   "cell_type": "markdown",
   "metadata": {},
   "source": []
  },
  {
   "cell_type": "markdown",
   "metadata": {},
   "source": [
    "En resumen, pandas nos permite realizar todos los calculos necesarios para hacer estadistica descriptiva. Mas aun, esta libreria tiene un metodo el cual nos entrega un resumen de los <u>estadisticos descriptivos<u> mas importantes en el dataframe:  `describe()` "
   ]
  },
  {
   "cell_type": "code",
   "execution_count": 16,
   "metadata": {},
   "outputs": [
    {
     "data": {
      "text/plain": [
       "count       48308\n",
       "mean      1462937\n",
       "std       1751430\n",
       "min             0\n",
       "25%        548740\n",
       "50%        955675\n",
       "75%       1691342\n",
       "max      62080830\n",
       "Name: ingresoTotal, dtype: int64"
      ]
     },
     "execution_count": 16,
     "metadata": {},
     "output_type": "execute_result"
    }
   ],
   "source": [
    "epf_gastos['ingresoTotal'].describe().astype(int) #.astype(int) para visualizar mejor los valores"
   ]
  },
  {
   "cell_type": "markdown",
   "metadata": {},
   "source": [
    "El ingreso de las familias chilenas durante el 2018 varia bastante. Es mas, desde nuestro estudio, podemos observar presencia de valores atipicos extremos que alteran el valor de la media. Si quisieramos estudiar la realidad promedio de las familias chilenas la mediana es una mejor opcion. Sin embargo.... "
   ]
  },
  {
   "cell_type": "markdown",
   "metadata": {},
   "source": [
    "Voy a mostrar algunas columnas de la tabla de nuevamente"
   ]
  },
  {
   "cell_type": "code",
   "execution_count": 17,
   "metadata": {},
   "outputs": [
    {
     "data": {
      "text/html": [
       "<div>\n",
       "<style scoped>\n",
       "    .dataframe tbody tr th:only-of-type {\n",
       "        vertical-align: middle;\n",
       "    }\n",
       "\n",
       "    .dataframe tbody tr th {\n",
       "        vertical-align: top;\n",
       "    }\n",
       "\n",
       "    .dataframe thead th {\n",
       "        text-align: right;\n",
       "    }\n",
       "</style>\n",
       "<table border=\"1\" class=\"dataframe\">\n",
       "  <thead>\n",
       "    <tr style=\"text-align: right;\">\n",
       "      <th></th>\n",
       "      <th>FOLIO</th>\n",
       "      <th>NPERSONAS</th>\n",
       "      <th>ingresoTotal</th>\n",
       "    </tr>\n",
       "  </thead>\n",
       "  <tbody>\n",
       "    <tr>\n",
       "      <th>0</th>\n",
       "      <td>00001-1</td>\n",
       "      <td>4</td>\n",
       "      <td>1.588000e+06</td>\n",
       "    </tr>\n",
       "    <tr>\n",
       "      <th>1</th>\n",
       "      <td>00001-1</td>\n",
       "      <td>4</td>\n",
       "      <td>1.588000e+06</td>\n",
       "    </tr>\n",
       "    <tr>\n",
       "      <th>2</th>\n",
       "      <td>00001-1</td>\n",
       "      <td>4</td>\n",
       "      <td>1.588000e+06</td>\n",
       "    </tr>\n",
       "    <tr>\n",
       "      <th>3</th>\n",
       "      <td>00001-1</td>\n",
       "      <td>4</td>\n",
       "      <td>1.588000e+06</td>\n",
       "    </tr>\n",
       "    <tr>\n",
       "      <th>4</th>\n",
       "      <td>00002-1</td>\n",
       "      <td>1</td>\n",
       "      <td>6.700604e+05</td>\n",
       "    </tr>\n",
       "  </tbody>\n",
       "</table>\n",
       "</div>"
      ],
      "text/plain": [
       "     FOLIO  NPERSONAS  ingresoTotal\n",
       "0  00001-1          4  1.588000e+06\n",
       "1  00001-1          4  1.588000e+06\n",
       "2  00001-1          4  1.588000e+06\n",
       "3  00001-1          4  1.588000e+06\n",
       "4  00002-1          1  6.700604e+05"
      ]
     },
     "execution_count": 17,
     "metadata": {},
     "output_type": "execute_result"
    }
   ],
   "source": [
    "epf_gastos[['FOLIO', 'NPERSONAS', 'ingresoTotal']].head()"
   ]
  },
  {
   "cell_type": "markdown",
   "metadata": {},
   "source": [
    "<span style=\"color:red\"> Que puedes decir del analisis que acabamos de hacer?<span>"
   ]
  },
  {
   "cell_type": "markdown",
   "metadata": {},
   "source": []
  },
  {
   "cell_type": "markdown",
   "metadata": {},
   "source": [
    "`ING_TOTAL_HOG_HD`: \"*Corresponde  a  la  <u>sumatoria</u>  de  todas  las  fuentes  habituales  de  ingreso  del  hogar percibidos en el <u>mes anterior a la aplicación de la encuesta<u/>*\" ([Diccionario de Variables, INE 2018](https://www.ine.cl/docs/default-source/encuesta-de-presupuestos-familiares/bbdd/viii-epf---(junio-2016---julio-2017)/diccionario-de-variables-viii-encuesta-de-presupuestos-familiares-(epf).pdf?sfvrsn=4de1bd06_2))"
   ]
  },
  {
   "cell_type": "markdown",
   "metadata": {},
   "source": [
    "#### Calculando ...."
   ]
  },
  {
   "cell_type": "markdown",
   "metadata": {},
   "source": [
    "Para calcular el nuevo valor percapita utilizaremos la funcion `apply` la cual nos permite ejecutar una funcion sobre una columna o fila ([mas informacion aqui](https://pandas.pydata.org/pandas-docs/stable/reference/api/pandas.DataFrame.apply.html#pandas-dataframe-apply))"
   ]
  },
  {
   "cell_type": "code",
   "execution_count": 18,
   "metadata": {},
   "outputs": [],
   "source": [
    "funcion = lambda x: x['ingresoTotal']/x['NPERSONAS']\n",
    "epf_gastos['ingresoPerCapita'] = epf_gastos.apply(funcion, axis=1)"
   ]
  },
  {
   "cell_type": "code",
   "execution_count": 19,
   "metadata": {},
   "outputs": [
    {
     "data": {
      "text/html": [
       "<div>\n",
       "<style scoped>\n",
       "    .dataframe tbody tr th:only-of-type {\n",
       "        vertical-align: middle;\n",
       "    }\n",
       "\n",
       "    .dataframe tbody tr th {\n",
       "        vertical-align: top;\n",
       "    }\n",
       "\n",
       "    .dataframe thead th {\n",
       "        text-align: right;\n",
       "    }\n",
       "</style>\n",
       "<table border=\"1\" class=\"dataframe\">\n",
       "  <thead>\n",
       "    <tr style=\"text-align: right;\">\n",
       "      <th></th>\n",
       "      <th>FOLIO</th>\n",
       "      <th>NPERSONAS</th>\n",
       "      <th>ingresoTotal</th>\n",
       "      <th>ingresoPerCapita</th>\n",
       "    </tr>\n",
       "  </thead>\n",
       "  <tbody>\n",
       "    <tr>\n",
       "      <th>0</th>\n",
       "      <td>00001-1</td>\n",
       "      <td>4</td>\n",
       "      <td>1.588000e+06</td>\n",
       "      <td>397000.000000</td>\n",
       "    </tr>\n",
       "    <tr>\n",
       "      <th>1</th>\n",
       "      <td>00001-1</td>\n",
       "      <td>4</td>\n",
       "      <td>1.588000e+06</td>\n",
       "      <td>397000.000000</td>\n",
       "    </tr>\n",
       "    <tr>\n",
       "      <th>2</th>\n",
       "      <td>00001-1</td>\n",
       "      <td>4</td>\n",
       "      <td>1.588000e+06</td>\n",
       "      <td>397000.000000</td>\n",
       "    </tr>\n",
       "    <tr>\n",
       "      <th>3</th>\n",
       "      <td>00001-1</td>\n",
       "      <td>4</td>\n",
       "      <td>1.588000e+06</td>\n",
       "      <td>397000.000000</td>\n",
       "    </tr>\n",
       "    <tr>\n",
       "      <th>4</th>\n",
       "      <td>00002-1</td>\n",
       "      <td>1</td>\n",
       "      <td>6.700604e+05</td>\n",
       "      <td>670060.416667</td>\n",
       "    </tr>\n",
       "  </tbody>\n",
       "</table>\n",
       "</div>"
      ],
      "text/plain": [
       "     FOLIO  NPERSONAS  ingresoTotal  ingresoPerCapita\n",
       "0  00001-1          4  1.588000e+06     397000.000000\n",
       "1  00001-1          4  1.588000e+06     397000.000000\n",
       "2  00001-1          4  1.588000e+06     397000.000000\n",
       "3  00001-1          4  1.588000e+06     397000.000000\n",
       "4  00002-1          1  6.700604e+05     670060.416667"
      ]
     },
     "execution_count": 19,
     "metadata": {},
     "output_type": "execute_result"
    }
   ],
   "source": [
    "epf_gastos[['FOLIO', 'NPERSONAS', 'ingresoTotal', 'ingresoPerCapita']].head()"
   ]
  },
  {
   "cell_type": "markdown",
   "metadata": {},
   "source": [
    "Ahora tiene mas sentido hablar del ingreso promedio de los chilenos"
   ]
  },
  {
   "cell_type": "markdown",
   "metadata": {},
   "source": [
    "<span style=\"color:red\"> Cual es el ingreso medio de los chilenos y chilenas?<span>"
   ]
  },
  {
   "cell_type": "code",
   "execution_count": null,
   "metadata": {},
   "outputs": [],
   "source": []
  },
  {
   "cell_type": "markdown",
   "metadata": {},
   "source": [
    "<span style=\"color:red\"> Que porcentaje de la poblacion percibe un ingreso menor al minimo bruto (i.e., $320.500)<span>"
   ]
  },
  {
   "cell_type": "code",
   "execution_count": null,
   "metadata": {},
   "outputs": [],
   "source": []
  },
  {
   "cell_type": "markdown",
   "metadata": {},
   "source": [
    "Por ultimo, la estadistica descriptiva nos entrega valores representativos de una poblacion o muestra. Utilizando medidas de *tendencia central o dispersion* somos capaces de caracterizar y analizar <u>el contexto puntual</u> de los datos.<br><br> En general, en ciencia de datos nosotros **asumimos** que los **fenomenos y/o eventos** de nuestro entorno **persiguen una distribucion**. Si conocemos la distribucion podemos hacer estadistica inferencial."
   ]
  },
  {
   "cell_type": "markdown",
   "metadata": {},
   "source": [
    "Por ejemplo, cual es la probabilidad de que en cinco años no existan personas que vivan con menos del sueldo minimo en chile? <br>\n",
    "Para contestar esta pregunta debemos conocer la **distribucion de ingresos** en el **tiempo** la cual no es tan facil de saber a priori, pero durante el curso aprenderemos como."
   ]
  },
  {
   "cell_type": "markdown",
   "metadata": {},
   "source": [
    "Por mientras podemos visualizar la distribucion de los valores que acabamos de utilizar:"
   ]
  },
  {
   "cell_type": "code",
   "execution_count": 20,
   "metadata": {},
   "outputs": [],
   "source": [
    "import matplotlib.pyplot as plt\n",
    "import numpy as np"
   ]
  },
  {
   "cell_type": "code",
   "execution_count": 21,
   "metadata": {},
   "outputs": [],
   "source": [
    "def freedman_diaconis(serie):\n",
    "    '''    \n",
    "    Calcula la cantidad de bins para un histograma dado un conjunto de muestras\n",
    "    \n",
    "    Arguments:\n",
    "        serie {[Pandas serie]} -- [Columna con valores]\n",
    "    \n",
    "    Returns:\n",
    "        [int] -- bins\n",
    "    \n",
    "    '''\n",
    "    percentil = serie.quantile([.25, .75])\n",
    "    IQR = percentil[0.75] - percentil[0.25]\n",
    "    bins = int(2*IQR/serie.shape[0]**(1/3))\n",
    "    return bins"
   ]
  },
  {
   "cell_type": "code",
   "execution_count": 22,
   "metadata": {},
   "outputs": [
    {
     "data": {
      "image/png": "[encoded data removed]",
      "text/plain": [
       "<Figure size 432x288 with 2 Axes>"
      ]
     },
     "metadata": {
      "needs_background": "light"
     },
     "output_type": "display_data"
    }
   ],
   "source": [
    "fig, axes = plt.subplots(1,2,sharey=True)\n",
    "bins = freedman_diaconis(epf_gastos['ingresoPerCapita'])\n",
    "axes[0].hist(epf_gastos['ingresoPerCapita'], bins=50)\n",
    "axes[0].grid()\n",
    "axes[0].set_xticks([epf_gastos['ingresoPerCapita'].mean() , \n",
    "            epf_gastos['ingresoPerCapita'].max()])\n",
    "axes[0].set_xticklabels([np.round(epf_gastos['ingresoPerCapita'].mean(), 2), \n",
    "                         np.round(epf_gastos['ingresoPerCapita'].max(), 2)], \n",
    "                        rotation=90)\n",
    "# ==========================\n",
    "col_pib = epf_gastos['ingresoPerCapita']\n",
    "\n",
    "no_outliers = col_pib[(col_pib > 0) & (col_pib < 1e6)]\n",
    "\n",
    "axes[1].hist(no_outliers)\n",
    "axes[1].set_xticks([epf_gastos['ingresoPerCapita'].median(), \n",
    "                    epf_gastos['ingresoPerCapita'].mean()])\n",
    "\n",
    "axes[1].set_xticklabels([np.round(epf_gastos['ingresoPerCapita'].median(), 2), \n",
    "                         np.round(epf_gastos['ingresoPerCapita'].mean(), 2)],\n",
    "                       rotation=90)\n",
    "axes[1].grid()\n",
    "\n",
    "fig.suptitle('Distribucion de Ingreso Per Capita')\n",
    "fig.tight_layout()\n",
    "plt.show()"
   ]
  },
  {
   "cell_type": "markdown",
   "metadata": {},
   "source": [
    "### Teorema del Limite Central"
   ]
  },
  {
   "cell_type": "markdown",
   "metadata": {},
   "source": [
    "El teorema del limite central establece que la media de muestras (de tamaño suficientemente grande) tiende a una distribucion normal, independiente de la distribucion de la variable aleatoria que estemos midiendo.\n",
    "<br>\n",
    "Las supuestos necesarios para que se cumpla este teorema son:\n",
    "- Las muestras deben ser aleatorias\n",
    "- Los datos deben ser independientes entre si. "
   ]
  },
  {
   "cell_type": "markdown",
   "metadata": {},
   "source": [
    "Supongamos una variable aleatoria la cual sigue una distribucion exponencial "
   ]
  },
  {
   "cell_type": "code",
   "execution_count": 23,
   "metadata": {},
   "outputs": [
    {
     "data": {
      "image/png": "[encoded data removed]",
      "text/plain": [
       "<Figure size 432x288 with 1 Axes>"
      ]
     },
     "metadata": {
      "needs_background": "light"
     },
     "output_type": "display_data"
    }
   ],
   "source": [
    "n_samples = 10000\n",
    "scale = 3 # lambda = 1/scale\n",
    "data = np.random.exponential (scale, n_samples) \n",
    "plt.hist(data,  bins=100)\n",
    "plt.show()"
   ]
  },
  {
   "cell_type": "markdown",
   "metadata": {},
   "source": [
    "Ahora sacaremos `M` muestras de tamaño `n_muestra` y guardaremos la media "
   ]
  },
  {
   "cell_type": "code",
   "execution_count": 24,
   "metadata": {},
   "outputs": [],
   "source": [
    "M = 1000\n",
    "n_muestra = 1000\n",
    "\n",
    "medias = []\n",
    "for iteracion in range(M):\n",
    "    muestra = np.random.choice(data, n_muestra, replace=True)\n",
    "    media_muestra = np.mean(muestra)\n",
    "    medias.append(media_muestra)"
   ]
  },
  {
   "cell_type": "code",
   "execution_count": 25,
   "metadata": {},
   "outputs": [
    {
     "data": {
      "image/png": "[encoded data removed]",
      "text/plain": [
       "<Figure size 432x288 with 1 Axes>"
      ]
     },
     "metadata": {
      "needs_background": "light"
     },
     "output_type": "display_data"
    }
   ],
   "source": [
    "plt.hist(medias,  bins=100)\n",
    "plt.show()"
   ]
  },
  {
   "cell_type": "markdown",
   "metadata": {},
   "source": [
    "Podemos ver una distribucion normal la cual tiene meadia y desviacion igual a:"
   ]
  },
  {
   "cell_type": "code",
   "execution_count": 26,
   "metadata": {},
   "outputs": [
    {
     "name": "stdout",
     "output_type": "stream",
     "text": [
      "mu: 2.99 - sigma: 0.09\n"
     ]
    }
   ],
   "source": [
    "print('mu: {:.2f} - sigma: {:.2f}'.format(np.mean(medias), np.std(medias)))"
   ]
  },
  {
   "cell_type": "markdown",
   "metadata": {},
   "source": [
    "y comparando con la teorica"
   ]
  },
  {
   "cell_type": "code",
   "execution_count": 27,
   "metadata": {},
   "outputs": [
    {
     "name": "stdout",
     "output_type": "stream",
     "text": [
      "mu: 3.00 - sigma: 0.09\n"
     ]
    }
   ],
   "source": [
    "sigma_teorico = scale/np.sqrt(n_muestra)\n",
    "print('mu: {:.2f} - sigma: {:.2f}'.format(scale, sigma_teorico))"
   ]
  },
  {
   "cell_type": "markdown",
   "metadata": {},
   "source": [
    "Ahora intentemos con los datos de presupuestos familiares "
   ]
  },
  {
   "cell_type": "code",
   "execution_count": 31,
   "metadata": {},
   "outputs": [],
   "source": [
    "data = epf_gastos['ingresoPerCapita']\n",
    "\n",
    "M = 1000 # Numero de muestras\n",
    "n_muestra = 4000 # tamano de la muestra\n",
    "\n",
    "medias = []\n",
    "for iteracion in range(M):\n",
    "    muestra = np.random.choice(data, n_muestra, replace=True)\n",
    "    media_muestra = np.mean(muestra)\n",
    "    medias.append(media_muestra)"
   ]
  },
  {
   "cell_type": "code",
   "execution_count": 35,
   "metadata": {},
   "outputs": [
    {
     "data": {
      "image/png": "[encoded data removed]",
      "text/plain": [
       "<Figure size 432x288 with 1 Axes>"
      ]
     },
     "metadata": {
      "needs_background": "light"
     },
     "output_type": "display_data"
    }
   ],
   "source": [
    "plt.hist(medias, bins=100)\n",
    "plt.show()"
   ]
  },
  {
   "cell_type": "code",
   "execution_count": 32,
   "metadata": {},
   "outputs": [
    {
     "name": "stdout",
     "output_type": "stream",
     "text": [
      "mu: 423595.68 - sigma: 9551.01\n"
     ]
    }
   ],
   "source": [
    "print('mu: {:.2f} - sigma: {:.2f}'.format(np.mean(medias), np.std(medias)))"
   ]
  },
  {
   "cell_type": "code",
   "execution_count": 33,
   "metadata": {},
   "outputs": [
    {
     "name": "stdout",
     "output_type": "stream",
     "text": [
      "mu: 423710.76 - sigma: 586252.53\n"
     ]
    }
   ],
   "source": [
    "print('mu: {:.2f} - sigma: {:.2f}'.format(np.mean(epf_gastos['ingresoPerCapita']), \n",
    "                                          np.std(epf_gastos['ingresoPerCapita'])))"
   ]
  },
  {
   "cell_type": "markdown",
   "metadata": {},
   "source": [
    "<span style=\"color:red\"> Porque el error entre la std empirica y teorica son distintas?<span>"
   ]
  },
  {
   "cell_type": "code",
   "execution_count": null,
   "metadata": {},
   "outputs": [],
   "source": []
  },
  {
   "cell_type": "code",
   "execution_count": null,
   "metadata": {},
   "outputs": [],
   "source": []
  }
 ],
 "metadata": {
  "kernelspec": {
   "display_name": "Python 3",
   "language": "python",
   "name": "python3"
  },
  "language_info": {
   "codemirror_mode": {
    "name": "ipython",
    "version": 3
   },
   "file_extension": ".py",
   "mimetype": "text/x-python",
   "name": "python",
   "nbconvert_exporter": "python",
   "pygments_lexer": "ipython3",
   "version": "3.8.5"
  }
 },
 "nbformat": 4,
 "nbformat_minor": 4
}
