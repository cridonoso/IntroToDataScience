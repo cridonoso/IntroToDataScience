{
 "cells": [
  {
   "cell_type": "markdown",
   "id": "8c5fa20a",
   "metadata": {},
   "source": [
    "# Scikit-learn and Regression\n",
    "### Workshop 2\n",
    "*Jun 28 - IACS-MACI Internship*"
   ]
  },
  {
   "cell_type": "markdown",
   "id": "56292bce",
   "metadata": {},
   "source": [
    "Scikit-learn (or sklearn) is an open source library for Machine Learning. \n",
    "\n",
    "It provides high-level classes containing models, optimization algorithms, preprocessing tools, among others.\n",
    "\n",
    "Along this serials of workshops we are going to use **Sklearn** in almost every aplication!\n",
    "\n",
    "Of course you can also code your own algorithms, but it is time consuming and scikitlearn already did the work for you!\n",
    "\n",
    "Sklearn provides functions and classes for every step in the machine learning workflow.\n",
    "\n",
    "<img src=\"images/sklearn.png\" width=\"500\"/>"
   ]
  },
  {
   "cell_type": "markdown",
   "id": "3bb54a1b",
   "metadata": {},
   "source": [
    "## Feature Preprocessing\n",
    "\n",
    "All the modules for scaling, normalizing, and formating data can be found in [`sklearn.preprocessing`](https://scikit-learn.org/stable/modules/classes.html?highlight=preprocessing#module-sklearn.preprocessing)"
   ]
  },
  {
   "cell_type": "code",
   "execution_count": 1,
   "id": "ab9be2a2",
   "metadata": {},
   "outputs": [],
   "source": [
    "import matplotlib.pyplot as plt\n",
    "from sklearn.datasets import make_blobs #isotropic Gaussian blobs."
   ]
  },
  {
   "cell_type": "code",
   "execution_count": 2,
   "id": "6b4352fb",
   "metadata": {},
   "outputs": [],
   "source": [
    "X, y = make_blobs(n_samples=100, centers=1, \n",
    "                  n_features=2, \n",
    "                  random_state=0)"
   ]
  },
  {
   "cell_type": "code",
   "execution_count": 3,
   "id": "0e29ab47",
   "metadata": {},
   "outputs": [
    {
     "data": {
      "text/plain": [
       "<matplotlib.collections.PathCollection at 0x7f3d3f9befd0>"
      ]
     },
     "execution_count": 3,
     "metadata": {},
     "output_type": "execute_result"
    },
    {
     "data": {
      "image/png": "[encoded data removed]",
      "text/plain": [
       "<Figure size 432x288 with 1 Axes>"
      ]
     },
     "metadata": {
      "needs_background": "light"
     },
     "output_type": "display_data"
    }
   ],
   "source": [
    "plt.scatter(X[:, 0], X[:, 1])"
   ]
  },
  {
   "cell_type": "code",
   "execution_count": 4,
   "id": "f34c2204",
   "metadata": {},
   "outputs": [],
   "source": [
    "from sklearn.preprocessing import StandardScaler"
   ]
  },
  {
   "cell_type": "markdown",
   "id": "07ae88e3",
   "metadata": {},
   "source": [
    "$\\hat{X} = \\frac{X - \\bar{X}}{\\sigma_X}$"
   ]
  },
  {
   "cell_type": "code",
   "execution_count": 5,
   "id": "2b380423",
   "metadata": {},
   "outputs": [],
   "source": [
    "scaler = StandardScaler()"
   ]
  },
  {
   "cell_type": "code",
   "execution_count": 6,
   "id": "c061dbe6",
   "metadata": {},
   "outputs": [
    {
     "data": {
      "text/plain": [
       "StandardScaler()"
      ]
     },
     "execution_count": 6,
     "metadata": {},
     "output_type": "execute_result"
    }
   ],
   "source": [
    "scaler.fit(X)"
   ]
  },
  {
   "cell_type": "code",
   "execution_count": 7,
   "id": "0589e242",
   "metadata": {},
   "outputs": [],
   "source": [
    "X_normed = scaler.transform(X)"
   ]
  },
  {
   "cell_type": "code",
   "execution_count": 8,
   "id": "a67649aa",
   "metadata": {},
   "outputs": [
    {
     "data": {
      "text/plain": [
       "<matplotlib.collections.PathCollection at 0x7f3d3f8c7ca0>"
      ]
     },
     "execution_count": 8,
     "metadata": {},
     "output_type": "execute_result"
    },
    {
     "data": {
      "image/png": "[encoded data removed]",
      "text/plain": [
       "<Figure size 432x288 with 1 Axes>"
      ]
     },
     "metadata": {
      "needs_background": "light"
     },
     "output_type": "display_data"
    }
   ],
   "source": [
    "plt.scatter(X_normed[:, 0], X_normed[:, 1])"
   ]
  },
  {
   "cell_type": "markdown",
   "id": "de5709e0",
   "metadata": {},
   "source": [
    "## k-NN\n",
    "Scikitlearn implements the k-nearest neighbors in its [neighbors module](https://scikit-learn.org/stable/modules/generated/sklearn.neighbors.KNeighborsRegressor.html#sklearn-neighbors-kneighborsregressor).\n",
    "\n",
    "By default `metric='minkowski'` that is equivalent to the euclidian distance. However we can use [alternatives metrics](https://scikit-learn.org/stable/modules/generated/sklearn.metrics.DistanceMetric.html#sklearn.metrics.DistanceMetric)."
   ]
  },
  {
   "cell_type": "code",
   "execution_count": 9,
   "id": "4e612cc6",
   "metadata": {},
   "outputs": [],
   "source": [
    "from sklearn.neighbors import KNeighborsRegressor\n",
    "import numpy as np\n",
    "import matplotlib.pyplot as plt\n",
    "\n",
    "%matplotlib inline"
   ]
  },
  {
   "cell_type": "markdown",
   "id": "2831b3c0",
   "metadata": {},
   "source": [
    "First of all, let's create some data"
   ]
  },
  {
   "cell_type": "code",
   "execution_count": 10,
   "id": "b8f04d55",
   "metadata": {},
   "outputs": [
    {
     "data": {
      "image/png": "[encoded data removed]",
      "text/plain": [
       "<Figure size 432x288 with 1 Axes>"
      ]
     },
     "metadata": {
      "needs_background": "light"
     },
     "output_type": "display_data"
    }
   ],
   "source": [
    "x = np.sort(np.random.uniform(1, 10, size=[10]))\n",
    "c = 0.3\n",
    "\n",
    "y_real = x*c \n",
    "y = y_real + np.random.normal(loc=0.0, scale=.3, size=len(x))\n",
    "\n",
    "fig, ax = plt.subplots()\n",
    "ax.plot(x, y, marker='.')\n",
    "ax.set_xlabel('x')\n",
    "ax.set_ylabel('y')\n",
    "plt.show()"
   ]
  },
  {
   "cell_type": "code",
   "execution_count": 11,
   "id": "76d51075",
   "metadata": {},
   "outputs": [],
   "source": [
    "model = KNeighborsRegressor(n_neighbors=2)"
   ]
  },
  {
   "cell_type": "code",
   "execution_count": 12,
   "id": "2c9808b6",
   "metadata": {},
   "outputs": [
    {
     "data": {
      "text/plain": [
       "KNeighborsRegressor(n_neighbors=2)"
      ]
     },
     "execution_count": 12,
     "metadata": {},
     "output_type": "execute_result"
    }
   ],
   "source": [
    "model.fit(x[:, None], y)"
   ]
  },
  {
   "cell_type": "code",
   "execution_count": 13,
   "id": "26f3e1d1",
   "metadata": {},
   "outputs": [
    {
     "data": {
      "text/plain": [
       "((10,), (10, 1))"
      ]
     },
     "execution_count": 13,
     "metadata": {},
     "output_type": "execute_result"
    }
   ],
   "source": [
    "x.shape, x[:, None].shape"
   ]
  },
  {
   "cell_type": "markdown",
   "id": "b219add1",
   "metadata": {},
   "source": [
    "We need to use matrix format in `KNeighborsRegressor`, that's why we add a new axis `[:, None]`.\n",
    "\n",
    "Now we already have our model fitted so we can predict"
   ]
  },
  {
   "cell_type": "code",
   "execution_count": 14,
   "id": "db58e51f",
   "metadata": {},
   "outputs": [],
   "source": [
    "x_test = np.sort(np.random.uniform(1, 10, size=[5]))\n",
    "y_pred_knn = model.predict(x_test[:, None])"
   ]
  },
  {
   "cell_type": "code",
   "execution_count": 15,
   "id": "e2c4cea1",
   "metadata": {},
   "outputs": [
    {
     "data": {
      "text/plain": [
       "<matplotlib.legend.Legend at 0x7f3d3f3c9ee0>"
      ]
     },
     "execution_count": 15,
     "metadata": {},
     "output_type": "execute_result"
    }
   ],
   "source": [
    "ax.plot(x_test, y_pred_knn, marker='.', label='knn_pred')\n",
    "ax.legend()"
   ]
  },
  {
   "cell_type": "code",
   "execution_count": 16,
   "id": "b5c9b186",
   "metadata": {},
   "outputs": [
    {
     "data": {
      "image/png": "[encoded data removed]",
      "text/plain": [
       "<Figure size 432x288 with 1 Axes>"
      ]
     },
     "execution_count": 16,
     "metadata": {},
     "output_type": "execute_result"
    }
   ],
   "source": [
    "fig"
   ]
  },
  {
   "cell_type": "markdown",
   "id": "f19549c2",
   "metadata": {},
   "source": [
    "## Linear Regression"
   ]
  },
  {
   "cell_type": "code",
   "execution_count": 17,
   "id": "c49f9544",
   "metadata": {},
   "outputs": [],
   "source": [
    "from sklearn.linear_model import LinearRegression"
   ]
  },
  {
   "cell_type": "code",
   "execution_count": 18,
   "id": "75bf278d",
   "metadata": {},
   "outputs": [],
   "source": [
    "reg = LinearRegression()\n",
    "reg = reg.fit(x[:,None], y)"
   ]
  },
  {
   "cell_type": "code",
   "execution_count": 19,
   "id": "f8ff7f82",
   "metadata": {},
   "outputs": [],
   "source": [
    "y_pred_lr = reg.predict(x_test[:,None])"
   ]
  },
  {
   "cell_type": "code",
   "execution_count": 20,
   "id": "9ac6a0f6",
   "metadata": {},
   "outputs": [
    {
     "data": {
      "text/plain": [
       "<matplotlib.legend.Legend at 0x7f3d3f27ad30>"
      ]
     },
     "execution_count": 20,
     "metadata": {},
     "output_type": "execute_result"
    }
   ],
   "source": [
    "ax.plot(x_test, y_pred_lr, marker='.', label='lr_pred')\n",
    "ax.legend()"
   ]
  },
  {
   "cell_type": "code",
   "execution_count": 21,
   "id": "2fe72b48",
   "metadata": {},
   "outputs": [
    {
     "data": {
      "image/png": "[encoded data removed]",
      "text/plain": [
       "<Figure size 432x288 with 1 Axes>"
      ]
     },
     "execution_count": 21,
     "metadata": {},
     "output_type": "execute_result"
    }
   ],
   "source": [
    "fig"
   ]
  },
  {
   "cell_type": "code",
   "execution_count": 22,
   "id": "053d2ad3",
   "metadata": {},
   "outputs": [
    {
     "name": "stdout",
     "output_type": "stream",
     "text": [
      "c_pred=[0.30665852] - intercept=0.12\n"
     ]
    }
   ],
   "source": [
    "print('c_pred={} - intercept={:.2f}'.format(reg.coef_, reg.intercept_))"
   ]
  },
  {
   "cell_type": "markdown",
   "id": "9c50318b",
   "metadata": {},
   "source": [
    "## How we can compare models?"
   ]
  },
  {
   "cell_type": "markdown",
   "id": "adefdc50",
   "metadata": {},
   "source": [
    "Usually we use the `MSE` to evaluate how close our prediction is to the real labels.\n",
    "\n",
    "[Sklearn provides different metrics](https://scikit-learn.org/stable/modules/classes.html?highlight=metrics#regression-metrics) for regression (and also other tasks that we don't see yet)"
   ]
  },
  {
   "cell_type": "code",
   "execution_count": 23,
   "id": "cd64dba9",
   "metadata": {},
   "outputs": [],
   "source": [
    "from sklearn.metrics import mean_squared_error"
   ]
  },
  {
   "cell_type": "code",
   "execution_count": 24,
   "id": "6e69a4a8",
   "metadata": {},
   "outputs": [],
   "source": [
    "y_test = x_test*c"
   ]
  },
  {
   "cell_type": "code",
   "execution_count": 25,
   "id": "043de93d",
   "metadata": {},
   "outputs": [
    {
     "data": {
      "text/plain": [
       "'MSE LR: 0.0293342284236539 - MSE KNN: 0.0707027502390605'"
      ]
     },
     "execution_count": 25,
     "metadata": {},
     "output_type": "execute_result"
    }
   ],
   "source": [
    "'MSE LR: {} - MSE KNN: {}'.format(mean_squared_error(y_test, y_pred_lr), \n",
    "                                  mean_squared_error(y_test, y_pred_knn))"
   ]
  },
  {
   "cell_type": "code",
   "execution_count": 26,
   "id": "aa9ace0d",
   "metadata": {},
   "outputs": [],
   "source": [
    "from sklearn.metrics import r2_score"
   ]
  },
  {
   "cell_type": "code",
   "execution_count": 27,
   "id": "457acb97",
   "metadata": {},
   "outputs": [
    {
     "data": {
      "text/plain": [
       "'R2 LR: 0.9275391288270278 - R2 KNN: 0.8253513676018057'"
      ]
     },
     "execution_count": 27,
     "metadata": {},
     "output_type": "execute_result"
    }
   ],
   "source": [
    "'R2 LR: {} - R2 KNN: {}'.format(r2_score(y_test, y_pred_lr), \n",
    "                                r2_score(y_test, y_pred_knn))"
   ]
  },
  {
   "cell_type": "markdown",
   "id": "aaee9835",
   "metadata": {},
   "source": [
    "#### what would be the R2 of a KNN with n='total number of points'"
   ]
  },
  {
   "cell_type": "code",
   "execution_count": 28,
   "id": "81b7f245",
   "metadata": {},
   "outputs": [],
   "source": [
    "# model = KNeighborsRegressor(n_neighbors=len(x))\n",
    "# model.fit(x[:, None], y)\n",
    "# y_knn_2 = model.predict(x[:, None])"
   ]
  },
  {
   "cell_type": "code",
   "execution_count": 29,
   "id": "718782d1",
   "metadata": {},
   "outputs": [],
   "source": [
    "# 'R2 KNN: {}'.format(r2_score(y, y_knn_2))"
   ]
  },
  {
   "cell_type": "markdown",
   "id": "94d04a3e",
   "metadata": {},
   "source": [
    "## Exercise"
   ]
  },
  {
   "cell_type": "code",
   "execution_count": 30,
   "id": "e5126261",
   "metadata": {},
   "outputs": [],
   "source": [
    "import pandas as pd\n",
    "\n",
    "import matplotlib.pyplot as plt"
   ]
  },
  {
   "cell_type": "code",
   "execution_count": 31,
   "id": "94ff7918",
   "metadata": {},
   "outputs": [],
   "source": [
    "data = pd.read_csv('./data/tetouan_power_consumption.csv')"
   ]
  },
  {
   "cell_type": "code",
   "execution_count": 32,
   "id": "be711bbf",
   "metadata": {},
   "outputs": [
    {
     "data": {
      "text/plain": [
       "dtype('O')"
      ]
     },
     "execution_count": 32,
     "metadata": {},
     "output_type": "execute_result"
    }
   ],
   "source": [
    "data['DateTime'].dtype"
   ]
  },
  {
   "cell_type": "code",
   "execution_count": 33,
   "id": "9264b9bf",
   "metadata": {},
   "outputs": [
    {
     "data": {
      "text/html": [
       "<div>\n",
       "<style scoped>\n",
       "    .dataframe tbody tr th:only-of-type {\n",
       "        vertical-align: middle;\n",
       "    }\n",
       "\n",
       "    .dataframe tbody tr th {\n",
       "        vertical-align: top;\n",
       "    }\n",
       "\n",
       "    .dataframe thead th {\n",
       "        text-align: right;\n",
       "    }\n",
       "</style>\n",
       "<table border=\"1\" class=\"dataframe\">\n",
       "  <thead>\n",
       "    <tr style=\"text-align: right;\">\n",
       "      <th></th>\n",
       "      <th>DateTime</th>\n",
       "      <th>DateTimeFormat</th>\n",
       "    </tr>\n",
       "  </thead>\n",
       "  <tbody>\n",
       "    <tr>\n",
       "      <th>0</th>\n",
       "      <td>1/1/2017 0:00</td>\n",
       "      <td>1/1/2017</td>\n",
       "    </tr>\n",
       "    <tr>\n",
       "      <th>1</th>\n",
       "      <td>1/1/2017 0:10</td>\n",
       "      <td>1/1/2017</td>\n",
       "    </tr>\n",
       "    <tr>\n",
       "      <th>2</th>\n",
       "      <td>1/1/2017 0:20</td>\n",
       "      <td>1/1/2017</td>\n",
       "    </tr>\n",
       "    <tr>\n",
       "      <th>3</th>\n",
       "      <td>1/1/2017 0:30</td>\n",
       "      <td>1/1/2017</td>\n",
       "    </tr>\n",
       "    <tr>\n",
       "      <th>4</th>\n",
       "      <td>1/1/2017 0:40</td>\n",
       "      <td>1/1/2017</td>\n",
       "    </tr>\n",
       "    <tr>\n",
       "      <th>...</th>\n",
       "      <td>...</td>\n",
       "      <td>...</td>\n",
       "    </tr>\n",
       "    <tr>\n",
       "      <th>52411</th>\n",
       "      <td>12/30/2017 23:10</td>\n",
       "      <td>12/30/2017</td>\n",
       "    </tr>\n",
       "    <tr>\n",
       "      <th>52412</th>\n",
       "      <td>12/30/2017 23:20</td>\n",
       "      <td>12/30/2017</td>\n",
       "    </tr>\n",
       "    <tr>\n",
       "      <th>52413</th>\n",
       "      <td>12/30/2017 23:30</td>\n",
       "      <td>12/30/2017</td>\n",
       "    </tr>\n",
       "    <tr>\n",
       "      <th>52414</th>\n",
       "      <td>12/30/2017 23:40</td>\n",
       "      <td>12/30/2017</td>\n",
       "    </tr>\n",
       "    <tr>\n",
       "      <th>52415</th>\n",
       "      <td>12/30/2017 23:50</td>\n",
       "      <td>12/30/2017</td>\n",
       "    </tr>\n",
       "  </tbody>\n",
       "</table>\n",
       "<p>52416 rows × 2 columns</p>\n",
       "</div>"
      ],
      "text/plain": [
       "               DateTime DateTimeFormat\n",
       "0         1/1/2017 0:00       1/1/2017\n",
       "1         1/1/2017 0:10       1/1/2017\n",
       "2         1/1/2017 0:20       1/1/2017\n",
       "3         1/1/2017 0:30       1/1/2017\n",
       "4         1/1/2017 0:40       1/1/2017\n",
       "...                 ...            ...\n",
       "52411  12/30/2017 23:10     12/30/2017\n",
       "52412  12/30/2017 23:20     12/30/2017\n",
       "52413  12/30/2017 23:30     12/30/2017\n",
       "52414  12/30/2017 23:40     12/30/2017\n",
       "52415  12/30/2017 23:50     12/30/2017\n",
       "\n",
       "[52416 rows x 2 columns]"
      ]
     },
     "execution_count": 33,
     "metadata": {},
     "output_type": "execute_result"
    }
   ],
   "source": [
    "data['DateTimeFormat'] = data['DateTime'].apply(lambda x: x.split(' ')[0])\n",
    "data[['DateTime', 'DateTimeFormat']]"
   ]
  },
  {
   "cell_type": "code",
   "execution_count": 34,
   "id": "44a8f01f",
   "metadata": {},
   "outputs": [
    {
     "data": {
      "text/plain": [
       "dtype('<M8[ns]')"
      ]
     },
     "execution_count": 34,
     "metadata": {},
     "output_type": "execute_result"
    }
   ],
   "source": [
    "data['DateTimeFormat'] = pd.to_datetime(data['DateTimeFormat'])\n",
    "data['DateTimeFormat'].dtype"
   ]
  },
  {
   "cell_type": "code",
   "execution_count": 35,
   "id": "8eef36da",
   "metadata": {},
   "outputs": [],
   "source": [
    "selected = data[data['DateTimeFormat']>'2017-11-01']"
   ]
  },
  {
   "cell_type": "code",
   "execution_count": 36,
   "id": "3a84601d",
   "metadata": {},
   "outputs": [
    {
     "data": {
      "text/html": [
       "<div>\n",
       "<style scoped>\n",
       "    .dataframe tbody tr th:only-of-type {\n",
       "        vertical-align: middle;\n",
       "    }\n",
       "\n",
       "    .dataframe tbody tr th {\n",
       "        vertical-align: top;\n",
       "    }\n",
       "\n",
       "    .dataframe thead th {\n",
       "        text-align: right;\n",
       "    }\n",
       "</style>\n",
       "<table border=\"1\" class=\"dataframe\">\n",
       "  <thead>\n",
       "    <tr style=\"text-align: right;\">\n",
       "      <th></th>\n",
       "      <th>DateTimeFormat</th>\n",
       "      <th>Temperature</th>\n",
       "      <th>Humidity</th>\n",
       "      <th>Wind Speed</th>\n",
       "      <th>general diffuse flows</th>\n",
       "      <th>diffuse flows</th>\n",
       "      <th>Zone 1 Power Consumption</th>\n",
       "      <th>Zone 2  Power Consumption</th>\n",
       "      <th>Zone 3  Power Consumption</th>\n",
       "    </tr>\n",
       "  </thead>\n",
       "  <tbody>\n",
       "    <tr>\n",
       "      <th>26</th>\n",
       "      <td>2017-11-28</td>\n",
       "      <td>16.711528</td>\n",
       "      <td>70.992014</td>\n",
       "      <td>4.165403</td>\n",
       "      <td>119.178368</td>\n",
       "      <td>22.796514</td>\n",
       "      <td>29775.598291</td>\n",
       "      <td>24475.309917</td>\n",
       "      <td>11602.168675</td>\n",
       "    </tr>\n",
       "    <tr>\n",
       "      <th>56</th>\n",
       "      <td>2017-12-28</td>\n",
       "      <td>13.662361</td>\n",
       "      <td>62.839375</td>\n",
       "      <td>0.081354</td>\n",
       "      <td>112.620160</td>\n",
       "      <td>30.209361</td>\n",
       "      <td>30267.004647</td>\n",
       "      <td>24585.251099</td>\n",
       "      <td>11167.026811</td>\n",
       "    </tr>\n",
       "  </tbody>\n",
       "</table>\n",
       "</div>"
      ],
      "text/plain": [
       "   DateTimeFormat  Temperature   Humidity  Wind Speed  general diffuse flows  \\\n",
       "26     2017-11-28    16.711528  70.992014    4.165403             119.178368   \n",
       "56     2017-12-28    13.662361  62.839375    0.081354             112.620160   \n",
       "\n",
       "    diffuse flows  Zone 1 Power Consumption  Zone 2  Power Consumption  \\\n",
       "26      22.796514              29775.598291               24475.309917   \n",
       "56      30.209361              30267.004647               24585.251099   \n",
       "\n",
       "    Zone 3  Power Consumption  \n",
       "26               11602.168675  \n",
       "56               11167.026811  "
      ]
     },
     "execution_count": 36,
     "metadata": {},
     "output_type": "execute_result"
    }
   ],
   "source": [
    "selected_grouped = selected.groupby('DateTimeFormat').mean().reset_index()\n",
    "selected_grouped.sample(2)"
   ]
  },
  {
   "cell_type": "code",
   "execution_count": 37,
   "id": "4c42e034",
   "metadata": {},
   "outputs": [
    {
     "data": {
      "image/png": "[encoded data removed]",
      "text/plain": [
       "<Figure size 432x288 with 1 Axes>"
      ]
     },
     "metadata": {
      "needs_background": "light"
     },
     "output_type": "display_data"
    }
   ],
   "source": [
    "plt.plot(selected_grouped['DateTimeFormat'], selected_grouped['Zone 1 Power Consumption'], marker='+')\n",
    "plt.xticks(rotation=90)\n",
    "plt.show()"
   ]
  },
  {
   "cell_type": "code",
   "execution_count": 38,
   "id": "1f016de0",
   "metadata": {},
   "outputs": [
    {
     "data": {
      "text/plain": [
       "((20, 9), (39, 9))"
      ]
     },
     "execution_count": 38,
     "metadata": {},
     "output_type": "execute_result"
    }
   ],
   "source": [
    "x_test = selected_grouped.iloc[-20:]\n",
    "x_train = selected_grouped.iloc[:-20]\n",
    "x_test.shape, x_train.shape"
   ]
  },
  {
   "cell_type": "code",
   "execution_count": 39,
   "id": "b93bf18a",
   "metadata": {},
   "outputs": [
    {
     "name": "stderr",
     "output_type": "stream",
     "text": [
      "/tmp/ipykernel_4532/1798625101.py:4: UserWarning: FixedFormatter should only be used together with FixedLocator\n",
      "  ax.set_xticklabels(x_test['DateTimeFormat'], rotation=90)\n"
     ]
    },
    {
     "data": {
      "image/png": "[encoded data removed]",
      "text/plain": [
       "<Figure size 432x288 with 1 Axes>"
      ]
     },
     "metadata": {
      "needs_background": "light"
     },
     "output_type": "display_data"
    }
   ],
   "source": [
    "fig, ax = plt.subplots(1,1)\n",
    "ax.plot(x_train['DateTimeFormat'], x_train['Zone 1 Power Consumption'], marker='+')\n",
    "ax.plot(x_test['DateTimeFormat'], x_test['Zone 1 Power Consumption'], marker='+')\n",
    "ax.set_xticklabels(x_test['DateTimeFormat'], rotation=90)\n",
    "plt.show()"
   ]
  },
  {
   "cell_type": "markdown",
   "id": "3d3c4eeb",
   "metadata": {},
   "source": [
    "**Create a model that predicts the last days of the month (`x_test`)**"
   ]
  },
  {
   "cell_type": "code",
   "execution_count": 53,
   "id": "8b96a63a",
   "metadata": {},
   "outputs": [],
   "source": [
    "from sklearn.neighbors import KNeighborsRegressor"
   ]
  },
  {
   "cell_type": "code",
   "execution_count": 61,
   "id": "1bccbcf5",
   "metadata": {},
   "outputs": [],
   "source": [
    "xx_train = x_train['Temperature'].values[:, None]\n",
    "yy_train = x_train['Zone 1 Power Consumption'].values[:, None]\n",
    "\n",
    "xx_test = x_test['Temperature'].values[:, None]\n",
    "yy_test = x_test['Zone 1 Power Consumption'].values[:, None]"
   ]
  },
  {
   "cell_type": "code",
   "execution_count": 62,
   "id": "bf354e5b",
   "metadata": {},
   "outputs": [],
   "source": [
    "model = KNeighborsRegressor(n_neighbors=2)"
   ]
  },
  {
   "cell_type": "code",
   "execution_count": 63,
   "id": "b7ce683a",
   "metadata": {},
   "outputs": [
    {
     "data": {
      "text/plain": [
       "KNeighborsRegressor(n_neighbors=2)"
      ]
     },
     "execution_count": 63,
     "metadata": {},
     "output_type": "execute_result"
    }
   ],
   "source": [
    "model.fit(xx_train, yy_train)"
   ]
  },
  {
   "cell_type": "code",
   "execution_count": 64,
   "id": "9f1972ec",
   "metadata": {},
   "outputs": [],
   "source": [
    "y_pred = model.predict(xx_test)"
   ]
  },
  {
   "cell_type": "code",
   "execution_count": 65,
   "id": "d0bc3c94",
   "metadata": {},
   "outputs": [],
   "source": [
    "from sklearn.metrics import mean_squared_error"
   ]
  },
  {
   "cell_type": "code",
   "execution_count": 66,
   "id": "54cb6ca9",
   "metadata": {},
   "outputs": [
    {
     "data": {
      "text/plain": [
       "1107131.5081935585"
      ]
     },
     "execution_count": 66,
     "metadata": {},
     "output_type": "execute_result"
    }
   ],
   "source": [
    "mean_squared_error(yy_test, y_pred)"
   ]
  },
  {
   "cell_type": "code",
   "execution_count": 68,
   "id": "01f23d01",
   "metadata": {},
   "outputs": [
    {
     "data": {
      "text/plain": [
       "[<matplotlib.lines.Line2D at 0x7f3d2e01b790>]"
      ]
     },
     "execution_count": 68,
     "metadata": {},
     "output_type": "execute_result"
    },
    {
     "data": {
      "image/png": "[encoded data removed]",
      "text/plain": [
       "<Figure size 432x288 with 1 Axes>"
      ]
     },
     "metadata": {
      "needs_background": "light"
     },
     "output_type": "display_data"
    }
   ],
   "source": [
    "import matplotlib.pyplot as plt\n",
    "\n",
    "plt.plot(y_pred)\n",
    "plt.plot(yy_test)"
   ]
  },
  {
   "cell_type": "code",
   "execution_count": null,
   "id": "eddd8e5f",
   "metadata": {},
   "outputs": [],
   "source": []
  }
 ],
 "metadata": {
  "kernelspec": {
   "display_name": "Python 3 (ipykernel)",
   "language": "python",
   "name": "python3"
  },
  "language_info": {
   "codemirror_mode": {
    "name": "ipython",
    "version": 3
   },
   "file_extension": ".py",
   "mimetype": "text/x-python",
   "name": "python",
   "nbconvert_exporter": "python",
   "pygments_lexer": "ipython3",
   "version": "3.9.7"
  }
 },
 "nbformat": 4,
 "nbformat_minor": 5
}
