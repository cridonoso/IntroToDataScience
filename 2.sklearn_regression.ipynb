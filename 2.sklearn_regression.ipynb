{
 "cells": [
  {
   "cell_type": "markdown",
   "id": "8c5fa20a",
   "metadata": {},
   "source": [
    "# Scikit-learn and Regression\n",
    "### Workshop 2\n",
    "*Jun 28 - IACS-MACI Internship*"
   ]
  },
  {
   "cell_type": "markdown",
   "id": "56292bce",
   "metadata": {},
   "source": [
    "Scikit-learn (or sklearn) is an open source library for Machine Learning. \n",
    "\n",
    "It provides high-level classes containing models, optimization algorithms, preprocessing tools, among others.\n",
    "\n",
    "Along this serials of workshops we are going to use **Sklearn** in almost every aplication!\n",
    "\n",
    "Of course you can also code your own algorithms, but it is time consuming and scikitlearn already did the work for you!\n",
    "\n",
    "Sklearn provides functions and classes for every step in the machine learning workflow.\n",
    "\n",
    "<img src=\"images/sklearn.png\" width=\"500\"/>"
   ]
  },
  {
   "cell_type": "markdown",
   "id": "3bb54a1b",
   "metadata": {},
   "source": [
    "## Feature Preprocessing\n",
    "\n",
    "All the modules for scaling, normalizing, and formating data can be found in [`sklearn.preprocessing`](https://scikit-learn.org/stable/modules/classes.html?highlight=preprocessing#module-sklearn.preprocessing)"
   ]
  },
  {
   "cell_type": "code",
   "execution_count": 5,
   "id": "ab9be2a2",
   "metadata": {},
   "outputs": [],
   "source": [
    "import matplotlib.pyplot as plt\n",
    "from sklearn.datasets import make_blobs #isotropic Gaussian blobs."
   ]
  },
  {
   "cell_type": "code",
   "execution_count": 11,
   "id": "6b4352fb",
   "metadata": {},
   "outputs": [],
   "source": [
    "X, y = make_blobs(n_samples=100, centers=1, \n",
    "                  n_features=2, \n",
    "                  random_state=0)"
   ]
  },
  {
   "cell_type": "code",
   "execution_count": 12,
   "id": "0e29ab47",
   "metadata": {},
   "outputs": [
    {
     "data": {
      "text/plain": [
       "<matplotlib.collections.PathCollection at 0x7fbe60685d60>"
      ]
     },
     "execution_count": 12,
     "metadata": {},
     "output_type": "execute_result"
    },
    {
     "data": {
      "image/png": "[encoded data removed]",
      "text/plain": [
       "<Figure size 432x288 with 1 Axes>"
      ]
     },
     "metadata": {
      "needs_background": "light"
     },
     "output_type": "display_data"
    }
   ],
   "source": [
    "plt.scatter(X[:, 0], X[:, 1])"
   ]
  },
  {
   "cell_type": "code",
   "execution_count": 13,
   "id": "f34c2204",
   "metadata": {},
   "outputs": [],
   "source": [
    "from sklearn.preprocessing import StandardScaler"
   ]
  },
  {
   "cell_type": "markdown",
   "id": "07ae88e3",
   "metadata": {},
   "source": [
    "$\\hat{X} = \\frac{X - \\bar{X}}{\\sigma_X}$"
   ]
  },
  {
   "cell_type": "code",
   "execution_count": 14,
   "id": "2b380423",
   "metadata": {},
   "outputs": [],
   "source": [
    "scaler = StandardScaler()"
   ]
  },
  {
   "cell_type": "code",
   "execution_count": 15,
   "id": "c061dbe6",
   "metadata": {},
   "outputs": [
    {
     "data": {
      "text/plain": [
       "StandardScaler()"
      ]
     },
     "execution_count": 15,
     "metadata": {},
     "output_type": "execute_result"
    }
   ],
   "source": [
    "scaler.fit(X)"
   ]
  },
  {
   "cell_type": "code",
   "execution_count": 17,
   "id": "0589e242",
   "metadata": {},
   "outputs": [],
   "source": [
    "X_normed = scaler.transform(X)"
   ]
  },
  {
   "cell_type": "code",
   "execution_count": 18,
   "id": "a67649aa",
   "metadata": {},
   "outputs": [
    {
     "data": {
      "text/plain": [
       "<matplotlib.collections.PathCollection at 0x7fbe6066bac0>"
      ]
     },
     "execution_count": 18,
     "metadata": {},
     "output_type": "execute_result"
    },
    {
     "data": {
      "image/png": "[encoded data removed]",
      "text/plain": [
       "<Figure size 432x288 with 1 Axes>"
      ]
     },
     "metadata": {
      "needs_background": "light"
     },
     "output_type": "display_data"
    }
   ],
   "source": [
    "plt.scatter(X_normed[:, 0], X_normed[:, 1])"
   ]
  },
  {
   "cell_type": "code",
   "execution_count": null,
   "id": "36baca75",
   "metadata": {},
   "outputs": [],
   "source": []
  }
 ],
 "metadata": {
  "kernelspec": {
   "display_name": "Python 3 (ipykernel)",
   "language": "python",
   "name": "python3"
  },
  "language_info": {
   "codemirror_mode": {
    "name": "ipython",
    "version": 3
   },
   "file_extension": ".py",
   "mimetype": "text/x-python",
   "name": "python",
   "nbconvert_exporter": "python",
   "pygments_lexer": "ipython3",
   "version": "3.9.7"
  }
 },
 "nbformat": 4,
 "nbformat_minor": 5
}
