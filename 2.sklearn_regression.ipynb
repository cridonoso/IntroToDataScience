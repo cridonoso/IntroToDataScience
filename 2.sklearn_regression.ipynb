{
 "cells": [
  {
   "cell_type": "markdown",
   "id": "8c5fa20a",
   "metadata": {},
   "source": [
    "# Scikit-learn and Regression\n",
    "### Workshop 2\n",
    "*Jun 28 - IACS-MACI Internship*"
   ]
  },
  {
   "cell_type": "markdown",
   "id": "56292bce",
   "metadata": {},
   "source": [
    "Scikit-learn (or sklearn) is an open source library for Machine Learning. \n",
    "\n",
    "It provides high-level classes containing models, optimization algorithms, preprocessing tools, among others.\n",
    "\n",
    "Along this serials of workshops we are going to use **Sklearn** in almost every aplication!\n",
    "\n",
    "Of course you can also code your own algorithms, but it is time consuming and scikitlearn already did the work for you!\n",
    "\n",
    "Sklearn provides functions and classes for every step in the machine learning workflow.\n",
    "\n",
    "<img src=\"images/sklearn.png\" width=\"500\"/>"
   ]
  },
  {
   "cell_type": "markdown",
   "id": "3bb54a1b",
   "metadata": {},
   "source": [
    "## Feature Preprocessing\n",
    "\n",
    "All the modules for scaling, normalizing, and formating data can be found in [`sklearn.preprocessing`](https://scikit-learn.org/stable/modules/classes.html?highlight=preprocessing#module-sklearn.preprocessing)"
   ]
  },
  {
   "cell_type": "code",
   "execution_count": 1,
   "id": "ab9be2a2",
   "metadata": {},
   "outputs": [],
   "source": [
    "import matplotlib.pyplot as plt\n",
    "from sklearn.datasets import make_blobs #isotropic Gaussian blobs."
   ]
  },
  {
   "cell_type": "code",
   "execution_count": 2,
   "id": "6b4352fb",
   "metadata": {},
   "outputs": [],
   "source": [
    "X, y = make_blobs(n_samples=100, centers=1, \n",
    "                  n_features=2, \n",
    "                  random_state=0)"
   ]
  },
  {
   "cell_type": "code",
   "execution_count": 3,
   "id": "0e29ab47",
   "metadata": {},
   "outputs": [
    {
     "data": {
      "text/plain": [
       "<matplotlib.collections.PathCollection at 0x7f14306344c0>"
      ]
     },
     "execution_count": 3,
     "metadata": {},
     "output_type": "execute_result"
    },
    {
     "data": {
      "image/png": "[encoded data removed]",
      "text/plain": [
       "<Figure size 432x288 with 1 Axes>"
      ]
     },
     "metadata": {
      "needs_background": "light"
     },
     "output_type": "display_data"
    }
   ],
   "source": [
    "plt.scatter(X[:, 0], X[:, 1])"
   ]
  },
  {
   "cell_type": "code",
   "execution_count": 4,
   "id": "f34c2204",
   "metadata": {},
   "outputs": [],
   "source": [
    "from sklearn.preprocessing import StandardScaler"
   ]
  },
  {
   "cell_type": "markdown",
   "id": "07ae88e3",
   "metadata": {},
   "source": [
    "$\\hat{X} = \\frac{X - \\bar{X}}{\\sigma_X}$"
   ]
  },
  {
   "cell_type": "code",
   "execution_count": 5,
   "id": "2b380423",
   "metadata": {},
   "outputs": [],
   "source": [
    "scaler = StandardScaler()"
   ]
  },
  {
   "cell_type": "code",
   "execution_count": 6,
   "id": "c061dbe6",
   "metadata": {},
   "outputs": [
    {
     "data": {
      "text/plain": [
       "StandardScaler()"
      ]
     },
     "execution_count": 6,
     "metadata": {},
     "output_type": "execute_result"
    }
   ],
   "source": [
    "scaler.fit(X)"
   ]
  },
  {
   "cell_type": "code",
   "execution_count": 7,
   "id": "0589e242",
   "metadata": {},
   "outputs": [],
   "source": [
    "X_normed = scaler.transform(X)"
   ]
  },
  {
   "cell_type": "code",
   "execution_count": 8,
   "id": "a67649aa",
   "metadata": {},
   "outputs": [
    {
     "data": {
      "text/plain": [
       "<matplotlib.collections.PathCollection at 0x7f1430548400>"
      ]
     },
     "execution_count": 8,
     "metadata": {},
     "output_type": "execute_result"
    },
    {
     "data": {
      "image/png": "[encoded data removed]",
      "text/plain": [
       "<Figure size 432x288 with 1 Axes>"
      ]
     },
     "metadata": {
      "needs_background": "light"
     },
     "output_type": "display_data"
    }
   ],
   "source": [
    "plt.scatter(X_normed[:, 0], X_normed[:, 1])"
   ]
  },
  {
   "cell_type": "markdown",
   "id": "de5709e0",
   "metadata": {},
   "source": [
    "## k-NN\n",
    "Scikitlearn implements the k-nearest neighbors in its [neighbors module](https://scikit-learn.org/stable/modules/generated/sklearn.neighbors.KNeighborsRegressor.html#sklearn-neighbors-kneighborsregressor).\n",
    "\n",
    "By default `metric='minkowski'` that is equivalent to the euclidian distance. However we can use [alternatives metrics](https://scikit-learn.org/stable/modules/generated/sklearn.metrics.DistanceMetric.html#sklearn.metrics.DistanceMetric)."
   ]
  },
  {
   "cell_type": "code",
   "execution_count": 9,
   "id": "4e612cc6",
   "metadata": {},
   "outputs": [],
   "source": [
    "from sklearn.neighbors import KNeighborsRegressor\n",
    "import numpy as np\n",
    "import matplotlib.pyplot as plt\n",
    "\n",
    "%matplotlib inline"
   ]
  },
  {
   "cell_type": "markdown",
   "id": "2831b3c0",
   "metadata": {},
   "source": [
    "First of all, let's create some data"
   ]
  },
  {
   "cell_type": "code",
   "execution_count": 114,
   "id": "b8f04d55",
   "metadata": {},
   "outputs": [
    {
     "data": {
      "image/png": "[encoded data removed]",
      "text/plain": [
       "<Figure size 432x288 with 1 Axes>"
      ]
     },
     "metadata": {
      "needs_background": "light"
     },
     "output_type": "display_data"
    }
   ],
   "source": [
    "x = np.sort(np.random.uniform(1, 10, size=[10]))\n",
    "c = 0.3\n",
    "\n",
    "y_real = x*c \n",
    "y = y_real + np.random.normal(loc=0.0, scale=.3, size=len(x))\n",
    "\n",
    "fig, ax = plt.subplots()\n",
    "ax.plot(x, y, marker='.')\n",
    "ax.set_xlabel('x')\n",
    "ax.set_ylabel('y')\n",
    "plt.show()"
   ]
  },
  {
   "cell_type": "code",
   "execution_count": 115,
   "id": "76d51075",
   "metadata": {},
   "outputs": [],
   "source": [
    "model = KNeighborsRegressor(n_neighbors=2)"
   ]
  },
  {
   "cell_type": "code",
   "execution_count": 116,
   "id": "2c9808b6",
   "metadata": {},
   "outputs": [
    {
     "data": {
      "text/plain": [
       "KNeighborsRegressor(n_neighbors=2)"
      ]
     },
     "execution_count": 116,
     "metadata": {},
     "output_type": "execute_result"
    }
   ],
   "source": [
    "model.fit(x[:, None], y)"
   ]
  },
  {
   "cell_type": "code",
   "execution_count": 117,
   "id": "26f3e1d1",
   "metadata": {},
   "outputs": [
    {
     "data": {
      "text/plain": [
       "((10,), (10, 1))"
      ]
     },
     "execution_count": 117,
     "metadata": {},
     "output_type": "execute_result"
    }
   ],
   "source": [
    "x.shape, x[:, None].shape"
   ]
  },
  {
   "cell_type": "markdown",
   "id": "b219add1",
   "metadata": {},
   "source": [
    "We need to use matrix format in `KNeighborsRegressor`, that's why we add a new axis `[:, None]`.\n",
    "\n",
    "Now we already have our model fitted so we can predict"
   ]
  },
  {
   "cell_type": "code",
   "execution_count": 118,
   "id": "db58e51f",
   "metadata": {},
   "outputs": [],
   "source": [
    "x_test = np.sort(np.random.uniform(1, 10, size=[5]))\n",
    "y_pred_knn = model.predict(x_test[:, None])"
   ]
  },
  {
   "cell_type": "code",
   "execution_count": 119,
   "id": "e2c4cea1",
   "metadata": {},
   "outputs": [
    {
     "data": {
      "text/plain": [
       "<matplotlib.legend.Legend at 0x7f14174c06a0>"
      ]
     },
     "execution_count": 119,
     "metadata": {},
     "output_type": "execute_result"
    }
   ],
   "source": [
    "ax.plot(x_test, y_pred_knn, marker='.', label='knn_pred')\n",
    "ax.legend()"
   ]
  },
  {
   "cell_type": "code",
   "execution_count": 120,
   "id": "b5c9b186",
   "metadata": {},
   "outputs": [
    {
     "data": {
      "image/png": "[encoded data removed]",
      "text/plain": [
       "<Figure size 432x288 with 1 Axes>"
      ]
     },
     "execution_count": 120,
     "metadata": {},
     "output_type": "execute_result"
    }
   ],
   "source": [
    "fig"
   ]
  },
  {
   "cell_type": "markdown",
   "id": "f19549c2",
   "metadata": {},
   "source": [
    "## Linear Regression"
   ]
  },
  {
   "cell_type": "code",
   "execution_count": 121,
   "id": "c49f9544",
   "metadata": {},
   "outputs": [],
   "source": [
    "from sklearn.linear_model import LinearRegression"
   ]
  },
  {
   "cell_type": "code",
   "execution_count": 122,
   "id": "75bf278d",
   "metadata": {},
   "outputs": [],
   "source": [
    "reg = LinearRegression()\n",
    "reg = reg.fit(x[:,None], y)"
   ]
  },
  {
   "cell_type": "code",
   "execution_count": 123,
   "id": "f8ff7f82",
   "metadata": {},
   "outputs": [],
   "source": [
    "y_pred_lr = reg.predict(x_test[:,None])"
   ]
  },
  {
   "cell_type": "code",
   "execution_count": 124,
   "id": "9ac6a0f6",
   "metadata": {},
   "outputs": [
    {
     "data": {
      "text/plain": [
       "<matplotlib.legend.Legend at 0x7f14174c0910>"
      ]
     },
     "execution_count": 124,
     "metadata": {},
     "output_type": "execute_result"
    }
   ],
   "source": [
    "ax.plot(x_test, y_pred_lr, marker='.', label='lr_pred')\n",
    "ax.legend()"
   ]
  },
  {
   "cell_type": "code",
   "execution_count": 125,
   "id": "2fe72b48",
   "metadata": {},
   "outputs": [
    {
     "data": {
      "image/png": "[encoded data removed]",
      "text/plain": [
       "<Figure size 432x288 with 1 Axes>"
      ]
     },
     "execution_count": 125,
     "metadata": {},
     "output_type": "execute_result"
    }
   ],
   "source": [
    "fig"
   ]
  },
  {
   "cell_type": "code",
   "execution_count": 126,
   "id": "053d2ad3",
   "metadata": {},
   "outputs": [
    {
     "name": "stdout",
     "output_type": "stream",
     "text": [
      "c_pred=[0.35115091] - intercept=-0.02\n"
     ]
    }
   ],
   "source": [
    "print('c_pred={} - intercept={:.2f}'.format(reg.coef_, reg.intercept_))"
   ]
  },
  {
   "cell_type": "markdown",
   "id": "9c50318b",
   "metadata": {},
   "source": [
    "## How we can compare models?"
   ]
  },
  {
   "cell_type": "markdown",
   "id": "adefdc50",
   "metadata": {},
   "source": [
    "Usually we use the `MSE` to evaluate how close our prediction is to the real labels.\n",
    "\n",
    "[Sklearn provides different metrics](https://scikit-learn.org/stable/modules/classes.html?highlight=metrics#regression-metrics) for regression (and also other tasks that we don't see yet)"
   ]
  },
  {
   "cell_type": "code",
   "execution_count": 127,
   "id": "cd64dba9",
   "metadata": {},
   "outputs": [],
   "source": [
    "from sklearn.metrics import mean_squared_error"
   ]
  },
  {
   "cell_type": "code",
   "execution_count": 128,
   "id": "6e69a4a8",
   "metadata": {},
   "outputs": [],
   "source": [
    "y_test = x_test*c"
   ]
  },
  {
   "cell_type": "code",
   "execution_count": 132,
   "id": "043de93d",
   "metadata": {},
   "outputs": [
    {
     "data": {
      "text/plain": [
       "'MSE LR: 0.08969672264645931 - MSE KNN: 0.22329459118598582'"
      ]
     },
     "execution_count": 132,
     "metadata": {},
     "output_type": "execute_result"
    }
   ],
   "source": [
    "'MSE LR: {} - MSE KNN: {}'.format(mean_squared_error(y_test, y_pred_lr), \n",
    "                                  mean_squared_error(y_test, y_pred_knn))"
   ]
  },
  {
   "cell_type": "code",
   "execution_count": 134,
   "id": "aa9ace0d",
   "metadata": {},
   "outputs": [],
   "source": [
    "from sklearn.metrics import r2_score"
   ]
  },
  {
   "cell_type": "code",
   "execution_count": 135,
   "id": "457acb97",
   "metadata": {},
   "outputs": [
    {
     "data": {
      "text/plain": [
       "'R2 LR: 0.793009876511829 - R2 KNN: 0.4847105486116404'"
      ]
     },
     "execution_count": 135,
     "metadata": {},
     "output_type": "execute_result"
    }
   ],
   "source": [
    "'R2 LR: {} - R2 KNN: {}'.format(r2_score(y_test, y_pred_lr), \n",
    "                                r2_score(y_test, y_pred_knn))"
   ]
  },
  {
   "cell_type": "markdown",
   "id": "aaee9835",
   "metadata": {},
   "source": [
    "#### what would be the R2 of a KNN with n='total number of points'"
   ]
  },
  {
   "cell_type": "code",
   "execution_count": 147,
   "id": "81b7f245",
   "metadata": {},
   "outputs": [],
   "source": [
    "# model = KNeighborsRegressor(n_neighbors=len(x))\n",
    "# model.fit(x[:, None], y)\n",
    "# y_knn_2 = model.predict(x[:, None])"
   ]
  },
  {
   "cell_type": "code",
   "execution_count": 148,
   "id": "718782d1",
   "metadata": {},
   "outputs": [],
   "source": [
    "# 'R2 KNN: {}'.format(r2_score(y, y_knn_2))"
   ]
  },
  {
   "cell_type": "markdown",
   "id": "94d04a3e",
   "metadata": {},
   "source": [
    "## Exercise"
   ]
  },
  {
   "cell_type": "code",
   "execution_count": 48,
   "id": "e5126261",
   "metadata": {},
   "outputs": [],
   "source": [
    "import pandas as pd\n",
    "\n",
    "import matplotlib.pyplot as plt"
   ]
  },
  {
   "cell_type": "code",
   "execution_count": 49,
   "id": "94ff7918",
   "metadata": {},
   "outputs": [],
   "source": [
    "data = pd.read_csv('./data/tetouan_power_consumption.csv')"
   ]
  },
  {
   "cell_type": "code",
   "execution_count": 58,
   "id": "be711bbf",
   "metadata": {},
   "outputs": [
    {
     "data": {
      "text/plain": [
       "dtype('O')"
      ]
     },
     "execution_count": 58,
     "metadata": {},
     "output_type": "execute_result"
    }
   ],
   "source": [
    "data['DateTime'].dtype"
   ]
  },
  {
   "cell_type": "code",
   "execution_count": 69,
   "id": "9264b9bf",
   "metadata": {},
   "outputs": [
    {
     "data": {
      "text/html": [
       "<div>\n",
       "<style scoped>\n",
       "    .dataframe tbody tr th:only-of-type {\n",
       "        vertical-align: middle;\n",
       "    }\n",
       "\n",
       "    .dataframe tbody tr th {\n",
       "        vertical-align: top;\n",
       "    }\n",
       "\n",
       "    .dataframe thead th {\n",
       "        text-align: right;\n",
       "    }\n",
       "</style>\n",
       "<table border=\"1\" class=\"dataframe\">\n",
       "  <thead>\n",
       "    <tr style=\"text-align: right;\">\n",
       "      <th></th>\n",
       "      <th>DateTime</th>\n",
       "      <th>DateTimeFormat</th>\n",
       "    </tr>\n",
       "  </thead>\n",
       "  <tbody>\n",
       "    <tr>\n",
       "      <th>0</th>\n",
       "      <td>1/1/2017 0:00</td>\n",
       "      <td>1/1/2017</td>\n",
       "    </tr>\n",
       "    <tr>\n",
       "      <th>1</th>\n",
       "      <td>1/1/2017 0:10</td>\n",
       "      <td>1/1/2017</td>\n",
       "    </tr>\n",
       "    <tr>\n",
       "      <th>2</th>\n",
       "      <td>1/1/2017 0:20</td>\n",
       "      <td>1/1/2017</td>\n",
       "    </tr>\n",
       "    <tr>\n",
       "      <th>3</th>\n",
       "      <td>1/1/2017 0:30</td>\n",
       "      <td>1/1/2017</td>\n",
       "    </tr>\n",
       "    <tr>\n",
       "      <th>4</th>\n",
       "      <td>1/1/2017 0:40</td>\n",
       "      <td>1/1/2017</td>\n",
       "    </tr>\n",
       "    <tr>\n",
       "      <th>...</th>\n",
       "      <td>...</td>\n",
       "      <td>...</td>\n",
       "    </tr>\n",
       "    <tr>\n",
       "      <th>52411</th>\n",
       "      <td>12/30/2017 23:10</td>\n",
       "      <td>12/30/2017</td>\n",
       "    </tr>\n",
       "    <tr>\n",
       "      <th>52412</th>\n",
       "      <td>12/30/2017 23:20</td>\n",
       "      <td>12/30/2017</td>\n",
       "    </tr>\n",
       "    <tr>\n",
       "      <th>52413</th>\n",
       "      <td>12/30/2017 23:30</td>\n",
       "      <td>12/30/2017</td>\n",
       "    </tr>\n",
       "    <tr>\n",
       "      <th>52414</th>\n",
       "      <td>12/30/2017 23:40</td>\n",
       "      <td>12/30/2017</td>\n",
       "    </tr>\n",
       "    <tr>\n",
       "      <th>52415</th>\n",
       "      <td>12/30/2017 23:50</td>\n",
       "      <td>12/30/2017</td>\n",
       "    </tr>\n",
       "  </tbody>\n",
       "</table>\n",
       "<p>52416 rows × 2 columns</p>\n",
       "</div>"
      ],
      "text/plain": [
       "               DateTime DateTimeFormat\n",
       "0         1/1/2017 0:00       1/1/2017\n",
       "1         1/1/2017 0:10       1/1/2017\n",
       "2         1/1/2017 0:20       1/1/2017\n",
       "3         1/1/2017 0:30       1/1/2017\n",
       "4         1/1/2017 0:40       1/1/2017\n",
       "...                 ...            ...\n",
       "52411  12/30/2017 23:10     12/30/2017\n",
       "52412  12/30/2017 23:20     12/30/2017\n",
       "52413  12/30/2017 23:30     12/30/2017\n",
       "52414  12/30/2017 23:40     12/30/2017\n",
       "52415  12/30/2017 23:50     12/30/2017\n",
       "\n",
       "[52416 rows x 2 columns]"
      ]
     },
     "execution_count": 69,
     "metadata": {},
     "output_type": "execute_result"
    }
   ],
   "source": [
    "data['DateTimeFormat'] = data['DateTime'].apply(lambda x: x.split(' ')[0])\n",
    "data[['DateTime', 'DateTimeFormat']]"
   ]
  },
  {
   "cell_type": "code",
   "execution_count": 77,
   "id": "44a8f01f",
   "metadata": {},
   "outputs": [
    {
     "data": {
      "text/plain": [
       "dtype('<M8[ns]')"
      ]
     },
     "execution_count": 77,
     "metadata": {},
     "output_type": "execute_result"
    }
   ],
   "source": [
    "data['DateTimeFormat'] = pd.to_datetime(data['DateTimeFormat'])\n",
    "data['DateTimeFormat'].dtype"
   ]
  },
  {
   "cell_type": "code",
   "execution_count": 151,
   "id": "8eef36da",
   "metadata": {},
   "outputs": [],
   "source": [
    "selected = data[data['DateTimeFormat']>'2017-11-01']"
   ]
  },
  {
   "cell_type": "code",
   "execution_count": 153,
   "id": "3a84601d",
   "metadata": {},
   "outputs": [
    {
     "data": {
      "text/html": [
       "<div>\n",
       "<style scoped>\n",
       "    .dataframe tbody tr th:only-of-type {\n",
       "        vertical-align: middle;\n",
       "    }\n",
       "\n",
       "    .dataframe tbody tr th {\n",
       "        vertical-align: top;\n",
       "    }\n",
       "\n",
       "    .dataframe thead th {\n",
       "        text-align: right;\n",
       "    }\n",
       "</style>\n",
       "<table border=\"1\" class=\"dataframe\">\n",
       "  <thead>\n",
       "    <tr style=\"text-align: right;\">\n",
       "      <th></th>\n",
       "      <th>DateTimeFormat</th>\n",
       "      <th>Temperature</th>\n",
       "      <th>Humidity</th>\n",
       "      <th>Wind Speed</th>\n",
       "      <th>general diffuse flows</th>\n",
       "      <th>diffuse flows</th>\n",
       "      <th>Zone 1 Power Consumption</th>\n",
       "      <th>Zone 2  Power Consumption</th>\n",
       "      <th>Zone 3  Power Consumption</th>\n",
       "    </tr>\n",
       "  </thead>\n",
       "  <tbody>\n",
       "    <tr>\n",
       "      <th>23</th>\n",
       "      <td>2017-11-25</td>\n",
       "      <td>17.317847</td>\n",
       "      <td>57.757639</td>\n",
       "      <td>1.502222</td>\n",
       "      <td>128.418007</td>\n",
       "      <td>22.226722</td>\n",
       "      <td>28772.094017</td>\n",
       "      <td>23594.834711</td>\n",
       "      <td>11341.084337</td>\n",
       "    </tr>\n",
       "    <tr>\n",
       "      <th>19</th>\n",
       "      <td>2017-11-21</td>\n",
       "      <td>13.486944</td>\n",
       "      <td>50.963403</td>\n",
       "      <td>1.973153</td>\n",
       "      <td>132.552625</td>\n",
       "      <td>22.327944</td>\n",
       "      <td>29386.837607</td>\n",
       "      <td>24025.077479</td>\n",
       "      <td>11619.156627</td>\n",
       "    </tr>\n",
       "  </tbody>\n",
       "</table>\n",
       "</div>"
      ],
      "text/plain": [
       "   DateTimeFormat  Temperature   Humidity  Wind Speed  general diffuse flows  \\\n",
       "23     2017-11-25    17.317847  57.757639    1.502222             128.418007   \n",
       "19     2017-11-21    13.486944  50.963403    1.973153             132.552625   \n",
       "\n",
       "    diffuse flows  Zone 1 Power Consumption  Zone 2  Power Consumption  \\\n",
       "23      22.226722              28772.094017               23594.834711   \n",
       "19      22.327944              29386.837607               24025.077479   \n",
       "\n",
       "    Zone 3  Power Consumption  \n",
       "23               11341.084337  \n",
       "19               11619.156627  "
      ]
     },
     "execution_count": 153,
     "metadata": {},
     "output_type": "execute_result"
    }
   ],
   "source": [
    "selected_grouped = selected.groupby('DateTimeFormat').mean().reset_index()\n",
    "selected_grouped.sample(2)"
   ]
  },
  {
   "cell_type": "code",
   "execution_count": 154,
   "id": "4c42e034",
   "metadata": {},
   "outputs": [
    {
     "data": {
      "image/png": "[encoded data removed]",
      "text/plain": [
       "<Figure size 432x288 with 1 Axes>"
      ]
     },
     "metadata": {
      "needs_background": "light"
     },
     "output_type": "display_data"
    }
   ],
   "source": [
    "plt.plot(selected_grouped['DateTimeFormat'], selected_grouped['Zone 1 Power Consumption'], marker='+')\n",
    "plt.xticks(rotation=90)\n",
    "plt.show()"
   ]
  },
  {
   "cell_type": "code",
   "execution_count": 166,
   "id": "1f016de0",
   "metadata": {},
   "outputs": [
    {
     "data": {
      "text/plain": [
       "((20, 9), (39, 9))"
      ]
     },
     "execution_count": 166,
     "metadata": {},
     "output_type": "execute_result"
    }
   ],
   "source": [
    "x_test = selected_grouped.iloc[-20:]\n",
    "x_train = selected_grouped.iloc[:-20]\n",
    "x_test.shape, x_train.shape"
   ]
  },
  {
   "cell_type": "code",
   "execution_count": 167,
   "id": "b93bf18a",
   "metadata": {},
   "outputs": [
    {
     "name": "stderr",
     "output_type": "stream",
     "text": [
      "/tmp/ipykernel_11910/1798625101.py:4: UserWarning: FixedFormatter should only be used together with FixedLocator\n",
      "  ax.set_xticklabels(x_test['DateTimeFormat'], rotation=90)\n"
     ]
    },
    {
     "data": {
      "image/png": "[encoded data removed]",
      "text/plain": [
       "<Figure size 432x288 with 1 Axes>"
      ]
     },
     "metadata": {
      "needs_background": "light"
     },
     "output_type": "display_data"
    }
   ],
   "source": [
    "fig, ax = plt.subplots(1,1)\n",
    "ax.plot(x_train['DateTimeFormat'], x_train['Zone 1 Power Consumption'], marker='+')\n",
    "ax.plot(x_test['DateTimeFormat'], x_test['Zone 1 Power Consumption'], marker='+')\n",
    "ax.set_xticklabels(x_test['DateTimeFormat'], rotation=90)\n",
    "plt.show()"
   ]
  },
  {
   "cell_type": "markdown",
   "id": "3d3c4eeb",
   "metadata": {},
   "source": [
    "**Create a model that predicts the last days of the month (`x_test`)**"
   ]
  },
  {
   "cell_type": "code",
   "execution_count": null,
   "id": "1bccbcf5",
   "metadata": {},
   "outputs": [],
   "source": []
  },
  {
   "cell_type": "code",
   "execution_count": null,
   "id": "bf354e5b",
   "metadata": {},
   "outputs": [],
   "source": []
  }
 ],
 "metadata": {
  "kernelspec": {
   "display_name": "Python 3 (ipykernel)",
   "language": "python",
   "name": "python3"
  },
  "language_info": {
   "codemirror_mode": {
    "name": "ipython",
    "version": 3
   },
   "file_extension": ".py",
   "mimetype": "text/x-python",
   "name": "python",
   "nbconvert_exporter": "python",
   "pygments_lexer": "ipython3",
   "version": "3.9.7"
  }
 },
 "nbformat": 4,
 "nbformat_minor": 5
}
