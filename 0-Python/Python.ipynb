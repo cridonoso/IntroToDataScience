{
 "cells": [
  {
   "cell_type": "markdown",
   "metadata": {},
   "source": [
    "# Introduccion a Python\n",
    "\n",
    "Cristobal Donoso Oliva<br>\n",
    "Universidad de Concepcion, Chile<br>\n",
    "cridonoso@inf.udec.cl<br>\n",
    "\n",
    "Diplomado Ciencia de Datos Avanzado<br>\n",
    "_Viernes 2 de Octubre del 2020_"
   ]
  },
  {
   "cell_type": "markdown",
   "metadata": {},
   "source": [
    "## Variables y Operadores"
   ]
  },
  {
   "cell_type": "markdown",
   "metadata": {},
   "source": [
    "Una **variable** es un segmento de memoria el cual nosotros usaremos para guardar datos (e.g., enteros, flotantes, caracteres, referencias a otra variable, funciones, etc...)"
   ]
  },
  {
   "cell_type": "code",
   "execution_count": 5,
   "metadata": {},
   "outputs": [
    {
     "name": "stdout",
     "output_type": "stream",
     "text": [
      "El valor 0 es de tipo <class 'int'>\n"
     ]
    }
   ],
   "source": [
    "variable = 0 # declaramos un entero\n",
    "print('El valor {} es de tipo {}'.format(variable, type(variable)))"
   ]
  },
  {
   "cell_type": "markdown",
   "metadata": {},
   "source": [
    "Notese que estamos utilizando la funcion `print()` la cual permite desplegar mensajes en la pantalla. Ademas utilizamos `\"{}\".format(variable, type(variable))` que nos sirve para dar formato de string a una o mas variables y desplegarlas en pantalla. En este caso, imprimimos el valor de `variable` y su tipo de dato llamando a la funcion de python `type()`"
   ]
  },
  {
   "cell_type": "markdown",
   "metadata": {},
   "source": [
    "Python reconoce el tipo de variable por lo que no debemos hacer referencia al tipo de dato (como en C por ejemplo). Algunos ejemplos de variables pueden ser:"
   ]
  },
  {
   "cell_type": "code",
   "execution_count": 8,
   "metadata": {},
   "outputs": [],
   "source": [
    "variable = 'Python es la luz!' # esto es un string o secuencia de caracteres\n",
    "_VARIABLE = 2 # esto es un entero. En general Python reserva 4 bytes para cada variable de tipo entero\n",
    "variable_float = 2e-5 # Flotante "
   ]
  },
  {
   "cell_type": "code",
   "execution_count": 9,
   "metadata": {},
   "outputs": [
    {
     "name": "stdout",
     "output_type": "stream",
     "text": [
      "2e-05\n",
      "0.00002\n"
     ]
    }
   ],
   "source": [
    "print(variable_float) # o tambien podemos imprimir con format,\n",
    "print(\"{:.5f}\".format(variable_float))"
   ]
  },
  {
   "cell_type": "markdown",
   "metadata": {},
   "source": [
    "_Si quieres saber mas acerca de la funcion `format` [visita aqui](https://docs.python.org/es/3/library/functions.html?highlight=format#format)_"
   ]
  },
  {
   "cell_type": "markdown",
   "metadata": {},
   "source": [
    "Una vez interiorizados en las variables podemos dar paso a las operaciones entre ellas "
   ]
  },
  {
   "cell_type": "code",
   "execution_count": 12,
   "metadata": {},
   "outputs": [
    {
     "name": "stdout",
     "output_type": "stream",
     "text": [
      "El resultado de la suma es: 3.25\n"
     ]
    }
   ],
   "source": [
    "a = 1\n",
    "b = 4.5\n",
    "a_sum_b = a + b/2\n",
    "print(\"El resultado de la suma es: {}\".format(a_sum_b))"
   ]
  },
  {
   "cell_type": "markdown",
   "metadata": {},
   "source": [
    "Existen muchos operadores en python y con distintos propositos ([puedes revisar este enlace para verlos!](https://www.fing.edu.uy/inco/cursos/fpr/wiki/index.php/Operadores_en_Python)). "
   ]
  },
  {
   "cell_type": "code",
   "execution_count": 13,
   "metadata": {},
   "outputs": [
    {
     "name": "stdout",
     "output_type": "stream",
     "text": [
      "4 > 2? = True\n",
      "La negacion de True es False\n",
      "Data Science\n",
      "----------Data Science----------\n"
     ]
    }
   ],
   "source": [
    "a = 4\n",
    "b = 2\n",
    "a_mayor_que_b = a > b\n",
    "print('{} > {}? = {}'.format(a, b, a_mayor_que_b))\n",
    "\n",
    "negacion = not a_mayor_que_b\n",
    "print(\"La negacion de {} es {}\".format(a_mayor_que_b, negacion))\n",
    "\n",
    "string_concat = 'Data' + ' ' + 'Science' # en string el operador + significa concatenacion\n",
    "print(string_concat)\n",
    "\n",
    "muchos_strings = '-'*10+string_concat+'-'*10 # y la multiplicacion es la repetecion del string\n",
    "print(muchos_strings)"
   ]
  },
  {
   "cell_type": "markdown",
   "metadata": {},
   "source": [
    "## Listas y Diccionarios"
   ]
  },
  {
   "cell_type": "markdown",
   "metadata": {},
   "source": [
    "Alguna de las estructuras de datos mas utilizadas en Ciencia de Datos son las listas y diccionarios. Una lista es un estructura que permite organizar distintos tipos de datos"
   ]
  },
  {
   "cell_type": "code",
   "execution_count": 98,
   "metadata": {},
   "outputs": [
    {
     "name": "stdout",
     "output_type": "stream",
     "text": [
      "['Car', 23, 'kitten', [1, 2, 3], '----------Data Science----------']\n"
     ]
    }
   ],
   "source": [
    "lista = ['Car', 23, 'kitten', [1,2,3], muchos_strings]\n",
    "print(lista)"
   ]
  },
  {
   "cell_type": "markdown",
   "metadata": {},
   "source": [
    "Existen [muchas operaciones para listas](https://docs.python.org/3/tutorial/datastructures.html). Alguna de las utilizadas son:\n",
    "- append\n",
    "- indexing\n",
    "- sort\n",
    "- del\n"
   ]
  },
  {
   "cell_type": "code",
   "execution_count": 100,
   "metadata": {},
   "outputs": [
    {
     "name": "stdout",
     "output_type": "stream",
     "text": [
      "Car\n",
      "----------Data Science----------\n",
      "['Car', 23]\n",
      "Latest value:  3\n"
     ]
    }
   ],
   "source": [
    "#Indexing\n",
    "primer_elemento    = lista[0]\n",
    "ultimo_elemento    = lista[-1]\n",
    "rango_de_elementos = lista[0:2]\n",
    "print(primer_elemento)\n",
    "print(ultimo_elemento)\n",
    "print(rango_de_elementos)\n",
    "# El ultimo elemento del penultimo elemento de la lista \n",
    "elemento = lista[-2][-1]\n",
    "print('Latest value: ',elemento)"
   ]
  },
  {
   "cell_type": "code",
   "execution_count": 16,
   "metadata": {},
   "outputs": [
    {
     "name": "stdout",
     "output_type": "stream",
     "text": [
      "[2, 11, 6, 8, 2, 7]\n",
      "['a', 'luna', 'bueno', 'leon']\n",
      "[2, 2, 6, 7, 8, 11]\n",
      "['a', 'bueno', 'leon', 'luna']\n",
      "[11, 8, 7, 6, 2, 2]\n"
     ]
    }
   ],
   "source": [
    "lista_0 = [2,11,6,8,2,7]\n",
    "lista_1 = ['a', 'luna','bueno', 'leon']\n",
    "print(lista_0)\n",
    "print(lista_1)\n",
    "lista_0.sort()\n",
    "lista_1.sort()\n",
    "print(lista_0)\n",
    "print(lista_1)\n",
    "\n",
    "lista_rev = lista_0[::-1]\n",
    "print(lista_rev)"
   ]
  },
  {
   "cell_type": "code",
   "execution_count": 114,
   "metadata": {},
   "outputs": [
    {
     "name": "stdout",
     "output_type": "stream",
     "text": [
      "[2, 2, 8, 11]\n",
      "[2, 2, 11]\n",
      "La lista tiene 3 elementos\n"
     ]
    }
   ],
   "source": [
    "print(lista_0)\n",
    "del lista_0[2]\n",
    "print(lista_0)\n",
    "print('La lista tiene {} elementos'.format(len(lista_0)))"
   ]
  },
  {
   "cell_type": "markdown",
   "metadata": {},
   "source": [
    "Ya que conocemos las listas es un momento perfecto para introducir los ciclos \"for\" y sentencias \"if-else\""
   ]
  },
  {
   "cell_type": "code",
   "execution_count": 21,
   "metadata": {},
   "outputs": [
    {
     "name": "stdout",
     "output_type": "stream",
     "text": [
      "2 es un numero par\n",
      "2 es un numero par\n",
      "6 es un numero par\n",
      "7 es un numero impar\n",
      "8 es un numero par\n",
      "11 es un numero impar\n"
     ]
    }
   ],
   "source": [
    "for element in lista_0:\n",
    "    modulo = element%2\n",
    "    if modulo == 0:\n",
    "        print(\"{} es un numero par\".format(element))\n",
    "    # else: \n",
    "    elif modulo == 1:\n",
    "        print(\"{} es un numero impar\".format(element))"
   ]
  },
  {
   "cell_type": "markdown",
   "metadata": {},
   "source": [
    "Los diccionarios son otra estructura de datos la cual, a diferencia de las listas, nos permiten hacer un mapeo de valores del estilo `key:value`"
   ]
  },
  {
   "cell_type": "code",
   "execution_count": 22,
   "metadata": {},
   "outputs": [
    {
     "name": "stdout",
     "output_type": "stream",
     "text": [
      "{'pares': [0, 2, 4, 6, 8, 10, 12, 14, 16, 18, 20, 22, 24, 26, 28, 30, 32, 34, 36, 38, 40, 42, 44, 46, 48, 50, 52, 54, 56, 58, 60, 62, 64, 66, 68, 70, 72, 74, 76, 78, 80, 82, 84, 86, 88, 90, 92, 94, 96, 98], 'impares': [1, 3, 5, 7, 9, 11, 13, 15, 17, 19, 21, 23, 25, 27, 29, 31, 33, 35, 37, 39, 41, 43, 45, 47, 49, 51, 53, 55, 57, 59, 61, 63, 65, 67, 69, 71, 73, 75, 77, 79, 81, 83, 85, 87, 89, 91, 93, 95, 97, 99]}\n"
     ]
    }
   ],
   "source": [
    "diccionario = {'pares': [], 'impares': []}\n",
    "\n",
    "for i in range(0, 100):\n",
    "    if i % 2 == 0:\n",
    "        diccionario['pares'].append(i)\n",
    "    else:\n",
    "        diccionario['impares'].append(i)\n",
    "print(diccionario)"
   ]
  },
  {
   "cell_type": "markdown",
   "metadata": {},
   "source": [
    "Tambien podemos recorrer los diccionarios"
   ]
  },
  {
   "cell_type": "code",
   "execution_count": 31,
   "metadata": {},
   "outputs": [],
   "source": [
    "tupla = (1, 2, 4)"
   ]
  },
  {
   "cell_type": "code",
   "execution_count": 24,
   "metadata": {},
   "outputs": [
    {
     "name": "stdout",
     "output_type": "stream",
     "text": [
      "pares\n",
      "impares\n",
      "----------------------------------------------------------------------------------------------------\n",
      "pares\n",
      "impares\n",
      "----------------------------------------------------------------------------------------------------\n",
      "[0, 2, 4, 6, 8, 10, 12, 14, 16, 18, 20, 22, 24, 26, 28, 30, 32, 34, 36, 38, 40, 42, 44, 46, 48, 50, 52, 54, 56, 58, 60, 62, 64, 66, 68, 70, 72, 74, 76, 78, 80, 82, 84, 86, 88, 90, 92, 94, 96, 98]\n",
      "[1, 3, 5, 7, 9, 11, 13, 15, 17, 19, 21, 23, 25, 27, 29, 31, 33, 35, 37, 39, 41, 43, 45, 47, 49, 51, 53, 55, 57, 59, 61, 63, 65, 67, 69, 71, 73, 75, 77, 79, 81, 83, 85, 87, 89, 91, 93, 95, 97, 99]\n"
     ]
    }
   ],
   "source": [
    "for key, item in diccionario.items():\n",
    "    print(key)\n",
    "#     print(item)\n",
    "\n",
    "print('-'*100)\n",
    "for key in diccionario.keys():\n",
    "    print(key)\n",
    "    \n",
    "print('-'*100)\n",
    "for value in diccionario.values():\n",
    "    print(value)"
   ]
  },
  {
   "cell_type": "markdown",
   "metadata": {},
   "source": [
    "# Numpy Arrays"
   ]
  },
  {
   "cell_type": "markdown",
   "metadata": {},
   "source": [
    "Numpy es un paquete de python el cual provee funciones para el manejo de arreglos multidimensionales. Numpy esta optimizado en hardware (eficiente) y esta disenado para hacer ciencia (conveniencia)"
   ]
  },
  {
   "cell_type": "code",
   "execution_count": 32,
   "metadata": {},
   "outputs": [],
   "source": [
    "import numpy as np"
   ]
  },
  {
   "cell_type": "code",
   "execution_count": 4,
   "metadata": {},
   "outputs": [
    {
     "name": "stdout",
     "output_type": "stream",
     "text": [
      "184 µs ± 5.44 µs per loop (mean ± std. dev. of 7 runs, 10000 loops each)\n",
      "918 ns ± 30.9 ns per loop (mean ± std. dev. of 7 runs, 1000000 loops each)\n"
     ]
    }
   ],
   "source": [
    "list_python = range(1000)\n",
    "%timeit [i**2 for i in list_python]\n",
    "\n",
    "\n",
    "numpy_array = np.arange(1000)\n",
    "%timeit numpy_array**2"
   ]
  },
  {
   "cell_type": "code",
   "execution_count": 34,
   "metadata": {},
   "outputs": [
    {
     "name": "stdout",
     "output_type": "stream",
     "text": [
      "[1 2 3]\n",
      "[[1.  2.  3.6]\n",
      " [4.  5.  6. ]]\n",
      "[[[1 2 3]\n",
      "  [4 5 6]]\n",
      "\n",
      " [[1 2 3.6]\n",
      "  [4 5 None]]]\n",
      "dimension of n: 1 data type: int8\n",
      "dimension of m: 2 data type: float64\n",
      "dimension of l: 3 data type: object\n"
     ]
    }
   ],
   "source": [
    "# Defining numpy arrays by hand\n",
    "n = np.array([1,2,3], dtype='int8')\n",
    "\n",
    "m = np.array([[1,2,3.6],\n",
    "              [4,5,6]])\n",
    "\n",
    "\n",
    "\n",
    "l = np.array([[[1,2,3],\n",
    "               [4,5,6]],\n",
    "              [[1,2,3.6],\n",
    "               [4,5,None]]])\n",
    "print(n)\n",
    "print(m)\n",
    "print(l)\n",
    "print('dimension of n:',n.ndim, 'data type:',n.dtype)\n",
    "print('dimension of m:',m.ndim, 'data type:',m.dtype)\n",
    "print('dimension of l:',l.ndim, 'data type:',l.dtype)"
   ]
  },
  {
   "cell_type": "code",
   "execution_count": 6,
   "metadata": {},
   "outputs": [
    {
     "name": "stdout",
     "output_type": "stream",
     "text": [
      "**************************************************\n",
      "[1. 1. 1. 1. 1.]\n",
      "**************************************************\n",
      "[[1. 1.]\n",
      " [1. 1.]\n",
      " [1. 1.]\n",
      " [1. 1.]\n",
      " [1. 1.]]\n",
      "**************************************************\n",
      "[0. 0. 0. 0. 0.]\n",
      "**************************************************\n",
      "[[-0.51396604]\n",
      " [-0.29699567]]\n"
     ]
    }
   ],
   "source": [
    "# Arreglos predefinidos por numpy\n",
    "o = np.ones(5)\n",
    "print('*'*50)\n",
    "print(o)\n",
    "y = np.ones([5,2])\n",
    "print('*'*50)\n",
    "print(y)\n",
    "z = np.zeros(5)\n",
    "print('*'*50)\n",
    "print(z)\n",
    "# Numeros aleatorios desde distribucion N(0, 1) normal estandar\n",
    "b = np.random.randn(2,1)\n",
    "print('*'*50)\n",
    "print(b)"
   ]
  },
  {
   "cell_type": "code",
   "execution_count": 7,
   "metadata": {},
   "outputs": [
    {
     "name": "stdout",
     "output_type": "stream",
     "text": [
      "[0 1 2 3 4 5 6 7 8 9]\n",
      "[ 5.          5.52631579  6.05263158  6.57894737  7.10526316  7.63157895\n",
      "  8.15789474  8.68421053  9.21052632  9.73684211 10.26315789 10.78947368\n",
      " 11.31578947 11.84210526 12.36842105 12.89473684 13.42105263 13.94736842\n",
      " 14.47368421 15.        ]\n"
     ]
    }
   ],
   "source": [
    "a = np.arange(10)\n",
    "print (a)\n",
    "b = np.linspace(5,15,20, endpoint=True) # arreglo de 20 numeros (entre 5 y 15) equiespaciados\n",
    "print (b)"
   ]
  },
  {
   "cell_type": "code",
   "execution_count": 8,
   "metadata": {},
   "outputs": [],
   "source": [
    "from numpy import linalg as LA"
   ]
  },
  {
   "cell_type": "code",
   "execution_count": 9,
   "metadata": {},
   "outputs": [],
   "source": [
    "matrix = np.random.gamma(2, 2, [5,5]) # muestreo aleatorio desde distribucion gamma\n",
    "eigval, eigvec = LA.eig(matrix) # computar los valores y vectores propios de una matriz"
   ]
  },
  {
   "cell_type": "code",
   "execution_count": 10,
   "metadata": {},
   "outputs": [
    {
     "data": {
      "text/plain": [
       "array([[-4.79030102e-01+0.j        , -3.06228166e-03+0.21856063j,\n",
       "        -3.06228166e-03-0.21856063j,  4.58289738e-04-0.03566543j,\n",
       "         4.58289738e-04+0.03566543j],\n",
       "       [-3.93004249e-01+0.j        ,  6.15980993e-02-0.18362596j,\n",
       "         6.15980993e-02+0.18362596j,  3.43210788e-01-0.09695748j,\n",
       "         3.43210788e-01+0.09695748j],\n",
       "       [-3.63284762e-01+0.j        , -2.78892370e-02+0.05628386j,\n",
       "        -2.78892370e-02-0.05628386j,  1.84909349e-01+0.18927562j,\n",
       "         1.84909349e-01-0.18927562j],\n",
       "       [-4.86700699e-01+0.j        , -9.05156126e-01+0.j        ,\n",
       "        -9.05156126e-01-0.j        ,  5.32743979e-01+0.01823499j,\n",
       "         5.32743979e-01-0.01823499j],\n",
       "       [-4.97216687e-01+0.j        ,  2.39701797e-01-0.18438766j,\n",
       "         2.39701797e-01+0.18438766j, -7.19282963e-01+0.j        ,\n",
       "        -7.19282963e-01-0.j        ]])"
      ]
     },
     "execution_count": 10,
     "metadata": {},
     "output_type": "execute_result"
    }
   ],
   "source": [
    "eigvec"
   ]
  },
  {
   "cell_type": "markdown",
   "metadata": {},
   "source": [
    "## Funciones"
   ]
  },
  {
   "cell_type": "markdown",
   "metadata": {},
   "source": [
    "Las funciones en Python son un conjunto de sentencias las cuales contruyen una operacion en particular (e.g., sumar dos numero, rotar una matriz en $\\alpha$-grados). Al igual que en matematicas, estas reciben un input y retornan un output."
   ]
  },
  {
   "cell_type": "code",
   "execution_count": 14,
   "metadata": {},
   "outputs": [],
   "source": [
    "# SINTAXIS DE UNA FUNCION EN PYTHON\n",
    "def rotar_vector(matriz, angulo=0):\n",
    "    \"\"\" Rotacion de un vector\n",
    "\n",
    "    Args:\n",
    "        matriz [numpy array]: vector\n",
    "        angulo [entero]: angulo de rotacion en radianes.\n",
    "\n",
    "    Returns:\n",
    "        [numpy array] Vector rotado en 'angulo'.\n",
    "\n",
    "    \"\"\"\n",
    "    \n",
    "    rot_angle = np.array([[np.cos(angulo), np.sin(angulo)],\n",
    "                          [-np.sin(angulo), np.cos(angulo)]])\n",
    "    \n",
    "    rotated_vector = np.matmul(rot_angle, matriz) # Multiplicacion de matrices\n",
    "    return rotated_vector"
   ]
  },
  {
   "cell_type": "code",
   "execution_count": null,
   "metadata": {},
   "outputs": [],
   "source": []
  },
  {
   "cell_type": "code",
   "execution_count": 16,
   "metadata": {},
   "outputs": [
    {
     "name": "stdout",
     "output_type": "stream",
     "text": [
      "[[-1.]\n",
      " [-1.]]\n"
     ]
    }
   ],
   "source": [
    "vector_0 = np.ones([2,1])\n",
    "vector_180 = rotar_vector(vector_0, np.pi)\n",
    "print(vector_180)"
   ]
  },
  {
   "cell_type": "markdown",
   "metadata": {},
   "source": [
    "### Ejercicio\n",
    "Crear una funcion que retorne los `elementos` y `claves` de un diccionario"
   ]
  },
  {
   "cell_type": "code",
   "execution_count": null,
   "metadata": {},
   "outputs": [],
   "source": []
  },
  {
   "cell_type": "markdown",
   "metadata": {},
   "source": [
    "## Visualizacion con Matplotlib"
   ]
  },
  {
   "cell_type": "markdown",
   "metadata": {},
   "source": [
    "[Matplotlib](https://matplotlib.org/) es un paquete de visualizacion en python. Posee muchas funciones relacionadas al tipo de grafico que necesitemos utilizar."
   ]
  },
  {
   "cell_type": "code",
   "execution_count": 41,
   "metadata": {},
   "outputs": [],
   "source": [
    "import matplotlib.pyplot as plt"
   ]
  },
  {
   "cell_type": "markdown",
   "metadata": {},
   "source": [
    "Por ejemplo, visualicemos una funcion seno y coseno"
   ]
  },
  {
   "cell_type": "code",
   "execution_count": 42,
   "metadata": {},
   "outputs": [],
   "source": [
    "X = np.linspace(-np.pi, np.pi, 256, endpoint=True) # Rango de valores en x (rad)\n",
    "C = np.cos(X) # coseno\n",
    "S = np.sin(X) # seno"
   ]
  },
  {
   "cell_type": "code",
   "execution_count": 59,
   "metadata": {},
   "outputs": [
    {
     "data": {
      "image/png": "[encoded data removed]",
      "text/plain": [
       "<Figure size 1200x400 with 1 Axes>"
      ]
     },
     "metadata": {
      "needs_background": "light"
     },
     "output_type": "display_data"
    }
   ],
   "source": [
    "# Creamos un figura de tamano 10x5 con 80 puntos por pulgada\n",
    "plt.figure(figsize=(15, 5), dpi=80)\n",
    "\n",
    "# Plot recibe una lista de valores en \"x\" y en \"y\"\n",
    "plt.plot(X, C, color=\"blue\", linewidth=1.0, linestyle=\"-\", label='Coseno') # label tambien puede ser LaTeX\n",
    "# Lo mismo pero para el seno\n",
    "plt.plot(X, S, color=\"green\", linewidth=1.0, linestyle=\"-\", label='Sin')\n",
    "# Imprimir leyenda \n",
    "plt.legend()\n",
    "plt.legend(bbox_to_anchor=(1, 1.1), ncol=2)\n",
    "# Rotulacion de ejes\n",
    "plt.xlabel('X')\n",
    "plt.ylabel('Y')\n",
    "# # Show result on screen\n",
    "plt.grid() # Grilla\n",
    "# # Titulo\n",
    "plt.title('Visualizacion de Funciones seno y coseno')\n",
    "plt.savefig('mi_imagen.pdf', format='pdf')\n",
    "plt.show()"
   ]
  },
  {
   "cell_type": "markdown",
   "metadata": {},
   "source": [
    "Tambien podemos hacer subplots dentro de una misma figura"
   ]
  },
  {
   "cell_type": "code",
   "execution_count": 62,
   "metadata": {},
   "outputs": [
    {
     "data": {
      "image/png": "[encoded data removed]",
      "text/plain": [
       "<Figure size 720x360 with 2 Axes>"
      ]
     },
     "metadata": {
      "needs_background": "light"
     },
     "output_type": "display_data"
    }
   ],
   "source": [
    "fig, axes = plt.subplots(1, 2, figsize=(10, 5), sharey='row') # figura, ejes de los subplots\n",
    "\n",
    "axes[0].plot(range(5,10), label='Pendiente positiva')\n",
    "axes[1].plot(list(range(5,10))[::-1], label='Pendiente negativa')\n",
    "\n",
    "# Respecto a los parametros de cada subplot, las funciones cambian un poco: Por ejemplo,\n",
    "\n",
    "axes[0].set_xlabel('Tiempo', fontsize=15)\n",
    "axes[1].set_xlabel('Fase', fontsize=15)\n",
    "\n",
    "axes[0].set_ylabel('Magnitud')\n",
    "\n",
    "axes[0].grid()\n",
    "axes[1].grid(axis='y')\n",
    "\n",
    "axes[1].set_title('Titulo Grafico 2', fontsize=18)\n",
    "\n",
    "axes[0].legend(fontsize=12)\n",
    "axes[1].legend()\n",
    "\n",
    "fig.tight_layout()"
   ]
  },
  {
   "cell_type": "code",
   "execution_count": 66,
   "metadata": {},
   "outputs": [
    {
     "data": {
      "image/png": "[encoded data removed]",
      "text/plain": [
       "<Figure size 432x288 with 1 Axes>"
      ]
     },
     "metadata": {
      "needs_background": "light"
     },
     "output_type": "display_data"
    }
   ],
   "source": [
    "n = 12\n",
    "X = np.arange(n)\n",
    "Y1 = (1 - X / float(n)) * np.random.uniform(0.5, 1.0, n)\n",
    "Y2 = (1 - X / float(n)) * np.random.uniform(0.5, 1.0, n)\n",
    "\n",
    "plt.bar(X, +Y1, facecolor='#9999ff', edgecolor='white')\n",
    "plt.bar(X, -Y2, facecolor='#ff9999', edgecolor='white')\n",
    "\n",
    "for x, y in zip(X, Y1):\n",
    "#     plt.text(x, y + 0.05, '%.2f' % y, ha='center', va='bottom')\n",
    "    plt.text(x, y + 0.05, '{:.2f}'.format(y) , ha='center', va='bottom')\n",
    "plt.ylim(-1.25, +1.25)\n",
    "plt.show()"
   ]
  },
  {
   "cell_type": "markdown",
   "metadata": {},
   "source": [
    "### Ejemplo con imagenes"
   ]
  },
  {
   "cell_type": "code",
   "execution_count": 68,
   "metadata": {},
   "outputs": [],
   "source": [
    "from PIL import Image # Paquete de python para trabajar con imagenes, \n",
    "                      # por ahora solo lo utilizaremos para mostrar el fractal\n",
    "\n",
    "def newton_fractal(img_size, function=None, cdim=(-1.0, 1.0, -1.0, 1.0), maxIt=20, h = 1e-6, eps=1e-3):\n",
    "    \"\"\" Genera un fractal de Newton\n",
    "    # Fuente: http://code.activestate.com/\n",
    "    \n",
    "    Args:\n",
    "        img_size [2-tuple]: tupla indicando el alto y ancho de la imagen\n",
    "        function [function]: function imaginaria para el fractal\n",
    "        cdim [4-tuple]: tupla indicando el dominio del fractal (x0,x1,y0,y1)\n",
    "        maxIt [entero]: maxima cantidad de iteraciones\n",
    "        h [float]: delta de paso tiempo para la derivada\n",
    "        eps[float]: error maximo\n",
    "    Returns:|\n",
    "        [numpy array] Vector rotado en 'angulo'.\n",
    "\n",
    "    \"\"\"\n",
    "    \n",
    "    imgx, imgy = img_size\n",
    "    image = Image.new(\"RGB\", (imgx, imgy))\n",
    "    # Complex window\n",
    "    xa, xb, ya, yb = cdim\n",
    "    \n",
    "\n",
    "    for y in range(imgy):\n",
    "        zy = y * (yb - ya) / (imgy - 1) + ya\n",
    "        for x in range(imgx):\n",
    "            zx = x * (xb - xa) / (imgx - 1) + xa\n",
    "            z = complex(zx, zy)\n",
    "            for i in range(maxIt):\n",
    "                # Aproximacion de la derivada compleja\n",
    "                dz = (function(z + complex(h, h)) - function(z)) / complex(h, h)\n",
    "                z0 = z - function(z) / dz # Iteraciond de Newton\n",
    "                if abs(z0 - z) < eps: # Detener si se satisface la condicion de maximo error permitido\n",
    "                    break\n",
    "                z = z0\n",
    "                \n",
    "            # Solo para visualizar\n",
    "            r, g, b = i % 4 * 64, i % 8 * 32, i % 16 * 16 # red, green, blue\n",
    "            image.putpixel((x, y), (r,g,b))\n",
    "    return image\n"
   ]
  },
  {
   "cell_type": "code",
   "execution_count": 69,
   "metadata": {},
   "outputs": [],
   "source": [
    "def f(z):\n",
    "    return z**3  - 1.0\n",
    "frac_img = newton_fractal(img_size=(256,256), function=f)"
   ]
  },
  {
   "cell_type": "code",
   "execution_count": 73,
   "metadata": {},
   "outputs": [
    {
     "data": {
      "text/plain": [
       "(256, 256, 3)"
      ]
     },
     "execution_count": 73,
     "metadata": {},
     "output_type": "execute_result"
    }
   ],
   "source": [
    "np.array(frac_img).shape"
   ]
  },
  {
   "cell_type": "code",
   "execution_count": 70,
   "metadata": {},
   "outputs": [
    {
     "data": {
      "text/plain": [
       "Text(0.5, 1.0, 'Fractal de Newton')"
      ]
     },
     "execution_count": 70,
     "metadata": {},
     "output_type": "execute_result"
    },
    {
     "data": {
      "image/png": "[encoded data removed]",
      "text/plain": [
       "<Figure size 300x300 with 1 Axes>"
      ]
     },
     "metadata": {},
     "output_type": "display_data"
    }
   ],
   "source": [
    "plt.figure(figsize=(3,3), dpi=100) # DPI = dots per inch\n",
    "plt.imshow(frac_img) # Visualizar una imagen (numpy array de 2 dimensiones)\n",
    "plt.xticks([]) # quitar valores en los ejes\n",
    "plt.yticks([]) # quitar valores en los ejes\n",
    "plt.title(\"Fractal de Newton\") # Agregar titulo"
   ]
  },
  {
   "cell_type": "markdown",
   "metadata": {},
   "source": [
    "### Opcional "
   ]
  },
  {
   "cell_type": "markdown",
   "metadata": {},
   "source": [
    "Seaborn es un paquete de visualizacion basado en matplotlib de alto nivel el cual ya trae implementado algunos graficos de utilidad."
   ]
  },
  {
   "cell_type": "code",
   "execution_count": 139,
   "metadata": {},
   "outputs": [],
   "source": [
    "import seaborn as sns"
   ]
  },
  {
   "cell_type": "code",
   "execution_count": 193,
   "metadata": {},
   "outputs": [],
   "source": [
    "X = np.random.multivariate_normal([-6, 6], [[1, 0],[0, 1]], 10000)"
   ]
  },
  {
   "cell_type": "code",
   "execution_count": 194,
   "metadata": {},
   "outputs": [
    {
     "data": {
      "text/plain": [
       "<seaborn.axisgrid.JointGrid at 0x7fd089804a00>"
      ]
     },
     "execution_count": 194,
     "metadata": {},
     "output_type": "execute_result"
    },
    {
     "data": {
      "image/png": "[encoded data removed]",
      "text/plain": [
       "<Figure size 432x432 with 3 Axes>"
      ]
     },
     "metadata": {},
     "output_type": "display_data"
    }
   ],
   "source": [
    "sns.jointplot(x=X[:, 0], y=X[:, 1], kind='hist')"
   ]
  },
  {
   "cell_type": "markdown",
   "metadata": {},
   "source": [
    "# Pandas"
   ]
  },
  {
   "cell_type": "code",
   "execution_count": 74,
   "metadata": {},
   "outputs": [],
   "source": [
    "import pandas as pd"
   ]
  },
  {
   "cell_type": "markdown",
   "metadata": {},
   "source": [
    "Por ultimo revisaremos el pquete Pandas el cual nos permitira manipular y analizar datos. Los datos estan ordenados en `Dataframes()` los cuales son tablas (similar a excel). Por ejemplo,"
   ]
  },
  {
   "cell_type": "code",
   "execution_count": null,
   "metadata": {},
   "outputs": [],
   "source": []
  },
  {
   "cell_type": "code",
   "execution_count": 75,
   "metadata": {},
   "outputs": [],
   "source": [
    "df = pd.read_csv('https://raw.githubusercontent.com/MinCiencia/Datos-COVID19/master/output/producto3/CasosTotalesCumulativo.csv')"
   ]
  },
  {
   "cell_type": "code",
   "execution_count": 81,
   "metadata": {},
   "outputs": [
    {
     "data": {
      "text/html": [
       "<div>\n",
       "<style scoped>\n",
       "    .dataframe tbody tr th:only-of-type {\n",
       "        vertical-align: middle;\n",
       "    }\n",
       "\n",
       "    .dataframe tbody tr th {\n",
       "        vertical-align: top;\n",
       "    }\n",
       "\n",
       "    .dataframe thead th {\n",
       "        text-align: right;\n",
       "    }\n",
       "</style>\n",
       "<table border=\"1\" class=\"dataframe\">\n",
       "  <thead>\n",
       "    <tr style=\"text-align: right;\">\n",
       "      <th></th>\n",
       "      <th>Region</th>\n",
       "      <th>2020-03-03</th>\n",
       "      <th>2020-03-04</th>\n",
       "      <th>2020-03-05</th>\n",
       "      <th>2020-03-06</th>\n",
       "      <th>2020-03-07</th>\n",
       "      <th>2020-03-08</th>\n",
       "      <th>2020-03-09</th>\n",
       "      <th>2020-03-10</th>\n",
       "      <th>2020-03-11</th>\n",
       "      <th>...</th>\n",
       "      <th>2020-09-23</th>\n",
       "      <th>2020-09-24</th>\n",
       "      <th>2020-09-25</th>\n",
       "      <th>2020-09-26</th>\n",
       "      <th>2020-09-27</th>\n",
       "      <th>2020-09-28</th>\n",
       "      <th>2020-09-29</th>\n",
       "      <th>2020-09-30</th>\n",
       "      <th>2020-10-01</th>\n",
       "      <th>2020-10-02</th>\n",
       "    </tr>\n",
       "  </thead>\n",
       "  <tbody>\n",
       "    <tr>\n",
       "      <th>0</th>\n",
       "      <td>Arica y Parinacota</td>\n",
       "      <td>0</td>\n",
       "      <td>0</td>\n",
       "      <td>0</td>\n",
       "      <td>0</td>\n",
       "      <td>0</td>\n",
       "      <td>0</td>\n",
       "      <td>0</td>\n",
       "      <td>0</td>\n",
       "      <td>0</td>\n",
       "      <td>...</td>\n",
       "      <td>7704</td>\n",
       "      <td>7748</td>\n",
       "      <td>7818</td>\n",
       "      <td>7873</td>\n",
       "      <td>7955</td>\n",
       "      <td>8024</td>\n",
       "      <td>8081</td>\n",
       "      <td>8146</td>\n",
       "      <td>8207</td>\n",
       "      <td>8286</td>\n",
       "    </tr>\n",
       "    <tr>\n",
       "      <th>1</th>\n",
       "      <td>Tarapacá</td>\n",
       "      <td>0</td>\n",
       "      <td>0</td>\n",
       "      <td>0</td>\n",
       "      <td>0</td>\n",
       "      <td>0</td>\n",
       "      <td>0</td>\n",
       "      <td>0</td>\n",
       "      <td>0</td>\n",
       "      <td>0</td>\n",
       "      <td>...</td>\n",
       "      <td>11512</td>\n",
       "      <td>11531</td>\n",
       "      <td>11572</td>\n",
       "      <td>11616</td>\n",
       "      <td>11672</td>\n",
       "      <td>11707</td>\n",
       "      <td>11748</td>\n",
       "      <td>11792</td>\n",
       "      <td>11842</td>\n",
       "      <td>11878</td>\n",
       "    </tr>\n",
       "    <tr>\n",
       "      <th>2</th>\n",
       "      <td>Antofagasta</td>\n",
       "      <td>0</td>\n",
       "      <td>0</td>\n",
       "      <td>0</td>\n",
       "      <td>0</td>\n",
       "      <td>0</td>\n",
       "      <td>0</td>\n",
       "      <td>0</td>\n",
       "      <td>0</td>\n",
       "      <td>0</td>\n",
       "      <td>...</td>\n",
       "      <td>19549</td>\n",
       "      <td>19616</td>\n",
       "      <td>19683</td>\n",
       "      <td>19751</td>\n",
       "      <td>19833</td>\n",
       "      <td>19880</td>\n",
       "      <td>19908</td>\n",
       "      <td>19963</td>\n",
       "      <td>20000</td>\n",
       "      <td>20065</td>\n",
       "    </tr>\n",
       "    <tr>\n",
       "      <th>3</th>\n",
       "      <td>Atacama</td>\n",
       "      <td>0</td>\n",
       "      <td>0</td>\n",
       "      <td>0</td>\n",
       "      <td>0</td>\n",
       "      <td>0</td>\n",
       "      <td>0</td>\n",
       "      <td>0</td>\n",
       "      <td>0</td>\n",
       "      <td>0</td>\n",
       "      <td>...</td>\n",
       "      <td>6721</td>\n",
       "      <td>6744</td>\n",
       "      <td>6788</td>\n",
       "      <td>6828</td>\n",
       "      <td>6882</td>\n",
       "      <td>6951</td>\n",
       "      <td>6990</td>\n",
       "      <td>7029</td>\n",
       "      <td>7066</td>\n",
       "      <td>7098</td>\n",
       "    </tr>\n",
       "    <tr>\n",
       "      <th>4</th>\n",
       "      <td>Coquimbo</td>\n",
       "      <td>0</td>\n",
       "      <td>0</td>\n",
       "      <td>0</td>\n",
       "      <td>0</td>\n",
       "      <td>0</td>\n",
       "      <td>0</td>\n",
       "      <td>0</td>\n",
       "      <td>0</td>\n",
       "      <td>0</td>\n",
       "      <td>...</td>\n",
       "      <td>11600</td>\n",
       "      <td>11640</td>\n",
       "      <td>11693</td>\n",
       "      <td>11746</td>\n",
       "      <td>11823</td>\n",
       "      <td>11875</td>\n",
       "      <td>11915</td>\n",
       "      <td>11962</td>\n",
       "      <td>11995</td>\n",
       "      <td>12040</td>\n",
       "    </tr>\n",
       "  </tbody>\n",
       "</table>\n",
       "<p>5 rows × 215 columns</p>\n",
       "</div>"
      ],
      "text/plain": [
       "               Region  2020-03-03  2020-03-04  2020-03-05  2020-03-06  \\\n",
       "0  Arica y Parinacota           0           0           0           0   \n",
       "1            Tarapacá           0           0           0           0   \n",
       "2         Antofagasta           0           0           0           0   \n",
       "3             Atacama           0           0           0           0   \n",
       "4            Coquimbo           0           0           0           0   \n",
       "\n",
       "   2020-03-07  2020-03-08  2020-03-09  2020-03-10  2020-03-11  ...  \\\n",
       "0           0           0           0           0           0  ...   \n",
       "1           0           0           0           0           0  ...   \n",
       "2           0           0           0           0           0  ...   \n",
       "3           0           0           0           0           0  ...   \n",
       "4           0           0           0           0           0  ...   \n",
       "\n",
       "   2020-09-23  2020-09-24  2020-09-25  2020-09-26  2020-09-27  2020-09-28  \\\n",
       "0        7704        7748        7818        7873        7955        8024   \n",
       "1       11512       11531       11572       11616       11672       11707   \n",
       "2       19549       19616       19683       19751       19833       19880   \n",
       "3        6721        6744        6788        6828        6882        6951   \n",
       "4       11600       11640       11693       11746       11823       11875   \n",
       "\n",
       "   2020-09-29  2020-09-30  2020-10-01  2020-10-02  \n",
       "0        8081        8146        8207        8286  \n",
       "1       11748       11792       11842       11878  \n",
       "2       19908       19963       20000       20065  \n",
       "3        6990        7029        7066        7098  \n",
       "4       11915       11962       11995       12040  \n",
       "\n",
       "[5 rows x 215 columns]"
      ]
     },
     "execution_count": 81,
     "metadata": {},
     "output_type": "execute_result"
    }
   ],
   "source": [
    "df.head() # head / tail"
   ]
  },
  {
   "cell_type": "markdown",
   "metadata": {},
   "source": [
    "### Algunas operaciones basicas"
   ]
  },
  {
   "cell_type": "code",
   "execution_count": 82,
   "metadata": {},
   "outputs": [
    {
     "data": {
      "text/html": [
       "<div>\n",
       "<style scoped>\n",
       "    .dataframe tbody tr th:only-of-type {\n",
       "        vertical-align: middle;\n",
       "    }\n",
       "\n",
       "    .dataframe tbody tr th {\n",
       "        vertical-align: top;\n",
       "    }\n",
       "\n",
       "    .dataframe thead th {\n",
       "        text-align: right;\n",
       "    }\n",
       "</style>\n",
       "<table border=\"1\" class=\"dataframe\">\n",
       "  <thead>\n",
       "    <tr style=\"text-align: right;\">\n",
       "      <th></th>\n",
       "      <th>0</th>\n",
       "      <th>1</th>\n",
       "      <th>2</th>\n",
       "      <th>3</th>\n",
       "      <th>4</th>\n",
       "      <th>5</th>\n",
       "      <th>6</th>\n",
       "      <th>7</th>\n",
       "      <th>8</th>\n",
       "      <th>9</th>\n",
       "      <th>10</th>\n",
       "      <th>11</th>\n",
       "      <th>12</th>\n",
       "      <th>13</th>\n",
       "      <th>14</th>\n",
       "      <th>15</th>\n",
       "      <th>16</th>\n",
       "    </tr>\n",
       "  </thead>\n",
       "  <tbody>\n",
       "    <tr>\n",
       "      <th>Region</th>\n",
       "      <td>Arica y Parinacota</td>\n",
       "      <td>Tarapacá</td>\n",
       "      <td>Antofagasta</td>\n",
       "      <td>Atacama</td>\n",
       "      <td>Coquimbo</td>\n",
       "      <td>Valparaíso</td>\n",
       "      <td>Metropolitana</td>\n",
       "      <td>O’Higgins</td>\n",
       "      <td>Maule</td>\n",
       "      <td>Ñuble</td>\n",
       "      <td>Biobío</td>\n",
       "      <td>Araucanía</td>\n",
       "      <td>Los Ríos</td>\n",
       "      <td>Los Lagos</td>\n",
       "      <td>Aysén</td>\n",
       "      <td>Magallanes</td>\n",
       "      <td>Total</td>\n",
       "    </tr>\n",
       "    <tr>\n",
       "      <th>2020-03-03</th>\n",
       "      <td>0</td>\n",
       "      <td>0</td>\n",
       "      <td>0</td>\n",
       "      <td>0</td>\n",
       "      <td>0</td>\n",
       "      <td>0</td>\n",
       "      <td>0</td>\n",
       "      <td>0</td>\n",
       "      <td>1</td>\n",
       "      <td>0</td>\n",
       "      <td>0</td>\n",
       "      <td>0</td>\n",
       "      <td>0</td>\n",
       "      <td>0</td>\n",
       "      <td>0</td>\n",
       "      <td>0</td>\n",
       "      <td>1</td>\n",
       "    </tr>\n",
       "    <tr>\n",
       "      <th>2020-03-04</th>\n",
       "      <td>0</td>\n",
       "      <td>0</td>\n",
       "      <td>0</td>\n",
       "      <td>0</td>\n",
       "      <td>0</td>\n",
       "      <td>0</td>\n",
       "      <td>1</td>\n",
       "      <td>0</td>\n",
       "      <td>2</td>\n",
       "      <td>0</td>\n",
       "      <td>0</td>\n",
       "      <td>0</td>\n",
       "      <td>0</td>\n",
       "      <td>0</td>\n",
       "      <td>0</td>\n",
       "      <td>0</td>\n",
       "      <td>3</td>\n",
       "    </tr>\n",
       "    <tr>\n",
       "      <th>2020-03-05</th>\n",
       "      <td>0</td>\n",
       "      <td>0</td>\n",
       "      <td>0</td>\n",
       "      <td>0</td>\n",
       "      <td>0</td>\n",
       "      <td>0</td>\n",
       "      <td>2</td>\n",
       "      <td>0</td>\n",
       "      <td>2</td>\n",
       "      <td>0</td>\n",
       "      <td>0</td>\n",
       "      <td>0</td>\n",
       "      <td>0</td>\n",
       "      <td>0</td>\n",
       "      <td>0</td>\n",
       "      <td>0</td>\n",
       "      <td>4</td>\n",
       "    </tr>\n",
       "    <tr>\n",
       "      <th>2020-03-06</th>\n",
       "      <td>0</td>\n",
       "      <td>0</td>\n",
       "      <td>0</td>\n",
       "      <td>0</td>\n",
       "      <td>0</td>\n",
       "      <td>0</td>\n",
       "      <td>3</td>\n",
       "      <td>0</td>\n",
       "      <td>2</td>\n",
       "      <td>0</td>\n",
       "      <td>0</td>\n",
       "      <td>0</td>\n",
       "      <td>0</td>\n",
       "      <td>0</td>\n",
       "      <td>0</td>\n",
       "      <td>0</td>\n",
       "      <td>5</td>\n",
       "    </tr>\n",
       "  </tbody>\n",
       "</table>\n",
       "</div>"
      ],
      "text/plain": [
       "                            0         1            2        3         4   \\\n",
       "Region      Arica y Parinacota  Tarapacá  Antofagasta  Atacama  Coquimbo   \n",
       "2020-03-03                   0         0            0        0         0   \n",
       "2020-03-04                   0         0            0        0         0   \n",
       "2020-03-05                   0         0            0        0         0   \n",
       "2020-03-06                   0         0            0        0         0   \n",
       "\n",
       "                    5              6          7      8      9       10  \\\n",
       "Region      Valparaíso  Metropolitana  O’Higgins  Maule  Ñuble  Biobío   \n",
       "2020-03-03           0              0          0      1      0       0   \n",
       "2020-03-04           0              1          0      2      0       0   \n",
       "2020-03-05           0              2          0      2      0       0   \n",
       "2020-03-06           0              3          0      2      0       0   \n",
       "\n",
       "                   11        12         13     14          15     16  \n",
       "Region      Araucanía  Los Ríos  Los Lagos  Aysén  Magallanes  Total  \n",
       "2020-03-03          0         0          0      0           0      1  \n",
       "2020-03-04          0         0          0      0           0      3  \n",
       "2020-03-05          0         0          0      0           0      4  \n",
       "2020-03-06          0         0          0      0           0      5  "
      ]
     },
     "execution_count": 82,
     "metadata": {},
     "output_type": "execute_result"
    }
   ],
   "source": [
    "# Cambiando el orden de la tabla\n",
    "new_df = df.transpose()\n",
    "new_df.head()"
   ]
  },
  {
   "cell_type": "code",
   "execution_count": 83,
   "metadata": {},
   "outputs": [
    {
     "data": {
      "text/html": [
       "<div>\n",
       "<style scoped>\n",
       "    .dataframe tbody tr th:only-of-type {\n",
       "        vertical-align: middle;\n",
       "    }\n",
       "\n",
       "    .dataframe tbody tr th {\n",
       "        vertical-align: top;\n",
       "    }\n",
       "\n",
       "    .dataframe thead th {\n",
       "        text-align: right;\n",
       "    }\n",
       "</style>\n",
       "<table border=\"1\" class=\"dataframe\">\n",
       "  <thead>\n",
       "    <tr style=\"text-align: right;\">\n",
       "      <th></th>\n",
       "      <th>Arica y Parinacota</th>\n",
       "      <th>Tarapacá</th>\n",
       "      <th>Antofagasta</th>\n",
       "      <th>Atacama</th>\n",
       "      <th>Coquimbo</th>\n",
       "      <th>Valparaíso</th>\n",
       "      <th>Metropolitana</th>\n",
       "      <th>O’Higgins</th>\n",
       "      <th>Maule</th>\n",
       "      <th>Ñuble</th>\n",
       "      <th>Biobío</th>\n",
       "      <th>Araucanía</th>\n",
       "      <th>Los Ríos</th>\n",
       "      <th>Los Lagos</th>\n",
       "      <th>Aysén</th>\n",
       "      <th>Magallanes</th>\n",
       "      <th>Total</th>\n",
       "    </tr>\n",
       "  </thead>\n",
       "  <tbody>\n",
       "    <tr>\n",
       "      <th>2020-03-03</th>\n",
       "      <td>0</td>\n",
       "      <td>0</td>\n",
       "      <td>0</td>\n",
       "      <td>0</td>\n",
       "      <td>0</td>\n",
       "      <td>0</td>\n",
       "      <td>0</td>\n",
       "      <td>0</td>\n",
       "      <td>1</td>\n",
       "      <td>0</td>\n",
       "      <td>0</td>\n",
       "      <td>0</td>\n",
       "      <td>0</td>\n",
       "      <td>0</td>\n",
       "      <td>0</td>\n",
       "      <td>0</td>\n",
       "      <td>1</td>\n",
       "    </tr>\n",
       "    <tr>\n",
       "      <th>2020-03-04</th>\n",
       "      <td>0</td>\n",
       "      <td>0</td>\n",
       "      <td>0</td>\n",
       "      <td>0</td>\n",
       "      <td>0</td>\n",
       "      <td>0</td>\n",
       "      <td>1</td>\n",
       "      <td>0</td>\n",
       "      <td>2</td>\n",
       "      <td>0</td>\n",
       "      <td>0</td>\n",
       "      <td>0</td>\n",
       "      <td>0</td>\n",
       "      <td>0</td>\n",
       "      <td>0</td>\n",
       "      <td>0</td>\n",
       "      <td>3</td>\n",
       "    </tr>\n",
       "    <tr>\n",
       "      <th>2020-03-05</th>\n",
       "      <td>0</td>\n",
       "      <td>0</td>\n",
       "      <td>0</td>\n",
       "      <td>0</td>\n",
       "      <td>0</td>\n",
       "      <td>0</td>\n",
       "      <td>2</td>\n",
       "      <td>0</td>\n",
       "      <td>2</td>\n",
       "      <td>0</td>\n",
       "      <td>0</td>\n",
       "      <td>0</td>\n",
       "      <td>0</td>\n",
       "      <td>0</td>\n",
       "      <td>0</td>\n",
       "      <td>0</td>\n",
       "      <td>4</td>\n",
       "    </tr>\n",
       "    <tr>\n",
       "      <th>2020-03-06</th>\n",
       "      <td>0</td>\n",
       "      <td>0</td>\n",
       "      <td>0</td>\n",
       "      <td>0</td>\n",
       "      <td>0</td>\n",
       "      <td>0</td>\n",
       "      <td>3</td>\n",
       "      <td>0</td>\n",
       "      <td>2</td>\n",
       "      <td>0</td>\n",
       "      <td>0</td>\n",
       "      <td>0</td>\n",
       "      <td>0</td>\n",
       "      <td>0</td>\n",
       "      <td>0</td>\n",
       "      <td>0</td>\n",
       "      <td>5</td>\n",
       "    </tr>\n",
       "    <tr>\n",
       "      <th>2020-03-07</th>\n",
       "      <td>0</td>\n",
       "      <td>0</td>\n",
       "      <td>0</td>\n",
       "      <td>0</td>\n",
       "      <td>0</td>\n",
       "      <td>0</td>\n",
       "      <td>4</td>\n",
       "      <td>0</td>\n",
       "      <td>2</td>\n",
       "      <td>0</td>\n",
       "      <td>0</td>\n",
       "      <td>0</td>\n",
       "      <td>0</td>\n",
       "      <td>1</td>\n",
       "      <td>0</td>\n",
       "      <td>0</td>\n",
       "      <td>7</td>\n",
       "    </tr>\n",
       "  </tbody>\n",
       "</table>\n",
       "</div>"
      ],
      "text/plain": [
       "           Arica y Parinacota Tarapacá Antofagasta Atacama Coquimbo  \\\n",
       "2020-03-03                  0        0           0       0        0   \n",
       "2020-03-04                  0        0           0       0        0   \n",
       "2020-03-05                  0        0           0       0        0   \n",
       "2020-03-06                  0        0           0       0        0   \n",
       "2020-03-07                  0        0           0       0        0   \n",
       "\n",
       "           Valparaíso Metropolitana O’Higgins Maule Ñuble Biobío Araucanía  \\\n",
       "2020-03-03          0             0         0     1     0      0         0   \n",
       "2020-03-04          0             1         0     2     0      0         0   \n",
       "2020-03-05          0             2         0     2     0      0         0   \n",
       "2020-03-06          0             3         0     2     0      0         0   \n",
       "2020-03-07          0             4         0     2     0      0         0   \n",
       "\n",
       "           Los Ríos Los Lagos Aysén Magallanes Total  \n",
       "2020-03-03        0         0     0          0     1  \n",
       "2020-03-04        0         0     0          0     3  \n",
       "2020-03-05        0         0     0          0     4  \n",
       "2020-03-06        0         0     0          0     5  \n",
       "2020-03-07        0         1     0          0     7  "
      ]
     },
     "execution_count": 83,
     "metadata": {},
     "output_type": "execute_result"
    }
   ],
   "source": [
    "new_df.columns = new_df.iloc[0, :].values # Las columnas seran la primera fila\n",
    "new_df = new_df.iloc[1:, :] # Eliminamos la primera fila\n",
    "new_df.head()"
   ]
  },
  {
   "cell_type": "markdown",
   "metadata": {},
   "source": [
    "Incluso podemos graficar desde un mismo Dataframe"
   ]
  },
  {
   "cell_type": "code",
   "execution_count": 321,
   "metadata": {},
   "outputs": [
    {
     "name": "stderr",
     "output_type": "stream",
     "text": [
      "/home/amaru/.conda/envs/tf2/lib/python3.8/site-packages/pandas/plotting/_matplotlib/core.py:1235: UserWarning: FixedFormatter should only be used together with FixedLocator\n",
      "  ax.set_xticklabels(xticklabels)\n",
      "/home/amaru/.conda/envs/tf2/lib/python3.8/site-packages/pandas/plotting/_matplotlib/core.py:1235: UserWarning: FixedFormatter should only be used together with FixedLocator\n",
      "  ax.set_xticklabels(xticklabels)\n"
     ]
    },
    {
     "data": {
      "image/png": "[encoded data removed]",
      "text/plain": [
       "<Figure size 1080x360 with 2 Axes>"
      ]
     },
     "metadata": {},
     "output_type": "display_data"
    }
   ],
   "source": [
    "fig, axes = plt.subplots(1,2, figsize=(15,5), sharey=True)\n",
    "ax_0 = new_df['Biobío'].plot(ax=axes[0])\n",
    "ax_1 = new_df['Ñuble'].plot(ax=axes[1])\n",
    "ax_0.set_xlabel('Fecha')\n",
    "ax_0.set_ylabel('Casos totales')\n",
    "\n",
    "ax_0.tick_params(labelrotation=45)\n",
    "ax_1.tick_params(labelrotation=45)\n",
    "\n",
    "ax_0.set_title('Total contagiados en Biobío')\n",
    "ax_1.set_title('Total contagiados en Ñuble')\n",
    "\n",
    "fig.tight_layout()"
   ]
  },
  {
   "cell_type": "code",
   "execution_count": 323,
   "metadata": {},
   "outputs": [],
   "source": [
    "url2 = 'https://raw.githubusercontent.com/MinCiencia/Datos-COVID19/master/output/producto16/CasosGeneroEtario.csv'\n",
    "casos_genero = pd.read_csv(url2)"
   ]
  },
  {
   "cell_type": "code",
   "execution_count": 413,
   "metadata": {},
   "outputs": [
    {
     "data": {
      "text/html": [
       "<div>\n",
       "<style scoped>\n",
       "    .dataframe tbody tr th:only-of-type {\n",
       "        vertical-align: middle;\n",
       "    }\n",
       "\n",
       "    .dataframe tbody tr th {\n",
       "        vertical-align: top;\n",
       "    }\n",
       "\n",
       "    .dataframe thead th {\n",
       "        text-align: right;\n",
       "    }\n",
       "</style>\n",
       "<table border=\"1\" class=\"dataframe\">\n",
       "  <thead>\n",
       "    <tr style=\"text-align: right;\">\n",
       "      <th></th>\n",
       "      <th>Grupo de edad</th>\n",
       "      <th>Sexo</th>\n",
       "      <th>2020-03-25</th>\n",
       "      <th>2020-03-26</th>\n",
       "      <th>2020-03-27</th>\n",
       "      <th>2020-03-28</th>\n",
       "      <th>2020-03-29</th>\n",
       "      <th>2020-03-30</th>\n",
       "      <th>2020-03-31</th>\n",
       "      <th>2020-04-01</th>\n",
       "      <th>...</th>\n",
       "      <th>2020-08-21</th>\n",
       "      <th>2020-08-24</th>\n",
       "      <th>2020-08-28</th>\n",
       "      <th>2020-08-31</th>\n",
       "      <th>2020-09-04</th>\n",
       "      <th>2020-09-07</th>\n",
       "      <th>2020-09-11</th>\n",
       "      <th>2020-09-14</th>\n",
       "      <th>2020-09-18</th>\n",
       "      <th>2020-09-21</th>\n",
       "    </tr>\n",
       "  </thead>\n",
       "  <tbody>\n",
       "    <tr>\n",
       "      <th>0</th>\n",
       "      <td>00 - 04 años</td>\n",
       "      <td>M</td>\n",
       "      <td>4</td>\n",
       "      <td>5</td>\n",
       "      <td>5</td>\n",
       "      <td>5</td>\n",
       "      <td>5</td>\n",
       "      <td>5</td>\n",
       "      <td>6</td>\n",
       "      <td>7</td>\n",
       "      <td>...</td>\n",
       "      <td>4244</td>\n",
       "      <td>4337</td>\n",
       "      <td>4461</td>\n",
       "      <td>4567</td>\n",
       "      <td>4704</td>\n",
       "      <td>4784</td>\n",
       "      <td>4915</td>\n",
       "      <td>5001</td>\n",
       "      <td>5120</td>\n",
       "      <td>5193</td>\n",
       "    </tr>\n",
       "    <tr>\n",
       "      <th>1</th>\n",
       "      <td>05 - 09 años</td>\n",
       "      <td>M</td>\n",
       "      <td>2</td>\n",
       "      <td>2</td>\n",
       "      <td>2</td>\n",
       "      <td>4</td>\n",
       "      <td>4</td>\n",
       "      <td>4</td>\n",
       "      <td>4</td>\n",
       "      <td>7</td>\n",
       "      <td>...</td>\n",
       "      <td>3495</td>\n",
       "      <td>3582</td>\n",
       "      <td>3705</td>\n",
       "      <td>3790</td>\n",
       "      <td>3899</td>\n",
       "      <td>3993</td>\n",
       "      <td>4122</td>\n",
       "      <td>4226</td>\n",
       "      <td>4341</td>\n",
       "      <td>4403</td>\n",
       "    </tr>\n",
       "    <tr>\n",
       "      <th>2</th>\n",
       "      <td>10 - 14 años</td>\n",
       "      <td>M</td>\n",
       "      <td>7</td>\n",
       "      <td>8</td>\n",
       "      <td>8</td>\n",
       "      <td>10</td>\n",
       "      <td>10</td>\n",
       "      <td>10</td>\n",
       "      <td>10</td>\n",
       "      <td>12</td>\n",
       "      <td>...</td>\n",
       "      <td>3998</td>\n",
       "      <td>4089</td>\n",
       "      <td>4215</td>\n",
       "      <td>4317</td>\n",
       "      <td>4430</td>\n",
       "      <td>4524</td>\n",
       "      <td>4646</td>\n",
       "      <td>4775</td>\n",
       "      <td>4922</td>\n",
       "      <td>5023</td>\n",
       "    </tr>\n",
       "    <tr>\n",
       "      <th>3</th>\n",
       "      <td>15 - 19 años</td>\n",
       "      <td>M</td>\n",
       "      <td>8</td>\n",
       "      <td>9</td>\n",
       "      <td>13</td>\n",
       "      <td>16</td>\n",
       "      <td>17</td>\n",
       "      <td>18</td>\n",
       "      <td>22</td>\n",
       "      <td>26</td>\n",
       "      <td>...</td>\n",
       "      <td>6706</td>\n",
       "      <td>6879</td>\n",
       "      <td>7046</td>\n",
       "      <td>7188</td>\n",
       "      <td>7363</td>\n",
       "      <td>7557</td>\n",
       "      <td>7743</td>\n",
       "      <td>7899</td>\n",
       "      <td>8066</td>\n",
       "      <td>8186</td>\n",
       "    </tr>\n",
       "    <tr>\n",
       "      <th>4</th>\n",
       "      <td>20 - 24 años</td>\n",
       "      <td>M</td>\n",
       "      <td>25</td>\n",
       "      <td>32</td>\n",
       "      <td>35</td>\n",
       "      <td>46</td>\n",
       "      <td>52</td>\n",
       "      <td>58</td>\n",
       "      <td>64</td>\n",
       "      <td>72</td>\n",
       "      <td>...</td>\n",
       "      <td>16966</td>\n",
       "      <td>17222</td>\n",
       "      <td>17551</td>\n",
       "      <td>17841</td>\n",
       "      <td>18194</td>\n",
       "      <td>18486</td>\n",
       "      <td>18819</td>\n",
       "      <td>19146</td>\n",
       "      <td>19474</td>\n",
       "      <td>19664</td>\n",
       "    </tr>\n",
       "  </tbody>\n",
       "</table>\n",
       "<p>5 rows × 79 columns</p>\n",
       "</div>"
      ],
      "text/plain": [
       "  Grupo de edad Sexo  2020-03-25  2020-03-26  2020-03-27  2020-03-28  \\\n",
       "0  00 - 04 años    M           4           5           5           5   \n",
       "1  05 - 09 años    M           2           2           2           4   \n",
       "2  10 - 14 años    M           7           8           8          10   \n",
       "3  15 - 19 años    M           8           9          13          16   \n",
       "4  20 - 24 años    M          25          32          35          46   \n",
       "\n",
       "   2020-03-29  2020-03-30  2020-03-31  2020-04-01  ...  2020-08-21  \\\n",
       "0           5           5           6           7  ...        4244   \n",
       "1           4           4           4           7  ...        3495   \n",
       "2          10          10          10          12  ...        3998   \n",
       "3          17          18          22          26  ...        6706   \n",
       "4          52          58          64          72  ...       16966   \n",
       "\n",
       "   2020-08-24  2020-08-28  2020-08-31  2020-09-04  2020-09-07  2020-09-11  \\\n",
       "0        4337        4461        4567        4704        4784        4915   \n",
       "1        3582        3705        3790        3899        3993        4122   \n",
       "2        4089        4215        4317        4430        4524        4646   \n",
       "3        6879        7046        7188        7363        7557        7743   \n",
       "4       17222       17551       17841       18194       18486       18819   \n",
       "\n",
       "   2020-09-14  2020-09-18  2020-09-21  \n",
       "0        5001        5120        5193  \n",
       "1        4226        4341        4403  \n",
       "2        4775        4922        5023  \n",
       "3        7899        8066        8186  \n",
       "4       19146       19474       19664  \n",
       "\n",
       "[5 rows x 79 columns]"
      ]
     },
     "execution_count": 413,
     "metadata": {},
     "output_type": "execute_result"
    }
   ],
   "source": [
    "casos_genero.head()"
   ]
  },
  {
   "cell_type": "markdown",
   "metadata": {},
   "source": [
    "En este caso el formato de la columna `Grupos de edad` no nos permite realizar operaciones de manera directa. Para solucionar esto, podemos crear otra columna que se forme a partir de esa, por ej:"
   ]
  },
  {
   "cell_type": "code",
   "execution_count": 415,
   "metadata": {},
   "outputs": [],
   "source": [
    "import re # libreria para expresiones regulares"
   ]
  },
  {
   "cell_type": "markdown",
   "metadata": {},
   "source": [
    "Puedes encontrar mas informaciond del paquete Regex [aqui](https://docs.python.org/3/library/re.html)"
   ]
  },
  {
   "cell_type": "code",
   "execution_count": 416,
   "metadata": {},
   "outputs": [
    {
     "data": {
      "text/plain": [
       "'00'"
      ]
     },
     "execution_count": 416,
     "metadata": {},
     "output_type": "execute_result"
    }
   ],
   "source": [
    "string_de_prueba = '00 - 04 años'\n",
    "re.findall(r'\\d+', string_de_prueba)[0] # Tambien podemos ocupar re.search() para encontrar el primer match"
   ]
  },
  {
   "cell_type": "code",
   "execution_count": 417,
   "metadata": {},
   "outputs": [],
   "source": [
    "fn = lambda row: float(re.findall(r'\\d+', row['Grupo de edad'])[0]) # Funcion estilo python\n",
    "casos_genero['min_edad'] = casos_genero.apply(fn, axis=1) # get column data with an index"
   ]
  },
  {
   "cell_type": "code",
   "execution_count": 418,
   "metadata": {},
   "outputs": [
    {
     "data": {
      "text/html": [
       "<div>\n",
       "<style scoped>\n",
       "    .dataframe tbody tr th:only-of-type {\n",
       "        vertical-align: middle;\n",
       "    }\n",
       "\n",
       "    .dataframe tbody tr th {\n",
       "        vertical-align: top;\n",
       "    }\n",
       "\n",
       "    .dataframe thead th {\n",
       "        text-align: right;\n",
       "    }\n",
       "</style>\n",
       "<table border=\"1\" class=\"dataframe\">\n",
       "  <thead>\n",
       "    <tr style=\"text-align: right;\">\n",
       "      <th></th>\n",
       "      <th>Grupo de edad</th>\n",
       "      <th>Sexo</th>\n",
       "      <th>2020-03-25</th>\n",
       "      <th>2020-03-26</th>\n",
       "      <th>2020-03-27</th>\n",
       "      <th>2020-03-28</th>\n",
       "      <th>2020-03-29</th>\n",
       "      <th>2020-03-30</th>\n",
       "      <th>2020-03-31</th>\n",
       "      <th>2020-04-01</th>\n",
       "      <th>...</th>\n",
       "      <th>2020-08-24</th>\n",
       "      <th>2020-08-28</th>\n",
       "      <th>2020-08-31</th>\n",
       "      <th>2020-09-04</th>\n",
       "      <th>2020-09-07</th>\n",
       "      <th>2020-09-11</th>\n",
       "      <th>2020-09-14</th>\n",
       "      <th>2020-09-18</th>\n",
       "      <th>2020-09-21</th>\n",
       "      <th>min_edad</th>\n",
       "    </tr>\n",
       "  </thead>\n",
       "  <tbody>\n",
       "    <tr>\n",
       "      <th>0</th>\n",
       "      <td>00 - 04 años</td>\n",
       "      <td>M</td>\n",
       "      <td>4</td>\n",
       "      <td>5</td>\n",
       "      <td>5</td>\n",
       "      <td>5</td>\n",
       "      <td>5</td>\n",
       "      <td>5</td>\n",
       "      <td>6</td>\n",
       "      <td>7</td>\n",
       "      <td>...</td>\n",
       "      <td>4337</td>\n",
       "      <td>4461</td>\n",
       "      <td>4567</td>\n",
       "      <td>4704</td>\n",
       "      <td>4784</td>\n",
       "      <td>4915</td>\n",
       "      <td>5001</td>\n",
       "      <td>5120</td>\n",
       "      <td>5193</td>\n",
       "      <td>0.0</td>\n",
       "    </tr>\n",
       "    <tr>\n",
       "      <th>1</th>\n",
       "      <td>05 - 09 años</td>\n",
       "      <td>M</td>\n",
       "      <td>2</td>\n",
       "      <td>2</td>\n",
       "      <td>2</td>\n",
       "      <td>4</td>\n",
       "      <td>4</td>\n",
       "      <td>4</td>\n",
       "      <td>4</td>\n",
       "      <td>7</td>\n",
       "      <td>...</td>\n",
       "      <td>3582</td>\n",
       "      <td>3705</td>\n",
       "      <td>3790</td>\n",
       "      <td>3899</td>\n",
       "      <td>3993</td>\n",
       "      <td>4122</td>\n",
       "      <td>4226</td>\n",
       "      <td>4341</td>\n",
       "      <td>4403</td>\n",
       "      <td>5.0</td>\n",
       "    </tr>\n",
       "    <tr>\n",
       "      <th>2</th>\n",
       "      <td>10 - 14 años</td>\n",
       "      <td>M</td>\n",
       "      <td>7</td>\n",
       "      <td>8</td>\n",
       "      <td>8</td>\n",
       "      <td>10</td>\n",
       "      <td>10</td>\n",
       "      <td>10</td>\n",
       "      <td>10</td>\n",
       "      <td>12</td>\n",
       "      <td>...</td>\n",
       "      <td>4089</td>\n",
       "      <td>4215</td>\n",
       "      <td>4317</td>\n",
       "      <td>4430</td>\n",
       "      <td>4524</td>\n",
       "      <td>4646</td>\n",
       "      <td>4775</td>\n",
       "      <td>4922</td>\n",
       "      <td>5023</td>\n",
       "      <td>10.0</td>\n",
       "    </tr>\n",
       "    <tr>\n",
       "      <th>3</th>\n",
       "      <td>15 - 19 años</td>\n",
       "      <td>M</td>\n",
       "      <td>8</td>\n",
       "      <td>9</td>\n",
       "      <td>13</td>\n",
       "      <td>16</td>\n",
       "      <td>17</td>\n",
       "      <td>18</td>\n",
       "      <td>22</td>\n",
       "      <td>26</td>\n",
       "      <td>...</td>\n",
       "      <td>6879</td>\n",
       "      <td>7046</td>\n",
       "      <td>7188</td>\n",
       "      <td>7363</td>\n",
       "      <td>7557</td>\n",
       "      <td>7743</td>\n",
       "      <td>7899</td>\n",
       "      <td>8066</td>\n",
       "      <td>8186</td>\n",
       "      <td>15.0</td>\n",
       "    </tr>\n",
       "    <tr>\n",
       "      <th>4</th>\n",
       "      <td>20 - 24 años</td>\n",
       "      <td>M</td>\n",
       "      <td>25</td>\n",
       "      <td>32</td>\n",
       "      <td>35</td>\n",
       "      <td>46</td>\n",
       "      <td>52</td>\n",
       "      <td>58</td>\n",
       "      <td>64</td>\n",
       "      <td>72</td>\n",
       "      <td>...</td>\n",
       "      <td>17222</td>\n",
       "      <td>17551</td>\n",
       "      <td>17841</td>\n",
       "      <td>18194</td>\n",
       "      <td>18486</td>\n",
       "      <td>18819</td>\n",
       "      <td>19146</td>\n",
       "      <td>19474</td>\n",
       "      <td>19664</td>\n",
       "      <td>20.0</td>\n",
       "    </tr>\n",
       "  </tbody>\n",
       "</table>\n",
       "<p>5 rows × 80 columns</p>\n",
       "</div>"
      ],
      "text/plain": [
       "  Grupo de edad Sexo  2020-03-25  2020-03-26  2020-03-27  2020-03-28  \\\n",
       "0  00 - 04 años    M           4           5           5           5   \n",
       "1  05 - 09 años    M           2           2           2           4   \n",
       "2  10 - 14 años    M           7           8           8          10   \n",
       "3  15 - 19 años    M           8           9          13          16   \n",
       "4  20 - 24 años    M          25          32          35          46   \n",
       "\n",
       "   2020-03-29  2020-03-30  2020-03-31  2020-04-01  ...  2020-08-24  \\\n",
       "0           5           5           6           7  ...        4337   \n",
       "1           4           4           4           7  ...        3582   \n",
       "2          10          10          10          12  ...        4089   \n",
       "3          17          18          22          26  ...        6879   \n",
       "4          52          58          64          72  ...       17222   \n",
       "\n",
       "   2020-08-28  2020-08-31  2020-09-04  2020-09-07  2020-09-11  2020-09-14  \\\n",
       "0        4461        4567        4704        4784        4915        5001   \n",
       "1        3705        3790        3899        3993        4122        4226   \n",
       "2        4215        4317        4430        4524        4646        4775   \n",
       "3        7046        7188        7363        7557        7743        7899   \n",
       "4       17551       17841       18194       18486       18819       19146   \n",
       "\n",
       "   2020-09-18  2020-09-21  min_edad  \n",
       "0        5120        5193       0.0  \n",
       "1        4341        4403       5.0  \n",
       "2        4922        5023      10.0  \n",
       "3        8066        8186      15.0  \n",
       "4       19474       19664      20.0  \n",
       "\n",
       "[5 rows x 80 columns]"
      ]
     },
     "execution_count": 418,
     "metadata": {},
     "output_type": "execute_result"
    }
   ],
   "source": [
    "casos_genero.head()"
   ]
  },
  {
   "cell_type": "markdown",
   "metadata": {},
   "source": [
    "**Adultos mayores por sexo**"
   ]
  },
  {
   "cell_type": "code",
   "execution_count": 420,
   "metadata": {},
   "outputs": [
    {
     "data": {
      "text/html": [
       "<div>\n",
       "<style scoped>\n",
       "    .dataframe tbody tr th:only-of-type {\n",
       "        vertical-align: middle;\n",
       "    }\n",
       "\n",
       "    .dataframe tbody tr th {\n",
       "        vertical-align: top;\n",
       "    }\n",
       "\n",
       "    .dataframe thead th {\n",
       "        text-align: right;\n",
       "    }\n",
       "</style>\n",
       "<table border=\"1\" class=\"dataframe\">\n",
       "  <thead>\n",
       "    <tr style=\"text-align: right;\">\n",
       "      <th></th>\n",
       "      <th>Grupo de edad</th>\n",
       "      <th>Sexo</th>\n",
       "      <th>2020-03-25</th>\n",
       "      <th>2020-03-26</th>\n",
       "      <th>2020-03-27</th>\n",
       "      <th>2020-03-28</th>\n",
       "      <th>2020-03-29</th>\n",
       "      <th>2020-03-30</th>\n",
       "      <th>2020-03-31</th>\n",
       "      <th>2020-04-01</th>\n",
       "      <th>...</th>\n",
       "      <th>2020-08-24</th>\n",
       "      <th>2020-08-28</th>\n",
       "      <th>2020-08-31</th>\n",
       "      <th>2020-09-04</th>\n",
       "      <th>2020-09-07</th>\n",
       "      <th>2020-09-11</th>\n",
       "      <th>2020-09-14</th>\n",
       "      <th>2020-09-18</th>\n",
       "      <th>2020-09-21</th>\n",
       "      <th>min_edad</th>\n",
       "    </tr>\n",
       "  </thead>\n",
       "  <tbody>\n",
       "    <tr>\n",
       "      <th>12</th>\n",
       "      <td>60 - 64 años</td>\n",
       "      <td>M</td>\n",
       "      <td>18</td>\n",
       "      <td>26</td>\n",
       "      <td>31</td>\n",
       "      <td>39</td>\n",
       "      <td>52</td>\n",
       "      <td>56</td>\n",
       "      <td>65</td>\n",
       "      <td>78</td>\n",
       "      <td>...</td>\n",
       "      <td>12558</td>\n",
       "      <td>12771</td>\n",
       "      <td>12975</td>\n",
       "      <td>13202</td>\n",
       "      <td>13397</td>\n",
       "      <td>13578</td>\n",
       "      <td>13754</td>\n",
       "      <td>13952</td>\n",
       "      <td>14107</td>\n",
       "      <td>60.0</td>\n",
       "    </tr>\n",
       "    <tr>\n",
       "      <th>13</th>\n",
       "      <td>65 - 69 años</td>\n",
       "      <td>M</td>\n",
       "      <td>14</td>\n",
       "      <td>18</td>\n",
       "      <td>23</td>\n",
       "      <td>27</td>\n",
       "      <td>34</td>\n",
       "      <td>38</td>\n",
       "      <td>45</td>\n",
       "      <td>50</td>\n",
       "      <td>...</td>\n",
       "      <td>7973</td>\n",
       "      <td>8118</td>\n",
       "      <td>8240</td>\n",
       "      <td>8367</td>\n",
       "      <td>8496</td>\n",
       "      <td>8648</td>\n",
       "      <td>8785</td>\n",
       "      <td>8924</td>\n",
       "      <td>9018</td>\n",
       "      <td>65.0</td>\n",
       "    </tr>\n",
       "    <tr>\n",
       "      <th>14</th>\n",
       "      <td>70 - 74 años</td>\n",
       "      <td>M</td>\n",
       "      <td>16</td>\n",
       "      <td>21</td>\n",
       "      <td>23</td>\n",
       "      <td>26</td>\n",
       "      <td>27</td>\n",
       "      <td>30</td>\n",
       "      <td>31</td>\n",
       "      <td>41</td>\n",
       "      <td>...</td>\n",
       "      <td>5681</td>\n",
       "      <td>5792</td>\n",
       "      <td>5874</td>\n",
       "      <td>5976</td>\n",
       "      <td>6083</td>\n",
       "      <td>6202</td>\n",
       "      <td>6289</td>\n",
       "      <td>6394</td>\n",
       "      <td>6483</td>\n",
       "      <td>70.0</td>\n",
       "    </tr>\n",
       "    <tr>\n",
       "      <th>15</th>\n",
       "      <td>75 - 79 años</td>\n",
       "      <td>M</td>\n",
       "      <td>8</td>\n",
       "      <td>8</td>\n",
       "      <td>9</td>\n",
       "      <td>12</td>\n",
       "      <td>15</td>\n",
       "      <td>18</td>\n",
       "      <td>19</td>\n",
       "      <td>25</td>\n",
       "      <td>...</td>\n",
       "      <td>3894</td>\n",
       "      <td>3970</td>\n",
       "      <td>4034</td>\n",
       "      <td>4112</td>\n",
       "      <td>4194</td>\n",
       "      <td>4269</td>\n",
       "      <td>4325</td>\n",
       "      <td>4415</td>\n",
       "      <td>4478</td>\n",
       "      <td>75.0</td>\n",
       "    </tr>\n",
       "    <tr>\n",
       "      <th>16</th>\n",
       "      <td>80 y más años</td>\n",
       "      <td>M</td>\n",
       "      <td>6</td>\n",
       "      <td>9</td>\n",
       "      <td>9</td>\n",
       "      <td>13</td>\n",
       "      <td>14</td>\n",
       "      <td>15</td>\n",
       "      <td>18</td>\n",
       "      <td>22</td>\n",
       "      <td>...</td>\n",
       "      <td>4712</td>\n",
       "      <td>4819</td>\n",
       "      <td>4912</td>\n",
       "      <td>5030</td>\n",
       "      <td>5118</td>\n",
       "      <td>5196</td>\n",
       "      <td>5265</td>\n",
       "      <td>5344</td>\n",
       "      <td>5393</td>\n",
       "      <td>80.0</td>\n",
       "    </tr>\n",
       "    <tr>\n",
       "      <th>29</th>\n",
       "      <td>60 - 64 años</td>\n",
       "      <td>F</td>\n",
       "      <td>27</td>\n",
       "      <td>34</td>\n",
       "      <td>38</td>\n",
       "      <td>47</td>\n",
       "      <td>50</td>\n",
       "      <td>53</td>\n",
       "      <td>61</td>\n",
       "      <td>70</td>\n",
       "      <td>...</td>\n",
       "      <td>10856</td>\n",
       "      <td>11058</td>\n",
       "      <td>11247</td>\n",
       "      <td>11490</td>\n",
       "      <td>11696</td>\n",
       "      <td>11894</td>\n",
       "      <td>12086</td>\n",
       "      <td>12305</td>\n",
       "      <td>12433</td>\n",
       "      <td>60.0</td>\n",
       "    </tr>\n",
       "    <tr>\n",
       "      <th>30</th>\n",
       "      <td>65 - 69 años</td>\n",
       "      <td>F</td>\n",
       "      <td>10</td>\n",
       "      <td>13</td>\n",
       "      <td>20</td>\n",
       "      <td>25</td>\n",
       "      <td>29</td>\n",
       "      <td>35</td>\n",
       "      <td>38</td>\n",
       "      <td>45</td>\n",
       "      <td>...</td>\n",
       "      <td>7268</td>\n",
       "      <td>7420</td>\n",
       "      <td>7541</td>\n",
       "      <td>7693</td>\n",
       "      <td>7818</td>\n",
       "      <td>7966</td>\n",
       "      <td>8084</td>\n",
       "      <td>8238</td>\n",
       "      <td>8328</td>\n",
       "      <td>65.0</td>\n",
       "    </tr>\n",
       "    <tr>\n",
       "      <th>31</th>\n",
       "      <td>70 - 74 años</td>\n",
       "      <td>F</td>\n",
       "      <td>7</td>\n",
       "      <td>11</td>\n",
       "      <td>13</td>\n",
       "      <td>16</td>\n",
       "      <td>20</td>\n",
       "      <td>22</td>\n",
       "      <td>25</td>\n",
       "      <td>32</td>\n",
       "      <td>...</td>\n",
       "      <td>5454</td>\n",
       "      <td>5552</td>\n",
       "      <td>5637</td>\n",
       "      <td>5756</td>\n",
       "      <td>5859</td>\n",
       "      <td>5988</td>\n",
       "      <td>6076</td>\n",
       "      <td>6173</td>\n",
       "      <td>6237</td>\n",
       "      <td>70.0</td>\n",
       "    </tr>\n",
       "    <tr>\n",
       "      <th>32</th>\n",
       "      <td>75 - 79 años</td>\n",
       "      <td>F</td>\n",
       "      <td>7</td>\n",
       "      <td>8</td>\n",
       "      <td>11</td>\n",
       "      <td>13</td>\n",
       "      <td>13</td>\n",
       "      <td>14</td>\n",
       "      <td>17</td>\n",
       "      <td>22</td>\n",
       "      <td>...</td>\n",
       "      <td>4206</td>\n",
       "      <td>4303</td>\n",
       "      <td>4378</td>\n",
       "      <td>4468</td>\n",
       "      <td>4557</td>\n",
       "      <td>4635</td>\n",
       "      <td>4689</td>\n",
       "      <td>4763</td>\n",
       "      <td>4814</td>\n",
       "      <td>75.0</td>\n",
       "    </tr>\n",
       "    <tr>\n",
       "      <th>33</th>\n",
       "      <td>80 y más años</td>\n",
       "      <td>F</td>\n",
       "      <td>2</td>\n",
       "      <td>2</td>\n",
       "      <td>3</td>\n",
       "      <td>7</td>\n",
       "      <td>9</td>\n",
       "      <td>11</td>\n",
       "      <td>13</td>\n",
       "      <td>17</td>\n",
       "      <td>...</td>\n",
       "      <td>7375</td>\n",
       "      <td>7531</td>\n",
       "      <td>7632</td>\n",
       "      <td>7789</td>\n",
       "      <td>7925</td>\n",
       "      <td>8080</td>\n",
       "      <td>8208</td>\n",
       "      <td>8341</td>\n",
       "      <td>8440</td>\n",
       "      <td>80.0</td>\n",
       "    </tr>\n",
       "  </tbody>\n",
       "</table>\n",
       "<p>10 rows × 80 columns</p>\n",
       "</div>"
      ],
      "text/plain": [
       "    Grupo de edad Sexo  2020-03-25  2020-03-26  2020-03-27  2020-03-28  \\\n",
       "12   60 - 64 años    M          18          26          31          39   \n",
       "13   65 - 69 años    M          14          18          23          27   \n",
       "14   70 - 74 años    M          16          21          23          26   \n",
       "15   75 - 79 años    M           8           8           9          12   \n",
       "16  80 y más años    M           6           9           9          13   \n",
       "29   60 - 64 años    F          27          34          38          47   \n",
       "30   65 - 69 años    F          10          13          20          25   \n",
       "31   70 - 74 años    F           7          11          13          16   \n",
       "32   75 - 79 años    F           7           8          11          13   \n",
       "33  80 y más años    F           2           2           3           7   \n",
       "\n",
       "    2020-03-29  2020-03-30  2020-03-31  2020-04-01  ...  2020-08-24  \\\n",
       "12          52          56          65          78  ...       12558   \n",
       "13          34          38          45          50  ...        7973   \n",
       "14          27          30          31          41  ...        5681   \n",
       "15          15          18          19          25  ...        3894   \n",
       "16          14          15          18          22  ...        4712   \n",
       "29          50          53          61          70  ...       10856   \n",
       "30          29          35          38          45  ...        7268   \n",
       "31          20          22          25          32  ...        5454   \n",
       "32          13          14          17          22  ...        4206   \n",
       "33           9          11          13          17  ...        7375   \n",
       "\n",
       "    2020-08-28  2020-08-31  2020-09-04  2020-09-07  2020-09-11  2020-09-14  \\\n",
       "12       12771       12975       13202       13397       13578       13754   \n",
       "13        8118        8240        8367        8496        8648        8785   \n",
       "14        5792        5874        5976        6083        6202        6289   \n",
       "15        3970        4034        4112        4194        4269        4325   \n",
       "16        4819        4912        5030        5118        5196        5265   \n",
       "29       11058       11247       11490       11696       11894       12086   \n",
       "30        7420        7541        7693        7818        7966        8084   \n",
       "31        5552        5637        5756        5859        5988        6076   \n",
       "32        4303        4378        4468        4557        4635        4689   \n",
       "33        7531        7632        7789        7925        8080        8208   \n",
       "\n",
       "    2020-09-18  2020-09-21  min_edad  \n",
       "12       13952       14107      60.0  \n",
       "13        8924        9018      65.0  \n",
       "14        6394        6483      70.0  \n",
       "15        4415        4478      75.0  \n",
       "16        5344        5393      80.0  \n",
       "29       12305       12433      60.0  \n",
       "30        8238        8328      65.0  \n",
       "31        6173        6237      70.0  \n",
       "32        4763        4814      75.0  \n",
       "33        8341        8440      80.0  \n",
       "\n",
       "[10 rows x 80 columns]"
      ]
     },
     "execution_count": 420,
     "metadata": {},
     "output_type": "execute_result"
    }
   ],
   "source": [
    "casos_genero[casos_genero['min_edad'] >= 60]"
   ]
  },
  {
   "cell_type": "code",
   "execution_count": 483,
   "metadata": {},
   "outputs": [],
   "source": [
    "hombres_mayores_de_40 = casos_genero[(casos_genero['min_edad'] >= 40) & (casos_genero['Sexo'] == 'M')]\n",
    "\n",
    "mujeres_mayores_de_40 = casos_genero[(casos_genero['min_edad'] >= 40) & (casos_genero['Sexo'] == 'F')]\n",
    "\n",
    "mujeres_menores_de_40 = casos_genero[(casos_genero['min_edad'] <= 40) & (casos_genero['Sexo'] == 'F')]"
   ]
  },
  {
   "cell_type": "code",
   "execution_count": 484,
   "metadata": {},
   "outputs": [],
   "source": [
    "def get_moments(frame):\n",
    "    media_contagiados = frame.iloc[:, 2:-1].mean()\n",
    "    std_contagiados = frame.iloc[:, 2:-1].std()\n",
    "    fechas = frame.columns[2:-1] \n",
    "    return fechas, media_contagiados, std_contagiados"
   ]
  },
  {
   "cell_type": "code",
   "execution_count": 466,
   "metadata": {},
   "outputs": [],
   "source": [
    "ht, hm, hs = get_moments(hombres_mayores_de_40) # media hombres, std hombres, tiempo hombres\n",
    "mt, mm, ms = get_moments(mujeres_mayores_de_40) # media mujeres, std mujeres, tiempo mujeres"
   ]
  },
  {
   "cell_type": "code",
   "execution_count": 482,
   "metadata": {},
   "outputs": [
    {
     "data": {
      "image/png": "[encoded data removed]",
      "text/plain": [
       "<Figure size 1080x360 with 1 Axes>"
      ]
     },
     "metadata": {},
     "output_type": "display_data"
    }
   ],
   "source": [
    "plt.figure(figsize=(15,5))\n",
    "\n",
    "for frame in zip([hombres_mayores_de_40, mujeres_mayores_de_40, mujeres_menores_de_40]):\n",
    "    \n",
    "    plt.plot_date(ht, hm, fmt='.-', color='darkblue', label=r'Hombres $\\geq$ 40')\n",
    "    plt.fill_between(ht, hm+hs, hm-hs, alpha=0.5, color='darkblue')\n",
    "\n",
    "plt.plot_date(mt, mm, fmt='.-', color='darkred', label=r'Mujeres $\\geq$ 40')\n",
    "plt.fill_between(mt, mm+ms, mm-ms, alpha=0.5, color='darkred')\n",
    "\n",
    "plt.xticks(np.arange(0, mt.shape[0], 3))\n",
    "\n",
    "plt.legend(loc='upper left')\n",
    "plt.xticks(rotation=45)\n",
    "\n",
    "plt.show()"
   ]
  },
  {
   "cell_type": "markdown",
   "metadata": {},
   "source": [
    "Durante toda la serie de tutoriales estaremos utilizando esta y otras librerias. Recuerda que *google* es tu mejor aliado!"
   ]
  },
  {
   "cell_type": "code",
   "execution_count": null,
   "metadata": {},
   "outputs": [],
   "source": []
  }
 ],
 "metadata": {
  "kernelspec": {
   "display_name": "Python 3",
   "language": "python",
   "name": "python3"
  },
  "language_info": {
   "codemirror_mode": {
    "name": "ipython",
    "version": 3
   },
   "file_extension": ".py",
   "mimetype": "text/x-python",
   "name": "python",
   "nbconvert_exporter": "python",
   "pygments_lexer": "ipython3",
   "version": "3.8.5"
  }
 },
 "nbformat": 4,
 "nbformat_minor": 4
}
