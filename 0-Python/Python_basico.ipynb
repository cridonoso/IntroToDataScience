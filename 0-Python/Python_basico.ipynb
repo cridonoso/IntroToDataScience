{
  "nbformat": 4,
  "nbformat_minor": 0,
  "metadata": {
    "kernelspec": {
      "display_name": "Python 3",
      "language": "python",
      "name": "python3"
    },
    "language_info": {
      "codemirror_mode": {
        "name": "ipython",
        "version": 2
      },
      "file_extension": ".py",
      "mimetype": "text/x-python",
      "name": "python",
      "nbconvert_exporter": "python",
      "pygments_lexer": "ipython2",
      "version": "2.7.15"
    },
    "colab": {
      "name": "Python2.ipynb",
      "provenance": [],
      "collapsed_sections": [
        "4ovUbD9HbrYo",
        "656onVvUa9RB",
        "n8guLYxha9RD",
        "NlJJXIoGdqwK",
        "St5lWAq-r4KC",
        "1oY0Au8dcLZh",
        "qNwPGANaxmeh"
      ]
    }
  },
  "cells": [
    {
      "cell_type": "markdown",
      "metadata": {
        "id": "QRRrG_wbo_e_"
      },
      "source": [
        "# Laboratorio Python"
      ]
    },
    {
      "cell_type": "markdown",
      "metadata": {
        "id": "hcbYx_dso_fG"
      },
      "source": [
        "### Python\n",
        "Python es un lenguaje de programación interpretado creado a finales de los ochenta​ por Guido van Rossum. Fue diseñado para ser leído con facilidad. (Código intuitivo, parecido al lenguaje humano)\n",
        "\n",
        "\n"
      ]
    },
    {
      "cell_type": "markdown",
      "metadata": {
        "id": "rKpM1UPzo_fG"
      },
      "source": [
        "### Contenidos\n",
        "-  **Lo básico** \n",
        "    - Orden e indentación\n",
        "    - Entrada/Salida\n",
        "    - Comentarios\n",
        "-  **Variables** \n",
        "    - Concepto Variable\n",
        "    - Tipos de Datos\n",
        "    - Operadores\n",
        "-  **Condicionales** \n",
        "    - if\n",
        "    - if - else\n",
        "    - if - elif - else\n",
        "-  **Ciclos** \n",
        "    - While\n",
        "    - For\n",
        "    - Instrucciones especiales\n",
        "-  **Listas** \n",
        "    - Creación\n",
        "    - Operaciones \n",
        "    - Recorrer una lista\n",
        "-  **Funciones** \n",
        "    - Estructura\n",
        "    - Retorno\n",
        "-  **Librerias** \n",
        "\n",
        "\n"
      ]
    },
    {
      "cell_type": "markdown",
      "metadata": {
        "id": "zCm3d15JbT9d"
      },
      "source": [
        "### Lo básico"
      ]
    },
    {
      "cell_type": "markdown",
      "metadata": {
        "id": "BKn5-u-PbYY1"
      },
      "source": [
        "#### Orden e indentación\n",
        "En Python, cada línea del código representa una instrucción bien definida que es ejecutada por el computador.\n",
        "\n",
        "Estas instrucciones son ejecutadas secuencialmente (en orden)"
      ]
    },
    {
      "cell_type": "code",
      "metadata": {
        "colab": {
          "base_uri": "https://localhost:8080/"
        },
        "id": "5yBJ6C9ZbYY2",
        "outputId": "08c86cfb-afd7-4817-eea4-8af0ed31cc7c"
      },
      "source": [
        "5 + 4"
      ],
      "execution_count": 29,
      "outputs": [
        {
          "output_type": "execute_result",
          "data": {
            "text/plain": [
              "9"
            ]
          },
          "metadata": {
            "tags": []
          },
          "execution_count": 29
        }
      ]
    },
    {
      "cell_type": "code",
      "metadata": {
        "colab": {
          "base_uri": "https://localhost:8080/"
        },
        "id": "PdzCKpQ0bYY4",
        "outputId": "1da90076-c1d0-4b5a-9d89-b90b858eb868"
      },
      "source": [
        "5 * 20"
      ],
      "execution_count": 30,
      "outputs": [
        {
          "output_type": "execute_result",
          "data": {
            "text/plain": [
              "100"
            ]
          },
          "metadata": {
            "tags": []
          },
          "execution_count": 30
        }
      ]
    },
    {
      "cell_type": "code",
      "metadata": {
        "colab": {
          "base_uri": "https://localhost:8080/"
        },
        "id": "jIDzPzyXbYY4",
        "outputId": "1472de92-2c37-4e59-d42f-2288b73590fa"
      },
      "source": [
        "5 + 4\n",
        "5 * 20"
      ],
      "execution_count": 31,
      "outputs": [
        {
          "output_type": "execute_result",
          "data": {
            "text/plain": [
              "100"
            ]
          },
          "metadata": {
            "tags": []
          },
          "execution_count": 31
        }
      ]
    },
    {
      "cell_type": "markdown",
      "metadata": {
        "id": "VVdfNSNNwp9_"
      },
      "source": [
        "\n",
        "\n",
        "```\n",
        "Inicio\n",
        "Instrucción 1\n",
        "Instrucción 2\n",
        ".\n",
        ".\n",
        ".\n",
        "Instrucción N\n",
        "Fin\n",
        "```\n",
        "\n"
      ]
    },
    {
      "cell_type": "markdown",
      "metadata": {
        "id": "97GW3FTjbYY9"
      },
      "source": [
        "Indentación: Este término significa mover un bloque de texto hacia la derecha insertando espacios o tabuladores, para así separarlo del margen izquierdo y mejor distinguirlo del texto adyacente; en el ámbito de la imprenta, este concepto siempre se ha denominado sangrado o sangría. (Fuente: Wikipedia)\n",
        "\n",
        "La indentación en python nos permite saber que instrucciones estan dentro de un bloque de código específico.\n",
        "\n",
        "Ocuparemos la indentación cuando veamos condicionales, ciclos y funciones.\n",
        "\n",
        "\n",
        "\n",
        "```\n",
        "Inicio\n",
        "  Instrucción 1\n",
        "  Instrucción 2\n",
        "  .\n",
        "  .\n",
        "  .\n",
        "  Instrucción N\n",
        "Fin\n",
        "```\n",
        "\n",
        "\n",
        "\n",
        "```\n",
        "Si 5 es mayor que 3 entonces\n",
        "  Sumar 10\n",
        "  Multiplicar por 2\n",
        "  Imprimir el resultado\n",
        "Si 5 no es mayor que 3 entonces\n",
        "  Restar 10\n",
        "  Multiplicar por 3\n",
        "  Imprimir el resultado\n",
        "```\n",
        "\n",
        "\n",
        "\n"
      ]
    },
    {
      "cell_type": "markdown",
      "metadata": {
        "id": "qu1vKViZbkqW"
      },
      "source": [
        "#### Entrada/Salida\n",
        "La entrada es la parte del programa en que el usuario ingresa datos, usualmente por teclado.\n",
        "\n",
        "La salida es la parte del programa en que los resultados son entregados al usuario. (Usualmente: Imprimir por pantalla los resultados)"
      ]
    },
    {
      "cell_type": "markdown",
      "metadata": {
        "id": "RhM63YaEbkqX"
      },
      "source": [
        "La manera más simple de ingresar datos es hacerlo a través del teclado.\n",
        "\n",
        "\n",
        "El valor ingresado por el usuario siempre es interpretado como texto."
      ]
    },
    {
      "cell_type": "code",
      "metadata": {
        "colab": {
          "base_uri": "https://localhost:8080/"
        },
        "id": "uH-DFgVJbkqX",
        "outputId": "80181699-8f8b-4297-e498-ee16096a0215"
      },
      "source": [
        "entrada = input('Ingrese su nombre: ')"
      ],
      "execution_count": 32,
      "outputs": [
        {
          "output_type": "stream",
          "text": [
            "Ingrese su nombre: ekis\n"
          ],
          "name": "stdout"
        }
      ]
    },
    {
      "cell_type": "code",
      "metadata": {
        "colab": {
          "base_uri": "https://localhost:8080/"
        },
        "id": "jZ1lTgLPbkqX",
        "outputId": "d05ff1f6-27a1-4a86-cc63-d3798d96a06a"
      },
      "source": [
        "entrada2 = input()"
      ],
      "execution_count": 33,
      "outputs": [
        {
          "output_type": "stream",
          "text": [
            "de\n"
          ],
          "name": "stdout"
        }
      ]
    },
    {
      "cell_type": "markdown",
      "metadata": {
        "id": "ddprCDqQbkqX"
      },
      "source": [
        "La manera más simple de entregar la salida es mostrando texto en la pantalla. Esto lo podemos realizar facilmente ocupando la función **print**"
      ]
    },
    {
      "cell_type": "code",
      "metadata": {
        "colab": {
          "base_uri": "https://localhost:8080/"
        },
        "id": "NyJQmTvfbkqX",
        "outputId": "5160f146-c058-4947-f94c-0fd5e90c1b57"
      },
      "source": [
        "print('Hola mundo')"
      ],
      "execution_count": 34,
      "outputs": [
        {
          "output_type": "stream",
          "text": [
            "Hola mundo\n"
          ],
          "name": "stdout"
        }
      ]
    },
    {
      "cell_type": "code",
      "metadata": {
        "colab": {
          "base_uri": "https://localhost:8080/"
        },
        "id": "fOW05FEjbkqY",
        "outputId": "1c30b76b-183c-44f7-98d5-8a72aa1d76f3"
      },
      "source": [
        "print(\"Hola MUNDO\")"
      ],
      "execution_count": 35,
      "outputs": [
        {
          "output_type": "stream",
          "text": [
            "Hola MUNDO\n"
          ],
          "name": "stdout"
        }
      ]
    },
    {
      "cell_type": "code",
      "metadata": {
        "colab": {
          "base_uri": "https://localhost:8080/"
        },
        "id": "CdqJcW-fbkqY",
        "outputId": "b8573fd3-b2b3-4a35-d937-95127dfe7976"
      },
      "source": [
        "print(2)"
      ],
      "execution_count": 36,
      "outputs": [
        {
          "output_type": "stream",
          "text": [
            "2\n"
          ],
          "name": "stdout"
        }
      ]
    },
    {
      "cell_type": "code",
      "metadata": {
        "colab": {
          "base_uri": "https://localhost:8080/"
        },
        "id": "7Rum83O3bkqY",
        "outputId": "cc9c30dd-3128-4167-f7c6-2dec530d7c7d"
      },
      "source": [
        "print(2+3)"
      ],
      "execution_count": 37,
      "outputs": [
        {
          "output_type": "stream",
          "text": [
            "5\n"
          ],
          "name": "stdout"
        }
      ]
    },
    {
      "cell_type": "markdown",
      "metadata": {
        "id": "mpe9sg5QbkqY"
      },
      "source": [
        "Si voy a imprimir más de un valor, estos deben ser puestos separados por comas. "
      ]
    },
    {
      "cell_type": "code",
      "metadata": {
        "colab": {
          "base_uri": "https://localhost:8080/"
        },
        "id": "_88DJWkGbkqY",
        "outputId": "0cfd8126-9b7c-4f37-de78-563d00bff549"
      },
      "source": [
        "print(\"El resultado de sumar los numeros 2 y 3 es :\", 2+3)"
      ],
      "execution_count": 38,
      "outputs": [
        {
          "output_type": "stream",
          "text": [
            "El resultado de sumar los numeros 2 y 3 es : 5\n"
          ],
          "name": "stdout"
        }
      ]
    },
    {
      "cell_type": "markdown",
      "metadata": {
        "id": "rx7e57R-bkqY"
      },
      "source": [
        "Combinemos input y print"
      ]
    },
    {
      "cell_type": "code",
      "metadata": {
        "colab": {
          "base_uri": "https://localhost:8080/"
        },
        "id": "Lx0jiXQCbkqZ",
        "outputId": "9ea1debf-fc1f-41c8-b2a9-83c49dd23b5b"
      },
      "source": [
        "entrada = input(\"Ingrese su nombre: \")\n",
        "print(\"El nombre ingresado es :\", entrada)  "
      ],
      "execution_count": 39,
      "outputs": [
        {
          "output_type": "stream",
          "text": [
            "Ingrese su nombre: ekis de\n",
            "El nombre ingresado es : ekis de\n"
          ],
          "name": "stdout"
        }
      ]
    },
    {
      "cell_type": "markdown",
      "metadata": {
        "id": "4ovUbD9HbrYo"
      },
      "source": [
        "#### Comentarios\n",
        "Los comentarios son secciones de código que son ignoradas (no se ejecutan)\n",
        "\n",
        "Para comentar una línea utilizamos **#**\n",
        "\n",
        "Para comentar más de una línea utilizamos ***'''***"
      ]
    },
    {
      "cell_type": "code",
      "metadata": {
        "colab": {
          "base_uri": "https://localhost:8080/"
        },
        "id": "ESt7fdd2brYp",
        "outputId": "6d75add2-1c4d-421a-b7ea-ac26f1a6feb2"
      },
      "source": [
        "print(\"Esto se imprimirá en pantalla\") #La función print imprime mensajes por pantalla\n",
        "#print(\"Esto no porque está comentado\")\n",
        "print(1234)\n",
        "\"\"\"\n",
        "entrada = input()\n",
        "print(2*3)\n",
        "print(\"Hola\", \"Mundo\")\n",
        "\"\"\"\n",
        "print(\"*****\") "
      ],
      "execution_count": 40,
      "outputs": [
        {
          "output_type": "stream",
          "text": [
            "Esto se imprimirá en pantalla\n",
            "1234\n",
            "*****\n"
          ],
          "name": "stdout"
        }
      ]
    },
    {
      "cell_type": "markdown",
      "metadata": {
        "id": "656onVvUa9RB"
      },
      "source": [
        "### Variables"
      ]
    },
    {
      "cell_type": "markdown",
      "metadata": {
        "id": "n8guLYxha9RD"
      },
      "source": [
        "#### Concepto Variable\n",
        "En programación una  **variable** es un espacio de la memoria principal que se usará para almacenar datos.\n",
        "\n",
        "Una variable es un nombre simbólico asociado a un valor que queremos guardar.\n",
        "\n",
        "El valor de una variable puede cambiar dependiendo de las condiciones e información que recibe el programa.\n",
        "\n",
        "\n",
        "En Python podemos crear e inicializar una variable indicando su nombre (sin indicar el tipo de variable). Una misma variable puede contener, a lo largo del código, valores de distinto tipo."
      ]
    },
    {
      "cell_type": "code",
      "metadata": {
        "id": "5sXC-oMea9RD"
      },
      "source": [
        "# Definimos una variable dandole un nombre con una palabra o caracter \n",
        "# No puede tener espacios en blanco, comenzar con números o contener símbolos como &, /, %, ., ?, etc.\n",
        "variable = 'Hola'  \n",
        "variable2 = 23 \n",
        "variable3 = 23.9\n",
        "variable = 100"
      ],
      "execution_count": 41,
      "outputs": []
    },
    {
      "cell_type": "markdown",
      "metadata": {
        "id": "ac8iHkEqa9RF"
      },
      "source": [
        "#### Tipos de datos\n",
        "Propiedad de un valor. Define que valores puede tomar, las operaciones que se le pueden aplicar y su representación interna (en el computador)\n",
        "Todos los valores en un programa tienen un tipo.\n",
        "\n",
        "La función **type** nos permite saber el tipo de dato de un valor."
      ]
    },
    {
      "cell_type": "markdown",
      "metadata": {
        "id": "i96LrlHta9RF"
      },
      "source": [
        "**int** : Números enteros\n",
        "\n"
      ]
    },
    {
      "cell_type": "code",
      "metadata": {
        "colab": {
          "base_uri": "https://localhost:8080/"
        },
        "id": "vO1JPl0ma9RF",
        "outputId": "2e8f6f23-4dce-47cc-e867-95e8e9d26d34"
      },
      "source": [
        "20\n",
        "-20\n",
        "500\n",
        "print(type(20))\n",
        "print(type(-20))\n",
        "print(type(1000//2))"
      ],
      "execution_count": 42,
      "outputs": [
        {
          "output_type": "stream",
          "text": [
            "<class 'int'>\n",
            "<class 'int'>\n",
            "<class 'int'>\n"
          ],
          "name": "stdout"
        }
      ]
    },
    {
      "cell_type": "markdown",
      "metadata": {
        "id": "R23dzWrTa9RK"
      },
      "source": [
        "**float** : Números reales\n",
        "\n",
        "La parte entera de la parte decimal se separa con un punto."
      ]
    },
    {
      "cell_type": "code",
      "metadata": {
        "colab": {
          "base_uri": "https://localhost:8080/"
        },
        "id": "qKQEMIF0a9RL",
        "outputId": "0db53ab4-29f6-49fa-95bf-d63d58c1746b"
      },
      "source": [
        "12.8\n",
        "1/7\n",
        "print(type(1/7))\n",
        "print(type(12.8))"
      ],
      "execution_count": 43,
      "outputs": [
        {
          "output_type": "stream",
          "text": [
            "<class 'float'>\n",
            "<class 'float'>\n"
          ],
          "name": "stdout"
        }
      ]
    },
    {
      "cell_type": "markdown",
      "metadata": {
        "id": "NFmqA5qUa9RL"
      },
      "source": [
        "También se pueden escribir utilizando notación científica, en la que se escribe un factor y una potencia de diez separados por una letra e."
      ]
    },
    {
      "cell_type": "code",
      "metadata": {
        "colab": {
          "base_uri": "https://localhost:8080/"
        },
        "id": "MGF5VNiha9RL",
        "outputId": "bec969d8-046f-4d13-d980-df4da45939d9"
      },
      "source": [
        "print(2e-3)\n",
        "print(-7e6)\n",
        "print(5.2E-5)\n",
        "print(-7E6)\n",
        "print(type(2e-3))"
      ],
      "execution_count": 44,
      "outputs": [
        {
          "output_type": "stream",
          "text": [
            "0.002\n",
            "-7000000.0\n",
            "5.2e-05\n",
            "-7000000.0\n",
            "<class 'float'>\n"
          ],
          "name": "stdout"
        }
      ]
    },
    {
      "cell_type": "markdown",
      "metadata": {
        "id": "nuJIwY5Na9RM"
      },
      "source": [
        "**complex** : Números complejos"
      ]
    },
    {
      "cell_type": "code",
      "metadata": {
        "colab": {
          "base_uri": "https://localhost:8080/"
        },
        "id": "9HHxRs9Da9RM",
        "outputId": "356301bc-ff33-4694-949f-2c0d3d64a5bf"
      },
      "source": [
        "24 + 6j\n",
        "print(type(2.7j))"
      ],
      "execution_count": 45,
      "outputs": [
        {
          "output_type": "stream",
          "text": [
            "<class 'complex'>\n"
          ],
          "name": "stdout"
        }
      ]
    },
    {
      "cell_type": "markdown",
      "metadata": {
        "id": "TpeNjRNDa9RM"
      },
      "source": [
        "**bool**: Valores lógicos\n",
        "\n",
        "True o False o también 1 o 0"
      ]
    },
    {
      "cell_type": "code",
      "metadata": {
        "colab": {
          "base_uri": "https://localhost:8080/"
        },
        "id": "onDihpUxa9RM",
        "outputId": "4c8e9325-6888-4a72-e314-856002576391"
      },
      "source": [
        "print(type(True))"
      ],
      "execution_count": 46,
      "outputs": [
        {
          "output_type": "stream",
          "text": [
            "<class 'bool'>\n"
          ],
          "name": "stdout"
        }
      ]
    },
    {
      "cell_type": "markdown",
      "metadata": {
        "id": "c3U287C9a9RN"
      },
      "source": [
        "**str** (strings) : Palabras, texto"
      ]
    },
    {
      "cell_type": "code",
      "metadata": {
        "colab": {
          "base_uri": "https://localhost:8080/"
        },
        "id": "rdItAv5Ua9RN",
        "outputId": "77793265-0c6d-4365-cc42-2feab07536f6"
      },
      "source": [
        "\"String de ejemplo 1\"\n",
        "'String de ejemplo 2'\n",
        "print(type(\"Hola\"))"
      ],
      "execution_count": 47,
      "outputs": [
        {
          "output_type": "stream",
          "text": [
            "<class 'str'>\n"
          ],
          "name": "stdout"
        }
      ]
    },
    {
      "cell_type": "code",
      "metadata": {
        "colab": {
          "base_uri": "https://localhost:8080/"
        },
        "id": "bpAixzWua9RN",
        "outputId": "fb16f43a-cdd9-4635-bcee-5e2b9d25f0a1"
      },
      "source": [
        "print(type('5'))"
      ],
      "execution_count": 48,
      "outputs": [
        {
          "output_type": "stream",
          "text": [
            "<class 'str'>\n"
          ],
          "name": "stdout"
        }
      ]
    },
    {
      "cell_type": "code",
      "metadata": {
        "colab": {
          "base_uri": "https://localhost:8080/"
        },
        "id": "Q5jRwgXRa9RO",
        "outputId": "1aaf66f7-a93c-4dbe-cc27-4fa97a6de6c8"
      },
      "source": [
        "print(type(5))"
      ],
      "execution_count": 49,
      "outputs": [
        {
          "output_type": "stream",
          "text": [
            "<class 'int'>\n"
          ],
          "name": "stdout"
        }
      ]
    },
    {
      "cell_type": "markdown",
      "metadata": {
        "id": "zHkE68wDa9RO"
      },
      "source": [
        "**None** : Nulo"
      ]
    },
    {
      "cell_type": "code",
      "metadata": {
        "colab": {
          "base_uri": "https://localhost:8080/"
        },
        "id": "-FR8mEo5a9RO",
        "outputId": "d8076cc2-9384-4217-9ac1-65f5f12adaa5"
      },
      "source": [
        "print(type(None))"
      ],
      "execution_count": 50,
      "outputs": [
        {
          "output_type": "stream",
          "text": [
            "<class 'NoneType'>\n"
          ],
          "name": "stdout"
        }
      ]
    },
    {
      "cell_type": "markdown",
      "metadata": {
        "id": "8j3-aFKda9RO"
      },
      "source": [
        "Para crear una variable no es necesario definir el tipo, y una variable puede tener valores de distinto tipo a los largo del programa"
      ]
    },
    {
      "cell_type": "code",
      "metadata": {
        "colab": {
          "base_uri": "https://localhost:8080/"
        },
        "id": "eDnDmCTfa9RO",
        "outputId": "1630a14e-8f25-474c-8356-d564b681afe3"
      },
      "source": [
        "a = 5\n",
        "print(a, type(a))\n",
        "a = 2 + 3\n",
        "print(a, type(a))\n",
        "a = 12.3\n",
        "print(a, type(a))\n",
        "a = \"Hola mundo\"\n",
        "print(a, type(a))\n"
      ],
      "execution_count": 51,
      "outputs": [
        {
          "output_type": "stream",
          "text": [
            "5 <class 'int'>\n",
            "5 <class 'int'>\n",
            "12.3 <class 'float'>\n",
            "Hola mundo <class 'str'>\n"
          ],
          "name": "stdout"
        }
      ]
    },
    {
      "cell_type": "markdown",
      "metadata": {
        "id": "GkuUGZmga9RP"
      },
      "source": [
        "#### Operadores"
      ]
    },
    {
      "cell_type": "markdown",
      "metadata": {
        "id": "hSqPtsOja9RP"
      },
      "source": [
        "**Operadores aritméticos**\n"
      ]
    },
    {
      "cell_type": "code",
      "metadata": {
        "colab": {
          "base_uri": "https://localhost:8080/"
        },
        "id": "kwxxPVYSa9RP",
        "outputId": "deb56728-78f3-40ac-cbc8-931386a883b7"
      },
      "source": [
        "a = 20\n",
        "b = 4\n",
        "\n",
        "suma = a + b\n",
        "resta = a - b\n",
        "mul = a * b\n",
        "div1 = a / b\n",
        "div2 = a // b #FLOOR (división entera)\n",
        "mod = a % b #resto\n",
        "potencia = a**b\n",
        "\n",
        "#Printting variables\n",
        "print('Suma:', suma)\n",
        "print('Resta:', resta)\n",
        "print('Multiplicación:', mul)\n",
        "print('División:', div1)\n",
        "print('División Entera:', div2)\n",
        "print('Módulo:', mod)\n",
        "print('Potencia:', potencia)"
      ],
      "execution_count": 52,
      "outputs": [
        {
          "output_type": "stream",
          "text": [
            "Suma: 24\n",
            "Resta: 16\n",
            "Multiplicación: 80\n",
            "División: 5.0\n",
            "División Entera: 5\n",
            "Módulo: 0\n",
            "Potencia: 160000\n"
          ],
          "name": "stdout"
        }
      ]
    },
    {
      "cell_type": "code",
      "metadata": {
        "colab": {
          "base_uri": "https://localhost:8080/"
        },
        "id": "ru_889VPa9RP",
        "outputId": "691c82b2-db34-4ead-a8db-66a709495af4"
      },
      "source": [
        "#En una asignación primero se realiza la operación a la derecha del igual y luego se le asigna ese valor a la variable\n",
        "a = 2 + 3 # En esta línea se crea la variable \"a\", se realiza la operación 2 + 3 y el resultado se asigna a la variable \"a\".\n",
        "\n",
        "# En programación estan permitidas sentencias como :\n",
        "a = a + 1 #Se le agrega 1 al valor de \"a\" y luego eel resultadoste se asigna como nuevo valor de \"a\"\n",
        "\n",
        "print(a)"
      ],
      "execution_count": 53,
      "outputs": [
        {
          "output_type": "stream",
          "text": [
            "6\n"
          ],
          "name": "stdout"
        }
      ]
    },
    {
      "cell_type": "markdown",
      "metadata": {
        "id": "94ceioDDa9RQ"
      },
      "source": [
        "**Operadores de comparación**\n",
        "\n",
        "- igual a : **==**\n",
        "- distinto a : **!=**\n",
        "- mayor que : **>**\n",
        "- mayor o igual que : **>=**\n",
        "- menor que : **<**\n",
        "- menor o igual que : **<=**\n"
      ]
    },
    {
      "cell_type": "code",
      "metadata": {
        "colab": {
          "base_uri": "https://localhost:8080/"
        },
        "id": "KBofbjwJa9RQ",
        "outputId": "f72feeba-f32d-4fab-dceb-e436f2a9b15c"
      },
      "source": [
        "5 == 5"
      ],
      "execution_count": 54,
      "outputs": [
        {
          "output_type": "execute_result",
          "data": {
            "text/plain": [
              "True"
            ]
          },
          "metadata": {
            "tags": []
          },
          "execution_count": 54
        }
      ]
    },
    {
      "cell_type": "code",
      "metadata": {
        "colab": {
          "base_uri": "https://localhost:8080/"
        },
        "id": "uYL4ytOKa9RR",
        "outputId": "e221ee0f-304a-42b8-9970-b752d4180e0b"
      },
      "source": [
        "5 == 10"
      ],
      "execution_count": 55,
      "outputs": [
        {
          "output_type": "execute_result",
          "data": {
            "text/plain": [
              "False"
            ]
          },
          "metadata": {
            "tags": []
          },
          "execution_count": 55
        }
      ]
    },
    {
      "cell_type": "code",
      "metadata": {
        "colab": {
          "base_uri": "https://localhost:8080/"
        },
        "id": "Jesb6j_4a9RR",
        "outputId": "53ed4f5f-850d-44e8-c026-7e6dfbfd66c2"
      },
      "source": [
        "5 == '5'"
      ],
      "execution_count": 56,
      "outputs": [
        {
          "output_type": "execute_result",
          "data": {
            "text/plain": [
              "False"
            ]
          },
          "metadata": {
            "tags": []
          },
          "execution_count": 56
        }
      ]
    },
    {
      "cell_type": "code",
      "metadata": {
        "colab": {
          "base_uri": "https://localhost:8080/"
        },
        "id": "QAi1JHX0a9RS",
        "outputId": "bc386641-ad73-43f2-f048-67e47d34c152"
      },
      "source": [
        "\"Hola\" == \"HOLA\""
      ],
      "execution_count": 57,
      "outputs": [
        {
          "output_type": "execute_result",
          "data": {
            "text/plain": [
              "False"
            ]
          },
          "metadata": {
            "tags": []
          },
          "execution_count": 57
        }
      ]
    },
    {
      "cell_type": "code",
      "metadata": {
        "colab": {
          "base_uri": "https://localhost:8080/"
        },
        "id": "UX7RbX3ia9RS",
        "outputId": "21b27e66-62c0-458d-da18-90087f81b62b"
      },
      "source": [
        "4 >= 10"
      ],
      "execution_count": 58,
      "outputs": [
        {
          "output_type": "execute_result",
          "data": {
            "text/plain": [
              "False"
            ]
          },
          "metadata": {
            "tags": []
          },
          "execution_count": 58
        }
      ]
    },
    {
      "cell_type": "markdown",
      "metadata": {
        "id": "FsfL4kh6a9RS"
      },
      "source": [
        "**Operadores lógicos**\n",
        "- conjunción o y : **and** / **&**\n",
        "- disyuncion u o : **or** / **|**\n",
        "- negación : **not**"
      ]
    },
    {
      "cell_type": "code",
      "metadata": {
        "colab": {
          "base_uri": "https://localhost:8080/"
        },
        "id": "SrenkY_Ha9RT",
        "outputId": "60cd80c9-8daf-4ab2-fa48-b5c5589ed1d3"
      },
      "source": [
        "True or False"
      ],
      "execution_count": 59,
      "outputs": [
        {
          "output_type": "execute_result",
          "data": {
            "text/plain": [
              "True"
            ]
          },
          "metadata": {
            "tags": []
          },
          "execution_count": 59
        }
      ]
    },
    {
      "cell_type": "code",
      "metadata": {
        "colab": {
          "base_uri": "https://localhost:8080/"
        },
        "id": "zDgJ_kkja9RT",
        "outputId": "048c1ff6-12b5-48c6-fdd0-18bdb2d9fc3d"
      },
      "source": [
        "not False"
      ],
      "execution_count": 60,
      "outputs": [
        {
          "output_type": "execute_result",
          "data": {
            "text/plain": [
              "True"
            ]
          },
          "metadata": {
            "tags": []
          },
          "execution_count": 60
        }
      ]
    },
    {
      "cell_type": "code",
      "metadata": {
        "colab": {
          "base_uri": "https://localhost:8080/"
        },
        "id": "774k4MHBa9RT",
        "outputId": "c2beead9-c27e-4b56-af3c-3cedff3ab314"
      },
      "source": [
        "'hola' > 'alo' and 'amarillo' < 'rojo'"
      ],
      "execution_count": 61,
      "outputs": [
        {
          "output_type": "execute_result",
          "data": {
            "text/plain": [
              "True"
            ]
          },
          "metadata": {
            "tags": []
          },
          "execution_count": 61
        }
      ]
    },
    {
      "cell_type": "markdown",
      "metadata": {
        "id": "I1unMFS8a9RU"
      },
      "source": [
        "**Operadores de texto**\n",
        "\n",
        "Los operadores + y * se pueden utilizar con strings.\n",
        "\n",
        "- El operador + es el operador concatenación\n",
        "- El operador * es el operador repetición"
      ]
    },
    {
      "cell_type": "code",
      "metadata": {
        "colab": {
          "base_uri": "https://localhost:8080/"
        },
        "id": "IOrR4rTMa9RU",
        "outputId": "37051acc-0046-473f-de0e-f14b4c9a6f26"
      },
      "source": [
        "a = \"Hola\"\n",
        "b = \"Mundo\" \n",
        "c = a + b\n",
        "d = a * 3\n",
        "print(c)\n",
        "print('*'*50)\n",
        "print(d)"
      ],
      "execution_count": 62,
      "outputs": [
        {
          "output_type": "stream",
          "text": [
            "HolaMundo\n",
            "**************************************************\n",
            "HolaHolaHola\n"
          ],
          "name": "stdout"
        }
      ]
    },
    {
      "cell_type": "markdown",
      "metadata": {
        "id": "izRcNMFma9RU"
      },
      "source": [
        "Obtener el tamaño de un string, obtener la i-esima posición del string y verificar si un string esta contenido en otro."
      ]
    },
    {
      "cell_type": "code",
      "metadata": {
        "colab": {
          "base_uri": "https://localhost:8080/"
        },
        "id": "ANxlGCUya9RU",
        "outputId": "c2cf7990-0afe-4030-b4a4-33310850ee68"
      },
      "source": [
        "nombre = 'Python'\n",
        "print(nombre[0])\n",
        "print(len(nombre))"
      ],
      "execution_count": 63,
      "outputs": [
        {
          "output_type": "stream",
          "text": [
            "P\n",
            "6\n"
          ],
          "name": "stdout"
        }
      ]
    },
    {
      "cell_type": "code",
      "metadata": {
        "colab": {
          "base_uri": "https://localhost:8080/"
        },
        "id": "nGx_T7KYa9RV",
        "outputId": "5618bac7-a37c-45de-8259-6ee04a0584cb"
      },
      "source": [
        "'Python' in 'Laboratorio de Python'"
      ],
      "execution_count": 64,
      "outputs": [
        {
          "output_type": "execute_result",
          "data": {
            "text/plain": [
              "True"
            ]
          },
          "metadata": {
            "tags": []
          },
          "execution_count": 64
        }
      ]
    },
    {
      "cell_type": "markdown",
      "metadata": {
        "id": "NlJJXIoGdqwK"
      },
      "source": [
        "### Condicionales\n",
        "Los utilizamos con las operaciones de comparación"
      ]
    },
    {
      "cell_type": "markdown",
      "metadata": {
        "id": "q_F0tb2Xd2yX"
      },
      "source": [
        "#### if\n",
        "Se utiliza para indicar que hacer si se cumple la condición señalada. \n",
        "\n",
        "Podemos utilizar mas de una condición, anidandolas con operadores lógicos.\n",
        "\n",
        "\n",
        "\n",
        "```\n",
        "#La estructura es :\n",
        "if (condicion):\n",
        "  instruccion #Se ejecuta si se cumple la condicion\n",
        "\n",
        "if((condicion1 and condicion2) or condicion3):\n",
        "  instruccion #Se ejecuta si se cumple la condicion1 y la condicion2 o la condicion3\n",
        "```\n",
        "\n"
      ]
    },
    {
      "cell_type": "code",
      "metadata": {
        "colab": {
          "base_uri": "https://localhost:8080/"
        },
        "id": "MfUXeNJbeo2z",
        "outputId": "18e0fff4-2731-4105-e755-f0d046875539"
      },
      "source": [
        "a = 5\n",
        "if(a > 3):\n",
        "  print(a, \"es mayor que 3\")"
      ],
      "execution_count": 65,
      "outputs": [
        {
          "output_type": "stream",
          "text": [
            "5 es mayor que 3\n"
          ],
          "name": "stdout"
        }
      ]
    },
    {
      "cell_type": "code",
      "metadata": {
        "id": "kiaVnk9tezG-"
      },
      "source": [
        "if (a > 10 or a%2 == 0):\n",
        "  print(a, \"es mayor que 10 o es un número par\")"
      ],
      "execution_count": 66,
      "outputs": []
    },
    {
      "cell_type": "markdown",
      "metadata": {
        "id": "m7H-pMNefEWK"
      },
      "source": [
        "#### if - else\n",
        "Si se cumple la condición asociada al if, se ejecuta el programa dentro del if.\n",
        "Si no se cumple la condición, se ejecuta el programa dentro del else.\n",
        "\n",
        "**Else** no lleva una condición.\n",
        "\n",
        "```\n",
        "if (condicion):\n",
        "  instruccion #se ejecuta si se cumple la condición\n",
        "else:\n",
        "  instruccion2 #se ejecuta si no se cumple la condición\n",
        "```\n",
        "\n"
      ]
    },
    {
      "cell_type": "code",
      "metadata": {
        "colab": {
          "base_uri": "https://localhost:8080/"
        },
        "id": "ED9v0Hnpfrma",
        "outputId": "70bf0ae3-41b0-420b-8148-ecbacda13d96"
      },
      "source": [
        "a = 2\n",
        "if (a > 3):\n",
        "  print(a, \"es mayor a 3\")\n",
        "else: #else conectado a if con condicion a>3\n",
        "  print(a, \"no es mayor que 3\")\n",
        "\n",
        "if (a%2 == 0):\n",
        "  print(\"El número es par\")\n",
        "\n",
        "if (a%3 == 0):\n",
        "  print(\"El número es múltiplo de 3\")\n",
        "else: # else conectado a if con condicion a%3 == 0\n",
        "  print(\"Hola\")\n"
      ],
      "execution_count": 67,
      "outputs": [
        {
          "output_type": "stream",
          "text": [
            "2 no es mayor que 3\n",
            "El número es par\n",
            "Hola\n"
          ],
          "name": "stdout"
        }
      ]
    },
    {
      "cell_type": "markdown",
      "metadata": {
        "id": "yFnNsDf3gwsG"
      },
      "source": [
        "#### if-elif-else\n",
        "Estas sentencias tienen asociadas más de una condición, las cuales son evaluadas en orden. **if** y **elif** tienen asociada una condición, y se ejecutará el código del que contenga la primera condición que sea verdadera.\n",
        "\n",
        "Puede haber más de un **elif**, lo importante es recordar que las condiciones se evaluarán en orden.\n",
        "\n",
        "El **else** final es opcional.\n",
        "\n",
        "\n",
        "```\n",
        "if (condicion1):\n",
        "    instruccion1 # se ejecuta si condicion1 es verdadera\n",
        "elif (condicion2):\n",
        "    instruccion2 # se ejecuta si no se cumple la condicion1 y se cumple la condicion2\n",
        "...\n",
        "else:\n",
        "    instruccionN # se ejecuta cuando no se cumple ninguna condición\n",
        "```\n",
        "\n",
        "\n"
      ]
    },
    {
      "cell_type": "code",
      "metadata": {
        "colab": {
          "base_uri": "https://localhost:8080/"
        },
        "id": "yB4tu1AGjPdV",
        "outputId": "e5a06240-02e8-4a72-aaf7-abfeab2240f2"
      },
      "source": [
        "edad = 24\n",
        "if (edad < 18):\n",
        "  print(\"Persona menor de edad\")\n",
        "elif (edad == 24):\n",
        "  print(\"Tenemos la misma edad\")\n",
        "elif (edad > 30):\n",
        "  print(\"Persona mayor de 18 pero menor que 30\")\n",
        "else:\n",
        "  print(\"Persona de 30 años o más\")"
      ],
      "execution_count": 68,
      "outputs": [
        {
          "output_type": "stream",
          "text": [
            "Tenemos la misma edad\n"
          ],
          "name": "stdout"
        }
      ]
    },
    {
      "cell_type": "markdown",
      "metadata": {
        "id": "St5lWAq-r4KC"
      },
      "source": [
        "### Ciclos\n",
        "Los ciclos son un conjunto de instrucciones que se repiten cierto número de veces.\n",
        "\n",
        "Cada una de las veces que el código dentro del ciclo es ejecutado se llama **iteración**."
      ]
    },
    {
      "cell_type": "markdown",
      "metadata": {
        "id": "YEl38UD7sJfx"
      },
      "source": [
        "#### Ciclo while\n",
        "Ejecuta la secuencia de instrucciones mientras se cumpla una condición.\n",
        "\n",
        "La condición se evalúa antes de cada iteración."
      ]
    },
    {
      "cell_type": "code",
      "metadata": {
        "colab": {
          "base_uri": "https://localhost:8080/"
        },
        "id": "mNSV2LGrshQj",
        "outputId": "294dc3a6-ccdf-49af-dcb2-f2b2679c0179"
      },
      "source": [
        "numero = 10\n",
        "while numero > 0:\n",
        "  print(numero)\n",
        "  numero = numero - 1"
      ],
      "execution_count": 69,
      "outputs": [
        {
          "output_type": "stream",
          "text": [
            "10\n",
            "9\n",
            "8\n",
            "7\n",
            "6\n",
            "5\n",
            "4\n",
            "3\n",
            "2\n",
            "1\n"
          ],
          "name": "stdout"
        }
      ]
    },
    {
      "cell_type": "markdown",
      "metadata": {
        "id": "_J5u_0_xsrAJ"
      },
      "source": [
        "#### Ciclo for\n",
        "Ejecuta la secuencia de instrucciones una cantidad fija de veces.\n",
        "El ciclo for utiliza una o más variables que van cambiando su valor en cada iteración.\n",
        "\n",
        "Se suele utilizar con la función **range**.\n",
        "\n",
        "La función range(a,b,c) recibe esos tres parámetros y entrega una secuencia de números entre **a** y **b**-1 (inclusivo) con un \"salto\" de **c**.\n",
        "\n",
        "a por defecto es 0 y c por defecto es 1"
      ]
    },
    {
      "cell_type": "code",
      "metadata": {
        "colab": {
          "base_uri": "https://localhost:8080/"
        },
        "id": "P7DFh5C9tRr2",
        "outputId": "c26e5223-bfbe-42bd-bb89-38cd57530298"
      },
      "source": [
        "for i in range(12, 16, 2):\n",
        "  print(i)"
      ],
      "execution_count": 70,
      "outputs": [
        {
          "output_type": "stream",
          "text": [
            "12\n",
            "14\n"
          ],
          "name": "stdout"
        }
      ]
    },
    {
      "cell_type": "code",
      "metadata": {
        "colab": {
          "base_uri": "https://localhost:8080/"
        },
        "id": "x_Vc6s68tjir",
        "outputId": "870d4b87-f6d5-4c38-8d75-5de76ea1bbc5"
      },
      "source": [
        "for i,j in [(2,3), (-1,-2), (\"a\", \"b\")]:\n",
        "  print(i, j)"
      ],
      "execution_count": 71,
      "outputs": [
        {
          "output_type": "stream",
          "text": [
            "2 3\n",
            "-1 -2\n",
            "a b\n"
          ],
          "name": "stdout"
        }
      ]
    },
    {
      "cell_type": "markdown",
      "metadata": {
        "id": "0KwDnMzVtuvN"
      },
      "source": [
        "#### Instrucciones especiales\n",
        "Las instrucciones **break** y **continue** pueden ser utilizadas en ciclos while y ciclos for.\n",
        "\n",
        "* break : Se utiliza para salir del ciclo\n",
        "* continue : Salta a la siguiente iteración"
      ]
    },
    {
      "cell_type": "code",
      "metadata": {
        "colab": {
          "base_uri": "https://localhost:8080/"
        },
        "id": "ix-xUzfAuPTw",
        "outputId": "cbcfa97e-7164-468b-9789-9ff9a7de0bfb"
      },
      "source": [
        "numero = 10\n",
        "while(numero > 0):\n",
        "  if(numero == 7):\n",
        "    break\n",
        "  print(numero)\n",
        "  numero = numero - 1"
      ],
      "execution_count": 72,
      "outputs": [
        {
          "output_type": "stream",
          "text": [
            "10\n",
            "9\n",
            "8\n"
          ],
          "name": "stdout"
        }
      ]
    },
    {
      "cell_type": "code",
      "metadata": {
        "colab": {
          "base_uri": "https://localhost:8080/"
        },
        "id": "c3qVK1Y_uZ-p",
        "outputId": "6061e543-d042-4f00-ac64-a31585e24b99"
      },
      "source": [
        "numero = 10\n",
        "for i in range(numero): #equivale a un range(0, 10, 1)\n",
        "  if (i == 8 or i == 4):\n",
        "    continue\n",
        "  print(i)"
      ],
      "execution_count": 73,
      "outputs": [
        {
          "output_type": "stream",
          "text": [
            "0\n",
            "1\n",
            "2\n",
            "3\n",
            "5\n",
            "6\n",
            "7\n",
            "9\n"
          ],
          "name": "stdout"
        }
      ]
    },
    {
      "cell_type": "markdown",
      "metadata": {
        "id": "1oY0Au8dcLZh"
      },
      "source": [
        "### Listas\n",
        "En python es muy normal usar **listas**. Las listas son un tipo especial de dato que organiza diferentes tipos de datos."
      ]
    },
    {
      "cell_type": "markdown",
      "metadata": {
        "id": "TUrjrbG7a9RV"
      },
      "source": [
        "#### Creación"
      ]
    },
    {
      "cell_type": "code",
      "metadata": {
        "colab": {
          "base_uri": "https://localhost:8080/"
        },
        "id": "_-mg4n4sa9RV",
        "outputId": "323353c0-5d20-4697-f5e8-900755fc1954"
      },
      "source": [
        "#Para declarar una lista utilizamos []\n",
        "my_list = ['Car', 23, 'kitten', [1,2,3], div2] \n",
        "lista_vacia = []\n",
        "lista = list(\"Hola\")\n",
        "print('My list: ',my_list)\n",
        "print('Lista vacia: ',lista_vacia)\n",
        "print('lista: ',lista)"
      ],
      "execution_count": 74,
      "outputs": [
        {
          "output_type": "stream",
          "text": [
            "My list:  ['Car', 23, 'kitten', [1, 2, 3], 5]\n",
            "Lista vacia:  []\n",
            "lista:  ['H', 'o', 'l', 'a']\n"
          ],
          "name": "stdout"
        }
      ]
    },
    {
      "cell_type": "markdown",
      "metadata": {
        "id": "NJr65I-7a9RW"
      },
      "source": [
        "#### Operaciones\n",
        "Existen [muchas operaciones con listas](https://docs.python.org/3/tutorial/datastructures.html). Las principales son:\n",
        "- append\n",
        "- indexing \n",
        "- sort\n",
        "- del"
      ]
    },
    {
      "cell_type": "code",
      "metadata": {
        "colab": {
          "base_uri": "https://localhost:8080/"
        },
        "id": "SJtV4UFJa9RW",
        "outputId": "236e9416-69ae-4713-df0d-95fd13887b03"
      },
      "source": [
        "my_new_list = [] # we initialized an empty list\n",
        "my_new_list.append('My first data in the list')\n",
        "print (my_new_list)\n",
        "my_new_list.append('It is the second data in the list')\n",
        "print (my_new_list)\n",
        "my_new_list.append([1,2,'hola',['A list of list of list', 7]])\n",
        "print (my_new_list)"
      ],
      "execution_count": 75,
      "outputs": [
        {
          "output_type": "stream",
          "text": [
            "['My first data in the list']\n",
            "['My first data in the list', 'It is the second data in the list']\n",
            "['My first data in the list', 'It is the second data in the list', [1, 2, 'hola', ['A list of list of list', 7]]]\n"
          ],
          "name": "stdout"
        }
      ]
    },
    {
      "cell_type": "code",
      "metadata": {
        "colab": {
          "base_uri": "https://localhost:8080/"
        },
        "id": "vhTTXsqHa9RW",
        "outputId": "632cc10d-5b50-4518-ae7d-48f28cffda43"
      },
      "source": [
        "my_new_list = list(\"ejemplo\")\n",
        "lista2 = [1,2,3,4]\n",
        "print(my_new_list)\n",
        "my_new_list.append(lista2) \n",
        "print(my_new_list)\n",
        "print(\"*\"*50)\n",
        "#Indexing -> ocupamos un número\n",
        "first_item = my_new_list[0] # 0 ...... n-1\n",
        "last_item = my_new_list[-1] \n",
        "print(first_item)\n",
        "print(last_item)\n",
        "print(\"*\"*50)\n",
        "#Slicing -> operador :\n",
        "range_of_items = my_new_list[0:2] # A:B -> A hasta B-1\n",
        "range2 = my_new_list[3:]\n",
        "print(range_of_items)\n",
        "print(range2)\n",
        "print(\"*\"*50)\n",
        "#The last item in the list in the list in the list\n",
        "this = my_new_list[-1][-1]\n",
        "print('Latest value: ',this)"
      ],
      "execution_count": 76,
      "outputs": [
        {
          "output_type": "stream",
          "text": [
            "['e', 'j', 'e', 'm', 'p', 'l', 'o']\n",
            "['e', 'j', 'e', 'm', 'p', 'l', 'o', [1, 2, 3, 4]]\n",
            "**************************************************\n",
            "e\n",
            "[1, 2, 3, 4]\n",
            "**************************************************\n",
            "['e', 'j']\n",
            "['m', 'p', 'l', 'o', [1, 2, 3, 4]]\n",
            "**************************************************\n",
            "Latest value:  4\n"
          ],
          "name": "stdout"
        }
      ]
    },
    {
      "cell_type": "code",
      "metadata": {
        "colab": {
          "base_uri": "https://localhost:8080/"
        },
        "id": "uL0LBtFia9RW",
        "outputId": "849c1cc6-5ee7-46ab-91aa-803e277f5fa1"
      },
      "source": [
        "another_list = [2,6,8,2,8]\n",
        "foo = ['a', 'luna','bueno']\n",
        "print(\"Originales:\")\n",
        "print(another_list)\n",
        "print(foo)\n",
        "foo.sort()\n",
        "another_list.sort()\n",
        "print(\"Ordenadas:\")\n",
        "print(another_list)\n",
        "print(foo)"
      ],
      "execution_count": 77,
      "outputs": [
        {
          "output_type": "stream",
          "text": [
            "Originales:\n",
            "[2, 6, 8, 2, 8]\n",
            "['a', 'luna', 'bueno']\n",
            "Ordenadas:\n",
            "[2, 2, 6, 8, 8]\n",
            "['a', 'bueno', 'luna']\n"
          ],
          "name": "stdout"
        }
      ]
    },
    {
      "cell_type": "code",
      "metadata": {
        "colab": {
          "base_uri": "https://localhost:8080/"
        },
        "id": "_ix0VRtGa9RX",
        "outputId": "dd99b840-33bc-4bca-f0d9-dc2dd8b1c1c9"
      },
      "source": [
        "print(another_list)\n",
        "del another_list[2]\n",
        "print(another_list)"
      ],
      "execution_count": 78,
      "outputs": [
        {
          "output_type": "stream",
          "text": [
            "[2, 2, 6, 8, 8]\n",
            "[2, 2, 8, 8]\n"
          ],
          "name": "stdout"
        }
      ]
    },
    {
      "cell_type": "markdown",
      "metadata": {
        "id": "hVjUTg2flZF8"
      },
      "source": [
        "**Concatenación** y **Repetición**\n",
        "* Operador + -> concatenación\n",
        "* Operador * -> Repetición"
      ]
    },
    {
      "cell_type": "code",
      "metadata": {
        "colab": {
          "base_uri": "https://localhost:8080/"
        },
        "id": "c2kVJ-4eldAg",
        "outputId": "6a6a3b58-0837-4274-f45f-44424074d37e"
      },
      "source": [
        "lista1 = list(\"Hola\")\n",
        "lista2 = list(\"Saludos\")\n",
        "print(lista1 + lista2)\n",
        "print(lista1 * 5)"
      ],
      "execution_count": 79,
      "outputs": [
        {
          "output_type": "stream",
          "text": [
            "['H', 'o', 'l', 'a', 'S', 'a', 'l', 'u', 'd', 'o', 's']\n",
            "['H', 'o', 'l', 'a', 'H', 'o', 'l', 'a', 'H', 'o', 'l', 'a', 'H', 'o', 'l', 'a', 'H', 'o', 'l', 'a']\n"
          ],
          "name": "stdout"
        }
      ]
    },
    {
      "cell_type": "markdown",
      "metadata": {
        "id": "mUzuVCWjlRa5"
      },
      "source": [
        "Los **strings** también se comportan como listas, asique todo lo que vimos de listas es aplicable a las palabras."
      ]
    },
    {
      "cell_type": "markdown",
      "metadata": {
        "id": "W1bweQaOk-DP"
      },
      "source": [
        "Otras operaciones que podemos realizar sobre listas son:\n",
        "* split\n",
        "* replace\n",
        "* find"
      ]
    },
    {
      "cell_type": "code",
      "metadata": {
        "colab": {
          "base_uri": "https://localhost:8080/"
        },
        "id": "oYiChVSDlKGF",
        "outputId": "07ba86f6-adfd-4ffe-8b37-0745584ef3ad"
      },
      "source": [
        "#Split, replace y find \n",
        "string_a = \"Faltan X horas para Halloween. Quiero que sea Halloween. Me gusta mucho celebrar Halloween.\"\n",
        "string_b = \"Pick a boo\"\n",
        "#La funcion split nos permite separar un string utilizando el separador que le indiquemos\n",
        "#por defecto toma como separardor \" \" (espacio en blanco)\n",
        "lista_c = string_a.split(\"Halloween\")\n",
        "print(lista_c)\n",
        "print(\"\\n\",'*'*50,\"\\n\")\n",
        "lista_d = string_a.split()\n",
        "print(lista_d)\n",
        "print(\"\\n\",'*'*50,\"\\n\")\n",
        "#Con replace podemos reemplazar valores en un string\n",
        "string_c = string_a.replace(\"Halloween\",\"Navidad\")\n",
        "print(string_c)\n",
        "print(\"\\n\",'*'*50,\"\\n\")\n",
        "\n",
        "#Find nos entrega la posicion del elemento buscado (Si no existe, entrega -1)\n",
        "print(string_b.find('o'))\n",
        "print(string_b.find('u'))\n"
      ],
      "execution_count": 80,
      "outputs": [
        {
          "output_type": "stream",
          "text": [
            "['Faltan X horas para ', '. Quiero que sea ', '. Me gusta mucho celebrar ', '.']\n",
            "\n",
            " ************************************************** \n",
            "\n",
            "['Faltan', 'X', 'horas', 'para', 'Halloween.', 'Quiero', 'que', 'sea', 'Halloween.', 'Me', 'gusta', 'mucho', 'celebrar', 'Halloween.']\n",
            "\n",
            " ************************************************** \n",
            "\n",
            "Faltan X horas para Navidad. Quiero que sea Navidad. Me gusta mucho celebrar Navidad.\n",
            "\n",
            " ************************************************** \n",
            "\n",
            "8\n",
            "-1\n"
          ],
          "name": "stdout"
        }
      ]
    },
    {
      "cell_type": "markdown",
      "metadata": {
        "id": "XFPioDR4a9RX"
      },
      "source": [
        "#### Recorrer listas\n",
        "Para recorrer una lista podemos usar **ciclos**"
      ]
    },
    {
      "cell_type": "code",
      "metadata": {
        "colab": {
          "base_uri": "https://localhost:8080/"
        },
        "id": "4aPW7bCta9RX",
        "outputId": "e1130929-43ed-453c-c48e-828dc8ec0ca2"
      },
      "source": [
        "# going through the elements\n",
        "for element in my_new_list:\n",
        "    print(element)\n",
        "# enumerating the elements\n",
        "print('*'*50)\n",
        "for i, element in enumerate(my_new_list):\n",
        "    print(i,'.-', element)\n",
        "# using a for statment to display a range\n",
        "print('*'*50)\n",
        "# range(a,b,c) -> inicio:a ; finalb:b-1 ; salto:c\n",
        "#Por defecto a=0 y c=1\n",
        "for k in range(0,5):\n",
        "    print(k)\n",
        "# Size of list\n",
        "print('*'*50)\n",
        "#funcion len -> obtiene el tamaño\n",
        "print('Lenght of list: ',len(my_new_list))"
      ],
      "execution_count": 81,
      "outputs": [
        {
          "output_type": "stream",
          "text": [
            "e\n",
            "j\n",
            "e\n",
            "m\n",
            "p\n",
            "l\n",
            "o\n",
            "[1, 2, 3, 4]\n",
            "**************************************************\n",
            "0 .- e\n",
            "1 .- j\n",
            "2 .- e\n",
            "3 .- m\n",
            "4 .- p\n",
            "5 .- l\n",
            "6 .- o\n",
            "7 .- [1, 2, 3, 4]\n",
            "**************************************************\n",
            "0\n",
            "1\n",
            "2\n",
            "3\n",
            "4\n",
            "**************************************************\n",
            "Lenght of list:  8\n"
          ],
          "name": "stdout"
        }
      ]
    },
    {
      "cell_type": "markdown",
      "metadata": {
        "id": "qNwPGANaxmeh"
      },
      "source": [
        "### Funciones\n",
        "Una función es como un miniprograma. Es un bloque de código al cual puedes \"llamar\" en cualquier momento. \n",
        "Se compone de parámetros, instrucciones y valor de retorno.\n"
      ]
    },
    {
      "cell_type": "markdown",
      "metadata": {
        "id": "vWNupj1bwGwi"
      },
      "source": [
        "#### Estructura\n",
        "\n",
        "\n",
        "```\n",
        "#Estructura básica de una función\n",
        "#Existen funciones que no retornan un valor, en ese caso el tipo de retorno es void\n",
        "#Para indicar las instrucciones que conforman la función debemos ocupar la indentación\n",
        "tipo_de_retorno nombre_funcion (parametros):\n",
        "  instrucciones\n",
        "  retorno\n",
        "```\n",
        "\n"
      ]
    },
    {
      "cell_type": "code",
      "metadata": {
        "id": "IJApWJyQyq_C"
      },
      "source": [
        "def factorial(n):\n",
        "    resultado = 1\n",
        "    for i in range(1, n + 1):\n",
        "        resultado *= i\n",
        "    return resultado"
      ],
      "execution_count": 82,
      "outputs": []
    },
    {
      "cell_type": "code",
      "metadata": {
        "id": "MQTrZj06y9pS",
        "colab": {
          "base_uri": "https://localhost:8080/"
        },
        "outputId": "70d69999-f8ad-4e23-a269-34b35ce3978d"
      },
      "source": [
        "a = factorial(5)\n",
        "print(a)"
      ],
      "execution_count": 83,
      "outputs": [
        {
          "output_type": "stream",
          "text": [
            "120\n"
          ],
          "name": "stdout"
        }
      ]
    },
    {
      "cell_type": "markdown",
      "metadata": {
        "id": "omgdpNxQvCZT"
      },
      "source": [
        "#### Retorno\n",
        "Una función puede o no retornar un valor, además en python una función puede retornar más de un valor."
      ]
    },
    {
      "cell_type": "code",
      "metadata": {
        "id": "gHXkz2_hvPms"
      },
      "source": [
        "def funcion_sin_retorno(lista, numero):\n",
        "  for i in lista:\n",
        "    if i == numero:\n",
        "      print(\"numero en la lista\")"
      ],
      "execution_count": 84,
      "outputs": []
    },
    {
      "cell_type": "code",
      "metadata": {
        "id": "werhy6emva7i"
      },
      "source": [
        "def funcion_con_retorno(numero):\n",
        "  aux = []\n",
        "  for i in range(numero):\n",
        "    aux.append(i)\n",
        "  return aux, numero"
      ],
      "execution_count": 85,
      "outputs": []
    },
    {
      "cell_type": "code",
      "metadata": {
        "colab": {
          "base_uri": "https://localhost:8080/"
        },
        "id": "GoCUfFjcvnG8",
        "outputId": "84621d2a-697c-4896-a7c1-fcbe89c698b2"
      },
      "source": [
        "aux1 = range(8,1,-1)\n",
        "aux2 = 3\n",
        "funcion_sin_retorno(aux1, aux2)"
      ],
      "execution_count": 86,
      "outputs": [
        {
          "output_type": "stream",
          "text": [
            "numero en la lista\n"
          ],
          "name": "stdout"
        }
      ]
    },
    {
      "cell_type": "code",
      "metadata": {
        "colab": {
          "base_uri": "https://localhost:8080/"
        },
        "id": "3CKs3NqEvy7k",
        "outputId": "a2d4f6eb-86aa-4d43-8173-e8e56c4b535f"
      },
      "source": [
        "lista1, numero = funcion_con_retorno(aux2)\n",
        "print(lista1)\n",
        "print(numero)"
      ],
      "execution_count": 87,
      "outputs": [
        {
          "output_type": "stream",
          "text": [
            "[0, 1, 2]\n",
            "3\n"
          ],
          "name": "stdout"
        }
      ]
    },
    {
      "cell_type": "markdown",
      "metadata": {
        "id": "is--3LdszNrb"
      },
      "source": [
        "###Librerías\n",
        "Una librería (o biblioteca) es un código que define funciones, variables, tipos de datos (y más) que podemos importar y utilizar en cualquier programa."
      ]
    },
    {
      "cell_type": "code",
      "metadata": {
        "id": "rMsa8EqG1Z3r"
      },
      "source": [
        "#Para poder ocupar las funciones definidas en una libreria debemos importarla\n",
        "#import nombre_libreria\n",
        "\n",
        "#Ejemplo:\n",
        "import math\n",
        "import random\n",
        "import pandas"
      ],
      "execution_count": 88,
      "outputs": []
    },
    {
      "cell_type": "code",
      "metadata": {
        "id": "b9C-8BB81pLy",
        "colab": {
          "base_uri": "https://localhost:8080/"
        },
        "outputId": "1206243c-78a8-4c21-cabd-2bf9a9a1507c"
      },
      "source": [
        "#Para llamar a las funciones se deber ocupar el nombre de la libreria + \".\" + nombre de la función\n",
        "a = math.pi\n",
        "print(a)"
      ],
      "execution_count": 89,
      "outputs": [
        {
          "output_type": "stream",
          "text": [
            "3.141592653589793\n"
          ],
          "name": "stdout"
        }
      ]
    },
    {
      "cell_type": "code",
      "metadata": {
        "id": "sHjVI5Ta11gu",
        "colab": {
          "base_uri": "https://localhost:8080/"
        },
        "outputId": "0e784fbf-9167-40e0-bf24-0c64b1b46f88"
      },
      "source": [
        "#También puedes definir un alias para la libreria durante tu programa utilizando \"as\"\n",
        "import math as matematica\n",
        "a = matematica.pi\n",
        "print(a)"
      ],
      "execution_count": 90,
      "outputs": [
        {
          "output_type": "stream",
          "text": [
            "3.141592653589793\n"
          ],
          "name": "stdout"
        }
      ]
    },
    {
      "cell_type": "code",
      "metadata": {
        "id": "kChPgnh82ah9",
        "colab": {
          "base_uri": "https://localhost:8080/"
        },
        "outputId": "499d26da-3019-4bf2-9f6e-89e47c3570f4"
      },
      "source": [
        "#Tambien podemos importar solo las funciones que queramos ocupar\n",
        "from math import pi, cos , sin\n",
        "#ahora para llamarlas no hay que ocupar math.pi sino solo pi\n",
        "b = pi\n",
        "print(b)"
      ],
      "execution_count": 91,
      "outputs": [
        {
          "output_type": "stream",
          "text": [
            "3.141592653589793\n"
          ],
          "name": "stdout"
        }
      ]
    }
  ]
}